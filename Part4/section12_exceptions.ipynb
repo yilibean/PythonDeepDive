{
 "cells": [
  {
   "cell_type": "markdown",
   "id": "67cee755",
   "metadata": {},
   "source": [
    "## Exceptions (Single Inheritance)\n",
    "\n",
    "- [**Exceptions**](#exceptions)\n",
    "- [**Handling Exceptions**](#handling_exceptions)\n",
    "- [**Raising Exceptions**](#raising_exceptions)\n",
    "- [**Custom Exceptions**](#custom_exceptions)"
   ]
  },
  {
   "cell_type": "markdown",
   "id": "3dcf7712",
   "metadata": {},
   "source": [
    "---\n",
    "\n",
    "### Exceptions <a name='exceptions'></a>"
   ]
  },
  {
   "cell_type": "markdown",
   "id": "61872839",
   "metadata": {},
   "source": [
    "Exceptions are objects, and all exceptions inherits from `BaseException` which has four subclasses:\n",
    "* `SystemExit`\n",
    "* `KeyboardInterrupt`\n",
    "* `GeneratorExit`\n",
    "* `Exception` (most used)"
   ]
  },
  {
   "cell_type": "markdown",
   "id": "c0b76f39",
   "metadata": {},
   "source": [
    "---\n",
    "\n",
    "### Handling Exceptions <a name='handling_exceptions'></a>"
   ]
  },
  {
   "cell_type": "markdown",
   "id": "5a06e8a0",
   "metadata": {},
   "source": [
    "> Process of handling exceptions:\n",
    "> * `try`: code that needs protection from potential exception(s).\n",
    "> * `except` \\<ExceptionType> as ex: code that handles the specified type(s) of exception(s).\n",
    "> * `finally`: code that would always execute regardless of whether exception occurres or not. \n",
    "> * `else`: code that executes only if `try` block terminates without any exception."
   ]
  },
  {
   "cell_type": "markdown",
   "id": "5a01b162",
   "metadata": {},
   "source": [
    "* Using `finally`:"
   ]
  },
  {
   "cell_type": "code",
   "execution_count": 1,
   "id": "a80051a8",
   "metadata": {},
   "outputs": [
    {
     "name": "stdout",
     "output_type": "stream",
     "text": [
      "Value error\n",
      "Exception is handled!\n"
     ]
    }
   ],
   "source": [
    "try:\n",
    "    raise ValueError('Value error')\n",
    "except ValueError as ex:\n",
    "    print(ex)\n",
    "finally:\n",
    "    print('Exception is handled!')"
   ]
  },
  {
   "cell_type": "code",
   "execution_count": 2,
   "id": "3fd4a5f8",
   "metadata": {},
   "outputs": [
    {
     "name": "stdout",
     "output_type": "stream",
     "text": [
      "Exception is handled!\n"
     ]
    }
   ],
   "source": [
    "try:\n",
    "    pass\n",
    "except ValueError as ex:\n",
    "    print(ex)\n",
    "finally:\n",
    "    print('Exception is handled!')"
   ]
  },
  {
   "cell_type": "markdown",
   "id": "37174442",
   "metadata": {},
   "source": [
    "* Using `else`:"
   ]
  },
  {
   "cell_type": "code",
   "execution_count": 3,
   "id": "2193c520",
   "metadata": {},
   "outputs": [
    {
     "name": "stdout",
     "output_type": "stream",
     "text": [
      "Value error\n"
     ]
    }
   ],
   "source": [
    "try:\n",
    "    raise ValueError('Value error')\n",
    "except ValueError as ex:\n",
    "    print(ex)\n",
    "else:\n",
    "    print('No exception occurred.')"
   ]
  },
  {
   "cell_type": "code",
   "execution_count": 4,
   "id": "043f7baa",
   "metadata": {},
   "outputs": [
    {
     "name": "stdout",
     "output_type": "stream",
     "text": [
      "No exception occurred.\n"
     ]
    }
   ],
   "source": [
    "try:\n",
    "    pass\n",
    "except ValueError as ex:\n",
    "    print(ex)\n",
    "else:\n",
    "    print('No exception occurred.')"
   ]
  },
  {
   "cell_type": "markdown",
   "id": "ec89efb9",
   "metadata": {},
   "source": [
    "> Handling multiple exception types:\\\n",
    "> It is possible to handle multiple exceptions at once, and the rule of thumb is to always follow the order of **most specific** to **least specific** in order to catch the exception as precise as possible."
   ]
  },
  {
   "cell_type": "code",
   "execution_count": 5,
   "id": "113dec1a",
   "metadata": {},
   "outputs": [
    {
     "name": "stdout",
     "output_type": "stream",
     "text": [
      "This is a type error\n"
     ]
    }
   ],
   "source": [
    "try:\n",
    "    raise TypeError()\n",
    "except AttributeError:\n",
    "    print('This is an attribute error') \n",
    "except TypeError:\n",
    "    print('This is a type error')\n",
    "except IndexError:\n",
    "    print('This is an index error')"
   ]
  },
  {
   "cell_type": "markdown",
   "id": "2482990b",
   "metadata": {},
   "source": [
    "> Grouping exception handlers:\\\n",
    "> It is possible to handle different types of exceptions under the same group so that they can be handled using same approach."
   ]
  },
  {
   "cell_type": "code",
   "execution_count": 6,
   "id": "5d85c95d",
   "metadata": {},
   "outputs": [
    {
     "name": "stdout",
     "output_type": "stream",
     "text": [
      "This is an arithmetic error\n"
     ]
    }
   ],
   "source": [
    "try:\n",
    "    raise ZeroDivisionError\n",
    "except (ZeroDivisionError, FloatingPointError):\n",
    "    print('This is an arithmetic error')"
   ]
  },
  {
   "cell_type": "markdown",
   "id": "629e12d6",
   "metadata": {},
   "source": [
    "---\n",
    "\n",
    "### Raising Exceptions <a name='raising_exceptions'></a>"
   ]
  },
  {
   "cell_type": "markdown",
   "id": "e755a35f",
   "metadata": {},
   "source": [
    "One can find raising exceptions deliberately quite useful under certain conditions."
   ]
  },
  {
   "cell_type": "markdown",
   "id": "a29d6151",
   "metadata": {},
   "source": [
    "* Re-raise current exception being handled"
   ]
  },
  {
   "cell_type": "code",
   "execution_count": 7,
   "id": "91279cd6",
   "metadata": {},
   "outputs": [
    {
     "name": "stdout",
     "output_type": "stream",
     "text": [
      "Do some logging...\n"
     ]
    },
    {
     "ename": "ZeroDivisionError",
     "evalue": "division by zero",
     "output_type": "error",
     "traceback": [
      "\u001b[1;31m---------------------------------------------------------------------------\u001b[0m",
      "\u001b[1;31mZeroDivisionError\u001b[0m                         Traceback (most recent call last)",
      "\u001b[1;32m<ipython-input-7-f6087a6826a5>\u001b[0m in \u001b[0;36m<module>\u001b[1;34m\u001b[0m\n\u001b[0;32m      1\u001b[0m \u001b[1;32mtry\u001b[0m\u001b[1;33m:\u001b[0m\u001b[1;33m\u001b[0m\u001b[1;33m\u001b[0m\u001b[0m\n\u001b[1;32m----> 2\u001b[1;33m     \u001b[1;36m1\u001b[0m\u001b[1;33m/\u001b[0m\u001b[1;36m0\u001b[0m\u001b[1;33m\u001b[0m\u001b[1;33m\u001b[0m\u001b[0m\n\u001b[0m\u001b[0;32m      3\u001b[0m \u001b[1;32mexcept\u001b[0m \u001b[0mZeroDivisionError\u001b[0m \u001b[1;32mas\u001b[0m \u001b[0mex\u001b[0m\u001b[1;33m:\u001b[0m\u001b[1;33m\u001b[0m\u001b[1;33m\u001b[0m\u001b[0m\n\u001b[0;32m      4\u001b[0m     \u001b[0mprint\u001b[0m\u001b[1;33m(\u001b[0m\u001b[1;34m'Do some logging...'\u001b[0m\u001b[1;33m)\u001b[0m\u001b[1;33m\u001b[0m\u001b[1;33m\u001b[0m\u001b[0m\n\u001b[0;32m      5\u001b[0m     \u001b[1;32mraise\u001b[0m\u001b[1;33m\u001b[0m\u001b[1;33m\u001b[0m\u001b[0m\n",
      "\u001b[1;31mZeroDivisionError\u001b[0m: division by zero"
     ]
    }
   ],
   "source": [
    "try:\n",
    "    1/0\n",
    "except ZeroDivisionError as ex:\n",
    "    print('Do some logging...')\n",
    "    raise"
   ]
  },
  {
   "cell_type": "markdown",
   "id": "46488421",
   "metadata": {},
   "source": [
    "* Control what traceback to be included "
   ]
  },
  {
   "cell_type": "code",
   "execution_count": 8,
   "id": "f892fe43",
   "metadata": {},
   "outputs": [
    {
     "ename": "KeyError",
     "evalue": "'level4'",
     "output_type": "error",
     "traceback": [
      "\u001b[1;31m---------------------------------------------------------------------------\u001b[0m",
      "\u001b[1;31mKeyError\u001b[0m                                  Traceback (most recent call last)",
      "\u001b[1;32m<ipython-input-8-2a5ae3e9b8e7>\u001b[0m in \u001b[0;36m<module>\u001b[1;34m\u001b[0m\n\u001b[0;32m      9\u001b[0m             \u001b[1;32mraise\u001b[0m \u001b[0mKeyError\u001b[0m\u001b[1;33m(\u001b[0m\u001b[1;34m'level3'\u001b[0m\u001b[1;33m)\u001b[0m\u001b[1;33m\u001b[0m\u001b[1;33m\u001b[0m\u001b[0m\n\u001b[0;32m     10\u001b[0m         \u001b[1;32mexcept\u001b[0m \u001b[0mKeyError\u001b[0m \u001b[1;32mas\u001b[0m \u001b[0mex_3\u001b[0m\u001b[1;33m:\u001b[0m\u001b[1;33m\u001b[0m\u001b[1;33m\u001b[0m\u001b[0m\n\u001b[1;32m---> 11\u001b[1;33m             \u001b[1;32mraise\u001b[0m \u001b[0mKeyError\u001b[0m\u001b[1;33m(\u001b[0m\u001b[1;34m'level4'\u001b[0m\u001b[1;33m)\u001b[0m \u001b[1;32mfrom\u001b[0m \u001b[1;32mNone\u001b[0m\u001b[1;33m\u001b[0m\u001b[1;33m\u001b[0m\u001b[0m\n\u001b[0m",
      "\u001b[1;31mKeyError\u001b[0m: 'level4'"
     ]
    }
   ],
   "source": [
    "# Raise error only from the lowest level\n",
    "try:\n",
    "    raise ValueError('level1')\n",
    "except ValueError as ex_1:\n",
    "    try:\n",
    "        raise TypeError('level2')\n",
    "    except TypeError as ex_2:\n",
    "        try:\n",
    "            raise KeyError('level3')\n",
    "        except KeyError as ex_3:\n",
    "            raise KeyError('level4') from None"
   ]
  },
  {
   "cell_type": "code",
   "execution_count": 9,
   "id": "ae86d521",
   "metadata": {},
   "outputs": [
    {
     "ename": "KeyError",
     "evalue": "'level4'",
     "output_type": "error",
     "traceback": [
      "\u001b[1;31m---------------------------------------------------------------------------\u001b[0m",
      "\u001b[1;31mValueError\u001b[0m                                Traceback (most recent call last)",
      "\u001b[1;32m<ipython-input-9-0a7c306775cb>\u001b[0m in \u001b[0;36m<module>\u001b[1;34m\u001b[0m\n\u001b[0;32m      2\u001b[0m \u001b[1;32mtry\u001b[0m\u001b[1;33m:\u001b[0m\u001b[1;33m\u001b[0m\u001b[1;33m\u001b[0m\u001b[0m\n\u001b[1;32m----> 3\u001b[1;33m     \u001b[1;32mraise\u001b[0m \u001b[0mValueError\u001b[0m\u001b[1;33m(\u001b[0m\u001b[1;34m'level1'\u001b[0m\u001b[1;33m)\u001b[0m\u001b[1;33m\u001b[0m\u001b[1;33m\u001b[0m\u001b[0m\n\u001b[0m\u001b[0;32m      4\u001b[0m \u001b[1;32mexcept\u001b[0m \u001b[0mValueError\u001b[0m \u001b[1;32mas\u001b[0m \u001b[0mex_1\u001b[0m\u001b[1;33m:\u001b[0m\u001b[1;33m\u001b[0m\u001b[1;33m\u001b[0m\u001b[0m\n",
      "\u001b[1;31mValueError\u001b[0m: level1",
      "\nThe above exception was the direct cause of the following exception:\n",
      "\u001b[1;31mKeyError\u001b[0m                                  Traceback (most recent call last)",
      "\u001b[1;32m<ipython-input-9-0a7c306775cb>\u001b[0m in \u001b[0;36m<module>\u001b[1;34m\u001b[0m\n\u001b[0;32m      9\u001b[0m             \u001b[1;32mraise\u001b[0m \u001b[0mKeyError\u001b[0m\u001b[1;33m(\u001b[0m\u001b[1;34m'level3'\u001b[0m\u001b[1;33m)\u001b[0m\u001b[1;33m\u001b[0m\u001b[1;33m\u001b[0m\u001b[0m\n\u001b[0;32m     10\u001b[0m         \u001b[1;32mexcept\u001b[0m \u001b[0mKeyError\u001b[0m \u001b[1;32mas\u001b[0m \u001b[0mex_3\u001b[0m\u001b[1;33m:\u001b[0m\u001b[1;33m\u001b[0m\u001b[1;33m\u001b[0m\u001b[0m\n\u001b[1;32m---> 11\u001b[1;33m             \u001b[1;32mraise\u001b[0m \u001b[0mKeyError\u001b[0m\u001b[1;33m(\u001b[0m\u001b[1;34m'level4'\u001b[0m\u001b[1;33m)\u001b[0m \u001b[1;32mfrom\u001b[0m \u001b[0mex_1\u001b[0m\u001b[1;33m\u001b[0m\u001b[1;33m\u001b[0m\u001b[0m\n\u001b[0m",
      "\u001b[1;31mKeyError\u001b[0m: 'level4'"
     ]
    }
   ],
   "source": [
    "# Raise error only from level1 (will bypass level2 and level3)\n",
    "try:\n",
    "    raise ValueError('level1')\n",
    "except ValueError as ex_1:\n",
    "    try:\n",
    "        raise TypeError('level2')\n",
    "    except TypeError as ex_2:\n",
    "        try:\n",
    "            raise KeyError('level3')\n",
    "        except KeyError as ex_3:\n",
    "            raise KeyError('level4') from ex_1"
   ]
  },
  {
   "cell_type": "markdown",
   "id": "8ba51b1b",
   "metadata": {},
   "source": [
    "---\n",
    "\n",
    "### Custom Exceptions <a name='custom_exceptions'></a>"
   ]
  },
  {
   "cell_type": "markdown",
   "id": "29444800",
   "metadata": {},
   "source": [
    "Built-in exceptions can also be inherited and modified with custom changes."
   ]
  },
  {
   "cell_type": "code",
   "execution_count": 10,
   "id": "0de4590d",
   "metadata": {},
   "outputs": [],
   "source": [
    "class CustomizedValueError(ValueError):\n",
    "    \n",
    "    def __str__(self):\n",
    "        return 'This is customized value error!'"
   ]
  },
  {
   "cell_type": "code",
   "execution_count": 11,
   "id": "d4e90ba8",
   "metadata": {},
   "outputs": [
    {
     "name": "stdout",
     "output_type": "stream",
     "text": [
      "This is customized value error!\n"
     ]
    }
   ],
   "source": [
    "try:\n",
    "    raise CustomizedValueError\n",
    "except CustomizedValueError as ex:\n",
    "    print(ex)"
   ]
  }
 ],
 "metadata": {
  "kernelspec": {
   "display_name": "Python 3",
   "language": "python",
   "name": "python3"
  },
  "language_info": {
   "codemirror_mode": {
    "name": "ipython",
    "version": 3
   },
   "file_extension": ".py",
   "mimetype": "text/x-python",
   "name": "python",
   "nbconvert_exporter": "python",
   "pygments_lexer": "ipython3",
   "version": "3.8.8"
  }
 },
 "nbformat": 4,
 "nbformat_minor": 5
}
