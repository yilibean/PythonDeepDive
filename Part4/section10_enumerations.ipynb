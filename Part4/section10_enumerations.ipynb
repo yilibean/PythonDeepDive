{
 "cells": [
  {
   "cell_type": "markdown",
   "id": "915ff8f4",
   "metadata": {},
   "source": [
    "## Enumerations\n",
    "\n",
    "- [**Enumerations**](#enumerations)\n",
    "- [**Aliases**](#aliases)\n",
    "- [**Customizing Enums**](#customizing_enums)\n",
    "- [**Extending Enums**](#extending_enums)\n",
    "- [**Automatic Values**](#automatic_values)"
   ]
  },
  {
   "cell_type": "markdown",
   "id": "79c22793",
   "metadata": {},
   "source": [
    "---\n",
    "\n",
    "### Enumerations <a name='enumerations'></a>"
   ]
  },
  {
   "cell_type": "code",
   "execution_count": 1,
   "id": "288bb09d",
   "metadata": {},
   "outputs": [],
   "source": [
    "import enum\n",
    "from enum import Enum"
   ]
  },
  {
   "cell_type": "code",
   "execution_count": 2,
   "id": "25dcc168",
   "metadata": {},
   "outputs": [],
   "source": [
    "class Color(Enum):\n",
    "    Red = 1\n",
    "    Green = 2\n",
    "    Blue = 3"
   ]
  },
  {
   "cell_type": "code",
   "execution_count": 3,
   "id": "e4319654",
   "metadata": {},
   "outputs": [],
   "source": [
    "class Status(Enum):\n",
    "    PENDING = 'pending'\n",
    "    RUNNING = 'running'\n",
    "    COMPLETED = 'completed'"
   ]
  },
  {
   "cell_type": "code",
   "execution_count": 4,
   "id": "fa39315c",
   "metadata": {},
   "outputs": [
    {
     "name": "stdout",
     "output_type": "stream",
     "text": [
      "Type of Color: <enum 'Color'>\n",
      "Name of Color.Red: Red\n",
      "Value of Status.COMPLETED: completed\n"
     ]
    }
   ],
   "source": [
    "print(f'Type of Color: {type(Color.Blue)}')\n",
    "print(f'Name of Color.Red: {Color.Red.name}')\n",
    "print(f'Value of Status.COMPLETED: {Status.COMPLETED.value}')"
   ]
  },
  {
   "cell_type": "code",
   "execution_count": 5,
   "id": "32380fe2",
   "metadata": {},
   "outputs": [
    {
     "data": {
      "text/plain": [
       "True"
      ]
     },
     "execution_count": 5,
     "metadata": {},
     "output_type": "execute_result"
    }
   ],
   "source": [
    "Color.Green in Color"
   ]
  },
  {
   "cell_type": "code",
   "execution_count": 6,
   "id": "8c8c3b59",
   "metadata": {},
   "outputs": [
    {
     "data": {
      "text/plain": [
       "<Status.PENDING: 'pending'>"
      ]
     },
     "execution_count": 6,
     "metadata": {},
     "output_type": "execute_result"
    }
   ],
   "source": [
    "# __getitem__ is implemented in Enum\n",
    "Status['PENDING']"
   ]
  },
  {
   "cell_type": "markdown",
   "id": "0725e68f",
   "metadata": {},
   "source": [
    "An enumeration has following properties:\n",
    "* Its member list is immutable once declared.\n",
    "* Member values are immutable.\n",
    "* Cannot be extended (unless it contains no members)."
   ]
  },
  {
   "cell_type": "markdown",
   "id": "c0b76f39",
   "metadata": {},
   "source": [
    "---\n",
    "\n",
    "### Aliases <a name='aliases'></a>"
   ]
  },
  {
   "cell_type": "markdown",
   "id": "0f58fdc9",
   "metadata": {},
   "source": [
    "When members have duplicate values of an enum, only the first one that has been specified is considered as a `master` value and all other members with same value will be considered as aliases."
   ]
  },
  {
   "cell_type": "code",
   "execution_count": 7,
   "id": "b4f4e64a",
   "metadata": {},
   "outputs": [],
   "source": [
    "class NumSides(Enum):\n",
    "    Triangle = 3\n",
    "    Rectangle = 4\n",
    "    Square = 4\n",
    "    Rhombus = 4"
   ]
  },
  {
   "cell_type": "code",
   "execution_count": 8,
   "id": "34b45d24",
   "metadata": {},
   "outputs": [
    {
     "data": {
      "text/plain": [
       "[<NumSides.Triangle: 3>, <NumSides.Rectangle: 4>]"
      ]
     },
     "execution_count": 8,
     "metadata": {},
     "output_type": "execute_result"
    }
   ],
   "source": [
    "list(NumSides)"
   ]
  },
  {
   "cell_type": "code",
   "execution_count": 9,
   "id": "0027a9fc",
   "metadata": {},
   "outputs": [
    {
     "data": {
      "text/plain": [
       "<NumSides.Rectangle: 4>"
      ]
     },
     "execution_count": 9,
     "metadata": {},
     "output_type": "execute_result"
    }
   ],
   "source": [
    "NumSides(4)"
   ]
  },
  {
   "cell_type": "code",
   "execution_count": 10,
   "id": "9868d468",
   "metadata": {},
   "outputs": [
    {
     "data": {
      "text/plain": [
       "<NumSides.Rectangle: 4>"
      ]
     },
     "execution_count": 10,
     "metadata": {},
     "output_type": "execute_result"
    }
   ],
   "source": [
    "NumSides['Square']"
   ]
  },
  {
   "cell_type": "markdown",
   "id": "2296af0c",
   "metadata": {},
   "source": [
    "Aliases can only be seen from `__member__`:"
   ]
  },
  {
   "cell_type": "code",
   "execution_count": 11,
   "id": "eb22062d",
   "metadata": {},
   "outputs": [
    {
     "data": {
      "text/plain": [
       "mappingproxy({'Triangle': <NumSides.Triangle: 3>,\n",
       "              'Rectangle': <NumSides.Rectangle: 4>,\n",
       "              'Square': <NumSides.Rectangle: 4>,\n",
       "              'Rhombus': <NumSides.Rectangle: 4>})"
      ]
     },
     "execution_count": 11,
     "metadata": {},
     "output_type": "execute_result"
    }
   ],
   "source": [
    "NumSides.__members__"
   ]
  },
  {
   "cell_type": "markdown",
   "id": "cabcb010",
   "metadata": {},
   "source": [
    "Aliases can be useful under certain conditions, but if duplicate values are to be avoided, we can add a check using:"
   ]
  },
  {
   "cell_type": "code",
   "execution_count": 12,
   "id": "9cf27e86",
   "metadata": {},
   "outputs": [
    {
     "ename": "ValueError",
     "evalue": "duplicate values found in <enum 'Status'>: Done -> Finished",
     "output_type": "error",
     "traceback": [
      "\u001b[1;31m---------------------------------------------------------------------------\u001b[0m",
      "\u001b[1;31mValueError\u001b[0m                                Traceback (most recent call last)",
      "\u001b[1;32m<ipython-input-12-a3d53a2cb6ce>\u001b[0m in \u001b[0;36m<module>\u001b[1;34m\u001b[0m\n\u001b[0;32m      1\u001b[0m \u001b[1;33m@\u001b[0m\u001b[0menum\u001b[0m\u001b[1;33m.\u001b[0m\u001b[0munique\u001b[0m\u001b[1;33m\u001b[0m\u001b[1;33m\u001b[0m\u001b[0m\n\u001b[0;32m      2\u001b[0m \u001b[1;33m\u001b[0m\u001b[0m\n\u001b[1;32m----> 3\u001b[1;33m \u001b[1;32mclass\u001b[0m \u001b[0mStatus\u001b[0m\u001b[1;33m(\u001b[0m\u001b[0mEnum\u001b[0m\u001b[1;33m)\u001b[0m\u001b[1;33m:\u001b[0m\u001b[1;33m\u001b[0m\u001b[1;33m\u001b[0m\u001b[0m\n\u001b[0m\u001b[0;32m      4\u001b[0m     \u001b[0mReady\u001b[0m \u001b[1;33m=\u001b[0m \u001b[1;36m1\u001b[0m\u001b[1;33m\u001b[0m\u001b[1;33m\u001b[0m\u001b[0m\n\u001b[0;32m      5\u001b[0m     \u001b[0mWaiting\u001b[0m \u001b[1;33m=\u001b[0m \u001b[1;36m2\u001b[0m\u001b[1;33m\u001b[0m\u001b[1;33m\u001b[0m\u001b[0m\n",
      "\u001b[1;32m~\\Anaconda3\\lib\\enum.py\u001b[0m in \u001b[0;36munique\u001b[1;34m(enumeration)\u001b[0m\n\u001b[0;32m    967\u001b[0m         alias_details = ', '.join(\n\u001b[0;32m    968\u001b[0m                 [\"%s -> %s\" % (alias, name) for (alias, name) in duplicates])\n\u001b[1;32m--> 969\u001b[1;33m         raise ValueError('duplicate values found in %r: %s' %\n\u001b[0m\u001b[0;32m    970\u001b[0m                 (enumeration, alias_details))\n\u001b[0;32m    971\u001b[0m     \u001b[1;32mreturn\u001b[0m \u001b[0menumeration\u001b[0m\u001b[1;33m\u001b[0m\u001b[1;33m\u001b[0m\u001b[0m\n",
      "\u001b[1;31mValueError\u001b[0m: duplicate values found in <enum 'Status'>: Done -> Finished"
     ]
    }
   ],
   "source": [
    "@enum.unique\n",
    "\n",
    "class Status(Enum):\n",
    "    Ready = 1\n",
    "    Waiting = 2\n",
    "    Finished = 3\n",
    "    Done = 3"
   ]
  },
  {
   "cell_type": "markdown",
   "id": "629e12d6",
   "metadata": {},
   "source": [
    "---\n",
    "\n",
    "### Customizing Enums <a name='customizing_enums'></a>"
   ]
  },
  {
   "cell_type": "markdown",
   "id": "71708b3e",
   "metadata": {},
   "source": [
    "Enums are classes, therefore they can be customized by adding properties and functions same as normal classes."
   ]
  },
  {
   "cell_type": "code",
   "execution_count": 13,
   "id": "1263cb6a",
   "metadata": {},
   "outputs": [],
   "source": [
    "class Color(Enum):\n",
    "    Red = 1\n",
    "    Green = 2\n",
    "    Blue = 3\n",
    "    \n",
    "    def __repr__(self):\n",
    "        return f'{self.name}: {self.value}'"
   ]
  },
  {
   "cell_type": "code",
   "execution_count": 14,
   "id": "4ed87ece",
   "metadata": {},
   "outputs": [
    {
     "data": {
      "text/plain": [
       "Red: 1"
      ]
     },
     "execution_count": 14,
     "metadata": {},
     "output_type": "execute_result"
    }
   ],
   "source": [
    "Color.Red"
   ]
  },
  {
   "cell_type": "markdown",
   "id": "8ba51b1b",
   "metadata": {},
   "source": [
    "---\n",
    "\n",
    "### Extending Enums <a name='extending_enums'></a>"
   ]
  },
  {
   "cell_type": "markdown",
   "id": "a18eb18a",
   "metadata": {},
   "source": [
    "It is forbidden to derive a subclass from a Enum class with members, but is allowed if without members. This characteristic can be useful when for instance some common functionalities are needed for many enuermation classes."
   ]
  },
  {
   "cell_type": "code",
   "execution_count": 15,
   "id": "2b2f45e5",
   "metadata": {},
   "outputs": [],
   "source": [
    "class OrderedEnum(Enum):\n",
    "    def __lt__(self, other):\n",
    "        if isinstance(other, OrderedEnum):\n",
    "            return self.value < other.value\n",
    "        return NotImplemented"
   ]
  },
  {
   "cell_type": "code",
   "execution_count": 16,
   "id": "9f9825e0",
   "metadata": {},
   "outputs": [],
   "source": [
    "class Number(OrderedEnum):\n",
    "    ONE = 1\n",
    "    TWO = 2\n",
    "    THREE = 3\n",
    "    \n",
    "class Dimension(OrderedEnum):\n",
    "    D1 = 1,\n",
    "    D2 = 1, 1\n",
    "    D3 = 1, 1, 1"
   ]
  },
  {
   "cell_type": "code",
   "execution_count": 17,
   "id": "bc0c645d",
   "metadata": {},
   "outputs": [
    {
     "data": {
      "text/plain": [
       "True"
      ]
     },
     "execution_count": 17,
     "metadata": {},
     "output_type": "execute_result"
    }
   ],
   "source": [
    "Number.ONE < Number.THREE"
   ]
  },
  {
   "cell_type": "code",
   "execution_count": 18,
   "id": "0832f0e7",
   "metadata": {},
   "outputs": [
    {
     "data": {
      "text/plain": [
       "False"
      ]
     },
     "execution_count": 18,
     "metadata": {},
     "output_type": "execute_result"
    }
   ],
   "source": [
    "Dimension.D3 < Dimension.D1"
   ]
  },
  {
   "cell_type": "markdown",
   "id": "193b0e25",
   "metadata": {},
   "source": [
    "---\n",
    "\n",
    "### Automatic Values <a name='automatic_values'></a>"
   ]
  },
  {
   "cell_type": "markdown",
   "id": "6993eb92",
   "metadata": {},
   "source": [
    "Python allows us to use `enum.auto()` to automatically assign values for memebers, and even though not technically forbidden, we should now combine self-defined member values and auto-generated ones together."
   ]
  },
  {
   "cell_type": "code",
   "execution_count": 19,
   "id": "3ee93a7e",
   "metadata": {},
   "outputs": [],
   "source": [
    "class Number(Enum):\n",
    "    ONE = enum.auto()\n",
    "    TWO = enum.auto()\n",
    "    THREE = enum.auto()"
   ]
  },
  {
   "cell_type": "code",
   "execution_count": 20,
   "id": "d2d92abc",
   "metadata": {},
   "outputs": [
    {
     "name": "stdout",
     "output_type": "stream",
     "text": [
      "ONE: 1\n",
      "TWO: 2\n",
      "THREE: 3\n"
     ]
    }
   ],
   "source": [
    "for member in Number:\n",
    "    print(f'{member.name}: {member.value}')"
   ]
  },
  {
   "cell_type": "markdown",
   "id": "af09f9e9",
   "metadata": {},
   "source": [
    "`enum.auto()` implements `_generate_next_value_()` to realize its functionality, and this method can be rewritten and customized."
   ]
  },
  {
   "cell_type": "code",
   "execution_count": 21,
   "id": "4ee723aa",
   "metadata": {},
   "outputs": [],
   "source": [
    "class Status(Enum):\n",
    "    def _generate_next_value_(name, start, count, last_values):\n",
    "        return name.lower()\n",
    "    \n",
    "    WAITING = enum.auto()\n",
    "    STARTING = enum.auto()\n",
    "    CLOSING = enum.auto()"
   ]
  },
  {
   "cell_type": "code",
   "execution_count": 22,
   "id": "d15bd0c5",
   "metadata": {},
   "outputs": [
    {
     "name": "stdout",
     "output_type": "stream",
     "text": [
      "WAITING: waiting\n",
      "STARTING: starting\n",
      "CLOSING: closing\n"
     ]
    }
   ],
   "source": [
    "for member in Status:\n",
    "    print(f'{member.name}: {member.value}')"
   ]
  }
 ],
 "metadata": {
  "kernelspec": {
   "display_name": "Python 3",
   "language": "python",
   "name": "python3"
  },
  "language_info": {
   "codemirror_mode": {
    "name": "ipython",
    "version": 3
   },
   "file_extension": ".py",
   "mimetype": "text/x-python",
   "name": "python",
   "nbconvert_exporter": "python",
   "pygments_lexer": "ipython3",
   "version": "3.8.8"
  }
 },
 "nbformat": 4,
 "nbformat_minor": 5
}
