{
 "cells": [
  {
   "cell_type": "markdown",
   "id": "915ff8f4",
   "metadata": {},
   "source": [
    "## Single Inheritance\n",
    "\n",
    "- [**Single Inheritance**](#single_inheritance)\n",
    "- [**Overriding**](#overriding)\n",
    "- [**Extending**](#extending)\n",
    "- [**Delegating to Parent**](#delegating_to_parent)\n",
    "- [**Slots**](#slots)\n",
    "- [**Slots and Single Inheritance**](#slots_and_single_inheritance)"
   ]
  },
  {
   "cell_type": "markdown",
   "id": "79c22793",
   "metadata": {},
   "source": [
    "---\n",
    "\n",
    "### Single Inheritance <a name='single_inheritance'></a>"
   ]
  },
  {
   "cell_type": "markdown",
   "id": "0598c951",
   "metadata": {},
   "source": [
    "When a class is derived only from a single parent class and inherits its behaviours and properties, it is called **single inheritance**. By default, all the classes have the ancestor class - **object** class."
   ]
  },
  {
   "cell_type": "code",
   "execution_count": 1,
   "id": "2b55ac8e",
   "metadata": {},
   "outputs": [],
   "source": [
    "class Shape:\n",
    "    pass\n",
    "\n",
    "class Ellipse(Shape):\n",
    "    pass\n",
    "\n",
    "class Circle(Ellipse):\n",
    "    pass\n",
    "\n",
    "class Polygon(Shape):\n",
    "    pass\n",
    "\n",
    "class Triangle(Polygon):\n",
    "    pass\n",
    "\n",
    "class Rectangle(Polygon):\n",
    "    pass"
   ]
  },
  {
   "cell_type": "markdown",
   "id": "48ace455",
   "metadata": {},
   "source": [
    "* `issubclass`: For class level specifically, as long as the given parent class is the derived class's ancestor, it will return True."
   ]
  },
  {
   "cell_type": "code",
   "execution_count": 2,
   "id": "a919500f",
   "metadata": {},
   "outputs": [
    {
     "data": {
      "text/plain": [
       "True"
      ]
     },
     "execution_count": 2,
     "metadata": {},
     "output_type": "execute_result"
    }
   ],
   "source": [
    "issubclass(Ellipse, Shape)"
   ]
  },
  {
   "cell_type": "code",
   "execution_count": 3,
   "id": "4802edee",
   "metadata": {},
   "outputs": [
    {
     "data": {
      "text/plain": [
       "True"
      ]
     },
     "execution_count": 3,
     "metadata": {},
     "output_type": "execute_result"
    }
   ],
   "source": [
    "issubclass(Triangle, Shape)"
   ]
  },
  {
   "cell_type": "code",
   "execution_count": 4,
   "id": "4fde1fcb",
   "metadata": {},
   "outputs": [
    {
     "data": {
      "text/plain": [
       "False"
      ]
     },
     "execution_count": 4,
     "metadata": {},
     "output_type": "execute_result"
    }
   ],
   "source": [
    "issubclass(Rectangle, Ellipse)"
   ]
  },
  {
   "cell_type": "markdown",
   "id": "bfabad75",
   "metadata": {},
   "source": [
    "* `isinstance`: For instance level specifically, as long as the given parent class is the derived class's ancestor, it will return True."
   ]
  },
  {
   "cell_type": "code",
   "execution_count": 5,
   "id": "424d6bc9",
   "metadata": {},
   "outputs": [],
   "source": [
    "shape = Shape()\n",
    "circle = Circle()\n",
    "polygon = Polygon()"
   ]
  },
  {
   "cell_type": "code",
   "execution_count": 6,
   "id": "d69abc6e",
   "metadata": {},
   "outputs": [
    {
     "data": {
      "text/plain": [
       "True"
      ]
     },
     "execution_count": 6,
     "metadata": {},
     "output_type": "execute_result"
    }
   ],
   "source": [
    "isinstance(circle, Shape)"
   ]
  },
  {
   "cell_type": "code",
   "execution_count": 7,
   "id": "50011dfc",
   "metadata": {},
   "outputs": [
    {
     "data": {
      "text/plain": [
       "True"
      ]
     },
     "execution_count": 7,
     "metadata": {},
     "output_type": "execute_result"
    }
   ],
   "source": [
    "isinstance(polygon, Shape)"
   ]
  },
  {
   "cell_type": "code",
   "execution_count": 8,
   "id": "312f0bee",
   "metadata": {},
   "outputs": [
    {
     "data": {
      "text/plain": [
       "False"
      ]
     },
     "execution_count": 8,
     "metadata": {},
     "output_type": "execute_result"
    }
   ],
   "source": [
    "isinstance(circle, Polygon)"
   ]
  },
  {
   "cell_type": "markdown",
   "id": "bc131966",
   "metadata": {},
   "source": [
    "* `type`: Return the specific class of an instance/class."
   ]
  },
  {
   "cell_type": "code",
   "execution_count": 9,
   "id": "f067d94f",
   "metadata": {},
   "outputs": [
    {
     "data": {
      "text/plain": [
       "type"
      ]
     },
     "execution_count": 9,
     "metadata": {},
     "output_type": "execute_result"
    }
   ],
   "source": [
    "type(Polygon)"
   ]
  },
  {
   "cell_type": "code",
   "execution_count": 10,
   "id": "98538532",
   "metadata": {},
   "outputs": [
    {
     "data": {
      "text/plain": [
       "__main__.Shape"
      ]
     },
     "execution_count": 10,
     "metadata": {},
     "output_type": "execute_result"
    }
   ],
   "source": [
    "type(shape)"
   ]
  },
  {
   "cell_type": "code",
   "execution_count": 11,
   "id": "11c5bbc6",
   "metadata": {},
   "outputs": [
    {
     "data": {
      "text/plain": [
       "__main__.Circle"
      ]
     },
     "execution_count": 11,
     "metadata": {},
     "output_type": "execute_result"
    }
   ],
   "source": [
    "type(circle)"
   ]
  },
  {
   "cell_type": "markdown",
   "id": "c0b76f39",
   "metadata": {},
   "source": [
    "---\n",
    "\n",
    "### Overriding <a name='overriding'></a>"
   ]
  },
  {
   "cell_type": "markdown",
   "id": "8b2bdf7c",
   "metadata": {},
   "source": [
    "When inheriting from the parent class, we can choose to redefine the existing attributes from the base class in subclass, which is called **overriding**."
   ]
  },
  {
   "cell_type": "code",
   "execution_count": 12,
   "id": "eda7b372",
   "metadata": {},
   "outputs": [],
   "source": [
    "class Person:\n",
    "    \n",
    "    def __str__(self):\n",
    "        return 'Calling Person.__str__.'\n",
    "    \n",
    "class Student(Person):\n",
    "    \n",
    "    def __str__(self):\n",
    "        return 'Calling Student.__str__.'"
   ]
  },
  {
   "cell_type": "code",
   "execution_count": 13,
   "id": "32bacd5f",
   "metadata": {},
   "outputs": [
    {
     "data": {
      "text/plain": [
       "'Calling Student.__str__.'"
      ]
     },
     "execution_count": 13,
     "metadata": {},
     "output_type": "execute_result"
    }
   ],
   "source": [
    "s = Student()\n",
    "str(s)"
   ]
  },
  {
   "cell_type": "markdown",
   "id": "840372e2",
   "metadata": {},
   "source": [
    "---\n",
    "\n",
    "### Extending <a name='extending'></a>"
   ]
  },
  {
   "cell_type": "markdown",
   "id": "016f6354",
   "metadata": {},
   "source": [
    "Basically we can create more specialized classes to extend functionality of a certain class."
   ]
  },
  {
   "cell_type": "code",
   "execution_count": 14,
   "id": "d44abccc",
   "metadata": {},
   "outputs": [],
   "source": [
    "class Person:\n",
    "    pass\n",
    "\n",
    "class Student(Person):\n",
    "    \n",
    "    def study(self):\n",
    "        return 'Studying...'"
   ]
  },
  {
   "cell_type": "code",
   "execution_count": 15,
   "id": "381e84ee",
   "metadata": {},
   "outputs": [
    {
     "data": {
      "text/plain": [
       "'Studying...'"
      ]
     },
     "execution_count": 15,
     "metadata": {},
     "output_type": "execute_result"
    }
   ],
   "source": [
    "s = Student()\n",
    "s.study()"
   ]
  },
  {
   "cell_type": "markdown",
   "id": "629e12d6",
   "metadata": {},
   "source": [
    "---\n",
    "\n",
    "### Delegating to Parent <a name='delegating_to_parent'></a>"
   ]
  },
  {
   "cell_type": "markdown",
   "id": "0831d700",
   "metadata": {},
   "source": [
    "In the subclass, sometimes it is needed to call a specific method in the ancestry hierarchy (or a sibling class in **multiple inheritance**), we call it **delegating to the parent class**. It is worth noting that, when calling the method in the parent, the method is bounded to the instance it is called from (i.e. the derived class)."
   ]
  },
  {
   "cell_type": "code",
   "execution_count": 16,
   "id": "56047d03",
   "metadata": {},
   "outputs": [],
   "source": [
    "class Person:\n",
    "    \n",
    "    def __init__(self, name, age):\n",
    "        self.name = name\n",
    "        self.age = age"
   ]
  },
  {
   "cell_type": "code",
   "execution_count": 17,
   "id": "cb0dea4b",
   "metadata": {},
   "outputs": [],
   "source": [
    "class Student(Person):\n",
    "    \n",
    "    def __init__(self, name, age, grade):\n",
    "        super().__init__(name, age) # Safer to call method from parent class first to avoid incorrect overwriting\n",
    "        self.grade = grade"
   ]
  },
  {
   "cell_type": "code",
   "execution_count": 18,
   "id": "a2ea1514",
   "metadata": {},
   "outputs": [
    {
     "data": {
      "text/plain": [
       "{'name': 'Taylor', 'age': 22, 'grade': 100}"
      ]
     },
     "execution_count": 18,
     "metadata": {},
     "output_type": "execute_result"
    }
   ],
   "source": [
    "s = Student('Taylor', 22, 100)\n",
    "vars(s)"
   ]
  },
  {
   "cell_type": "code",
   "execution_count": 19,
   "id": "ad8d574e",
   "metadata": {},
   "outputs": [],
   "source": [
    "class Person:\n",
    "    \n",
    "    def wake_up(self):\n",
    "        print('Person awakes...')\n",
    "    \n",
    "    def do_work(self):\n",
    "        print('Person works...')\n",
    "        \n",
    "    def sleep(self):\n",
    "        print('Person sleeps...')\n",
    "        \n",
    "    def routine(self):\n",
    "        self.wake_up()\n",
    "        self.do_work()\n",
    "        self.sleep()\n",
    "        \n",
    "class Student(Person):\n",
    "    \n",
    "    def do_work(self):\n",
    "        print('Student works...')\n",
    "    \n",
    "    def routine(self):\n",
    "        super().routine()\n",
    "        print('Maybe play some games first...')"
   ]
  },
  {
   "cell_type": "code",
   "execution_count": 20,
   "id": "7947a7df",
   "metadata": {},
   "outputs": [
    {
     "name": "stdout",
     "output_type": "stream",
     "text": [
      "Person awakes...\n",
      "Student works...\n",
      "Person sleeps...\n",
      "Maybe play some games first...\n"
     ]
    }
   ],
   "source": [
    "s = Student()\n",
    "# do_work() from Student class will be called since the instance is bound to Student\n",
    "s.routine()"
   ]
  },
  {
   "cell_type": "markdown",
   "id": "d1812b28",
   "metadata": {},
   "source": [
    "---\n",
    "\n",
    "### Slots <a name='slots'></a>"
   ]
  },
  {
   "cell_type": "markdown",
   "id": "454efff7",
   "metadata": {},
   "source": [
    "Slots is a class attribute that can take in an iterable and then allow us to explicitly state what instance attributes we expect our object instances to have, it has following characteristics:\n",
    "\n",
    "* Save space in memory.\n",
    "* Faster attribute access.\n",
    "* <font color='red'> Not possible to add attributes that are not defined in slots to the instances at run-time (but would be possible at class level), deleting attributes would work fine for both instance and class level. </font>"
   ]
  },
  {
   "cell_type": "code",
   "execution_count": 21,
   "id": "8cd484c2",
   "metadata": {},
   "outputs": [],
   "source": [
    "class Location:\n",
    "    \n",
    "    __slots__ = ('name', '_longitude', '_latitude')\n",
    "    \n",
    "    def __init__(self, name, *, longitude, latitude):\n",
    "        self._longitude = longitude\n",
    "        self._latitude = latitude\n",
    "        self.name = name\n",
    "        \n",
    "    @property\n",
    "    def longitude(self):\n",
    "        return self._longitude\n",
    "    \n",
    "    @property\n",
    "    def latitude(self):\n",
    "        return self._latitude"
   ]
  },
  {
   "cell_type": "code",
   "execution_count": 22,
   "id": "cf677479",
   "metadata": {},
   "outputs": [
    {
     "data": {
      "text/plain": [
       "mappingproxy({'__module__': '__main__',\n",
       "              '__slots__': ('name', '_longitude', '_latitude'),\n",
       "              '__init__': <function __main__.Location.__init__(self, name, *, longitude, latitude)>,\n",
       "              'longitude': <property at 0x23006981c70>,\n",
       "              'latitude': <property at 0x23006837ae0>,\n",
       "              '_latitude': <member '_latitude' of 'Location' objects>,\n",
       "              '_longitude': <member '_longitude' of 'Location' objects>,\n",
       "              'name': <member 'name' of 'Location' objects>,\n",
       "              '__doc__': None})"
      ]
     },
     "execution_count": 22,
     "metadata": {},
     "output_type": "execute_result"
    }
   ],
   "source": [
    "Location.__dict__"
   ]
  },
  {
   "cell_type": "code",
   "execution_count": 23,
   "id": "a75d2820",
   "metadata": {},
   "outputs": [
    {
     "data": {
      "text/plain": [
       "mappingproxy({'__module__': '__main__',\n",
       "              '__slots__': ('name', '_longitude', '_latitude'),\n",
       "              '__init__': <function __main__.Location.__init__(self, name, *, longitude, latitude)>,\n",
       "              'longitude': <property at 0x23006981c70>,\n",
       "              'latitude': <property at 0x23006837ae0>,\n",
       "              '_latitude': <member '_latitude' of 'Location' objects>,\n",
       "              '_longitude': <member '_longitude' of 'Location' objects>,\n",
       "              'name': <member 'name' of 'Location' objects>,\n",
       "              '__doc__': None,\n",
       "              'map_service': 'Google Map'})"
      ]
     },
     "execution_count": 23,
     "metadata": {},
     "output_type": "execute_result"
    }
   ],
   "source": [
    "Location.map_service = 'Google Map'\n",
    "Location.__dict__"
   ]
  },
  {
   "cell_type": "code",
   "execution_count": 24,
   "id": "21aacddc",
   "metadata": {},
   "outputs": [],
   "source": [
    "l = Location('Xian', longitude=34.2658, latitude=108.9541)"
   ]
  },
  {
   "cell_type": "code",
   "execution_count": 25,
   "id": "f9c120b5",
   "metadata": {},
   "outputs": [
    {
     "ename": "AttributeError",
     "evalue": "'Location' object has no attribute 'weather'",
     "output_type": "error",
     "traceback": [
      "\u001b[1;31m---------------------------------------------------------------------------\u001b[0m",
      "\u001b[1;31mAttributeError\u001b[0m                            Traceback (most recent call last)",
      "\u001b[1;32m<ipython-input-25-779e55612bdc>\u001b[0m in \u001b[0;36m<module>\u001b[1;34m\u001b[0m\n\u001b[0;32m      1\u001b[0m \u001b[1;31m# Forbidden to add attribute at run-time to an instance\u001b[0m\u001b[1;33m\u001b[0m\u001b[1;33m\u001b[0m\u001b[1;33m\u001b[0m\u001b[0m\n\u001b[1;32m----> 2\u001b[1;33m \u001b[0ml\u001b[0m\u001b[1;33m.\u001b[0m\u001b[0mweather\u001b[0m \u001b[1;33m=\u001b[0m \u001b[1;34m'Sunny'\u001b[0m\u001b[1;33m\u001b[0m\u001b[1;33m\u001b[0m\u001b[0m\n\u001b[0m",
      "\u001b[1;31mAttributeError\u001b[0m: 'Location' object has no attribute 'weather'"
     ]
    }
   ],
   "source": [
    "# Forbidden to add attribute at run-time to an instance\n",
    "l.weather = 'Sunny'"
   ]
  },
  {
   "cell_type": "markdown",
   "id": "4fb9476a",
   "metadata": {},
   "source": [
    "---\n",
    "\n",
    "### Slots and Single Inheritance <a name='slots_and_single_inheritance'></a>"
   ]
  },
  {
   "cell_type": "markdown",
   "id": "5009bc44",
   "metadata": {},
   "source": [
    "In single inheritance, the child class can inherit \\_\\_slot\\_\\_ from its parent class and it will at the meantime have instance dictionary \\_\\_dict\\_\\_. Also, it is possible to extend \\_\\_slot\\_\\_ in the child class by <font color='red'> only defining the additional attributes </font>. "
   ]
  },
  {
   "cell_type": "code",
   "execution_count": 26,
   "id": "eed1ec13",
   "metadata": {},
   "outputs": [],
   "source": [
    "class Person:\n",
    "    \n",
    "    __slots__ = ('name', 'age')\n",
    "    \n",
    "    def __init__(self, name, age):\n",
    "        self.name = name\n",
    "        self.age = age\n",
    "        \n",
    "class Student(Person):\n",
    "    pass\n",
    "\n",
    "class Employee(Person):\n",
    "    \n",
    "    __slots__ = ('work_id')\n",
    "    \n",
    "    def __init__(self, name, age, work_id):\n",
    "        super().__init__(name, age)\n",
    "        self.work_id = work_id"
   ]
  },
  {
   "cell_type": "code",
   "execution_count": 27,
   "id": "ea9975ce",
   "metadata": {},
   "outputs": [
    {
     "name": "stdout",
     "output_type": "stream",
     "text": [
      "('name', 'age')\n",
      "{}\n"
     ]
    }
   ],
   "source": [
    "s = Student('Taylor', 22)\n",
    "print(s.__slots__)\n",
    "print(s.__dict__)"
   ]
  },
  {
   "cell_type": "code",
   "execution_count": 28,
   "id": "58a46d74",
   "metadata": {},
   "outputs": [
    {
     "name": "stdout",
     "output_type": "stream",
     "text": [
      "Taylor\n",
      "work_id\n"
     ]
    },
    {
     "ename": "AttributeError",
     "evalue": "'Employee' object has no attribute '__dict__'",
     "output_type": "error",
     "traceback": [
      "\u001b[1;31m---------------------------------------------------------------------------\u001b[0m",
      "\u001b[1;31mAttributeError\u001b[0m                            Traceback (most recent call last)",
      "\u001b[1;32m<ipython-input-28-af7300e6c26a>\u001b[0m in \u001b[0;36m<module>\u001b[1;34m\u001b[0m\n\u001b[0;32m      2\u001b[0m \u001b[0mprint\u001b[0m\u001b[1;33m(\u001b[0m\u001b[0me\u001b[0m\u001b[1;33m.\u001b[0m\u001b[0mname\u001b[0m\u001b[1;33m)\u001b[0m\u001b[1;33m\u001b[0m\u001b[1;33m\u001b[0m\u001b[0m\n\u001b[0;32m      3\u001b[0m \u001b[0mprint\u001b[0m\u001b[1;33m(\u001b[0m\u001b[0me\u001b[0m\u001b[1;33m.\u001b[0m\u001b[0m__slots__\u001b[0m\u001b[1;33m)\u001b[0m\u001b[1;33m\u001b[0m\u001b[1;33m\u001b[0m\u001b[0m\n\u001b[1;32m----> 4\u001b[1;33m \u001b[0mprint\u001b[0m\u001b[1;33m(\u001b[0m\u001b[0me\u001b[0m\u001b[1;33m.\u001b[0m\u001b[0m__dict__\u001b[0m\u001b[1;33m)\u001b[0m\u001b[1;33m\u001b[0m\u001b[1;33m\u001b[0m\u001b[0m\n\u001b[0m",
      "\u001b[1;31mAttributeError\u001b[0m: 'Employee' object has no attribute '__dict__'"
     ]
    }
   ],
   "source": [
    "e = Employee('Taylor', 22, '001')\n",
    "print(e.name)\n",
    "print(e.__slots__)\n",
    "print(e.__dict__)"
   ]
  },
  {
   "cell_type": "markdown",
   "id": "e6afaf9a",
   "metadata": {},
   "source": [
    "It is also possible to combine \\_\\_slot\\_\\_ and \\_\\_dict\\_\\_ together to:\n",
    "* Use the advantage of slots by pre-defining some fixed attributes.\n",
    "* Remain flexible for instance dictionary to take in additional attributes at run-time."
   ]
  },
  {
   "cell_type": "code",
   "execution_count": 29,
   "id": "659cc712",
   "metadata": {},
   "outputs": [],
   "source": [
    "class Person:\n",
    "    \n",
    "    __slots__ = ('name', '__dict__')\n",
    "    \n",
    "    def __init__(self, name):\n",
    "        self.name = name"
   ]
  },
  {
   "cell_type": "code",
   "execution_count": 30,
   "id": "809bee24",
   "metadata": {},
   "outputs": [
    {
     "data": {
      "text/plain": [
       "{'age': 22}"
      ]
     },
     "execution_count": 30,
     "metadata": {},
     "output_type": "execute_result"
    }
   ],
   "source": [
    "p = Person('Taylor')\n",
    "p.age = 22\n",
    "p.__dict__"
   ]
  }
 ],
 "metadata": {
  "kernelspec": {
   "display_name": "Python 3",
   "language": "python",
   "name": "python3"
  },
  "language_info": {
   "codemirror_mode": {
    "name": "ipython",
    "version": 3
   },
   "file_extension": ".py",
   "mimetype": "text/x-python",
   "name": "python",
   "nbconvert_exporter": "python",
   "pygments_lexer": "ipython3",
   "version": "3.8.8"
  }
 },
 "nbformat": 4,
 "nbformat_minor": 5
}
