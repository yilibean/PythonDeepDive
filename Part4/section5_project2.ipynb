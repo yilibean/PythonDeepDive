{
 "cells": [
  {
   "cell_type": "markdown",
   "id": "923f8bc4",
   "metadata": {},
   "source": [
    "### Objective：\n",
    "\n",
    "Implement a special Mod class to implement some concepts in modular arithmetic."
   ]
  },
  {
   "cell_type": "markdown",
   "id": "7a0965e4",
   "metadata": {},
   "source": [
    "---\n",
    "\n",
    "### Functionalities and characteristics:\n",
    "\n",
    "- Assume **n** is a positive integer and **a**, **b** are integers\n",
    "- **a** and **b** are congruent modulo if a%n = b%n\n"
   ]
  },
  {
   "cell_type": "markdown",
   "id": "16c69f9a",
   "metadata": {},
   "source": [
    "---\n",
    "### Implementation:"
   ]
  },
  {
   "cell_type": "markdown",
   "id": "31946a16",
   "metadata": {},
   "source": [
    "> Before refactoring"
   ]
  },
  {
   "cell_type": "code",
   "execution_count": 1,
   "id": "93f2fc29",
   "metadata": {},
   "outputs": [],
   "source": [
    "class Mod:\n",
    "    \n",
    "    def __init__(self, value, modulus):\n",
    "        if not isinstance(value, int):\n",
    "            raise TypeError('Value must be an integer.')\n",
    "        if not isinstance(modulus, int):\n",
    "            raise TypeError('Modulus must be an integer.')\n",
    "        if modulus < 0:\n",
    "            raise ValueError('Modulus must be positive.')\n",
    "        \n",
    "        self._modulus = modulus\n",
    "        self._value = value % self._modulus\n",
    "        \n",
    "    @property\n",
    "    def value(self):\n",
    "        return self._value\n",
    "    \n",
    "    @property\n",
    "    def modulus(self):\n",
    "        return self._modulus\n",
    "    \n",
    "    def __repr__(self):\n",
    "        return 'Mod({}, {})'.format(self.value, self.modulus)\n",
    "    \n",
    "    def __int__(self):\n",
    "        return self.value\n",
    "    \n",
    "    def __lt__(self, other):\n",
    "        if isinstance(other, Mod) and self._modulus == other._modulus:\n",
    "            return (self._value % self._modulus) < (other._value % other._modulus)\n",
    "        if isinstance(other, int):\n",
    "            return (self._value % self._modulus) < (other % self._modulus)\n",
    "        return NotImplemented\n",
    "    \n",
    "    def __le__(self, other):\n",
    "        if isinstance(other, Mod) and self._modulus == other._modulus:\n",
    "            return (self._value % self._modulus) <= (other._value % other._modulus)\n",
    "        if isinstance(other, int):\n",
    "            return (self._value % self._modulus) <= (other % self._modulus)\n",
    "        return NotImplemented\n",
    "    \n",
    "    def __gt__(self, other):\n",
    "        if isinstance(other, Mod) and self._modulus == other._modulus:\n",
    "            return (self._value % self._modulus) > (other._value % other._modulus)\n",
    "        if isinstance(other, int):\n",
    "            return (self._value % self._modulus) > (other % self._modulus)\n",
    "        return NotImplemented\n",
    "    \n",
    "    def __ge__(self, other):\n",
    "        if isinstance(other, Mod) and self._modulus == other._modulus:\n",
    "            return (self._value % self._modulus) >= (other._value % other._modulus)\n",
    "        if isinstance(other, int):\n",
    "            return (self._value % self._modulus) >= (other % self._modulus)\n",
    "        return NotImplemented\n",
    "    \n",
    "    def __ne__(self, other):\n",
    "        if isinstance(other, Mod) and self._modulus == other._modulus:\n",
    "            return (self._value % self._modulus) != (other._value % other._modulus)\n",
    "        if isinstance(other, int):\n",
    "            return (self._value % self._modulus) != (other % self._modulus)\n",
    "        return NotImplemented\n",
    "    \n",
    "    def __eq__(self, other):\n",
    "        if isinstance(other, Mod) and self._modulus == other._modulus:\n",
    "            return (self._value % self._modulus) == (other._value % other._modulus)\n",
    "        if isinstance(other, int):\n",
    "            return (self._value % self._modulus) == (other % self._modulus)\n",
    "        return NotImplemented\n",
    "    \n",
    "    def __hash__(self):\n",
    "        return hash((self.value, self.modulus))\n",
    "\n",
    "    def __add__(self, other):\n",
    "        if isinstance(other, Mod) and self.modulus == other.modulus:\n",
    "            return Mod(self.value + other.value, self.modulus)\n",
    "        if isinstance(other, int):\n",
    "            return Mod(self.value + other, self.modulus)\n",
    "        return NotImplemented\n",
    "    \n",
    "    def __sub__(self, other):\n",
    "        if isinstance(other, Mod) and self.modulus == other.modulus:\n",
    "            return Mod(self.value - other.value, self.modulus)\n",
    "        if isinstance(other, int):\n",
    "            return Mod(self.value - other, self.modulus)\n",
    "        return NotImplemented\n",
    "    \n",
    "    def __mul__(self, other):\n",
    "        if isinstance(other, Mod) and self.modulus == other.modulus:\n",
    "            return Mod(self.value * other.value, self.modulus)\n",
    "        if isinstance(other, int):\n",
    "            return Mod(self.value * other, self.modulus)\n",
    "        return NotImplemented\n",
    "    \n",
    "    def __pow__(self, other):\n",
    "        if isinstance(other, Mod) and self.modulus == other.modulus:\n",
    "            return Mod(self.value ** other.value, self.modulus)\n",
    "        if isinstance(other, int):\n",
    "            return Mod(self.value ** (other % self.modulus), self.modulus)\n",
    "        return NotImplemented\n",
    "    \n",
    "    def __iadd__(self, other):\n",
    "        if isinstance(other, Mod) and self._modulus == other._modulus:\n",
    "            self._value = (self.value + other.value) % self.modulus\n",
    "            return self\n",
    "        if isinstance(other, int):\n",
    "            self._value = (self.value + other) % self.modulus\n",
    "            return self\n",
    "        return NotImplemented\n",
    "    \n",
    "    def __isub__(self):\n",
    "        if isinstance(other, Mod) and self._modulus == other._modulus:\n",
    "            self._value = (self.value - other.value) % self.modulus\n",
    "            return self\n",
    "        if isinstance(other, int):\n",
    "            self._value = (self.value - other) % self.modulus\n",
    "            return self\n",
    "        return NotImplemented\n",
    "    \n",
    "    def __imul__(self):\n",
    "        if isinstance(other, Mod) and self.modulus == other._modulus:\n",
    "            self._value = (self.value * other.value) % self.modulus \n",
    "            return self\n",
    "        if isinstance(other, int):\n",
    "            self._value = (self.value * other) % self.modulus\n",
    "            return self\n",
    "        return NotImplemented\n",
    "    \n",
    "    def __ipow__(self):\n",
    "        if isinstance(other, Mod) and self.modulus == other.modulus:\n",
    "            self._value = (self.value ** other.value) % self.modulus \n",
    "            return self\n",
    "        if isinstance(other, int):\n",
    "            self._value = (self.value ** (other % self.modulus)) % self.modulus\n",
    "            return self\n",
    "        return NotImplemented"
   ]
  },
  {
   "cell_type": "code",
   "execution_count": 2,
   "id": "6679cb53",
   "metadata": {},
   "outputs": [],
   "source": [
    "m1 = Mod(8, 3)\n",
    "m2 = Mod(9, 3)"
   ]
  },
  {
   "cell_type": "code",
   "execution_count": 3,
   "id": "a545a947",
   "metadata": {
    "scrolled": true
   },
   "outputs": [
    {
     "data": {
      "text/plain": [
       "2"
      ]
     },
     "execution_count": 3,
     "metadata": {},
     "output_type": "execute_result"
    }
   ],
   "source": [
    "int(m1)"
   ]
  },
  {
   "cell_type": "code",
   "execution_count": 4,
   "id": "7ea234a4",
   "metadata": {},
   "outputs": [
    {
     "data": {
      "text/plain": [
       "Mod(2, 3)"
      ]
     },
     "execution_count": 4,
     "metadata": {},
     "output_type": "execute_result"
    }
   ],
   "source": [
    "m1 + m2"
   ]
  },
  {
   "cell_type": "code",
   "execution_count": 5,
   "id": "97214807",
   "metadata": {},
   "outputs": [
    {
     "data": {
      "text/plain": [
       "Mod(1, 3)"
      ]
     },
     "execution_count": 5,
     "metadata": {},
     "output_type": "execute_result"
    }
   ],
   "source": [
    "m1 ** m2"
   ]
  },
  {
   "cell_type": "code",
   "execution_count": 6,
   "id": "f5c07be9",
   "metadata": {},
   "outputs": [
    {
     "data": {
      "text/plain": [
       "Mod(0, 3)"
      ]
     },
     "execution_count": 6,
     "metadata": {},
     "output_type": "execute_result"
    }
   ],
   "source": [
    "Mod(2, 3) * 18"
   ]
  },
  {
   "cell_type": "markdown",
   "id": "565c4ad4",
   "metadata": {},
   "source": [
    "> After refactoring"
   ]
  },
  {
   "cell_type": "code",
   "execution_count": 7,
   "id": "e3772d67",
   "metadata": {},
   "outputs": [],
   "source": [
    "from functools import total_ordering\n",
    "import operator"
   ]
  },
  {
   "cell_type": "code",
   "execution_count": 8,
   "id": "50b542c4",
   "metadata": {},
   "outputs": [],
   "source": [
    "@total_ordering\n",
    "class Mod:\n",
    "    \n",
    "    def __init__(self, value, modulus):\n",
    "        if not isinstance(value, int):\n",
    "            raise TypeError('Value must be an integer.')\n",
    "        if not isinstance(modulus, int):\n",
    "            raise TypeError('Modulus must be an integer.')\n",
    "        if modulus < 0:\n",
    "            raise ValueError('Modulus must be positive.')\n",
    "        \n",
    "        self._modulus = modulus\n",
    "        self._value = value % self._modulus\n",
    "        \n",
    "    @property\n",
    "    def value(self):\n",
    "        return self._value\n",
    "    \n",
    "    @property\n",
    "    def modulus(self):\n",
    "        return self._modulus\n",
    "    \n",
    "    def __repr__(self):\n",
    "        return 'Mod({}, {})'.format(self.value, self.modulus)\n",
    "    \n",
    "    def __int__(self):\n",
    "        return self.value\n",
    "    \n",
    "    def _get_value(self, other):\n",
    "        if isinstance(other, int):\n",
    "            return other % self.modulus\n",
    "        if isinstance(other, Mod) and self.modulus == other.modulus:\n",
    "            return other.value\n",
    "        raise TypeError('Incompatible types.')\n",
    "        \n",
    "    def _perform_operation(self, other, op, *, in_place=False):\n",
    "        other_value = self._get_value(other)\n",
    "        new_value = op(self.value, other_value)\n",
    "        if in_place:\n",
    "            self.value = new_value % self.modulus\n",
    "            return self\n",
    "        else:\n",
    "            return Mod(new_value, self.modulus)\n",
    "    \n",
    "    def __lt__(self, other):\n",
    "        try:\n",
    "            return self.value < _get_value(self, other)\n",
    "        except TypeError:\n",
    "            return NotImplemented\n",
    "    \n",
    "    def __eq__(self, other):\n",
    "        try:\n",
    "            return self.value == _get_value(self, other)\n",
    "        except TypeError:\n",
    "            return NotImplemented\n",
    "\n",
    "    def __hash__(self):\n",
    "        return hash((self.value, self.modulus))\n",
    "\n",
    "    def __add__(self, other):\n",
    "        return self._perform_operation(other, operator.add)\n",
    "    \n",
    "    def __sub__(self, other):\n",
    "        return self._perform_operation(other, operator.sub)\n",
    "    \n",
    "    def __mul__(self, other):\n",
    "        return self._perform_operation(other, operator.mul)\n",
    "    \n",
    "    def __pow__(self, other):\n",
    "        return self._perform_operation(other, operator.pow)\n",
    "    \n",
    "    def __iadd__(self, other):\n",
    "        return self._perform_operation(other, operator.add, in_place=True)\n",
    "    \n",
    "    def __isub__(self):\n",
    "        return self._perform_operation(other, operator.sub, in_place=True)\n",
    "    \n",
    "    def __imul__(self):\n",
    "        return self._perform_operation(other, operator.mul, in_place=True)\n",
    "    \n",
    "    def __ipow__(self):\n",
    "        return self._perform_operation(other, operator.pow, in_place=True)"
   ]
  },
  {
   "cell_type": "code",
   "execution_count": 9,
   "id": "4b0ae491",
   "metadata": {},
   "outputs": [],
   "source": [
    "m1 = Mod(8, 3)\n",
    "m2 = Mod(9, 3)"
   ]
  },
  {
   "cell_type": "code",
   "execution_count": 10,
   "id": "ec9e3ecd",
   "metadata": {
    "scrolled": true
   },
   "outputs": [
    {
     "data": {
      "text/plain": [
       "2"
      ]
     },
     "execution_count": 10,
     "metadata": {},
     "output_type": "execute_result"
    }
   ],
   "source": [
    "int(m1)"
   ]
  },
  {
   "cell_type": "code",
   "execution_count": 11,
   "id": "6a48ee0e",
   "metadata": {},
   "outputs": [
    {
     "data": {
      "text/plain": [
       "Mod(2, 3)"
      ]
     },
     "execution_count": 11,
     "metadata": {},
     "output_type": "execute_result"
    }
   ],
   "source": [
    "m1 + m2"
   ]
  },
  {
   "cell_type": "code",
   "execution_count": 12,
   "id": "8e0e9ba4",
   "metadata": {},
   "outputs": [
    {
     "data": {
      "text/plain": [
       "Mod(1, 3)"
      ]
     },
     "execution_count": 12,
     "metadata": {},
     "output_type": "execute_result"
    }
   ],
   "source": [
    "m1 ** m2"
   ]
  },
  {
   "cell_type": "code",
   "execution_count": 13,
   "id": "8ce0dbe7",
   "metadata": {},
   "outputs": [
    {
     "data": {
      "text/plain": [
       "Mod(0, 3)"
      ]
     },
     "execution_count": 13,
     "metadata": {},
     "output_type": "execute_result"
    }
   ],
   "source": [
    "Mod(2, 3) * 18"
   ]
  }
 ],
 "metadata": {
  "kernelspec": {
   "display_name": "Python 3",
   "language": "python",
   "name": "python3"
  },
  "language_info": {
   "codemirror_mode": {
    "name": "ipython",
    "version": 3
   },
   "file_extension": ".py",
   "mimetype": "text/x-python",
   "name": "python",
   "nbconvert_exporter": "python",
   "pygments_lexer": "ipython3",
   "version": "3.8.8"
  }
 },
 "nbformat": 4,
 "nbformat_minor": 5
}
