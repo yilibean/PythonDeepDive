{
 "cells": [
  {
   "cell_type": "markdown",
   "id": "923f8bc4",
   "metadata": {},
   "source": [
    "### Objective：\n",
    "\n",
    "Write an inventory application for computer builds. Basically there will be a pool of inventory (for example 5 x AMD Ryzen 2-2700 CPUs) that can be taken for use, to be added by purchasing or reduced by retiring."
   ]
  },
  {
   "cell_type": "markdown",
   "id": "94880b41",
   "metadata": {},
   "source": [
    "The base class is going to be a general `Resource`. This class should provide functionality common to all the actual resources (CPU, GPU, Memory, HDD, SSD) - for this exercise we're only going to implement CPU, HDD and SSD."
   ]
  },
  {
   "cell_type": "markdown",
   "id": "19be24d8",
   "metadata": {},
   "source": [
    "---\n",
    "### Functionalities and characteristics:"
   ]
  },
  {
   "cell_type": "markdown",
   "id": "38d8b9dc",
   "metadata": {},
   "source": [
    "It should provide these at a minimum:"
   ]
  },
  {
   "cell_type": "markdown",
   "id": "567fcd45",
   "metadata": {},
   "source": [
    "- `name`: user-friendly name of resource instance (e.g. `Intel Core i9-9900K`)\n",
    "- `manufacturer`: resource instance manufacturer (e.g. `Nvidia`)\n",
    "- `total`: inventory total (how many are in the inventory pool)\n",
    "- `allocated`: number allocated (how many are already in use)\n",
    "- a `__str__` representation that just returns the resource name\n",
    "- a mode detailed `__repr__` implementation\n",
    "- `claim(n)`: method to take n resources from the pool (as long as inventory is available)\n",
    "- `freeup(n)`: method to return n resources to the pool (e.g. disassembled some builds)\n",
    "- `died(n)`: method to return and permanently remove inventory from the pool (e.g. they broke something) - as long as total available allows it\n",
    "- `purchased(n)`: method to add inventory to the pool (e.g. they purchased a new CPU)\n",
    "- `category`: computed property that returns a lower case version of the class name"
   ]
  },
  {
   "cell_type": "markdown",
   "id": "863fa227",
   "metadata": {},
   "source": [
    "Next we are going to define child classes for each of CPU, HDD and SDD."
   ]
  },
  {
   "cell_type": "markdown",
   "id": "024634ef",
   "metadata": {},
   "source": [
    "For the `CPU` class:\n",
    "- `cores` (e.g. `8`)\n",
    "- `socket` (e.g. `AM4`)\n",
    "- `power_watts` (e.g. `94`)"
   ]
  },
  {
   "cell_type": "markdown",
   "id": "72f1c1a7",
   "metadata": {},
   "source": [
    "For the HDD and SDD classes, we should create an intermediate class called `Storage` with these additional properties:\n",
    "- `capacity_GB` (e.g. `120`)"
   ]
  },
  {
   "cell_type": "markdown",
   "id": "04f8d5a9",
   "metadata": {},
   "source": [
    "The `HDD` class extends `Storage` and has these additional properties:\n",
    "- `size` (e.g. ``2.5\"``)\n",
    "- `rpm` (e.g. `7000`)"
   ]
  },
  {
   "cell_type": "markdown",
   "id": "96dd8a21",
   "metadata": {},
   "source": [
    "The `SSD` class extends `Storage` and has these additional properties:\n",
    "- `interface` (e.g. `PCIe NVMe 3.0 x4`)"
   ]
  },
  {
   "cell_type": "markdown",
   "id": "2dff2183",
   "metadata": {},
   "source": [
    "For all your classes, implement a full constructor that can be used to initialize all the properties, some form of validation on numeric types, as well as customized `__repr__` as you see fit."
   ]
  },
  {
   "cell_type": "markdown",
   "id": "e91b5e3c",
   "metadata": {},
   "source": [
    "For the `total` and `allocated` values in the `Resource` init, think of the arguments there as the **current** total and allocated counts. Those `total` and `allocated` attributes should be private **read-only** properties, but they are modifiable through the various methods such as `claim`, `return`, `died` and `purchased`. Other attributes like `name`, `manufacturer_name`, etc. should be read-only."
   ]
  },
  {
   "cell_type": "markdown",
   "id": "eadc155c",
   "metadata": {},
   "source": [
    "---\n",
    "### Implementation: "
   ]
  },
  {
   "cell_type": "code",
   "execution_count": 1,
   "id": "206b5703",
   "metadata": {},
   "outputs": [],
   "source": [
    "import numbers\n",
    "import pytest"
   ]
  },
  {
   "cell_type": "markdown",
   "id": "d8fe7612",
   "metadata": {},
   "source": [
    "> Validation & Testing"
   ]
  },
  {
   "cell_type": "code",
   "execution_count": 2,
   "id": "898e14d0",
   "metadata": {},
   "outputs": [],
   "source": [
    "def validate_integer(arg_name, \n",
    "                     arg_value, \n",
    "                     min_value=None,\n",
    "                     max_value=None,\n",
    "                     custom_min_message=None,\n",
    "                     custom_max_message=None) -> None:\n",
    "    \"\"\"\n",
    "    Validates that `arg_value` is an interger, and optionally falled within specific bounds. \n",
    "    A custom override error message can be provided when min/max bounds are exceeded.\n",
    "\n",
    "    Args:\n",
    "        arg_name (str): the name of the argument (used in default error messages)\n",
    "        arg_value (obj): the value being validated\n",
    "        min_value (int): optional, specifies the minimum value (inclusive)\n",
    "        max_value (int): optional, specifies the maximum value (inclusive)\n",
    "        custom_min_message (str): optional, custom message when value is less than minimum\n",
    "        custom_max_message (str): optional, custom message when value is greater than maximum\n",
    "\n",
    "    Returns:\n",
    "        None: no expections raised if validation passes\n",
    "\n",
    "    Raises:\n",
    "        TypeError: if `arg_value` is not an integer\n",
    "        ValueError: if `arg_value` does not satisfy the bounds\n",
    "    \"\"\"\n",
    "    if not isinstance(arg_value, int):\n",
    "        raise TypeError('{} must be an integer.'.format(arg_name))\n",
    "\n",
    "    if min_value is not None and arg_value < min_value:\n",
    "        if custom_min_message is not None:\n",
    "            raise ValueError(custom_min_message)\n",
    "        raise ValueError('{} cannot be less than {}.'.format(arg_name, min_value))\n",
    "\n",
    "    if max_value is not None and arg_value > max_value:\n",
    "        if custom_max_message is not None:\n",
    "            raise ValueError(custom_max_message)\n",
    "        raise ValueError('{} cannot be greater than {}.'.format(arg_name, max_value))"
   ]
  },
  {
   "cell_type": "code",
   "execution_count": 3,
   "id": "e173eee0",
   "metadata": {},
   "outputs": [],
   "source": [
    "class TestIntegerValidator:\n",
    "    \n",
    "    def test_valid(self):\n",
    "        validate_integer('arg', 10, min_value=0, max_value=20)\n",
    "        \n",
    "    def test_type_error(self):\n",
    "        with pytest.raises(TypeError):\n",
    "            validate_integer(1.5)\n",
    "            \n",
    "    def test_min_std_error_msg(self):\n",
    "        with pytest.raises(ValueError) as ex:\n",
    "            validate_integer('arg', 10, 100)\n",
    "        assert 'arg' in str(ex.value)\n",
    "        assert '100' in str(ex.value)\n",
    "    \n",
    "    def test_min_custom_error_msg(self):\n",
    "        with pytest.raises(ValueError) as ex:\n",
    "            validate_integer('arg', 10, 100, custom_min_message='custom_min_message')\n",
    "        assert str(ex.value) == 'custom_min_message'\n",
    "        \n",
    "    def test_max_std_error_msg(self):\n",
    "        with pytest.raises(ValueError) as ex:\n",
    "            validate_integer('arg', 10, 0, 5)\n",
    "        assert 'arg' in str(ex.value)\n",
    "        assert '5' in str(ex.value)\n",
    "    \n",
    "    def test_max_custom_error_msg(self):\n",
    "        with pytest.raises(ValueError) as ex:\n",
    "            validate_integer('arg', 10, 0, 5, custom_max_message='custom_max_message')\n",
    "        assert str(ex.value) == 'custom_max_message'"
   ]
  },
  {
   "cell_type": "code",
   "execution_count": 4,
   "id": "f370a72c",
   "metadata": {},
   "outputs": [],
   "source": [
    "tester = TestIntegerValidator()\n",
    "tester.test_valid()\n",
    "tester.test_type_error()\n",
    "tester.test_min_std_error_msg()\n",
    "tester.test_min_custom_error_msg()\n",
    "tester.test_max_std_error_msg()\n",
    "tester.test_max_custom_error_msg()"
   ]
  },
  {
   "cell_type": "markdown",
   "id": "23b0ee4b",
   "metadata": {},
   "source": [
    "> Inventory classes (refer to the course instruction for testing part)"
   ]
  },
  {
   "cell_type": "code",
   "execution_count": 5,
   "id": "082e0439",
   "metadata": {},
   "outputs": [],
   "source": [
    "class Resource:\n",
    "    \"\"\"\n",
    "    Base class for resources.\n",
    "    \"\"\"\n",
    "    def __init__(self, name, manufacturer, total, allocated):\n",
    "        \"\"\"\n",
    "        \n",
    "        Args:\n",
    "            name (str): name of the resource\n",
    "            manufacturer (str): resource manufacturer\n",
    "            total (int): current total amount of resources\n",
    "            allocated (int): current amount of in-use resources (cannot exceed `total`)\n",
    "        \"\"\"\n",
    "        self._name = name\n",
    "        self._manufacturer = manufacturer\n",
    "        \n",
    "        validate_integer('total', total, min_value=0)\n",
    "        self._total = total\n",
    "        \n",
    "        validate_integer('allocated', allocated, min_value=0, max_value=self._total, \n",
    "                         custom_max_message='Allocated inventory cannot exceed total inventory.')\n",
    "        self._allocated = allocated\n",
    "    \n",
    "    @property # getter\n",
    "    def name(self):\n",
    "        return self._name\n",
    "    \n",
    "    @property\n",
    "    def manufacturer(self):\n",
    "        return self._manufacturer\n",
    "    \n",
    "    @property\n",
    "    def total(self):\n",
    "        return self._total\n",
    "    \n",
    "    @property\n",
    "    def allocated(self):\n",
    "        return self._allocated\n",
    "    \n",
    "    @property\n",
    "    def category(self):\n",
    "        return type(self).__name__.lower()\n",
    "    \n",
    "    @property\n",
    "    def available(self):\n",
    "        return self._total - self._allocated\n",
    "    \n",
    "    def __str__(self):\n",
    "        return self.name\n",
    "    \n",
    "    def __repr__(self):\n",
    "        return '(Name: {} (Category: {}, Manufacturer: {}), \\n Total Inventory: {}, \\n Allocated Inventory: {})'\\\n",
    "                .format(self.name,\n",
    "                        self.category,\n",
    "                        self.manufacturer,\n",
    "                        self.total,\n",
    "                        self.allocated)\n",
    "    \n",
    "    def claim(self, num):\n",
    "        \"\"\"\n",
    "        Claim `num` amount of inventory items to be taken for use (if available).\n",
    "        \n",
    "        Args:\n",
    "            num (int): number of inventory items to claim\n",
    "        Returns:\n",
    "            None\n",
    "        \"\"\"\n",
    "        validate_integer('num', num, 1, self.available, custom_max_message='Cannot claim more than available resources.')\n",
    "        self._allocated += num\n",
    "                \n",
    "    \n",
    "    def freeup(self):\n",
    "        \"\"\"\n",
    "        Free up `num` amount of inventory items to the pool.\n",
    "        \n",
    "        Args:\n",
    "            num (int): number of inventory items to return\n",
    "        \n",
    "        Returns:\n",
    "            None\n",
    "        \"\"\"\n",
    "        validate_integer('num', num, 1, self.allocated, custom_max_message='Cannot freeup more than allocated resources.')\n",
    "        self._allocated -= num\n",
    "    \n",
    "    def died(self):\n",
    "        \"\"\"\n",
    "        Remove `num` amount of died resources from the inventory pool.\n",
    "        \n",
    "        Args:\n",
    "            num (int): number of inventory items that have died\n",
    "            \n",
    "        Returns:\n",
    "            None\n",
    "        \"\"\"\n",
    "        validate_integer('num', num, 1, self.allocated, custom_max_message='Cannot retire more than allocated.')\n",
    "        self._total -= num\n",
    "        self._allocated -= num\n",
    "\n",
    "\n",
    "    def purchased(self, num):\n",
    "        \"\"\"\n",
    "        Add `num` amount of new inventory items.\n",
    "        \n",
    "        Args:\n",
    "            num (int): number of inventory items to add to the pool\n",
    "            \n",
    "        Returns:\n",
    "            None\n",
    "        \"\"\"\n",
    "        validate_integer('num', num, 1)\n",
    "        self._total += num"
   ]
  },
  {
   "cell_type": "code",
   "execution_count": 6,
   "id": "050526f6",
   "metadata": {},
   "outputs": [],
   "source": [
    "class CPU(Resource):\n",
    "    \"\"\"\n",
    "    Resource subclass used to track specific CPU inventory pools.\n",
    "    \"\"\"\n",
    "    \n",
    "    def __init__(self, name, manufacturer, total, allocated, cores, socket, power_watts):\n",
    "        super().__init__(name, manufacturer, total, allocated)\n",
    "        \n",
    "        validate_integer('cores', cores, 1)\n",
    "        self._cores = cores\n",
    "        self._socket = socket\n",
    "        validate_integer('power_watts', power_watts, 1)\n",
    "        self._power_watts = power_watts\n",
    "        \n",
    "    @property\n",
    "    def cores(self):\n",
    "        \"\"\"\n",
    "        Number of cores.\n",
    "        \"\"\"\n",
    "        return self._cores\n",
    "    \n",
    "    @property\n",
    "    def socket(self):\n",
    "        \"\"\"\n",
    "        Socket type of this CPU.\n",
    "        \"\"\"\n",
    "        return self._socket\n",
    "    \n",
    "    @property\n",
    "    def power_watts(self):\n",
    "        \"\"\"\n",
    "        Power watts of this CPU\n",
    "        \"\"\"\n",
    "        return self._power_watts\n",
    "    \n",
    "    def __repr__(self):\n",
    "        return '{}: (CPU Cores: {}, CPU Socket: {}, CPU Powerwatts: {})'.format(self.category,\n",
    "                                                                                self.cores,\n",
    "                                                                                self.socket,\n",
    "                                                                                self.power_watts)"
   ]
  },
  {
   "cell_type": "code",
   "execution_count": 7,
   "id": "5b150351",
   "metadata": {},
   "outputs": [],
   "source": [
    "class Storage(Resource):\n",
    "    \"\"\"\n",
    "    A base class for storage devices\n",
    "    \"\"\"\n",
    "    \n",
    "    def __init__(self, name, manufacturer, total, allocated, capacity_gb):\n",
    "        super().__init__(name, manufacturer, total, allocated)\n",
    "        \n",
    "        validate_integer('capacity_gb', capacity_gb, 1)\n",
    "        self._capacity_gb = capacity_gb\n",
    "\n",
    "    @property\n",
    "    def capacity_gb(self):\n",
    "        \"\"\"\n",
    "        Indicates the capacity (in GB) of the storage device\n",
    "        \"\"\"\n",
    "        return self._capacity_gb\n",
    "\n",
    "    def __repr__(self):\n",
    "        return '{}: {} GB'.format(self.category, self.capacity_gb)"
   ]
  },
  {
   "cell_type": "code",
   "execution_count": 8,
   "id": "0734734b",
   "metadata": {},
   "outputs": [],
   "source": [
    "class HDD(Storage):\n",
    "    \"\"\"\n",
    "    Class used for HDD type resources\n",
    "    \"\"\"\n",
    "    def __init__(self, name, manufacturer, total, allocated, capacity_gb, size, rpm):\n",
    "        super().__init__(name, manufacturer, total, allocated, capacity_gb)\n",
    "\n",
    "        allowed_sizes = ['2.5\"', '3.5\"']\n",
    "        if size not in allowed_sizes:\n",
    "            raise ValueError(f'Invalid HDD size. '\n",
    "                             f'Must be one of {\", \".join(allowed_sizes)}')\n",
    "        validate_integer('rpm', rpm, min_value=1_000, max_value=50_000)\n",
    "        self._size = size\n",
    "        self._rpm = rpm\n",
    "\n",
    "    @property\n",
    "    def size(self):\n",
    "        \"\"\"\n",
    "        The HDD size (2.5\" / 3.5\")\n",
    "        \"\"\"\n",
    "        return self._size\n",
    "\n",
    "    @property\n",
    "    def rpm(self):\n",
    "        \"\"\"\n",
    "        The HDD spin speed (rpm)\n",
    "        \"\"\"\n",
    "        return self._rpm\n",
    "\n",
    "    def __repr__(self):\n",
    "        s = super().__repr__()\n",
    "        return f'{s} ({self.size}, {self.rpm} rpm)'"
   ]
  },
  {
   "cell_type": "code",
   "execution_count": 9,
   "id": "5607ac2e",
   "metadata": {},
   "outputs": [],
   "source": [
    "class SSD(Storage):\n",
    "    \"\"\"\n",
    "    Class used for SSD type resources\n",
    "    \"\"\"\n",
    "    def __init__(self, name, manufacturer, total, allocated, capacity_gb, interface):\n",
    "        super().__init__(name, manufacturer, total, allocated, capacity_gb)\n",
    "\n",
    "        self._interface = interface\n",
    "\n",
    "    @property\n",
    "    def interface(self):\n",
    "        \"\"\"\n",
    "        Interface used by SSD (e.g. PCIe NVMe 3.0 x4)\n",
    "        \"\"\"\n",
    "        return self._interface\n",
    "\n",
    "    def __repr__(self):\n",
    "        s = super().__repr__()\n",
    "        return f'{s} ({self.interface})'"
   ]
  }
 ],
 "metadata": {
  "kernelspec": {
   "display_name": "Python 3",
   "language": "python",
   "name": "python3"
  },
  "language_info": {
   "codemirror_mode": {
    "name": "ipython",
    "version": 3
   },
   "file_extension": ".py",
   "mimetype": "text/x-python",
   "name": "python",
   "nbconvert_exporter": "python",
   "pygments_lexer": "ipython3",
   "version": "3.8.8"
  }
 },
 "nbformat": 4,
 "nbformat_minor": 5
}
