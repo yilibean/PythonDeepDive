{
 "cells": [
  {
   "cell_type": "markdown",
   "id": "915ff8f4",
   "metadata": {},
   "source": [
    "## Metaprogramming\n",
    "\n",
    "- [**The \\_\\_new\\_\\_ Method**](#the_new_method)\n",
    "- [**Creation of Classes**](#creation_of_classes)\n",
    "- [**Metaclasses**](#metaclasses)\n",
    "- [**Metaclass Parameters**](#metaclass_parameters)\n",
    "- [**Class Decorators**](#class_decorators)\n",
    "- [**Metaclasses vs. Class Decorators**](#metaclasses_class_decorators)\n",
    "- [**Decorator Classes**](#decorator_classes)\n",
    "- [**The \\_\\_prepare\\_\\_ Method**](#the_prepare_method)"
   ]
  },
  {
   "cell_type": "markdown",
   "id": "79c22793",
   "metadata": {},
   "source": [
    "---\n",
    "\n",
    "### The \\_\\_new\\_\\_ Method <a name='the_new_method'></a>"
   ]
  },
  {
   "cell_type": "markdown",
   "id": "f69c7d29",
   "metadata": {},
   "source": [
    "`__new__` method is called during creation of instances of any class (which is implemented by default in `object` class). The workflow of creating an instance is:\n",
    "* \\_\\_new\\_\\_ method is called as creating a new instance of a class.\n",
    "* Arguments passed into the \\_\\_new\\_\\_ method are ignored and then \\_\\_init\\_\\_ method is called with these arguments passed in (note that the type of \\_\\_new\\_\\_ method and \\_\\_init\\_\\_ method must match, otherwise \\_\\_init\\_\\_ will not be called)."
   ]
  },
  {
   "cell_type": "code",
   "execution_count": 1,
   "id": "c4ec496d",
   "metadata": {},
   "outputs": [],
   "source": [
    "class Point:\n",
    "    def __init__(self, x, y):\n",
    "        self.x = x\n",
    "        self.y = y"
   ]
  },
  {
   "cell_type": "code",
   "execution_count": 2,
   "id": "d309cddb",
   "metadata": {},
   "outputs": [
    {
     "name": "stdout",
     "output_type": "stream",
     "text": [
      "<class '__main__.Point'>\n",
      "{}\n"
     ]
    }
   ],
   "source": [
    "# Call __new__ directly\n",
    "p = object.__new__(Point)\n",
    "print(type(p))\n",
    "print(p.__dict__)"
   ]
  },
  {
   "cell_type": "code",
   "execution_count": 3,
   "id": "39a176cd",
   "metadata": {},
   "outputs": [
    {
     "name": "stdout",
     "output_type": "stream",
     "text": [
      "{'x': 2, 'y': 7}\n"
     ]
    }
   ],
   "source": [
    "p.__init__(2, 7)\n",
    "print(p.__dict__)"
   ]
  },
  {
   "cell_type": "markdown",
   "id": "2d11fa8a",
   "metadata": {},
   "source": [
    "`__new__` is static, and it is possible to override `__new__` method."
   ]
  },
  {
   "cell_type": "code",
   "execution_count": 4,
   "id": "9e1ebd13",
   "metadata": {},
   "outputs": [],
   "source": [
    "class Person:\n",
    "    def __new__(cls):\n",
    "        print('Person class instantiating...')\n",
    "        instance = super().__new__(cls)\n",
    "        \n",
    "        return instance"
   ]
  },
  {
   "cell_type": "code",
   "execution_count": 5,
   "id": "e00d0fdc",
   "metadata": {},
   "outputs": [
    {
     "name": "stdout",
     "output_type": "stream",
     "text": [
      "Person class instantiating...\n"
     ]
    }
   ],
   "source": [
    "p = Person()"
   ]
  },
  {
   "cell_type": "markdown",
   "id": "c0b76f39",
   "metadata": {},
   "source": [
    "---\n",
    "\n",
    "### Creation of Classes <a name='creation_of_classes'></a>"
   ]
  },
  {
   "cell_type": "markdown",
   "id": "c5d8482a",
   "metadata": {},
   "source": [
    "Classes are created as instances of `type` class, where **class_name**, **class_bases** and **class_dict** are needed:\n",
    "* class_name: name of class\n",
    "* class_base: class bases that the class inherits from\n",
    "* class_dict: namespace containing all the objects inside the class"
   ]
  },
  {
   "cell_type": "code",
   "execution_count": 6,
   "id": "6c092b3a",
   "metadata": {},
   "outputs": [],
   "source": [
    "import math"
   ]
  },
  {
   "cell_type": "code",
   "execution_count": 7,
   "id": "1e829dd9",
   "metadata": {},
   "outputs": [],
   "source": [
    "class_name = 'Circle'\n",
    "class_body = \"\"\"\n",
    "def __init__(self, x, y, r):\n",
    "    self.x = x\n",
    "    self.y = y\n",
    "    self.r = r\n",
    "    \n",
    "def area(self):\n",
    "    return math.pi * self.r**2\n",
    "\"\"\"\n",
    "class_bases = () # Circle class does not inherit from any class other than `object`\n",
    "class_dict = {}"
   ]
  },
  {
   "cell_type": "code",
   "execution_count": 8,
   "id": "c085f380",
   "metadata": {},
   "outputs": [],
   "source": [
    "exec(class_body, globals(), class_dict)\n",
    "# Create a class\n",
    "Circle = type(class_name, class_bases, class_dict)"
   ]
  },
  {
   "cell_type": "markdown",
   "id": "629e12d6",
   "metadata": {},
   "source": [
    "---\n",
    "\n",
    "### Metaclasses <a name='metaclasses'></a>"
   ]
  },
  {
   "cell_type": "markdown",
   "id": "898dfc82",
   "metadata": {},
   "source": [
    "`type` is by default used as metaclass when creating classes, by overriding `type`, one can use customized metaclass to control creating classes."
   ]
  },
  {
   "cell_type": "markdown",
   "id": "ec628071",
   "metadata": {},
   "source": [
    "* Default scenario:"
   ]
  },
  {
   "cell_type": "code",
   "execution_count": 9,
   "id": "bf2746e2",
   "metadata": {},
   "outputs": [],
   "source": [
    "class Circle(metaclass=type):\n",
    "    def __init__(self, x, y, r):\n",
    "        self.x = x\n",
    "        self.y = y \n",
    "        self.r = r\n",
    "        \n",
    "    def area(self):\n",
    "        return math.pi * self.r**2"
   ]
  },
  {
   "cell_type": "markdown",
   "id": "5a5dd178",
   "metadata": {},
   "source": [
    "* Customized metaclass scenario:"
   ]
  },
  {
   "cell_type": "code",
   "execution_count": 10,
   "id": "76952dd3",
   "metadata": {},
   "outputs": [],
   "source": [
    "class CustomType(type):\n",
    "    def __new__(mcls, class_name, class_bases, class_dict):\n",
    "        print(f'Using custom metaclass {mcls} to create class {class_name}.')\n",
    "        cls_obj = super().__new__(mcls, class_name, class_bases, class_dict)\n",
    "        cls_obj.circumference = lambda self: 2 * math.pi * self.r\n",
    "        return cls_obj"
   ]
  },
  {
   "cell_type": "code",
   "execution_count": 11,
   "id": "de9e072e",
   "metadata": {},
   "outputs": [
    {
     "name": "stdout",
     "output_type": "stream",
     "text": [
      "Using custom metaclass <class '__main__.CustomType'> to create class CircleWithCustomType.\n"
     ]
    }
   ],
   "source": [
    "class CircleWithCustomType(metaclass=CustomType):\n",
    "    def __init__(self, x, y, r):\n",
    "        self.x = x\n",
    "        self.y = y \n",
    "        self.r = r\n",
    "        \n",
    "    def area(self):\n",
    "        return math.pi * self.r**2"
   ]
  },
  {
   "cell_type": "code",
   "execution_count": 12,
   "id": "a6ff8d43",
   "metadata": {},
   "outputs": [
    {
     "name": "stdout",
     "output_type": "stream",
     "text": [
      "Area: 3.141592653589793\n",
      "Circumference: 6.283185307179586\n"
     ]
    }
   ],
   "source": [
    "c = CircleWithCustomType(0, 0, 1)\n",
    "print(f'Area: {c.area()}')\n",
    "print(f'Circumference: {c.circumference()}')"
   ]
  },
  {
   "cell_type": "markdown",
   "id": "c7466e37",
   "metadata": {},
   "source": [
    "---\n",
    "\n",
    "### Metaclass Parameters <a name='metaclass_parameters'></a>"
   ]
  },
  {
   "cell_type": "markdown",
   "id": "23e6a67c",
   "metadata": {},
   "source": [
    "Metaclass can be parameterized, one just needs to note that the arguments being passed in should be named arguments."
   ]
  },
  {
   "cell_type": "code",
   "execution_count": 13,
   "id": "3be95121",
   "metadata": {},
   "outputs": [],
   "source": [
    "class MetaClass(type):\n",
    "    def __new__(mcls, name, bases, cls_dict, arg1, arg2, arg3=None):\n",
    "        print(arg1, arg2, arg3)\n",
    "        return super().__new__(mcls, name, bases, cls_dict)"
   ]
  },
  {
   "cell_type": "code",
   "execution_count": 14,
   "id": "2ec78f19",
   "metadata": {},
   "outputs": [
    {
     "name": "stdout",
     "output_type": "stream",
     "text": [
      "1 2 None\n"
     ]
    }
   ],
   "source": [
    "class MyClass(metaclass=MetaClass, arg1=1, arg2=2):\n",
    "    pass"
   ]
  },
  {
   "cell_type": "markdown",
   "id": "8ba51b1b",
   "metadata": {},
   "source": [
    "---\n",
    "\n",
    "### Class Decorators <a name='class_decorators'></a>"
   ]
  },
  {
   "cell_type": "markdown",
   "id": "f0513cc8",
   "metadata": {},
   "source": [
    "Controlling class with metaclass is sometimes an overkill, and general functionalities can also be realized using class decorators and the implementation is very similar to decorating functions."
   ]
  },
  {
   "cell_type": "code",
   "execution_count": 15,
   "id": "61fc52a6",
   "metadata": {},
   "outputs": [],
   "source": [
    "def class_logger(cls):\n",
    "    print(f'Log: {cls.__name__} called.')"
   ]
  },
  {
   "cell_type": "code",
   "execution_count": 16,
   "id": "e74d4fe8",
   "metadata": {},
   "outputs": [
    {
     "name": "stdout",
     "output_type": "stream",
     "text": [
      "Log: Person called.\n"
     ]
    }
   ],
   "source": [
    "@class_logger\n",
    "class Person:\n",
    "    def __init__(self, name):\n",
    "        self.name = name"
   ]
  },
  {
   "cell_type": "markdown",
   "id": "7ce30652",
   "metadata": {},
   "source": [
    "Class decorators can also be parameterized."
   ]
  },
  {
   "cell_type": "code",
   "execution_count": 17,
   "id": "b91fd8c8",
   "metadata": {},
   "outputs": [],
   "source": [
    "def wrapper(name):\n",
    "    def class_logger(cls):\n",
    "        cls.name = name\n",
    "        print(f'{cls.__name__} name: {cls.name}')\n",
    "        return cls\n",
    "    return class_logger"
   ]
  },
  {
   "cell_type": "code",
   "execution_count": 18,
   "id": "6650e2e8",
   "metadata": {},
   "outputs": [
    {
     "name": "stdout",
     "output_type": "stream",
     "text": [
      "Person name: Taylor\n"
     ]
    }
   ],
   "source": [
    "@wrapper(\"Taylor\")\n",
    "class Person:\n",
    "    def __init__(self, name):\n",
    "        self.name = name"
   ]
  },
  {
   "cell_type": "markdown",
   "id": "db8ba761",
   "metadata": {},
   "source": [
    "---\n",
    "\n",
    "### Metaclasses vs. Class Decorators <a name='metaclasses_class_decorators'></a>"
   ]
  },
  {
   "cell_type": "markdown",
   "id": "5010982d",
   "metadata": {},
   "source": [
    "> Metaclasses:\n",
    "> 1. Pros:\n",
    ">   * Subclasses can inherit parent metaclass\n",
    "> 2. Cons:\n",
    ">   * Harder to understand\n",
    ">   * Can only specify a single metaclass"
   ]
  },
  {
   "cell_type": "markdown",
   "id": "44078006",
   "metadata": {},
   "source": [
    "> Class decorators:\n",
    "> 1. Pros:\n",
    ">   * More intuitive\n",
    ">   * Decorators can be stacked\n",
    "> 2. Cons:\n",
    ">   * Subclasses cannot inherit decorator"
   ]
  },
  {
   "cell_type": "markdown",
   "id": "c1e508b9",
   "metadata": {},
   "source": [
    "---\n",
    "\n",
    "### Decorator Classes <a name='decorator_classes'></a>"
   ]
  },
  {
   "cell_type": "markdown",
   "id": "0ad1eafa",
   "metadata": {},
   "source": [
    "Instead of using a function to decorate, one can also use class for decoration by making the class callable via `__call__` method. The difference is when using function to decorate, the decorated object will also be a function; however using decorator class to decorate will give back an instance of the class."
   ]
  },
  {
   "cell_type": "code",
   "execution_count": 19,
   "id": "97ce81d0",
   "metadata": {},
   "outputs": [],
   "source": [
    "from functools import wraps\n",
    "\n",
    "def logger(fn):\n",
    "    @wraps(fn)\n",
    "    def wrapper(*args, **kwargs):\n",
    "        print(f'Log: {fn.__name__} called.')\n",
    "        return fn(*args, **kwargs)\n",
    "    return wrapper"
   ]
  },
  {
   "cell_type": "code",
   "execution_count": 20,
   "id": "a8a6d206",
   "metadata": {},
   "outputs": [],
   "source": [
    "class Logger:\n",
    "    def __init__(self, fn):\n",
    "        self.fn = fn\n",
    "    def __call__(self, *args, **kwargs):\n",
    "        print(f'Log: {self.fn.__name__} called.')\n",
    "        return self.fn(*args, **kwargs)"
   ]
  },
  {
   "cell_type": "code",
   "execution_count": 21,
   "id": "9d0ec996",
   "metadata": {},
   "outputs": [
    {
     "name": "stdout",
     "output_type": "stream",
     "text": [
      "Log: say_hello called.\n"
     ]
    }
   ],
   "source": [
    "@logger\n",
    "def say_hello():\n",
    "    pass\n",
    "say_hello()"
   ]
  },
  {
   "cell_type": "code",
   "execution_count": 22,
   "id": "4ccc3b06",
   "metadata": {},
   "outputs": [
    {
     "name": "stdout",
     "output_type": "stream",
     "text": [
      "Log: say_hi called.\n"
     ]
    }
   ],
   "source": [
    "@Logger\n",
    "def say_hi():\n",
    "    pass\n",
    "say_hi()"
   ]
  },
  {
   "cell_type": "markdown",
   "id": "e8db9d13",
   "metadata": {},
   "source": [
    "---\n",
    "\n",
    "### The \\_\\_prepare\\_\\_ Method <a name='the_prepare_method'></a>"
   ]
  },
  {
   "cell_type": "markdown",
   "id": "42960dde",
   "metadata": {},
   "source": [
    "`__prepare__` method is used to prepare class namespace dictionary which is then passed to `__new__` method."
   ]
  },
  {
   "cell_type": "code",
   "execution_count": 23,
   "id": "ab93372e",
   "metadata": {},
   "outputs": [],
   "source": [
    "class MyMeta(type):\n",
    "    @staticmethod\n",
    "    def __prepare__(name, bases, **kwargs):\n",
    "        print('Calling MyMeta.__prepare__...')\n",
    "        print('\\tname:', name)\n",
    "        print('\\tbases:', bases)\n",
    "        print('\\tkwargs:', kwargs)\n",
    "        return {'a': 100, 'b': 200}\n",
    "    \n",
    "    @staticmethod\n",
    "    def __new__(mcls, name, bases, cls_dict, **kwargs):\n",
    "        print('Calling MyMeta.__new__')\n",
    "        print('\\tmcls:', mcls, type(mcls))\n",
    "        print('\\tname:', name, type(name))\n",
    "        print('\\tbases:', bases, type(bases))\n",
    "        print('\\tcls_dict:', cls_dict, type(cls_dict))\n",
    "        print('\\tkwargs:', kwargs)\n",
    "        return super().__new__(mcls, name, bases, cls_dict)"
   ]
  },
  {
   "cell_type": "code",
   "execution_count": 24,
   "id": "7365edda",
   "metadata": {},
   "outputs": [
    {
     "name": "stdout",
     "output_type": "stream",
     "text": [
      "Calling MyMeta.__prepare__...\n",
      "\tname: MyClass\n",
      "\tbases: ()\n",
      "\tkwargs: {'kw1': 1, 'kw2': 2}\n",
      "Calling MyMeta.__new__\n",
      "\tmcls: <class '__main__.MyMeta'> <class 'type'>\n",
      "\tname: MyClass <class 'str'>\n",
      "\tbases: () <class 'tuple'>\n",
      "\tcls_dict: {'a': 100, 'b': 200, '__module__': '__main__', '__qualname__': 'MyClass'} <class 'dict'>\n",
      "\tkwargs: {'kw1': 1, 'kw2': 2}\n"
     ]
    }
   ],
   "source": [
    "class MyClass(metaclass=MyMeta, kw1=1, kw2=2):\n",
    "    pass"
   ]
  }
 ],
 "metadata": {
  "kernelspec": {
   "display_name": "Python 3",
   "language": "python",
   "name": "python3"
  },
  "language_info": {
   "codemirror_mode": {
    "name": "ipython",
    "version": 3
   },
   "file_extension": ".py",
   "mimetype": "text/x-python",
   "name": "python",
   "nbconvert_exporter": "python",
   "pygments_lexer": "ipython3",
   "version": "3.8.8"
  }
 },
 "nbformat": 4,
 "nbformat_minor": 5
}
