{
 "cells": [
  {
   "cell_type": "markdown",
   "id": "22827385",
   "metadata": {},
   "source": [
    "### Objective:\n",
    "\n",
    "Define an enumeration class `AppException` to generate exceptions."
   ]
  },
  {
   "cell_type": "markdown",
   "id": "b6327609",
   "metadata": {},
   "source": [
    "---\n",
    "\n",
    "### Functionalities:\n",
    "\n",
    "A single enumeration `AppException` where one can:\n",
    "\n",
    "* Raise consistent exception types that each exception has:\n",
    "    * name\n",
    "    * code\n",
    "    * default message\n",
    "    * associated exception type\n",
    "* Look up exception name or code\n",
    "* Use function `throw` to raise an exception\n",
    "* Override default message when throwing exception if needed"
   ]
  },
  {
   "cell_type": "markdown",
   "id": "04f765c8",
   "metadata": {},
   "source": [
    "---\n",
    "\n",
    "### Implementation:"
   ]
  },
  {
   "cell_type": "code",
   "execution_count": 1,
   "id": "7e0b7d08",
   "metadata": {},
   "outputs": [],
   "source": [
    "import enum"
   ]
  },
  {
   "cell_type": "code",
   "execution_count": 2,
   "id": "fdd555f8",
   "metadata": {},
   "outputs": [],
   "source": [
    "class GenericException(Exception):\n",
    "    pass\n",
    "\n",
    "class Timeout(Exception):\n",
    "    pass"
   ]
  },
  {
   "cell_type": "code",
   "execution_count": 3,
   "id": "dee3b98e",
   "metadata": {},
   "outputs": [],
   "source": [
    "@enum.unique\n",
    "class AppException(enum.Enum):\n",
    "    \n",
    "    Generic = (100, GenericException, 'Application generic exception')\n",
    "    Timeout = (101, Timeout, 'Timeout connecting to resource')\n",
    "    NotAnInteger = (200, ValueError, 'Value must be an integer')\n",
    "    NotABoolean = (201, ValueError, 'Value must be a boolean')\n",
    "    \n",
    "    def __new__(cls, exception_code, exception_class, exception_message):\n",
    "        member = object.__new__(cls)\n",
    "        \n",
    "        member._value_ = exception_code\n",
    "        member.exception = exception_class\n",
    "        member.message = exception_message\n",
    "        return member\n",
    "    \n",
    "    def throw(self, message=None):\n",
    "        message = message or self.message\n",
    "        raise self.exception(f'{self._value_} - {message}')"
   ]
  },
  {
   "cell_type": "code",
   "execution_count": 4,
   "id": "b18d6571",
   "metadata": {},
   "outputs": [
    {
     "name": "stdout",
     "output_type": "stream",
     "text": [
      "101 - Timeout connecting to resource\n"
     ]
    }
   ],
   "source": [
    "try:\n",
    "    AppException.Timeout.throw()\n",
    "except Exception as ex:\n",
    "    print(ex)"
   ]
  }
 ],
 "metadata": {
  "kernelspec": {
   "display_name": "Python 3",
   "language": "python",
   "name": "python3"
  },
  "language_info": {
   "codemirror_mode": {
    "name": "ipython",
    "version": 3
   },
   "file_extension": ".py",
   "mimetype": "text/x-python",
   "name": "python",
   "nbconvert_exporter": "python",
   "pygments_lexer": "ipython3",
   "version": "3.8.8"
  }
 },
 "nbformat": 4,
 "nbformat_minor": 5
}
