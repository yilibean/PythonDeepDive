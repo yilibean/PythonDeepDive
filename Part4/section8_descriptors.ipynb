{
 "cells": [
  {
   "cell_type": "markdown",
   "id": "915ff8f4",
   "metadata": {},
   "source": [
    "## Descriptors\n",
    "\n",
    "- [**Descriptors**](#descriptors)\n",
    "- [**Getters and Setters**](#getters_and_setters)\n",
    "- [**Strong and Weak References**](#strong_and_weak_references)\n",
    "- [**Using as Instance Properties**](#using_as_instance_properties)\n",
    "- [**The \\_\\_set\\_name\\_\\_ Method**](#the_set_name_method)\n",
    "- [**Property Lookup Resolution**](#property_lookup_resolution)\n",
    "- [**Properties and Descriptors**](#properties_and_descriptors)\n",
    "- [**Functions and Descriptors**](#functions_and_descriptors)"
   ]
  },
  {
   "cell_type": "markdown",
   "id": "79c22793",
   "metadata": {},
   "source": [
    "---\n",
    "\n",
    "### Descriptors <a name='descriptors'></a>"
   ]
  },
  {
   "cell_type": "markdown",
   "id": "2679c850",
   "metadata": {},
   "source": [
    "Descriptors are Python objects that implement at least one of the methods of `descriptor protocol`:\n",
    "\n",
    "* \\_\\_get\\_\\_(self, obj, type=None) -> object\n",
    "* \\_\\_set\\_\\_(self, obj, value) -> None\n",
    "* \\_\\_delete\\_\\_(self, obj) -> None\n",
    "* \\_\\_set_name\\_\\_(self, owner, name)\n",
    "\n",
    "And they can be used to control accessing properties."
   ]
  },
  {
   "cell_type": "markdown",
   "id": "6e1a6191",
   "metadata": {},
   "source": [
    "* For those that implement `__get__` only -> non-data descriptors\n",
    "* For those that implement `__set__` or `__delete__` -> data descriptors"
   ]
  },
  {
   "cell_type": "markdown",
   "id": "34d772af",
   "metadata": {},
   "source": [
    "> Example 1: Show that descriptors can be called on both class and instance level"
   ]
  },
  {
   "cell_type": "code",
   "execution_count": 1,
   "id": "390cf6a6",
   "metadata": {},
   "outputs": [],
   "source": [
    "from datetime import datetime"
   ]
  },
  {
   "cell_type": "code",
   "execution_count": 2,
   "id": "2c4e8509",
   "metadata": {},
   "outputs": [],
   "source": [
    "class UtcNow:\n",
    "    def __get__(self, instance, owner_class):\n",
    "        return datetime.utcnow().isoformat()"
   ]
  },
  {
   "cell_type": "code",
   "execution_count": 3,
   "id": "4b269f22",
   "metadata": {},
   "outputs": [],
   "source": [
    "class Logger:\n",
    "    current_time = UtcNow()"
   ]
  },
  {
   "cell_type": "code",
   "execution_count": 4,
   "id": "924f8ccd",
   "metadata": {},
   "outputs": [
    {
     "name": "stdout",
     "output_type": "stream",
     "text": [
      "Class level:  2023-07-13T15:06:02.844567\n"
     ]
    }
   ],
   "source": [
    "print('Class level: ', Logger.current_time)"
   ]
  },
  {
   "cell_type": "code",
   "execution_count": 5,
   "id": "ddf5eb28",
   "metadata": {},
   "outputs": [
    {
     "name": "stdout",
     "output_type": "stream",
     "text": [
      "Instance level:  2023-07-13T15:06:02.861561\n"
     ]
    }
   ],
   "source": [
    "l = Logger()\n",
    "print('Instance level: ', l.current_time)"
   ]
  },
  {
   "cell_type": "markdown",
   "id": "8244755d",
   "metadata": {},
   "source": [
    "> Example 2: Show that descriptor can be used to create a more generic way of controlling passed-in objects"
   ]
  },
  {
   "cell_type": "code",
   "execution_count": 6,
   "id": "2bb76307",
   "metadata": {},
   "outputs": [],
   "source": [
    "from random import choice, seed"
   ]
  },
  {
   "cell_type": "code",
   "execution_count": 7,
   "id": "b20267a0",
   "metadata": {},
   "outputs": [],
   "source": [
    "class Deck:\n",
    "    @property\n",
    "    def suit(self):\n",
    "        return choice(('Spade', 'Heart', 'Diamond', 'Club'))\n",
    "    \n",
    "    @property\n",
    "    def card(self):\n",
    "        return choice(tuple('23456789JOKA') + ('10', ))"
   ]
  },
  {
   "cell_type": "code",
   "execution_count": 8,
   "id": "02f9b6a5",
   "metadata": {},
   "outputs": [],
   "source": [
    "d = Deck()"
   ]
  },
  {
   "cell_type": "code",
   "execution_count": 9,
   "id": "5ab6c1be",
   "metadata": {},
   "outputs": [
    {
     "name": "stdout",
     "output_type": "stream",
     "text": [
      "Spade 6\n",
      "Club 5\n",
      "Club 6\n",
      "Diamond 10\n",
      "Spade A\n",
      "Club 4\n",
      "Club J\n",
      "Heart 10\n",
      "Spade A\n",
      "Diamond A\n"
     ]
    }
   ],
   "source": [
    "seed(66)\n",
    "for _ in range(10):\n",
    "    print(d.suit, d.card)"
   ]
  },
  {
   "cell_type": "code",
   "execution_count": 10,
   "id": "8bc06337",
   "metadata": {},
   "outputs": [],
   "source": [
    "class Choice():\n",
    "    def __init__(self, *choices):\n",
    "        self.choices = choices\n",
    "        \n",
    "    def __get__(self, instance, owner_class):\n",
    "        return choice(self.choices) # Generic way of randomly choosing any object passed in"
   ]
  },
  {
   "cell_type": "code",
   "execution_count": 11,
   "id": "ddc1cbe1",
   "metadata": {},
   "outputs": [],
   "source": [
    "class DeckWithDescriptor():\n",
    "    suit = Choice('Spade', 'Heart', 'Diamond', 'Club')\n",
    "    card = Choice(*'23456789JOKA' + '10')"
   ]
  },
  {
   "cell_type": "code",
   "execution_count": 12,
   "id": "3633ae99",
   "metadata": {},
   "outputs": [],
   "source": [
    "d = DeckWithDescriptor()"
   ]
  },
  {
   "cell_type": "code",
   "execution_count": 13,
   "id": "8143b8f0",
   "metadata": {},
   "outputs": [
    {
     "name": "stdout",
     "output_type": "stream",
     "text": [
      "Spade 6\n",
      "Club 5\n",
      "Club 6\n",
      "Diamond 0\n",
      "Spade A\n",
      "Club 4\n",
      "Club J\n",
      "Heart 1\n",
      "Spade A\n",
      "Diamond A\n"
     ]
    }
   ],
   "source": [
    "seed(66)\n",
    "for _ in range(10):\n",
    "    print(d.suit, d.card)"
   ]
  },
  {
   "cell_type": "markdown",
   "id": "c0b76f39",
   "metadata": {},
   "source": [
    "---\n",
    "\n",
    "### Getters and Setters <a name='getters_and_setters'></a>"
   ]
  },
  {
   "cell_type": "markdown",
   "id": "8082b3da",
   "metadata": {},
   "source": [
    "> `__get__` method:  \n",
    "Normally different values will be returned from \\_\\_get\\_\\_ method depending on:\n",
    "> * called from class (return the descriptor instance)\n",
    "> * called from instance (return the attribute value)\n",
    "> \n",
    "> Hence the signature of \\_\\_get\\_\\_ method is:  \n",
    "> ```Python\n",
    "def __get__(self, instance, owner_class)\n",
    "```"
   ]
  },
  {
   "cell_type": "code",
   "execution_count": 14,
   "id": "6b969bb9",
   "metadata": {},
   "outputs": [],
   "source": [
    "# Self-created descriptor\n",
    "class UtcNow:\n",
    "    def __get__(self, instance, owner_class):\n",
    "        print(f'__get__ method called, self={self}, instance={instance}, owner_class={owner_class}')\n",
    "        return datetime.utcnow().isoformat()"
   ]
  },
  {
   "cell_type": "code",
   "execution_count": 15,
   "id": "ccfbff4c",
   "metadata": {},
   "outputs": [],
   "source": [
    "class Logger1:\n",
    "    current_time = UtcNow()"
   ]
  },
  {
   "cell_type": "code",
   "execution_count": 16,
   "id": "aff38a30",
   "metadata": {},
   "outputs": [],
   "source": [
    "class Logger2:\n",
    "    current_time = UtcNow()"
   ]
  },
  {
   "cell_type": "code",
   "execution_count": 17,
   "id": "22768ace",
   "metadata": {},
   "outputs": [
    {
     "name": "stdout",
     "output_type": "stream",
     "text": [
      "__get__ method called, self=<__main__.UtcNow object at 0x000001BF03581BB0>, instance=None, owner_class=<class '__main__.Logger1'>\n"
     ]
    },
    {
     "data": {
      "text/plain": [
       "'2023-07-13T15:06:03.050021'"
      ]
     },
     "execution_count": 17,
     "metadata": {},
     "output_type": "execute_result"
    }
   ],
   "source": [
    "# instance is None when calling from class level\n",
    "Logger1.current_time"
   ]
  },
  {
   "cell_type": "code",
   "execution_count": 18,
   "id": "86337d85",
   "metadata": {},
   "outputs": [
    {
     "name": "stdout",
     "output_type": "stream",
     "text": [
      "__get__ method called, self=<__main__.UtcNow object at 0x000001BF03581B80>, instance=None, owner_class=<class '__main__.Logger2'>\n"
     ]
    },
    {
     "data": {
      "text/plain": [
       "'2023-07-13T15:06:03.065797'"
      ]
     },
     "execution_count": 18,
     "metadata": {},
     "output_type": "execute_result"
    }
   ],
   "source": [
    "Logger2.current_time"
   ]
  },
  {
   "cell_type": "code",
   "execution_count": 19,
   "id": "c11594c4",
   "metadata": {},
   "outputs": [
    {
     "name": "stdout",
     "output_type": "stream",
     "text": [
      "__get__ method called, self=<__main__.UtcNow object at 0x000001BF03581BB0>, instance=<__main__.Logger1 object at 0x000001BF0358A6D0>, owner_class=<class '__main__.Logger1'>\n"
     ]
    },
    {
     "data": {
      "text/plain": [
       "'2023-07-13T15:06:03.081647'"
      ]
     },
     "execution_count": 19,
     "metadata": {},
     "output_type": "execute_result"
    }
   ],
   "source": [
    "l1 = Logger1()\n",
    "l1.current_time"
   ]
  },
  {
   "cell_type": "code",
   "execution_count": 20,
   "id": "7570ea3b",
   "metadata": {},
   "outputs": [
    {
     "name": "stdout",
     "output_type": "stream",
     "text": [
      "__get__ method called, self=<__main__.UtcNow object at 0x000001BF03581B80>, instance=<__main__.Logger2 object at 0x000001BF0358ADF0>, owner_class=<class '__main__.Logger2'>\n"
     ]
    },
    {
     "data": {
      "text/plain": [
       "'2023-07-13T15:06:03.100079'"
      ]
     },
     "execution_count": 20,
     "metadata": {},
     "output_type": "execute_result"
    }
   ],
   "source": [
    "l2 = Logger2()\n",
    "l2.current_time"
   ]
  },
  {
   "cell_type": "markdown",
   "id": "0091f9d4",
   "metadata": {},
   "source": [
    "> `__set__` method:  \n",
    "> \\_\\_set\\_\\_ method is always called from instances, thus its signature is:\n",
    "> ```Python \n",
    "def __set__(self, instance, value)\n",
    "```"
   ]
  },
  {
   "cell_type": "markdown",
   "id": "38019e1b",
   "metadata": {},
   "source": [
    "__Caveat__: \n",
    "When referencing the same object in descriptor, the instances created from the class that uses descriptor will inter-overwrite each other's value when calling \\_\\_set\\_\\_ method. Therefore we would need a way to make the changes to attributes instance-specific."
   ]
  },
  {
   "cell_type": "code",
   "execution_count": 21,
   "id": "b7b19aca",
   "metadata": {},
   "outputs": [],
   "source": [
    "class IntegerValue:\n",
    "    def __set__(self, instance, value):\n",
    "        self._value = value\n",
    "        print(f'__set__ method called, instance={instance}, value={value}')\n",
    "        \n",
    "    def __get__(self, instance, owner_class):\n",
    "        if instance is None:\n",
    "            print('__get__ method called from class')\n",
    "        else:\n",
    "            print(f'__get__ method called, instance={instance}, owner_class={owner_class}')\n",
    "            return self._value"
   ]
  },
  {
   "cell_type": "code",
   "execution_count": 22,
   "id": "cf52e6af",
   "metadata": {},
   "outputs": [],
   "source": [
    "class Point:\n",
    "    x = IntegerValue()\n",
    "    y = IntegerValue()"
   ]
  },
  {
   "cell_type": "code",
   "execution_count": 23,
   "id": "df6251d4",
   "metadata": {},
   "outputs": [
    {
     "name": "stdout",
     "output_type": "stream",
     "text": [
      "__get__ method called from class\n"
     ]
    }
   ],
   "source": [
    "Point.x"
   ]
  },
  {
   "cell_type": "code",
   "execution_count": 24,
   "id": "49129a0f",
   "metadata": {},
   "outputs": [],
   "source": [
    "p1 = Point()\n",
    "p2 = Point()"
   ]
  },
  {
   "cell_type": "code",
   "execution_count": 25,
   "id": "44c8d45d",
   "metadata": {},
   "outputs": [
    {
     "name": "stdout",
     "output_type": "stream",
     "text": [
      "__set__ method called, instance=<__main__.Point object at 0x000001BF0346BBE0>, value=10\n"
     ]
    }
   ],
   "source": [
    "p1.x = 10"
   ]
  },
  {
   "cell_type": "code",
   "execution_count": 26,
   "id": "55912819",
   "metadata": {},
   "outputs": [
    {
     "name": "stdout",
     "output_type": "stream",
     "text": [
      "__set__ method called, instance=<__main__.Point object at 0x000001BF034703A0>, value=5\n"
     ]
    }
   ],
   "source": [
    "p2.x = 5"
   ]
  },
  {
   "cell_type": "code",
   "execution_count": 27,
   "id": "99a41e6c",
   "metadata": {},
   "outputs": [
    {
     "name": "stdout",
     "output_type": "stream",
     "text": [
      "__get__ method called, instance=<__main__.Point object at 0x000001BF0346BBE0>, owner_class=<class '__main__.Point'>\n"
     ]
    },
    {
     "data": {
      "text/plain": [
       "5"
      ]
     },
     "execution_count": 27,
     "metadata": {},
     "output_type": "execute_result"
    }
   ],
   "source": [
    "# Attribute of p1 is overwritten when p2 changes its attribute\n",
    "p1.x"
   ]
  },
  {
   "cell_type": "markdown",
   "id": "629e12d6",
   "metadata": {},
   "source": [
    "---\n",
    "\n",
    "### Strong and Weak References <a name='strong_and_weak_references'></a>"
   ]
  },
  {
   "cell_type": "markdown",
   "id": "2fdc678a",
   "metadata": {},
   "source": [
    "> `Strong reference`:\n",
    "> \n",
    "> When create an instance of one object and make a new instance pointing to the same object as:\n",
    "> ```Python\n",
    "p1 = Person()\n",
    "p2 = p1\n",
    "> ```\n",
    "> p1 and p2 both have strong references to the object."
   ]
  },
  {
   "cell_type": "code",
   "execution_count": 28,
   "id": "31e6d727",
   "metadata": {},
   "outputs": [],
   "source": [
    "import ctypes"
   ]
  },
  {
   "cell_type": "code",
   "execution_count": 29,
   "id": "f96d6e67",
   "metadata": {},
   "outputs": [],
   "source": [
    "def ref_count(address):\n",
    "    # Cound references of an object's id\n",
    "    return ctypes.c_long.from_address(address).value"
   ]
  },
  {
   "cell_type": "code",
   "execution_count": 30,
   "id": "8943a9a6",
   "metadata": {},
   "outputs": [],
   "source": [
    "class Person:\n",
    "    def __init__(self, name):\n",
    "        self.name = name\n",
    "        \n",
    "    def __repr__(self):\n",
    "        return f'Person (name={self.name})'"
   ]
  },
  {
   "cell_type": "code",
   "execution_count": 31,
   "id": "f162a12d",
   "metadata": {},
   "outputs": [
    {
     "name": "stdout",
     "output_type": "stream",
     "text": [
      "Object reference count is: 2\n"
     ]
    }
   ],
   "source": [
    "p1 = Person('Taylor')\n",
    "p2 = p1\n",
    "print(f'Object reference count is: {ref_count(id(p1))}')"
   ]
  },
  {
   "cell_type": "code",
   "execution_count": 32,
   "id": "5cfa8cc5",
   "metadata": {},
   "outputs": [
    {
     "name": "stdout",
     "output_type": "stream",
     "text": [
      "Object reference count is: 1\n"
     ]
    }
   ],
   "source": [
    "# Deleting one reference will not influence other strong references\n",
    "del p1\n",
    "print(f'Object reference count is: {ref_count(id(p2))}')"
   ]
  },
  {
   "cell_type": "markdown",
   "id": "075fef05",
   "metadata": {},
   "source": [
    "> `Weak reference`:\n",
    "> \n",
    "> Weak reference, in contrast, is a reference to an object that does not affect the reference count as far as the memory manager is concerned. Therefore, deleting the original instance pointing to the object will also make the other instances weakly pointing to it \"dead\".\n",
    "> \n",
    "> __Note__: Weak reference is not available for most built-in types such as list, dict."
   ]
  },
  {
   "cell_type": "code",
   "execution_count": 33,
   "id": "b621f7e9",
   "metadata": {},
   "outputs": [],
   "source": [
    "import weakref"
   ]
  },
  {
   "cell_type": "code",
   "execution_count": 34,
   "id": "df10effa",
   "metadata": {},
   "outputs": [],
   "source": [
    "person1 = Person('Tay')\n",
    "person2 = weakref.ref(person1)"
   ]
  },
  {
   "cell_type": "code",
   "execution_count": 35,
   "id": "609048f1",
   "metadata": {},
   "outputs": [
    {
     "name": "stdout",
     "output_type": "stream",
     "text": [
      "Strong reference count is: 1\n"
     ]
    },
    {
     "ename": "NameError",
     "evalue": "name 'p1' is not defined",
     "output_type": "error",
     "traceback": [
      "\u001b[1;31m---------------------------------------------------------------------------\u001b[0m",
      "\u001b[1;31mNameError\u001b[0m                                 Traceback (most recent call last)",
      "\u001b[1;32m<ipython-input-35-03571f99737b>\u001b[0m in \u001b[0;36m<module>\u001b[1;34m\u001b[0m\n\u001b[0;32m      1\u001b[0m \u001b[0mprint\u001b[0m\u001b[1;33m(\u001b[0m\u001b[1;34mf'Strong reference count is: {ref_count(id(person1))}'\u001b[0m\u001b[1;33m)\u001b[0m\u001b[1;33m\u001b[0m\u001b[1;33m\u001b[0m\u001b[0m\n\u001b[1;32m----> 2\u001b[1;33m \u001b[0mprint\u001b[0m\u001b[1;33m(\u001b[0m\u001b[1;34mf'Weak reference count is: {weakref.getweakrefcount(p1)}'\u001b[0m\u001b[1;33m)\u001b[0m\u001b[1;33m\u001b[0m\u001b[1;33m\u001b[0m\u001b[0m\n\u001b[0m",
      "\u001b[1;31mNameError\u001b[0m: name 'p1' is not defined"
     ]
    }
   ],
   "source": [
    "print(f'Strong reference count is: {ref_count(id(person1))}')\n",
    "print(f'Weak reference count is: {weakref.getweakrefcount(p1)}')"
   ]
  },
  {
   "cell_type": "code",
   "execution_count": 36,
   "id": "edc12a92",
   "metadata": {},
   "outputs": [
    {
     "data": {
      "text/plain": [
       "True"
      ]
     },
     "execution_count": 36,
     "metadata": {},
     "output_type": "execute_result"
    }
   ],
   "source": [
    "# weakref is callable to the object that it's pointing to\n",
    "person2() is person1"
   ]
  },
  {
   "cell_type": "code",
   "execution_count": 37,
   "id": "031747bd",
   "metadata": {},
   "outputs": [
    {
     "name": "stdout",
     "output_type": "stream",
     "text": [
      "<weakref at 0x000001BF03466950; dead>\n"
     ]
    }
   ],
   "source": [
    "del person1\n",
    "print(person2)"
   ]
  },
  {
   "cell_type": "markdown",
   "id": "193b0e25",
   "metadata": {},
   "source": [
    "---\n",
    "\n",
    "### Using as Instance Properties <a name='using_as_instance_properties'></a>"
   ]
  },
  {
   "cell_type": "code",
   "execution_count": 38,
   "id": "37ad1e58",
   "metadata": {},
   "outputs": [],
   "source": [
    "import weakref"
   ]
  },
  {
   "cell_type": "code",
   "execution_count": 39,
   "id": "84c80b94",
   "metadata": {},
   "outputs": [],
   "source": [
    "class IntegerValue:\n",
    "    def __init__(self):\n",
    "#         self.values = {} # infeasible approach results in potential memory leak\n",
    "        self.values = weakref.WeakKeyDictionary()\n",
    "        \n",
    "    def __set__(self, instance, value):\n",
    "        self.values[instance] = int(value)\n",
    "        \n",
    "    def __get__(self, instance, owner_class):\n",
    "        if instance is None:\n",
    "            return self\n",
    "        return self.values[instance]"
   ]
  },
  {
   "cell_type": "code",
   "execution_count": 40,
   "id": "058138fc",
   "metadata": {},
   "outputs": [],
   "source": [
    "class Point:\n",
    "    x = IntegerValue()"
   ]
  },
  {
   "cell_type": "code",
   "execution_count": 41,
   "id": "f394483a",
   "metadata": {},
   "outputs": [
    {
     "name": "stdout",
     "output_type": "stream",
     "text": [
      "100\n",
      "[<weakref at 0x000001BF03578310; to 'Point' at 0x000001BF03441B20>]\n"
     ]
    }
   ],
   "source": [
    "p = Point()\n",
    "p.x = 100.1\n",
    "print(p.x)\n",
    "print(Point.x.values.keyrefs())"
   ]
  },
  {
   "cell_type": "code",
   "execution_count": 42,
   "id": "edc21c3c",
   "metadata": {},
   "outputs": [
    {
     "name": "stdout",
     "output_type": "stream",
     "text": [
      "[]\n"
     ]
    }
   ],
   "source": [
    "# Week references will be cleaned up automatically when strong ref is removed\n",
    "del p\n",
    "print(Point.x.values.keyrefs())"
   ]
  },
  {
   "cell_type": "markdown",
   "id": "d1812b28",
   "metadata": {},
   "source": [
    "---\n",
    "\n",
    "### The \\_\\_set_name\\_\\_ Method <a name='the_set_name_method'></a>"
   ]
  },
  {
   "cell_type": "markdown",
   "id": "6add9e72",
   "metadata": {},
   "source": [
    "\\_\\_set_name\\_\\_ method shows the name of variables that has been called, useful for logging purpose."
   ]
  },
  {
   "cell_type": "code",
   "execution_count": 43,
   "id": "996d533b",
   "metadata": {},
   "outputs": [],
   "source": [
    "class ValidString:\n",
    "    def __init__(self, min_length=None):\n",
    "        self.min_length = min_length\n",
    "    \n",
    "    def __set_name__(self, owner_class, property_name):\n",
    "        print(f'__set_name__: owner={owner_class}, property_name={property_name}')\n",
    "        self.property_name = property_name\n",
    "        \n",
    "    def __set__(self, instance, value):\n",
    "        if not isinstance(value, str):\n",
    "            raise ValueError(f'{self.property_name} must be string type.')\n",
    "        if self.min_length is not None and len(value) < self.min_length:\n",
    "            raise ValueError(f'{self.property_name} must be at least {self.min_length} chars.')   \n",
    "        instance.__dict__[self.property_name] = value\n",
    "        \n",
    "    def __get__(self, instance, owner_class):\n",
    "        if instance is None:\n",
    "            return self\n",
    "        print(f'__get__ called for property {self.property_name} of instance {instance}')\n",
    "        return instance.__dict__.get(self.property_name, None)"
   ]
  },
  {
   "cell_type": "code",
   "execution_count": 44,
   "id": "563d58e2",
   "metadata": {},
   "outputs": [
    {
     "name": "stdout",
     "output_type": "stream",
     "text": [
      "__set_name__: owner=<class '__main__.Person'>, property_name=first_name\n",
      "__set_name__: owner=<class '__main__.Person'>, property_name=last_name\n"
     ]
    }
   ],
   "source": [
    "class Person:\n",
    "    \n",
    "    first_name = ValidString(1)\n",
    "    last_name = ValidString(2)"
   ]
  },
  {
   "cell_type": "code",
   "execution_count": 45,
   "id": "49f23ca1",
   "metadata": {},
   "outputs": [
    {
     "name": "stdout",
     "output_type": "stream",
     "text": [
      "last_name must be at least 2 chars.\n"
     ]
    }
   ],
   "source": [
    "p = Person()\n",
    "try:\n",
    "    p.first_name = 'Taylor'\n",
    "    p.last_name = 'H'\n",
    "except ValueError as ex:\n",
    "    print(ex)"
   ]
  },
  {
   "cell_type": "markdown",
   "id": "4fb9476a",
   "metadata": {},
   "source": [
    "---\n",
    "\n",
    "### Property Lookup Resolution <a name='property_lookup_resolution'></a>"
   ]
  },
  {
   "cell_type": "markdown",
   "id": "fe708694",
   "metadata": {},
   "source": [
    "For a class that has a descriptor and an instance dictionary, calling obj.x will use `__dict__` entry or `descriptor` in different cases:"
   ]
  },
  {
   "cell_type": "markdown",
   "id": "3e4def8e",
   "metadata": {},
   "source": [
    "* For data descriptors:  \n",
    "Calling obj.x will always call descriptor and override the instance dictionary, so editing \\_\\_dict\\_\\_ directly will not influence the property value."
   ]
  },
  {
   "cell_type": "code",
   "execution_count": 46,
   "id": "b10ab2fd",
   "metadata": {},
   "outputs": [],
   "source": [
    "class IntegerValue:\n",
    "    def __set__(self, instance, value):\n",
    "        print('__set__ called...')\n",
    "    \n",
    "    def __get__(self, instance, owner_class):\n",
    "        print('__get__ called...')"
   ]
  },
  {
   "cell_type": "code",
   "execution_count": 47,
   "id": "2b936c02",
   "metadata": {},
   "outputs": [],
   "source": [
    "class Point:\n",
    "    x = IntegerValue()"
   ]
  },
  {
   "cell_type": "code",
   "execution_count": 48,
   "id": "02e17f33",
   "metadata": {},
   "outputs": [],
   "source": [
    "p = Point()"
   ]
  },
  {
   "cell_type": "code",
   "execution_count": 49,
   "id": "9f6aaf10",
   "metadata": {},
   "outputs": [
    {
     "name": "stdout",
     "output_type": "stream",
     "text": [
      "__set__ called...\n"
     ]
    }
   ],
   "source": [
    "p.x = 100"
   ]
  },
  {
   "cell_type": "code",
   "execution_count": 50,
   "id": "d8353eff",
   "metadata": {},
   "outputs": [
    {
     "name": "stdout",
     "output_type": "stream",
     "text": [
      "__get__ called...\n"
     ]
    }
   ],
   "source": [
    "p.x"
   ]
  },
  {
   "cell_type": "code",
   "execution_count": 51,
   "id": "8e3fa062",
   "metadata": {},
   "outputs": [
    {
     "data": {
      "text/plain": [
       "{'x': 'hello'}"
      ]
     },
     "execution_count": 51,
     "metadata": {},
     "output_type": "execute_result"
    }
   ],
   "source": [
    "# Edit property value in __dict__ directly\n",
    "p.__dict__['x'] = 'hello'\n",
    "p.__dict__"
   ]
  },
  {
   "cell_type": "code",
   "execution_count": 52,
   "id": "198c45ed",
   "metadata": {},
   "outputs": [
    {
     "name": "stdout",
     "output_type": "stream",
     "text": [
      "__get__ called...\n"
     ]
    }
   ],
   "source": [
    "# x in __dict__ will be ignored, and __get__method will be called directly\n",
    "p.x"
   ]
  },
  {
   "cell_type": "markdown",
   "id": "f0779b13",
   "metadata": {},
   "source": [
    "* For non-data descriptors:  \n",
    "Calling obj.x will look into the instance dictionary first, and uses descriptor if not present (which means it will access \\_\\_dict\\_\\_\\['x'\\] first then try to get the value using \\_\\_get\\_\\_ method)."
   ]
  },
  {
   "cell_type": "code",
   "execution_count": 53,
   "id": "32fcdd0a",
   "metadata": {},
   "outputs": [],
   "source": [
    "class TimeUtc:\n",
    "    def __get__(self, instance, owner_class):\n",
    "        print('__get__ called...')"
   ]
  },
  {
   "cell_type": "code",
   "execution_count": 54,
   "id": "21374c66",
   "metadata": {},
   "outputs": [],
   "source": [
    "class Logger:\n",
    "    current_time = TimeUtc()"
   ]
  },
  {
   "cell_type": "code",
   "execution_count": 55,
   "id": "9014287e",
   "metadata": {},
   "outputs": [],
   "source": [
    "l = Logger()"
   ]
  },
  {
   "cell_type": "code",
   "execution_count": 56,
   "id": "5712c631",
   "metadata": {},
   "outputs": [
    {
     "name": "stdout",
     "output_type": "stream",
     "text": [
      "__get__ called...\n"
     ]
    }
   ],
   "source": [
    "l.current_time"
   ]
  },
  {
   "cell_type": "code",
   "execution_count": 57,
   "id": "d898fbea",
   "metadata": {},
   "outputs": [
    {
     "data": {
      "text/plain": [
       "{}"
      ]
     },
     "execution_count": 57,
     "metadata": {},
     "output_type": "execute_result"
    }
   ],
   "source": [
    "l.__dict__"
   ]
  },
  {
   "cell_type": "code",
   "execution_count": 58,
   "id": "39314d2b",
   "metadata": {},
   "outputs": [],
   "source": [
    "l.__dict__['current_time'] = 'hello'"
   ]
  },
  {
   "cell_type": "code",
   "execution_count": 59,
   "id": "223a7f39",
   "metadata": {},
   "outputs": [
    {
     "data": {
      "text/plain": [
       "'hello'"
      ]
     },
     "execution_count": 59,
     "metadata": {},
     "output_type": "execute_result"
    }
   ],
   "source": [
    "# Look into __dict__ first to see if current_time exists\n",
    "l.current_time"
   ]
  },
  {
   "cell_type": "markdown",
   "id": "e0ff547f",
   "metadata": {},
   "source": [
    "---\n",
    "\n",
    "### Properties and Descriptors <a name='properties_and_descriptors'></a>"
   ]
  },
  {
   "cell_type": "markdown",
   "id": "84a50919",
   "metadata": {},
   "source": [
    "Property is indeed a data descriptor that implements `__get__`, `__set__` and `__delete__`."
   ]
  },
  {
   "cell_type": "code",
   "execution_count": 60,
   "id": "6c0b4bd8",
   "metadata": {},
   "outputs": [],
   "source": [
    "class UtcNow:\n",
    "    @property\n",
    "    def current_time(self):\n",
    "        return 'current_time'"
   ]
  },
  {
   "cell_type": "code",
   "execution_count": 61,
   "id": "dbb57959",
   "metadata": {},
   "outputs": [
    {
     "name": "stdout",
     "output_type": "stream",
     "text": [
      "True\n",
      "True\n",
      "True\n"
     ]
    }
   ],
   "source": [
    "print(hasattr(UtcNow.current_time, '__get__'))\n",
    "print(hasattr(UtcNow.current_time, '__set__'))\n",
    "print(hasattr(UtcNow.current_time, '__delete__'))"
   ]
  },
  {
   "cell_type": "code",
   "execution_count": 62,
   "id": "8e15697e",
   "metadata": {},
   "outputs": [],
   "source": [
    "from numbers import Integral"
   ]
  },
  {
   "cell_type": "code",
   "execution_count": 63,
   "id": "8724f8fe",
   "metadata": {},
   "outputs": [],
   "source": [
    "class Person:\n",
    "    @property\n",
    "    def age(self):\n",
    "        return getattr(self, '_age', None)\n",
    "    \n",
    "    @age.setter\n",
    "    def age(self, value):\n",
    "        if not isinstance(value, Integral):\n",
    "            raise ValueError('age: must be an integer.')\n",
    "        if value < 0:\n",
    "            raise ValueError('age: must be a non-negative integer')\n",
    "        self._age = value"
   ]
  },
  {
   "cell_type": "code",
   "execution_count": 64,
   "id": "8cc06c9d",
   "metadata": {},
   "outputs": [
    {
     "name": "stdout",
     "output_type": "stream",
     "text": [
      "age: must be a non-negative integer\n"
     ]
    }
   ],
   "source": [
    "p = Person()\n",
    "\n",
    "try:\n",
    "    p.age = -10\n",
    "except Exception as ex:\n",
    "    print(ex)"
   ]
  },
  {
   "cell_type": "code",
   "execution_count": 65,
   "id": "d9aaee3a",
   "metadata": {},
   "outputs": [
    {
     "data": {
      "text/plain": [
       "{'_age': 10}"
      ]
     },
     "execution_count": 65,
     "metadata": {},
     "output_type": "execute_result"
    }
   ],
   "source": [
    "p.age = 10\n",
    "# Property `age` is not in the __dict__\n",
    "p.__dict__"
   ]
  },
  {
   "cell_type": "markdown",
   "id": "d90bb0af",
   "metadata": {},
   "source": [
    "---\n",
    "\n",
    "### Functions and Descriptors <a name='functions_and_descriptors'></a>"
   ]
  },
  {
   "cell_type": "markdown",
   "id": "6b8b9aa6",
   "metadata": {},
   "source": [
    "Function is indeed an object that implements non-data descriptor protocol."
   ]
  }
 ],
 "metadata": {
  "kernelspec": {
   "display_name": "Python 3",
   "language": "python",
   "name": "python3"
  },
  "language_info": {
   "codemirror_mode": {
    "name": "ipython",
    "version": 3
   },
   "file_extension": ".py",
   "mimetype": "text/x-python",
   "name": "python",
   "nbconvert_exporter": "python",
   "pygments_lexer": "ipython3",
   "version": "3.8.8"
  }
 },
 "nbformat": 4,
 "nbformat_minor": 5
}
