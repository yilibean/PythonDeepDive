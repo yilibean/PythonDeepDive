{
 "cells": [
  {
   "cell_type": "markdown",
   "id": "22827385",
   "metadata": {},
   "source": [
    "### Objective:\n",
    "\n",
    "Suppose writing the backend for a Widget online sales application, create a base `WidgetException` class that will be used as the base class for all custom exceptions we raise from our Widget application."
   ]
  },
  {
   "cell_type": "markdown",
   "id": "8e8f7131",
   "metadata": {},
   "source": [
    "---\n",
    "\n",
    "### Functionalities:\n",
    "\n",
    "1. Define following exceptions:\n",
    "\n",
    "```\n",
    "* Supplier exceptions\n",
    "    a. Not manufactured anymore\n",
    "    b. Production delayed\n",
    "    c. Shipping delayed\n",
    "    \n",
    "* Checkout exceptions\n",
    "    a. Inventory type exceptions\n",
    "        - out of stock\n",
    "    b. Pricing exceptions\n",
    "        - invalid coupon code\n",
    "        - cannot stack coupons\n",
    "```\n",
    "\n",
    "2. Implement separate internal error message and user error message\n",
    "3. Implement an http status code associated to each exception type (keep it simple, use a 500 (server error) error for\n",
    "everything except invalid coupon code, and cannot stack coupons, these can be 400 (bad request)\n",
    "4. Implement a logging function that can be called to log the exception details, time it occurred, `TracebackException`, etc.\n",
    "5. Implement a function that can be called to produce a json string containing the exception details you want to display to your user (include http status code (e.g. 400), the user error message, etc)"
   ]
  },
  {
   "cell_type": "markdown",
   "id": "04f765c8",
   "metadata": {},
   "source": [
    "---\n",
    "\n",
    "### Implementation:"
   ]
  },
  {
   "cell_type": "code",
   "execution_count": 1,
   "id": "ceeae422",
   "metadata": {},
   "outputs": [],
   "source": [
    "import json\n",
    "import logging\n",
    "import time\n",
    "import datetime\n",
    "from http import HTTPStatus\n",
    "import traceback"
   ]
  },
  {
   "cell_type": "code",
   "execution_count": 2,
   "id": "7f5af945",
   "metadata": {},
   "outputs": [],
   "source": [
    "WIDGET_MESSAGE = 'An exception occurred in the widget!'\n",
    "SUPPLIER_MESSAGE = 'Something is wrong with supplier end!'\n",
    "CHECKOUT_MESSAGE = 'Error occurred whening checking out!'\n",
    "MANUFACTURE_MESSAGE = 'The product is not produced anymore!'\n",
    "PRODUCTION_DELAY_MESSAGE = 'The product production is going to be delayed!'\n",
    "SHIPPING_DELAY_MESSAGE = 'Shipping will be delayed!'\n",
    "INVENTORY_TYPE_MESSAGE = 'Inventory type is incorrect!'\n",
    "PRICING_MESSAGE = 'An exception occurred during pricing process!'\n",
    "OUT_OF_STOCK_MESSAGE = 'Product is currently out of stock!'\n",
    "INVALID_COUPON_MESSAGE = 'The coupon code is invalid!'\n",
    "CANNOT_STACK_COUPONS_MESSAGE = 'Coupons could not be stacked!'"
   ]
  },
  {
   "cell_type": "code",
   "execution_count": 3,
   "id": "10658ced",
   "metadata": {},
   "outputs": [],
   "source": [
    "class WidgetException(Exception):\n",
    "    internal_message = WIDGET_MESSAGE\n",
    "    http_status = HTTPStatus.INTERNAL_SERVER_ERROR\n",
    "    \n",
    "    def __init__(self, *args):\n",
    "        super().__init__(args)\n",
    "        self.args = args\n",
    "        if self.args:\n",
    "            self.user_message = args[0]\n",
    "    \n",
    "    def display(self):\n",
    "        exception_details = {\n",
    "            'UTC Time': str(datetime.datetime.utcnow()),\n",
    "            'Type': type(self).__name__,\n",
    "            'Http Status': self.http_status.value,\n",
    "            'User Error Message': f'{self.http_status.phrase}: {self.user_message}',\n",
    "            'Arguments': self.args[1:],\n",
    "            'Traceback': list(self.traceback)\n",
    "        }\n",
    "        return json.dumps(exception_details)\n",
    "    \n",
    "    def log(self):\n",
    "        logging.basicConfig(filename='./project6.log', \n",
    "                            level=logging.INFO,\n",
    "                            format='%(asctime)s - %(name)s - %(levelname)s - %(message)s',\n",
    "                            datefmt=\"%Y-%m-%dT%H:%M:%S\",\n",
    "                            filemode='w')\n",
    "        logger = logging.getLogger(name='exception_logger')\n",
    "        logger.info(self.display())\n",
    "       \n",
    "    @property\n",
    "    def traceback(self):\n",
    "        return traceback.TracebackException.from_exception(self).format()"
   ]
  },
  {
   "cell_type": "code",
   "execution_count": 4,
   "id": "385545fc",
   "metadata": {},
   "outputs": [
    {
     "data": {
      "text/plain": [
       "'{\"UTC Time\": \"2023-07-13 15:07:29.981345\", \"Type\": \"WidgetException\", \"Http Status\": 500, \"User Error Message\": \"Internal Server Error: Custom message\", \"Arguments\": [500, 1000], \"Traceback\": [\"WidgetException: (\\'Custom message\\', 500, 1000)\\\\n\"]}'"
      ]
     },
     "execution_count": 4,
     "metadata": {},
     "output_type": "execute_result"
    }
   ],
   "source": [
    "WidgetException('Custom message', 500, 1000).display()"
   ]
  },
  {
   "cell_type": "code",
   "execution_count": 5,
   "id": "81f211ca",
   "metadata": {},
   "outputs": [],
   "source": [
    "class SupplierException(WidgetException):\n",
    "    internal_message = SUPPLIER_MESSAGE"
   ]
  },
  {
   "cell_type": "code",
   "execution_count": 6,
   "id": "b7ea0643",
   "metadata": {},
   "outputs": [],
   "source": [
    "class CheckoutException(WidgetException):\n",
    "    internal_message = CHECKOUT_MESSAGE"
   ]
  },
  {
   "cell_type": "code",
   "execution_count": 7,
   "id": "cbe10041",
   "metadata": {},
   "outputs": [],
   "source": [
    "class NotManufacturedAnymore(SupplierException):\n",
    "    internal_message = MANUFACTURE_MESSAGE"
   ]
  },
  {
   "cell_type": "code",
   "execution_count": 8,
   "id": "62d3940e",
   "metadata": {},
   "outputs": [],
   "source": [
    "class ProductionDelayed(SupplierException):\n",
    "    internal_message = PRODUCTION_DELAY_MESSAGE"
   ]
  },
  {
   "cell_type": "code",
   "execution_count": 9,
   "id": "4941a8ee",
   "metadata": {},
   "outputs": [],
   "source": [
    "class ShippingDelayed(SupplierException):\n",
    "    internal_message = SHIPPING_DELAY_MESSAGE"
   ]
  },
  {
   "cell_type": "code",
   "execution_count": 10,
   "id": "b9fc2d36",
   "metadata": {},
   "outputs": [],
   "source": [
    "class InventoryTypeException(CheckoutException):\n",
    "    internal_message = INVENTORY_TYPE_MESSAGE"
   ]
  },
  {
   "cell_type": "code",
   "execution_count": 11,
   "id": "35144eb0",
   "metadata": {},
   "outputs": [],
   "source": [
    "class PricingException(CheckoutException):\n",
    "    internal_message = PRICING_MESSAGE"
   ]
  },
  {
   "cell_type": "code",
   "execution_count": 12,
   "id": "16d7178a",
   "metadata": {},
   "outputs": [],
   "source": [
    "class OutOfStock(InventoryTypeException):\n",
    "    internal_message = OUT_OF_STOCK_MESSAGE"
   ]
  },
  {
   "cell_type": "code",
   "execution_count": 13,
   "id": "912cba4d",
   "metadata": {},
   "outputs": [],
   "source": [
    "class InvalidCouponCode(PricingException):\n",
    "    internal_message = INVALID_COUPON_MESSAGE"
   ]
  },
  {
   "cell_type": "code",
   "execution_count": 14,
   "id": "9cead89c",
   "metadata": {},
   "outputs": [],
   "source": [
    "class CannotStackCoupons(PricingException):\n",
    "    internal_message = CANNOT_STACK_COUPONS_MESSAGE"
   ]
  }
 ],
 "metadata": {
  "kernelspec": {
   "display_name": "Python 3",
   "language": "python",
   "name": "python3"
  },
  "language_info": {
   "codemirror_mode": {
    "name": "ipython",
    "version": 3
   },
   "file_extension": ".py",
   "mimetype": "text/x-python",
   "name": "python",
   "nbconvert_exporter": "python",
   "pygments_lexer": "ipython3",
   "version": "3.8.8"
  }
 },
 "nbformat": 4,
 "nbformat_minor": 5
}
