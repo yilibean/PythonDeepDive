{
 "cells": [
  {
   "cell_type": "markdown",
   "id": "22827385",
   "metadata": {},
   "source": [
    "### Objective:\n",
    "\n",
    "Define classes that have fields that need validation before setting their values. Two data descriptors are required:\n",
    "\n",
    "* IntegerField: only allow integral numbers, between minimum and maximum value\n",
    "* CharField: only allow strings within minimum and maximum length\n",
    "\n",
    "Create a `BaseValidator` for validation and let above two descriptors inherit from it."
   ]
  },
  {
   "cell_type": "markdown",
   "id": "04f765c8",
   "metadata": {},
   "source": [
    "---\n",
    "\n",
    "### Implementation"
   ]
  },
  {
   "cell_type": "code",
   "execution_count": 1,
   "id": "efba65c5",
   "metadata": {},
   "outputs": [],
   "source": [
    "import numbers"
   ]
  },
  {
   "cell_type": "code",
   "execution_count": 2,
   "id": "962351f7",
   "metadata": {},
   "outputs": [],
   "source": [
    "class BaseValidator:\n",
    "    def __init__(self, min_=None, max_=None):\n",
    "        self._min = min_\n",
    "        self._max = max_\n",
    "        \n",
    "    def __set_name__(self, owner_class, prop_name):\n",
    "        self.prop_name = prop_name\n",
    "    \n",
    "    def validate(self, value):\n",
    "        # Should be overwritten by subclass\n",
    "        pass\n",
    "          \n",
    "    def __set__(self, instance, value):\n",
    "        self.validate(value)\n",
    "        instance.__dict__[self.prop_name] = value\n",
    "                             \n",
    "    def __get__(self, instance, owne_class):\n",
    "        if instance is None:\n",
    "            return self\n",
    "        return instance.__dict__.get(self.prop_name, None)    "
   ]
  },
  {
   "cell_type": "code",
   "execution_count": 3,
   "id": "5f388ea5",
   "metadata": {},
   "outputs": [],
   "source": [
    "class IntegerField(BaseValidator):\n",
    "    def validate(self, value):\n",
    "        if not isinstance(value, numbers.Integral):\n",
    "            raise ValueError(f'{self.prop_name} must be an integer') \n",
    "        if self._min is not None and value < self._min:\n",
    "            raise ValueError(f'{self.prop_name} must be >= {self._min}')\n",
    "        if self._max is not None and value > self._max:\n",
    "            raise ValueError(f'{self.prop_name} must be <= {self._max}')"
   ]
  },
  {
   "cell_type": "code",
   "execution_count": 4,
   "id": "ab72250c",
   "metadata": {},
   "outputs": [],
   "source": [
    "class CharField(BaseValidator):\n",
    "    def __init__(self, min_, max_):\n",
    "        min_ = max(min_ or 0, 0)\n",
    "        super().__init__(min_, max_)\n",
    "        \n",
    "    def validate(self, value):\n",
    "        if not isinstance(value, str):\n",
    "            raise ValueError(f'{self.prop_name} must be a string') \n",
    "        if self._min is not None and len(value) < self._min:\n",
    "            raise ValueError(f'{self.prop_name} must be >= {self._min} chars')\n",
    "        if self._max is not None and len(value) > self._max:\n",
    "            raise ValueError(f'{self.prop_name} must be <= {self._max} chars')\n",
    "        "
   ]
  },
  {
   "cell_type": "code",
   "execution_count": 5,
   "id": "a041b5f6",
   "metadata": {},
   "outputs": [],
   "source": [
    "class Person:\n",
    "    name = CharField(min_=0, max_=None)\n",
    "    age = IntegerField(min_=0, max_=130)"
   ]
  },
  {
   "cell_type": "code",
   "execution_count": 6,
   "id": "5d738f8a",
   "metadata": {},
   "outputs": [
    {
     "name": "stdout",
     "output_type": "stream",
     "text": [
      "name must be a string\n",
      "age must be >= 0\n"
     ]
    }
   ],
   "source": [
    "p = Person()\n",
    "try:\n",
    "    p.name = 1\n",
    "except Exception as ex:\n",
    "    print(ex)\n",
    "\n",
    "try:\n",
    "    p.age = -1\n",
    "except Exception as ex:\n",
    "    print(ex)"
   ]
  }
 ],
 "metadata": {
  "kernelspec": {
   "display_name": "Python 3",
   "language": "python",
   "name": "python3"
  },
  "language_info": {
   "codemirror_mode": {
    "name": "ipython",
    "version": 3
   },
   "file_extension": ".py",
   "mimetype": "text/x-python",
   "name": "python",
   "nbconvert_exporter": "python",
   "pygments_lexer": "ipython3",
   "version": "3.8.8"
  }
 },
 "nbformat": 4,
 "nbformat_minor": 5
}
