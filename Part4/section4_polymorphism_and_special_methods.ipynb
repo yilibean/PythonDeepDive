{
 "cells": [
  {
   "cell_type": "markdown",
   "id": "915ff8f4",
   "metadata": {},
   "source": [
    "## Polymorphism and Special Methods\n",
    "\n",
    "- [**\\_\\_str\\_\\_ and \\_\\_repr\\_\\_ Methods**](#str_and_repr_methods)\n",
    "- [**Arithmetic Operators**](#arithmetic_operators)\n",
    "- [**Rich Comparisons**](#rich_comparisons)\n",
    "- [**Hashing and Equality**](#hashing_and_equality)\n",
    "- [**Booleans**](#booleans)\n",
    "- [**Callables**](#callables)\n",
    "- [**\\_\\_del\\_\\_ Method**](#del_method)\n",
    "- [**\\_\\_format\\_\\_ Method**](#format_method)"
   ]
  },
  {
   "cell_type": "markdown",
   "id": "758b9d45",
   "metadata": {},
   "source": [
    "---\n",
    "\n",
    "### \\_\\_str\\_\\_ and \\_\\_repr\\_\\_ Methods <a name='str_and_repr_methods'></a>"
   ]
  },
  {
   "cell_type": "markdown",
   "id": "e9112a4d",
   "metadata": {},
   "source": [
    "* Similarity:\n",
    "    * Both are used for creating a string representation of an object.\n",
    "* Difference:\n",
    "    * \\_\\_repr\\_\\_:\n",
    "        * is typically used by developers to describe the object.\n",
    "        * is useful for debugging.\n",
    "        * is called using repr() function. \n",
    "    * \\_\\_str\\_\\_:\n",
    "        * is typically used by end users for displaying purpose.\n",
    "        * is called using str() or print() function.\n",
    "        \n",
    "<font color='red'> Note:   \n",
    "    When calling print()/str() method, Python will first look for `__str__` method, and if it is not implemented, it will then try to look for `__repr__`. If `__repr__` is not found either, then Python will inherit from `Object` to use `__repr__` defined there instead. </font>"
   ]
  },
  {
   "cell_type": "code",
   "execution_count": 1,
   "id": "c0a23725",
   "metadata": {},
   "outputs": [],
   "source": [
    "class Person:\n",
    "    \n",
    "    def __init__(self, name, age):\n",
    "        self.name = name\n",
    "        self.age = age\n",
    "        \n",
    "    def __repr__(self):\n",
    "        print('Calling __repr__')\n",
    "        return 'Person(name={}, age={})'.format(self.name, self.age)\n",
    "    \n",
    "    def __str__(self):\n",
    "        print('Calling __str__')\n",
    "        return self.name"
   ]
  },
  {
   "cell_type": "code",
   "execution_count": 2,
   "id": "407f1f57",
   "metadata": {},
   "outputs": [],
   "source": [
    "p = Person('Taylor', 22)"
   ]
  },
  {
   "cell_type": "code",
   "execution_count": 3,
   "id": "c73ade68",
   "metadata": {},
   "outputs": [
    {
     "name": "stdout",
     "output_type": "stream",
     "text": [
      "Calling __repr__\n"
     ]
    },
    {
     "data": {
      "text/plain": [
       "'Person(name=Taylor, age=22)'"
      ]
     },
     "execution_count": 3,
     "metadata": {},
     "output_type": "execute_result"
    }
   ],
   "source": [
    "repr(p)"
   ]
  },
  {
   "cell_type": "code",
   "execution_count": 4,
   "id": "6ed56f51",
   "metadata": {},
   "outputs": [
    {
     "name": "stdout",
     "output_type": "stream",
     "text": [
      "Calling __str__\n"
     ]
    },
    {
     "data": {
      "text/plain": [
       "'Taylor'"
      ]
     },
     "execution_count": 4,
     "metadata": {},
     "output_type": "execute_result"
    }
   ],
   "source": [
    "str(p)"
   ]
  },
  {
   "cell_type": "markdown",
   "id": "8751202d",
   "metadata": {},
   "source": [
    "---\n",
    "\n",
    "### Arithmetic Operators <a name='arithmetic_operators'></a>"
   ]
  },
  {
   "cell_type": "markdown",
   "id": "5b939925",
   "metadata": {},
   "source": [
    "* Arithmetic operators:\n",
    "    * `__add__`: +\n",
    "    * `__sub__`: -\n",
    "    * `__mul__`: *\n",
    "    * `__truediv__`: /\n",
    "    * `__floordiv__`: //\n",
    "    * `__mod__`: %\n",
    "    * `__pow__`: **\n",
    "    * `__matmul__`: @"
   ]
  },
  {
   "cell_type": "markdown",
   "id": "276edd9c",
   "metadata": {},
   "source": [
    "* Reflected operators:  \n",
    "Consider _a+b_, Python will attempt to call a.\\_\\_add\\_\\_(b) first and if it returns `NotImplemented`, and the operands are not of the same type, then Python will swap the operands and try:\n",
    "    * `__radd__`\n",
    "    * `__rsub__`\n",
    "    * `__rmul__`\n",
    "    * `__rtruediv__`\n",
    "    * `__rfloordiv__`\n",
    "    * `__rmod__`\n",
    "    * `__rpow__`"
   ]
  },
  {
   "cell_type": "markdown",
   "id": "60bf7cc1",
   "metadata": {},
   "source": [
    "* In-place operators:\n",
    "    * `__iadd__`: +=\n",
    "    * `__isub__`: -=\n",
    "    * `__imul__`: *=\n",
    "    * `__itruediv__`: /=\n",
    "    * `__ifloordiv__`: //=\n",
    "    * `__imod__`: %=\n",
    "    * `__ipow__`: \\*\\*="
   ]
  },
  {
   "cell_type": "markdown",
   "id": "b83959f3",
   "metadata": {},
   "source": [
    "* Unary operators:\n",
    "    * `__neg__`: -a\n",
    "    * `__pos__`: +a\n",
    "    * `__abs__`: abs(a)"
   ]
  },
  {
   "cell_type": "markdown",
   "id": "271cb7a8",
   "metadata": {},
   "source": [
    "---\n",
    "\n",
    "### Rich Comparisons <a name='rich_comparisons'></a>"
   ]
  },
  {
   "cell_type": "markdown",
   "id": "517cff29",
   "metadata": {},
   "source": [
    "* `__lt__`: <\n",
    "* `__le__`: <=\n",
    "* `__eq__`: ==\n",
    "* `__ne__`: !=\n",
    "* `__gt__`: >\n",
    "* `__ge__`: >=\n",
    "\n",
    "<font color='red'> Note:  \n",
    "Python automatically uses reflection. </font>"
   ]
  },
  {
   "cell_type": "markdown",
   "id": "f91fc309",
   "metadata": {},
   "source": [
    "---\n",
    "\n",
    "### Hashing and Equality <a name='hashing_and_equality'></a>"
   ]
  },
  {
   "cell_type": "markdown",
   "id": "c8e3147c",
   "metadata": {},
   "source": [
    "Hashing simply implements `__hash__` method. If `__eq__` method is implemented, then the `__hash__` method will be implicitly set to None unless it is implemented."
   ]
  },
  {
   "cell_type": "markdown",
   "id": "d4a06be9",
   "metadata": {},
   "source": [
    "---\n",
    "\n",
    "### Booleans <a name='booleans'></a>"
   ]
  },
  {
   "cell_type": "markdown",
   "id": "f6f2d9c6",
   "metadata": {},
   "source": [
    "Python will first look for `__bool__` method to determine if an object is true or false, if not found, it will then try to find `__len__` method. If both methods are missing, by default Python will return `True`."
   ]
  },
  {
   "cell_type": "markdown",
   "id": "4b50a6f8",
   "metadata": {},
   "source": [
    "---\n",
    "\n",
    "### Callables <a name='callables'></a>"
   ]
  },
  {
   "cell_type": "markdown",
   "id": "5f870723",
   "metadata": {},
   "source": [
    "It is possible to make a class to be callable by simply implementing `__call__` method, which can be very useful to:\n",
    "* create function-like objects.\n",
    "* create decorator classes."
   ]
  },
  {
   "cell_type": "code",
   "execution_count": 5,
   "id": "25b33338",
   "metadata": {},
   "outputs": [],
   "source": [
    "class Person:\n",
    "    \n",
    "    def __call__(self, name):\n",
    "        return 'Hello {}!'.format(name)"
   ]
  },
  {
   "cell_type": "code",
   "execution_count": 6,
   "id": "1485a68f",
   "metadata": {},
   "outputs": [
    {
     "name": "stdout",
     "output_type": "stream",
     "text": [
      "True\n"
     ]
    }
   ],
   "source": [
    "p = Person()\n",
    "print(callable(p))"
   ]
  },
  {
   "cell_type": "code",
   "execution_count": 7,
   "id": "a609fb84",
   "metadata": {},
   "outputs": [
    {
     "data": {
      "text/plain": [
       "'Hello Taylor!'"
      ]
     },
     "execution_count": 7,
     "metadata": {},
     "output_type": "execute_result"
    }
   ],
   "source": [
    "p('Taylor')"
   ]
  },
  {
   "cell_type": "markdown",
   "id": "17407031",
   "metadata": {},
   "source": [
    "---\n",
    "\n",
    "### \\_\\_del\\_\\_ Method <a name='del_method'></a>"
   ]
  },
  {
   "cell_type": "markdown",
   "id": "f3faa648",
   "metadata": {},
   "source": [
    "`__del__` method will get called right before the object is destroyed by GC, so GC determines when the object is deleted (when all the references to the object are gone).\n",
    "\n",
    "<font color='red'> Note:  \n",
    "    Normally use context managers instead of `__del__` method to avoid mess.\n",
    "</font>"
   ]
  },
  {
   "cell_type": "markdown",
   "id": "feae22e2",
   "metadata": {},
   "source": [
    "---\n",
    "\n",
    "### \\_\\_format\\_\\_ Method <a name='format_method'></a>"
   ]
  },
  {
   "cell_type": "markdown",
   "id": "8440772c",
   "metadata": {},
   "source": [
    "In order to call format() function, we can custom the class with the `__format__` method.\n",
    "\n",
    "If in `__format__(value, format_spec)`, the format_spec is not specified, it defaults to an empty string (which means no format is applied). If `__format__` method is not found, Python will then look for `__str__` method, which in turn may fall back to `__repr__` method."
   ]
  },
  {
   "cell_type": "code",
   "execution_count": 8,
   "id": "22176053",
   "metadata": {},
   "outputs": [],
   "source": [
    "from datetime import datetime, date"
   ]
  },
  {
   "cell_type": "code",
   "execution_count": 9,
   "id": "5a3c9b84",
   "metadata": {},
   "outputs": [],
   "source": [
    "class Person:\n",
    "    \n",
    "    def __init__(self, name, date_of_birth):\n",
    "        self.name = name\n",
    "        self.date_of_birth = date_of_birth\n",
    "        \n",
    "    def __repr__(self):\n",
    "        print('Calling __repr__')\n",
    "        return 'Person(name: {}, date_of_birth: {})'.format(self.name, self.date_of_birth.isoformat())\n",
    "\n",
    "    def __str__(self):\n",
    "        print('Calling __str__')\n",
    "        return 'Person(name: {})'.format(self.name)\n",
    "    \n",
    "    def __format__(self, date_format_spec):\n",
    "        print('Calling __format__')\n",
    "        date_of_birth = format(self.date_of_birth, date_format_spec)\n",
    "        return 'Person(name: {}, date_of_birth: {})'.format(self.name, date_of_birth)\n",
    "    "
   ]
  },
  {
   "cell_type": "code",
   "execution_count": 10,
   "id": "5f3e11d9",
   "metadata": {},
   "outputs": [],
   "source": [
    "p = Person('Taylor', date(1989, 12, 13))"
   ]
  },
  {
   "cell_type": "code",
   "execution_count": 11,
   "id": "01aba5c0",
   "metadata": {},
   "outputs": [
    {
     "name": "stdout",
     "output_type": "stream",
     "text": [
      "Calling __format__\n"
     ]
    },
    {
     "data": {
      "text/plain": [
       "'Person(name: Taylor, date_of_birth: 1989-12-13)'"
      ]
     },
     "execution_count": 11,
     "metadata": {},
     "output_type": "execute_result"
    }
   ],
   "source": [
    "format(p)"
   ]
  }
 ],
 "metadata": {
  "kernelspec": {
   "display_name": "Python 3",
   "language": "python",
   "name": "python3"
  },
  "language_info": {
   "codemirror_mode": {
    "name": "ipython",
    "version": 3
   },
   "file_extension": ".py",
   "mimetype": "text/x-python",
   "name": "python",
   "nbconvert_exporter": "python",
   "pygments_lexer": "ipython3",
   "version": "3.8.8"
  }
 },
 "nbformat": 4,
 "nbformat_minor": 5
}
