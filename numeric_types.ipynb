{
 "cells": [
  {
   "cell_type": "markdown",
   "id": "2d261ded",
   "metadata": {},
   "source": [
    "## Numeric Types\n",
    "\n",
    "- [**Integers**](#integers)\n",
    "- [**Rational numbers**](#rational_numbers)\n",
    "- [**Floats**](#floats)\n",
    "- [**Decimals**](#decimals)\n",
    "- [**Booleans**](#booleans)"
   ]
  },
  {
   "cell_type": "markdown",
   "id": "2c454091",
   "metadata": {},
   "source": [
    "---\n",
    "\n",
    "### Integers <a name='integers'></a>"
   ]
  },
  {
   "cell_type": "markdown",
   "id": "b3392961",
   "metadata": {},
   "source": [
    "> `Property`: Unlike C, Java, etc., _**int**_ in Python has dynamic size which changes automatically with different values."
   ]
  },
  {
   "cell_type": "markdown",
   "id": "42d9c454",
   "metadata": {},
   "source": [
    "> `Operation`:\n",
    "> - int + int $\\rightarrow$ int\n",
    "> - int - int $\\rightarrow$ int\n",
    "> - int * int $\\rightarrow$ int\n",
    "> - int ** int $\\rightarrow$ int\n",
    "> - int / int $\\rightarrow$ float"
   ]
  },
  {
   "cell_type": "markdown",
   "id": "2694dfe4",
   "metadata": {},
   "source": [
    "> `Converting string to int`: Base can be specified."
   ]
  },
  {
   "cell_type": "code",
   "execution_count": 6,
   "id": "4410b14e",
   "metadata": {},
   "outputs": [
    {
     "data": {
      "text/plain": [
       "5"
      ]
     },
     "execution_count": 6,
     "metadata": {},
     "output_type": "execute_result"
    }
   ],
   "source": [
    "int('101', base=2)"
   ]
  },
  {
   "cell_type": "markdown",
   "id": "5c72f505",
   "metadata": {},
   "source": [
    "---\n",
    "\n",
    "### Rational numbers <a name='rational_numbers'></a>\n",
    "\n",
    "Rational numbers are fractions of integer numbers or real numbers with finite digits."
   ]
  },
  {
   "cell_type": "code",
   "execution_count": 16,
   "id": "9c528979",
   "metadata": {},
   "outputs": [],
   "source": [
    "from fractions import Fraction\n",
    "import math "
   ]
  },
  {
   "cell_type": "code",
   "execution_count": 29,
   "id": "8c3ded6c",
   "metadata": {},
   "outputs": [
    {
     "name": "stdout",
     "output_type": "stream",
     "text": [
      "Fraction 1: 1/3\n",
      "Fraction 2: 3/4\n",
      "Fraction 3: 22/7\n",
      "Fraction of pi: 884279719003555/281474976710656\n",
      "Fraction 4 before: 5404319552844595/18014398509481984\n",
      "Fraction 4 after: 3/10\n"
     ]
    }
   ],
   "source": [
    "a = Fraction(1, 3)\n",
    "print('Fraction 1:', a)\n",
    "\n",
    "b = Fraction(0.75)\n",
    "print('Fraction 2:', b)\n",
    "\n",
    "c = Fraction('22/7')\n",
    "print('Fraction 3:', c)\n",
    "\n",
    "pi = Fraction(math.pi)\n",
    "print('Fraction of pi:', pi)\n",
    "\n",
    "\n",
    "d = Fraction(0.3)\n",
    "print('Fraction 4 before:', d)  # Approximate precision\n",
    "print('Fraction 4 after:', d.limit_denominator(max_denominator=10))  # Set denominator to be less than 10"
   ]
  },
  {
   "cell_type": "markdown",
   "id": "2c242d2d",
   "metadata": {},
   "source": [
    "---\n",
    "\n",
    "### Floats <a name='floats'></a>\n",
    "\n",
    "> `Property`: The **float** uses a fixed number of bytes (i.e. 8 bytes):\n",
    "> - sign $\\rightarrow$ 1 bit\n",
    "> - exponent $\\rightarrow$ 11 bit\n",
    "> - significant digits $\\rightarrow$ 52 bit"
   ]
  },
  {
   "cell_type": "code",
   "execution_count": 28,
   "id": "a3b6f1b5",
   "metadata": {},
   "outputs": [
    {
     "name": "stdout",
     "output_type": "stream",
     "text": [
      "Number can be represented exactly by binary representation: 0.1250000000000000000000000\n",
      "Number can not be represented exactly by binary representation: 0.1000000000000000055511151\n"
     ]
    }
   ],
   "source": [
    "print('Number can be represented exactly by binary representation:', format(0.125, '.25f'))\n",
    "print('Number can not be represented exactly by binary representation:', format(0.1, '.25f'))"
   ]
  },
  {
   "cell_type": "markdown",
   "id": "a7b13f81",
   "metadata": {},
   "source": [
    "> `Equality`: Both relative and absolute tolerance should be taken care of, where rel_tol influences the larger numbers more wheras abs_tol works better when numbers are close to 0."
   ]
  },
  {
   "cell_type": "code",
   "execution_count": 39,
   "id": "b47250d9",
   "metadata": {},
   "outputs": [],
   "source": [
    "from math import isclose "
   ]
  },
  {
   "cell_type": "code",
   "execution_count": 42,
   "id": "a05fe460",
   "metadata": {
    "scrolled": true
   },
   "outputs": [
    {
     "name": "stdout",
     "output_type": "stream",
     "text": [
      "Number 1 and number 2 are close: True\n",
      "Number 1 and number 2 are close: False\n"
     ]
    }
   ],
   "source": [
    "a = 12345678.01\n",
    "b = 12345678.02\n",
    "print('Number 1 and number 2 are close:', isclose(a, b))\n",
    "\n",
    "a = 0.01\n",
    "b = 0.02\n",
    "print('Number 1 and number 2 are close:', isclose(a, b))"
   ]
  },
  {
   "cell_type": "markdown",
   "id": "96a52f77",
   "metadata": {},
   "source": [
    "> `Coercing to integers`:\n",
    "> - truncate: Ignores everything after the decimal point, returns the integer portion of the number.\n",
    "> - floor: Returns the largest integer $\\le$ the number.\n",
    "> - ceiling: Returns the smallest integer $\\ge$ the number."
   ]
  },
  {
   "cell_type": "code",
   "execution_count": 44,
   "id": "0d978b0f",
   "metadata": {},
   "outputs": [],
   "source": [
    "import math"
   ]
  },
  {
   "cell_type": "code",
   "execution_count": 50,
   "id": "ab2ea81a",
   "metadata": {},
   "outputs": [
    {
     "name": "stdout",
     "output_type": "stream",
     "text": [
      "Truncate: -10\n",
      "Truncate using int(): -10\n",
      "Floor: -11\n",
      "Ceiling: -10\n"
     ]
    }
   ],
   "source": [
    "a = -10.4\n",
    "\n",
    "print('Truncate:', math.trunc(a))  # int() works the same as trunc()\n",
    "print('Truncate using int():', int(a))\n",
    "print('Floor:', math.floor(a))\n",
    "print('Ceiling:', math.ceil(a))"
   ]
  },
  {
   "cell_type": "markdown",
   "id": "22771746",
   "metadata": {},
   "source": [
    "> `Rounding`:\n",
    "Round the number to the closest multiple of $10^{-n}$"
   ]
  },
  {
   "cell_type": "code",
   "execution_count": 58,
   "id": "287113f9",
   "metadata": {},
   "outputs": [
    {
     "name": "stdout",
     "output_type": "stream",
     "text": [
      "Rounding 1.3: 1.0\n",
      "Rounding -1.3: -1.0\n",
      "Rounding 810: 1000\n",
      "Rounding 1.25: 1.2\n",
      "Rounding 1.35: 1.4\n"
     ]
    }
   ],
   "source": [
    "print('Rounding 1.3:', round(1.3, 0))\n",
    "print('Rounding -1.3:', round(-1.3, 0))\n",
    "print('Rounding 810:', round(810, -3))\n",
    "\n",
    "# Banker rounding\n",
    "print('Rounding 1.25:', round(1.25, 1))\n",
    "print('Rounding 1.35:', round(1.35, 1))"
   ]
  },
  {
   "cell_type": "markdown",
   "id": "0771fb8f",
   "metadata": {},
   "source": [
    "---\n",
    "\n",
    "### Decimals <a name='decimals'></a>\n",
    "\n",
    "> `Advantage over `**`Float`**` and `**`Fraction`**: With Decimal, fixed precision and rounding mechanism can be set to solve the problems **Float** and **Fraction** face.\n",
    "> - Float is not accurate enough, which can make trouble in some cases.\n",
    "> - Fraction is accurate, but requires extra memory for operating. \n",
    "\n",
    "> `Disadvantage`: Normally creates more overhead and consumes more resources."
   ]
  },
  {
   "cell_type": "code",
   "execution_count": 12,
   "id": "80973d48",
   "metadata": {},
   "outputs": [],
   "source": [
    "import decimal\n",
    "from decimal import Decimal"
   ]
  },
  {
   "cell_type": "code",
   "execution_count": 13,
   "id": "aeb15e8c",
   "metadata": {},
   "outputs": [],
   "source": [
    "# Set a global decimal context\n",
    "global_ctx = decimal.getcontext()\n",
    "\n",
    "# Change precision for int input\n",
    "global_ctx.prec = 20\n",
    "\n",
    "# Change rounding mechanism for str input\n",
    "global_ctx.rounding = 'ROUND_HALF_DOWN'"
   ]
  },
  {
   "cell_type": "code",
   "execution_count": 14,
   "id": "0eb725a3",
   "metadata": {},
   "outputs": [
    {
     "name": "stdout",
     "output_type": "stream",
     "text": [
      "Context(prec=6, rounding=ROUND_HALF_UP, Emin=-999999, Emax=999999, capitals=1, clamp=0, flags=[], traps=[InvalidOperation, DivisionByZero, Overflow])\n",
      "Local context-a: 1.3\n",
      "Local context-b: 1.5\n",
      "Global context-a: 1.2\n",
      "Global context-b: 1.4\n"
     ]
    }
   ],
   "source": [
    "# Set a local decimal context\n",
    "a = Decimal('1.25')\n",
    "b = Decimal('1.45')\n",
    "\n",
    "with decimal.localcontext() as local_ctx:\n",
    "    local_ctx.prec = 6\n",
    "    local_ctx.rounding = decimal.ROUND_HALF_UP\n",
    "    print(decimal.getcontext())\n",
    "    \n",
    "    print('Local context-a:', round(a, 1))\n",
    "    print('Local context-b:', round(b, 1))\n",
    "    \n",
    "print('Global context-a:', round(a, 1))\n",
    "print('Global context-b:', round(b, 1))"
   ]
  },
  {
   "cell_type": "markdown",
   "id": "fc9c5c29",
   "metadata": {},
   "source": [
    "> `Various decimal object constructors`:\n",
    "> - Integer\n",
    "> - Strings\n",
    "> - Tuples\n",
    "> - Floats (not often done since precise digits will be stored in decimal objects)"
   ]
  },
  {
   "cell_type": "code",
   "execution_count": 24,
   "id": "0ddf08fb",
   "metadata": {},
   "outputs": [
    {
     "name": "stdout",
     "output_type": "stream",
     "text": [
      "Decimal 10: 10\n",
      "Decimal 10.1: 10.1\n",
      "Decimal -3.1415: -3.1415\n",
      "Decimal 3.1415: 3.1415\n",
      "Decimal -3.1415: -3.1415\n",
      "Decimal 10.1: 10.0999999999999996447286321199499070644378662109375\n"
     ]
    }
   ],
   "source": [
    "# Integer\n",
    "print('Decimal 10:', Decimal(10))\n",
    "\n",
    "# String\n",
    "print('Decimal 10.1:', Decimal('10.1'))\n",
    "print('Decimal -3.1415:', Decimal('-3.1415'))\n",
    "\n",
    "# Tuple\n",
    "print('Decimal 3.1415:', Decimal((0, (3, 1, 4, 1, 5), -4)))\n",
    "print('Decimal -3.1415:', Decimal((1, (3, 1, 4, 1, 5), -4)))\n",
    "\n",
    "# Float (caveat)\n",
    "print('Decimal 10.1:', Decimal(10.1))"
   ]
  },
  {
   "cell_type": "markdown",
   "id": "1d982f4b",
   "metadata": {},
   "source": [
    "> `Math operation caveats`:\n",
    "> - // and % will work differently from integer.\n",
    "> - Use build-in functions in _Decimal_ instead of _Math_ module since **decimal** will first be cast into **float** there which does not make much sense."
   ]
  },
  {
   "cell_type": "code",
   "execution_count": 31,
   "id": "dfe9a00b",
   "metadata": {},
   "outputs": [
    {
     "name": "stdout",
     "output_type": "stream",
     "text": [
      "Integer division: -4\n",
      "Integer mod: 2\n"
     ]
    }
   ],
   "source": [
    "# Floor\n",
    "a = -10\n",
    "b = 3\n",
    "print('Integer division:', a//b)\n",
    "print('Integer mod:', a%b)"
   ]
  },
  {
   "cell_type": "code",
   "execution_count": 32,
   "id": "06da42b6",
   "metadata": {},
   "outputs": [
    {
     "name": "stdout",
     "output_type": "stream",
     "text": [
      "Decimal(int) division: -3\n",
      "Decimal(int) mod: -1\n"
     ]
    }
   ],
   "source": [
    "# Truncate\n",
    "c = Decimal(-10)\n",
    "d = Decimal(3)\n",
    "print('Decimal(int) division:', c//d)\n",
    "print('Decimal(int) mod:', c%d)"
   ]
  },
  {
   "cell_type": "markdown",
   "id": "f9d302c3",
   "metadata": {},
   "source": [
    "---\n",
    "\n",
    "### Booleans <a name='booleans'></a>\n",
    "\n",
    "> `Property`: Booleans are singleton objects so it will have same memory address throughout the program life time, hence using **is** for comparing with **True** or **False** is more efficient than **==**."
   ]
  },
  {
   "cell_type": "markdown",
   "id": "8693303d",
   "metadata": {},
   "source": [
    "> `Truthiness`: Every object has a **True** value, except:\n",
    "> - **None**\n",
    "> - **False**\n",
    "> - **0** in any numeric type (integer, float, decimal, complex, ...)\n",
    "> - Empty sequences (list, tuple, string, ...)\n",
    "> - Empty mapping types (dictionary, set, ...)"
   ]
  }
 ],
 "metadata": {
  "kernelspec": {
   "display_name": "Python 3",
   "language": "python",
   "name": "python3"
  },
  "language_info": {
   "codemirror_mode": {
    "name": "ipython",
    "version": 3
   },
   "file_extension": ".py",
   "mimetype": "text/x-python",
   "name": "python",
   "nbconvert_exporter": "python",
   "pygments_lexer": "ipython3",
   "version": "3.8.8"
  }
 },
 "nbformat": 4,
 "nbformat_minor": 5
}
