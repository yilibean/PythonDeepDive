{
 "cells": [
  {
   "cell_type": "markdown",
   "id": "3079c61d",
   "metadata": {},
   "source": [
    "## Numeric Types\n",
    "\n",
    "- [**Integers**](#integers)\n",
    "- [**Rational numbers**](#rational_numbers)\n",
    "- [**Floats**](#floats)\n",
    "---"
   ]
  },
  {
   "cell_type": "markdown",
   "id": "9cd41233",
   "metadata": {},
   "source": [
    "### Integers <a name='integers'></a>"
   ]
  },
  {
   "cell_type": "markdown",
   "id": "8779899c",
   "metadata": {},
   "source": [
    "1. `Property`: Unlike C, Java, etc., _**int**_ in Python has dynamic size which changes automatically with different values."
   ]
  },
  {
   "cell_type": "markdown",
   "id": "6e2f5584",
   "metadata": {},
   "source": [
    "2. `Operation`:\n",
    "    - int + int $\\rightarrow$ int\n",
    "    - int - int $\\rightarrow$ int\n",
    "    - int * int $\\rightarrow$ int\n",
    "    - int ** int $\\rightarrow$ int\n",
    "    - int / int $\\rightarrow$ float"
   ]
  },
  {
   "cell_type": "markdown",
   "id": "5d489a1c",
   "metadata": {},
   "source": [
    "3. `Converting string to int`: Base can be specified."
   ]
  },
  {
   "cell_type": "code",
   "execution_count": 6,
   "id": "a5f23070",
   "metadata": {},
   "outputs": [
    {
     "data": {
      "text/plain": [
       "5"
      ]
     },
     "execution_count": 6,
     "metadata": {},
     "output_type": "execute_result"
    }
   ],
   "source": [
    "int('101', base=2)"
   ]
  },
  {
   "cell_type": "markdown",
   "id": "f1d22479",
   "metadata": {},
   "source": [
    "---\n",
    "\n",
    "### Rational numbers <a name='rational_numbers'></a>\n",
    "\n",
    "Rational numbers are fractions of integer numbers or real numbers with finite digits."
   ]
  },
  {
   "cell_type": "code",
   "execution_count": 16,
   "id": "a12fd7d9",
   "metadata": {},
   "outputs": [],
   "source": [
    "from fractions import Fraction\n",
    "import math "
   ]
  },
  {
   "cell_type": "code",
   "execution_count": 29,
   "id": "95559031",
   "metadata": {},
   "outputs": [
    {
     "name": "stdout",
     "output_type": "stream",
     "text": [
      "Fraction 1: 1/3\n",
      "Fraction 2: 3/4\n",
      "Fraction 3: 22/7\n",
      "Fraction of pi: 884279719003555/281474976710656\n",
      "Fraction 4 before: 5404319552844595/18014398509481984\n",
      "Fraction 4 after: 3/10\n"
     ]
    }
   ],
   "source": [
    "a = Fraction(1, 3)\n",
    "print('Fraction 1:', a)\n",
    "\n",
    "b = Fraction(0.75)\n",
    "print('Fraction 2:', b)\n",
    "\n",
    "c = Fraction('22/7')\n",
    "print('Fraction 3:', c)\n",
    "\n",
    "pi = Fraction(math.pi)\n",
    "print('Fraction of pi:', pi)\n",
    "\n",
    "\n",
    "d = Fraction(0.3)\n",
    "print('Fraction 4 before:', d)  # Approximate precision\n",
    "print('Fraction 4 after:', d.limit_denominator(max_denominator=10))  # Set denominator to be less than 10"
   ]
  },
  {
   "cell_type": "markdown",
   "id": "45535555",
   "metadata": {},
   "source": [
    "---\n",
    "\n",
    "### Floats <a name='floats'></a>\n",
    "\n",
    "1. `Property`: The **float** uses a fixed number of bytes (i.e. 8 bytes):\n",
    "    - sign $\\rightarrow$ 1 bit\n",
    "    - exponent $\\rightarrow$ 11 bit\n",
    "    - significant digits $\\rightarrow$ 52 bit"
   ]
  },
  {
   "cell_type": "code",
   "execution_count": 28,
   "id": "9e4a4e89",
   "metadata": {},
   "outputs": [
    {
     "name": "stdout",
     "output_type": "stream",
     "text": [
      "Number can be represented exactly by binary representation: 0.1250000000000000000000000\n",
      "Number can not be represented exactly by binary representation: 0.1000000000000000055511151\n"
     ]
    }
   ],
   "source": [
    "print('Number can be represented exactly by binary representation:', format(0.125, '.25f'))\n",
    "print('Number can not be represented exactly by binary representation:', format(0.1, '.25f'))"
   ]
  },
  {
   "cell_type": "markdown",
   "id": "b862bedf",
   "metadata": {},
   "source": [
    "2. `Equality`: Both relative and absolute tolerance should be taken care of, where rel_tol influences the larger numbers more wheras abs_tol works better when numbers are close to 0."
   ]
  },
  {
   "cell_type": "code",
   "execution_count": 39,
   "id": "0d1aa810",
   "metadata": {},
   "outputs": [],
   "source": [
    "from math import isclose "
   ]
  },
  {
   "cell_type": "code",
   "execution_count": 42,
   "id": "d4e472ec",
   "metadata": {
    "scrolled": true
   },
   "outputs": [
    {
     "name": "stdout",
     "output_type": "stream",
     "text": [
      "Number 1 and number 2 are close: True\n",
      "Number 1 and number 2 are close: False\n"
     ]
    }
   ],
   "source": [
    "a = 12345678.01\n",
    "b = 12345678.02\n",
    "print('Number 1 and number 2 are close:', isclose(a, b))\n",
    "\n",
    "a = 0.01\n",
    "b = 0.02\n",
    "print('Number 1 and number 2 are close:', isclose(a, b))"
   ]
  },
  {
   "cell_type": "markdown",
   "id": "46991062",
   "metadata": {},
   "source": [
    "3. `Coercing to integers`:\n",
    "    - truncate: Ignores everything after the decimal point, returns the integer portion of the number.\n",
    "    - floor: Returns the largest integer $\\le$ the number.\n",
    "    - ceiling: Returns the smallest integer $\\ge$ the number.\n",
    "    - round:"
   ]
  },
  {
   "cell_type": "code",
   "execution_count": 44,
   "id": "816fd175",
   "metadata": {},
   "outputs": [],
   "source": [
    "import math"
   ]
  },
  {
   "cell_type": "code",
   "execution_count": 49,
   "id": "b155590c",
   "metadata": {},
   "outputs": [
    {
     "name": "stdout",
     "output_type": "stream",
     "text": [
      "Truncate: -10\n",
      "Truncate using int(): -10\n",
      "Floor: -11\n",
      "Ceiling: -10\n",
      "\n"
     ]
    }
   ],
   "source": [
    "a = -10.4\n",
    "\n",
    "print('Truncate:', math.trunc(a))  # int() works the same as trunc()\n",
    "print('Truncate using int():', int(a))\n",
    "print('Floor:', math.floor(a))\n",
    "print('Ceiling:', math.ceil(a))\n",
    "print()"
   ]
  },
  {
   "cell_type": "code",
   "execution_count": null,
   "id": "f707f715",
   "metadata": {},
   "outputs": [],
   "source": []
  }
 ],
 "metadata": {
  "kernelspec": {
   "display_name": "Python 3",
   "language": "python",
   "name": "python3"
  },
  "language_info": {
   "codemirror_mode": {
    "name": "ipython",
    "version": 3
   },
   "file_extension": ".py",
   "mimetype": "text/x-python",
   "name": "python",
   "nbconvert_exporter": "python",
   "pygments_lexer": "ipython3",
   "version": "3.8.8"
  }
 },
 "nbformat": 4,
 "nbformat_minor": 5
}
