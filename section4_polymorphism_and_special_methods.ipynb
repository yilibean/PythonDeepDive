{
 "cells": [
  {
   "cell_type": "markdown",
   "id": "915ff8f4",
   "metadata": {},
   "source": [
    "## Polymorphism and Special Methods\n",
    "\n",
    "- [**\\_\\_str\\_\\_ and \\_\\_repr\\_\\_ Methods**](#str_and_repr_methods)\n",
    "- [**Arithmetic Operators**](#arithmetic_operators)\n",
    "- [**Rich Comparisons**](#rich_comparisons)\n",
    "- [**Hashing and Equality**](#hashing_and_equality)\n",
    "- [**Booleans**](#booleans)\n",
    "- [**Callables**](#callables)\n",
    "- [**\\_\\_del\\_\\_ Method**](#del_method)\n",
    "- [**\\_\\_format\\_\\_ Method**](#format_method)"
   ]
  },
  {
   "cell_type": "markdown",
   "id": "259571a7",
   "metadata": {},
   "source": [
    "---\n",
    "\n",
    "### \\_\\_str\\_\\_ and \\_\\_repr\\_\\_ Methods <a name='str_and_repr_methods'></a>"
   ]
  },
  {
   "cell_type": "markdown",
   "id": "941c01b9",
   "metadata": {},
   "source": [
    "* Similarity:\n",
    "    * Both are used for creating a string representation of an object.\n",
    "* Difference:\n",
    "    * \\_\\_repr\\_\\_:\n",
    "        * is typically used by developers to describe the object.\n",
    "        * is useful for debugging.\n",
    "        * is called using repr() function. \n",
    "    * \\_\\_str\\_\\_:\n",
    "        * is typically used by end users for displaying purpose.\n",
    "        * is called using str() or print() function.\n",
    "        \n",
    "<font color='red'> Note:   \n",
    "    When calling print()/str() method, Python will first look for `__str__` method, and if it is not implemented, it will then try to look for `__repr__`. If `__repr__` is not found either, then Python will inherit from `Object` to use `__repr__` defined there instead. </font>"
   ]
  },
  {
   "cell_type": "code",
   "execution_count": 16,
   "id": "fa7013c2",
   "metadata": {},
   "outputs": [],
   "source": [
    "class Person:\n",
    "    \n",
    "    def __init__(self, name, age):\n",
    "        self.name = name\n",
    "        self.age = age\n",
    "        \n",
    "    def __repr__(self):\n",
    "        print('Calling __repr__')\n",
    "        return 'Person(name={}, age={})'.format(self.name, self.age)\n",
    "    \n",
    "    def __str__(self):\n",
    "        print('Calling __str__')\n",
    "        return self.name"
   ]
  },
  {
   "cell_type": "code",
   "execution_count": 17,
   "id": "963f9fe7",
   "metadata": {},
   "outputs": [],
   "source": [
    "p = Person('Taylor', 22)"
   ]
  },
  {
   "cell_type": "code",
   "execution_count": 18,
   "id": "11326964",
   "metadata": {},
   "outputs": [
    {
     "name": "stdout",
     "output_type": "stream",
     "text": [
      "Calling __repr__\n"
     ]
    },
    {
     "data": {
      "text/plain": [
       "'Person(name=Taylor, age=22)'"
      ]
     },
     "execution_count": 18,
     "metadata": {},
     "output_type": "execute_result"
    }
   ],
   "source": [
    "repr(p)"
   ]
  },
  {
   "cell_type": "code",
   "execution_count": 19,
   "id": "3d92e7af",
   "metadata": {},
   "outputs": [
    {
     "name": "stdout",
     "output_type": "stream",
     "text": [
      "Calling __str__\n"
     ]
    },
    {
     "data": {
      "text/plain": [
       "'Taylor'"
      ]
     },
     "execution_count": 19,
     "metadata": {},
     "output_type": "execute_result"
    }
   ],
   "source": [
    "str(p)"
   ]
  },
  {
   "cell_type": "markdown",
   "id": "4f89c992",
   "metadata": {},
   "source": [
    "---\n",
    "\n",
    "### Arithmetic Operators <a name='arithmetic_operators'></a>"
   ]
  },
  {
   "cell_type": "markdown",
   "id": "9a6a0c0e",
   "metadata": {},
   "source": [
    "* Arithmetic operators:\n",
    "    * `__add__`: +\n",
    "    * `__sub__`: -\n",
    "    * `__mul__`: *\n",
    "    * `__truediv__`: /\n",
    "    * `__floordiv__`: //\n",
    "    * `__mod__`: %\n",
    "    * `__pow__`: **\n",
    "    * `__matmul__`: @"
   ]
  },
  {
   "cell_type": "markdown",
   "id": "ab03d0ca",
   "metadata": {},
   "source": [
    "* Reflected operators:  \n",
    "Consider _a+b_, Python will attempt to call a.\\_\\_add\\_\\_(b) first and if it returns `NotImplemented`, and the operands are not of the same type, then Python will swap the operands and try:\n",
    "    * `__radd__`\n",
    "    * `__rsub__`\n",
    "    * `__rmul__`\n",
    "    * `__rtruediv__`\n",
    "    * `__rfloordiv__`\n",
    "    * `__rmod__`\n",
    "    * `__rpow__`"
   ]
  },
  {
   "cell_type": "markdown",
   "id": "4fca26f1",
   "metadata": {},
   "source": [
    "* In-place operators:\n",
    "    * `__iadd__`: +=\n",
    "    * `__isub__`: -=\n",
    "    * `__imul__`: *=\n",
    "    * `__itruediv__`: /=\n",
    "    * `__ifloordiv__`: //=\n",
    "    * `__imod__`: %=\n",
    "    * `__ipow__`: \\*\\*="
   ]
  },
  {
   "cell_type": "markdown",
   "id": "e84b694d",
   "metadata": {},
   "source": [
    "---\n",
    "\n",
    "### Rich Comparisons <a name='rich_comparisons'></a>"
   ]
  },
  {
   "cell_type": "markdown",
   "id": "39597166",
   "metadata": {},
   "source": [
    "* `__lt__`: <\n",
    "* `__le__`: <=\n",
    "* `__eq__`: ==\n",
    "* `__ne__`: !=\n",
    "* `__gt__`: >\n",
    "* `__ge__`: >=\n",
    "\n",
    "<font color='red'> Note:  \n",
    "Python automatically uses reflection. </font>"
   ]
  },
  {
   "cell_type": "markdown",
   "id": "f7a74062",
   "metadata": {},
   "source": [
    "---\n",
    "\n",
    "### Hashing and Equality <a name='hashing_and_equality'></a>"
   ]
  },
  {
   "cell_type": "markdown",
   "id": "9b65d1ce",
   "metadata": {},
   "source": [
    "Hashing simply implements `__hash__` method."
   ]
  },
  {
   "cell_type": "markdown",
   "id": "92ed4e26",
   "metadata": {},
   "source": [
    "---\n",
    "\n",
    "### Booleans <a name='booleans'></a>"
   ]
  },
  {
   "cell_type": "markdown",
   "id": "c82e3fcd",
   "metadata": {},
   "source": [
    "Python will first look for `__bool__` method to determine if an object is true or false, if not found, it will then try to find `__len__` method. If both methods are missing, by default Python will return `True`."
   ]
  },
  {
   "cell_type": "markdown",
   "id": "1248673f",
   "metadata": {},
   "source": [
    "---\n",
    "\n",
    "### Callables <a name='callables'></a>"
   ]
  },
  {
   "cell_type": "markdown",
   "id": "75847809",
   "metadata": {},
   "source": [
    "It is possible to make a class to be callable by simply implementing `__call__` method, which can be very useful to:\n",
    "* create function-like objects.\n",
    "* create decorator classes."
   ]
  },
  {
   "cell_type": "code",
   "execution_count": 24,
   "id": "218c0f94",
   "metadata": {},
   "outputs": [],
   "source": [
    "class Person:\n",
    "    \n",
    "    def __call__(self, name):\n",
    "        return 'Hello {}!'.format(name)"
   ]
  },
  {
   "cell_type": "code",
   "execution_count": 27,
   "id": "b07f2aa8",
   "metadata": {},
   "outputs": [
    {
     "name": "stdout",
     "output_type": "stream",
     "text": [
      "True\n"
     ]
    }
   ],
   "source": [
    "p = Person()\n",
    "print(callable(p))"
   ]
  },
  {
   "cell_type": "code",
   "execution_count": 30,
   "id": "bf9527bf",
   "metadata": {},
   "outputs": [
    {
     "data": {
      "text/plain": [
       "'Hello Taylor!'"
      ]
     },
     "execution_count": 30,
     "metadata": {},
     "output_type": "execute_result"
    }
   ],
   "source": [
    "p('Taylor')"
   ]
  },
  {
   "cell_type": "markdown",
   "id": "2b309a00",
   "metadata": {},
   "source": [
    "---\n",
    "\n",
    "### \\_\\_del\\_\\_ Method <a name='del_method'></a>"
   ]
  },
  {
   "cell_type": "markdown",
   "id": "ed6987cf",
   "metadata": {},
   "source": [
    "`__del__` method is"
   ]
  }
 ],
 "metadata": {
  "kernelspec": {
   "display_name": "Python 3",
   "language": "python",
   "name": "python3"
  },
  "language_info": {
   "codemirror_mode": {
    "name": "ipython",
    "version": 3
   },
   "file_extension": ".py",
   "mimetype": "text/x-python",
   "name": "python",
   "nbconvert_exporter": "python",
   "pygments_lexer": "ipython3",
   "version": "3.8.8"
  }
 },
 "nbformat": 4,
 "nbformat_minor": 5
}
