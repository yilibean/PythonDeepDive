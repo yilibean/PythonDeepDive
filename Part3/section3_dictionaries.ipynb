{
 "cells": [
  {
   "cell_type": "markdown",
   "id": "65ec1a8c",
   "metadata": {},
   "source": [
    "## Dictionaries\n",
    "\n",
    "- [**Creating Dictionaries**](#creating_dictionaries)\n",
    "- [**Common Operations**](#common_operations)\n",
    "- [**Updating, Merging and Copying**](#updating_merging_and_copying)\n",
    "- [**Custom Classes and Hashing**](#custom_classes_and_hashing)"
   ]
  },
  {
   "cell_type": "markdown",
   "id": "bac85b0b",
   "metadata": {},
   "source": [
    "---\n",
    "\n",
    "### Creating Dictionaries <a name='creating_dictionaries'></a>"
   ]
  },
  {
   "cell_type": "markdown",
   "id": "9be5ec34",
   "metadata": {},
   "source": [
    "Basic structure of dictionary elements is `key : value` where:\n",
    "* `key` must be a hashable object that assures uniqueness for retrieving its corresponding value, generally speaking mutable objects are not hashable wheras immutable objects are:\n",
    "    * Hashable: \n",
    "        * int, float, complex, binary, Decimal, Fraction\n",
    "        * strings\n",
    "        * frozenset\n",
    "        * tuples (only if all the elements within it are immutable)\n",
    "        * functions\n",
    "    * Un-hashable:\n",
    "        * set\n",
    "        * dict\n",
    "        * list\n",
    "* `value` can be any object (integer, function, class, module, etc.)"
   ]
  },
  {
   "cell_type": "markdown",
   "id": "f0d25fd2",
   "metadata": {},
   "source": [
    "The requirements for a hashable object are:\n",
    "* The hash of this object must be an integer\n",
    "* If two objects are equal (==), then their hashes must also be equal (besides, note that the hash value of an object would remain the same over the run life-time)"
   ]
  },
  {
   "cell_type": "markdown",
   "id": "f3367c9d",
   "metadata": {},
   "source": [
    "There are multiple ways for generating a dictionary:"
   ]
  },
  {
   "cell_type": "markdown",
   "id": "8f9d8b10",
   "metadata": {},
   "source": [
    "> Using literals"
   ]
  },
  {
   "cell_type": "code",
   "execution_count": 1,
   "id": "8fb8d64e",
   "metadata": {},
   "outputs": [
    {
     "name": "stdout",
     "output_type": "stream",
     "text": [
      "{'a': 100, 'b': 200}\n"
     ]
    }
   ],
   "source": [
    "my_dict = {'a': 100, 'b': 200}\n",
    "print(my_dict)"
   ]
  },
  {
   "cell_type": "markdown",
   "id": "b911cfaf",
   "metadata": {},
   "source": [
    "> Using `dict()`"
   ]
  },
  {
   "cell_type": "code",
   "execution_count": 2,
   "id": "31618763",
   "metadata": {},
   "outputs": [
    {
     "name": "stdout",
     "output_type": "stream",
     "text": [
      "{'a': 100, 'b': 200}\n"
     ]
    }
   ],
   "source": [
    "my_dict = dict((('a', 100), ['b', 200]))\n",
    "print(my_dict)"
   ]
  },
  {
   "cell_type": "markdown",
   "id": "2f5d1c0e",
   "metadata": {},
   "source": [
    "> Using comprehension"
   ]
  },
  {
   "cell_type": "code",
   "execution_count": 3,
   "id": "3743fcfe",
   "metadata": {},
   "outputs": [
    {
     "name": "stdout",
     "output_type": "stream",
     "text": [
      "{'a': 1, 'b': 2, 'c': 3, 'd': 4}\n"
     ]
    }
   ],
   "source": [
    "keys = 'abcd'\n",
    "values = range(1, 5)\n",
    "\n",
    "my_dict = {k:v for k, v in zip(keys, values)}\n",
    "print(my_dict)"
   ]
  },
  {
   "cell_type": "markdown",
   "id": "81b20ef4",
   "metadata": {},
   "source": [
    "> Using `fromkeys()`"
   ]
  },
  {
   "cell_type": "code",
   "execution_count": 4,
   "id": "422e5bff",
   "metadata": {},
   "outputs": [
    {
     "name": "stdout",
     "output_type": "stream",
     "text": [
      "{1: False, 2: False, 3: False, 4: False}\n"
     ]
    }
   ],
   "source": [
    "my_dict = dict.fromkeys([1, 2, 3, 4], False)\n",
    "print(my_dict)"
   ]
  },
  {
   "cell_type": "markdown",
   "id": "eb9a46ed",
   "metadata": {},
   "source": [
    "---\n",
    "\n",
    "### Common Operations <a name='common_operations'></a>"
   ]
  },
  {
   "cell_type": "markdown",
   "id": "85896702",
   "metadata": {},
   "source": [
    "> Get/assign values"
   ]
  },
  {
   "cell_type": "code",
   "execution_count": 5,
   "id": "eaef558c",
   "metadata": {},
   "outputs": [],
   "source": [
    "my_dict = {'a': 1, 'b': 2}"
   ]
  },
  {
   "cell_type": "code",
   "execution_count": 6,
   "id": "95b64c40",
   "metadata": {},
   "outputs": [
    {
     "name": "stdout",
     "output_type": "stream",
     "text": [
      "Key is not found\n"
     ]
    }
   ],
   "source": [
    "# Get value directly\n",
    "try:\n",
    "    my_dict['c']\n",
    "except KeyError as ex:\n",
    "    print('Key is not found')"
   ]
  },
  {
   "cell_type": "code",
   "execution_count": 7,
   "id": "a93c2657",
   "metadata": {},
   "outputs": [
    {
     "name": "stdout",
     "output_type": "stream",
     "text": [
      "N/A\n",
      "1\n"
     ]
    }
   ],
   "source": [
    "# Get value using get() method and return a default value if key not found (default value will not be assigned to this key)\n",
    "print(my_dict.get('c', 'N/A'))\n",
    "print(my_dict.get('a', 'N/A'))"
   ]
  },
  {
   "cell_type": "code",
   "execution_count": 8,
   "id": "4123cd8a",
   "metadata": {},
   "outputs": [
    {
     "name": "stdout",
     "output_type": "stream",
     "text": [
      "{'a': 1, 'b': 2, 'c': 3}\n"
     ]
    }
   ],
   "source": [
    "# Assign a value to a key no matter it exists already or not\n",
    "my_dict['c'] = 3\n",
    "print(my_dict)"
   ]
  },
  {
   "cell_type": "markdown",
   "id": "05fb92cb",
   "metadata": {},
   "source": [
    "> Test existence of a key"
   ]
  },
  {
   "cell_type": "code",
   "execution_count": 9,
   "id": "3f274b67",
   "metadata": {},
   "outputs": [
    {
     "name": "stdout",
     "output_type": "stream",
     "text": [
      "True\n",
      "False\n"
     ]
    }
   ],
   "source": [
    "my_dict = {'a': 1, 'b': 2}\n",
    "print('a' in my_dict)\n",
    "print('c' in my_dict)"
   ]
  },
  {
   "cell_type": "markdown",
   "id": "061d19ce",
   "metadata": {},
   "source": [
    "> Clear a dictionary"
   ]
  },
  {
   "cell_type": "code",
   "execution_count": 10,
   "id": "f378e282",
   "metadata": {},
   "outputs": [
    {
     "name": "stdout",
     "output_type": "stream",
     "text": [
      "{}\n"
     ]
    }
   ],
   "source": [
    "my_dict = {'a': 1, 'b': 2}\n",
    "my_dict.clear()\n",
    "print(my_dict)"
   ]
  },
  {
   "cell_type": "markdown",
   "id": "bea08a4c",
   "metadata": {},
   "source": [
    "> Remove elements"
   ]
  },
  {
   "cell_type": "code",
   "execution_count": 11,
   "id": "6aa29c83",
   "metadata": {},
   "outputs": [],
   "source": [
    "my_dict = {'a': 1, 'b': 2, 'c': 3}"
   ]
  },
  {
   "cell_type": "code",
   "execution_count": 12,
   "id": "6388ce22",
   "metadata": {},
   "outputs": [
    {
     "name": "stdout",
     "output_type": "stream",
     "text": [
      "{'b': 2, 'c': 3}\n"
     ]
    }
   ],
   "source": [
    "# Delete a key directly\n",
    "del my_dict['a']\n",
    "print(my_dict)"
   ]
  },
  {
   "cell_type": "code",
   "execution_count": 13,
   "id": "bf41debf",
   "metadata": {},
   "outputs": [
    {
     "data": {
      "text/plain": [
       "'Not found'"
      ]
     },
     "execution_count": 13,
     "metadata": {},
     "output_type": "execute_result"
    }
   ],
   "source": [
    "# Delete a key using pop()\n",
    "my_dict.pop('a', 'Not found')"
   ]
  },
  {
   "cell_type": "code",
   "execution_count": 14,
   "id": "b3c8265e",
   "metadata": {},
   "outputs": [
    {
     "data": {
      "text/plain": [
       "('c', 3)"
      ]
     },
     "execution_count": 14,
     "metadata": {},
     "output_type": "execute_result"
    }
   ],
   "source": [
    "# Remove last item\n",
    "my_dict.popitem()"
   ]
  },
  {
   "cell_type": "markdown",
   "id": "260331a7",
   "metadata": {},
   "source": [
    "> Insert keys"
   ]
  },
  {
   "cell_type": "code",
   "execution_count": 15,
   "id": "b1a75425",
   "metadata": {},
   "outputs": [
    {
     "name": "stdout",
     "output_type": "stream",
     "text": [
      "1\n",
      "3\n"
     ]
    }
   ],
   "source": [
    "my_dict = {'a': 1, 'b': 2}\n",
    "print(my_dict.setdefault('a', 3))\n",
    "print(my_dict.setdefault('c', 3))"
   ]
  },
  {
   "cell_type": "markdown",
   "id": "e648f90c",
   "metadata": {},
   "source": [
    "---\n",
    "\n",
    "### Updating, Merging and Copying <a name='updating_merging_and_copying'></a>"
   ]
  },
  {
   "cell_type": "markdown",
   "id": "53d5332d",
   "metadata": {},
   "source": [
    "> Updating"
   ]
  },
  {
   "cell_type": "code",
   "execution_count": 16,
   "id": "e9243bbb",
   "metadata": {},
   "outputs": [
    {
     "name": "stdout",
     "output_type": "stream",
     "text": [
      "{'a': 1, 'b': 20, 'c': 30}\n"
     ]
    }
   ],
   "source": [
    "d1 = {'a': 1, 'b': 2}\n",
    "d2 = {'b': 20, 'c': 30}\n",
    "# Update with another dictionary\n",
    "d1.update(d2)\n",
    "print(d1)"
   ]
  },
  {
   "cell_type": "code",
   "execution_count": 17,
   "id": "e44e17d1",
   "metadata": {},
   "outputs": [
    {
     "name": "stdout",
     "output_type": "stream",
     "text": [
      "{'a': 10, 'b': 2}\n"
     ]
    }
   ],
   "source": [
    "# Update with keyword args\n",
    "d1 = {'a': 1, 'b': 2}\n",
    "d1.update(a=10)\n",
    "print(d1)"
   ]
  },
  {
   "cell_type": "code",
   "execution_count": 18,
   "id": "b70a3be8",
   "metadata": {},
   "outputs": [
    {
     "name": "stdout",
     "output_type": "stream",
     "text": [
      "{'a': 10, 'b': 2, 'c': 20}\n"
     ]
    }
   ],
   "source": [
    "# Update with an iterable with same length\n",
    "d1 = {'a': 1, 'b': 2}\n",
    "d1.update((('a', 10), ['c', 20]))\n",
    "print(d1)"
   ]
  },
  {
   "cell_type": "markdown",
   "id": "3b3a5eb8",
   "metadata": {},
   "source": [
    "> Merging"
   ]
  },
  {
   "cell_type": "code",
   "execution_count": 19,
   "id": "37d09955",
   "metadata": {},
   "outputs": [
    {
     "name": "stdout",
     "output_type": "stream",
     "text": [
      "{'a': 20, 'b': 200, (0, 0): 'origin', 'c': 3}\n"
     ]
    }
   ],
   "source": [
    "d1 = {'a': 1, 'b': 2}\n",
    "d2 = {'a': 20, (0, 0): 'origin'}\n",
    "d3 = {'b': 200, 'c': 3}\n",
    "\n",
    "# Unpack individual dicts and merge them into one, where the last value of the same key will overwrite the previous ones \n",
    "d = {**d1, **d2, **d3}\n",
    "print(d)"
   ]
  },
  {
   "cell_type": "markdown",
   "id": "284811ae",
   "metadata": {},
   "source": [
    "> Copying"
   ]
  },
  {
   "cell_type": "code",
   "execution_count": 20,
   "id": "b4f4afac",
   "metadata": {},
   "outputs": [],
   "source": [
    "d = {\n",
    "    'id': 1989,\n",
    "    'person': \n",
    "    {\n",
    "        'Name': 'Taylor',\n",
    "        'Age': 22\n",
    "    },\n",
    "    'posts':\n",
    "    [13, 29, 77]\n",
    "}"
   ]
  },
  {
   "cell_type": "markdown",
   "id": "1c7e887e",
   "metadata": {},
   "source": [
    "* Shallow copy:  \n",
    "Copy parent object but not children objects inside parent."
   ]
  },
  {
   "cell_type": "code",
   "execution_count": 21,
   "id": "8d6ae5a0",
   "metadata": {},
   "outputs": [
    {
     "name": "stdout",
     "output_type": "stream",
     "text": [
      "1588700624704 1588700618304\n",
      "1588700624832 1588700624832\n"
     ]
    }
   ],
   "source": [
    "d_shallow = d.copy()\n",
    "# Parent objects have different ids\n",
    "print(id(d), id(d_shallow))\n",
    "# Children objects have the same id\n",
    "print(id(d['person']), id(d_shallow['person']))"
   ]
  },
  {
   "cell_type": "markdown",
   "id": "9cd2b0cf",
   "metadata": {},
   "source": [
    "* Deep copy:  \n",
    "Copy both parent object and children objects."
   ]
  },
  {
   "cell_type": "code",
   "execution_count": 22,
   "id": "2385eb7b",
   "metadata": {},
   "outputs": [
    {
     "name": "stdout",
     "output_type": "stream",
     "text": [
      "1588700624704 1588700618688\n",
      "1588700624832 1588700656064\n"
     ]
    }
   ],
   "source": [
    "from copy import deepcopy\n",
    "\n",
    "d_deep = deepcopy(d)\n",
    "# Parent objects have different ids\n",
    "print(id(d), id(d_deep))\n",
    "# Children objects have different ids\n",
    "print(id(d['person']), id(d_deep['person']))"
   ]
  },
  {
   "cell_type": "markdown",
   "id": "58bf8024",
   "metadata": {},
   "source": [
    "---\n",
    "\n",
    "### Custom Classes and Hashing <a name='custom_classes_and_hashing'></a>"
   ]
  },
  {
   "cell_type": "markdown",
   "id": "d2a26a79",
   "metadata": {},
   "source": [
    "Python will automatically implement `__hash__` method unless one overwrites `__eq__` method, then `__hash__` method should also be implemented manually depending on how the equality is interpreted, otherwise the object will not be hashable."
   ]
  },
  {
   "cell_type": "code",
   "execution_count": 23,
   "id": "9ab09d5b",
   "metadata": {},
   "outputs": [],
   "source": [
    "class Person:\n",
    "    def __init__(self, name, age):\n",
    "        self.name = name\n",
    "        self.age = age"
   ]
  },
  {
   "cell_type": "code",
   "execution_count": 24,
   "id": "6410b9c1",
   "metadata": {},
   "outputs": [
    {
     "name": "stdout",
     "output_type": "stream",
     "text": [
      "False\n",
      "99293761386\n",
      "99293761374\n"
     ]
    }
   ],
   "source": [
    "p1 = Person('Taylor', 22)\n",
    "p2 = Person('Taylor', 22)\n",
    "print(p1==p2)\n",
    "print(hash(p1))\n",
    "print(hash(p2))"
   ]
  },
  {
   "cell_type": "code",
   "execution_count": 25,
   "id": "4aef7876",
   "metadata": {},
   "outputs": [],
   "source": [
    "class Person:\n",
    "    def __init__(self, name, age):\n",
    "        self.name = name\n",
    "        self.age = age\n",
    "    \n",
    "    def __eq__(self, other):\n",
    "        if isinstance(other, Person):\n",
    "            return self.name == other.name and self.age == other.age\n",
    "        return False\n",
    "    \n",
    "    def __hash__(self):\n",
    "        return hash((self.name, self.age))"
   ]
  },
  {
   "cell_type": "code",
   "execution_count": 26,
   "id": "f707c0f4",
   "metadata": {},
   "outputs": [
    {
     "name": "stdout",
     "output_type": "stream",
     "text": [
      "True\n",
      "891081709263461312\n",
      "891081709263461312\n"
     ]
    }
   ],
   "source": [
    "p1 = Person('Taylor', 22)\n",
    "p2 = Person('Taylor', 22)\n",
    "print(p1==p2)\n",
    "print(hash(p1))\n",
    "print(hash(p2))"
   ]
  }
 ],
 "metadata": {
  "kernelspec": {
   "display_name": "Python 3",
   "language": "python",
   "name": "python3"
  },
  "language_info": {
   "codemirror_mode": {
    "name": "ipython",
    "version": 3
   },
   "file_extension": ".py",
   "mimetype": "text/x-python",
   "name": "python",
   "nbconvert_exporter": "python",
   "pygments_lexer": "ipython3",
   "version": "3.8.8"
  }
 },
 "nbformat": 4,
 "nbformat_minor": 5
}
