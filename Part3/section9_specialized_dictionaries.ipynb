{
 "cells": [
  {
   "cell_type": "markdown",
   "id": "65ec1a8c",
   "metadata": {},
   "source": [
    "## Specialized Dictionaries\n",
    "\n",
    "- [**DefaultDict**](#defaultdict)\n",
    "- [**OrderedDict**](#ordereddict)\n",
    "- [**Counter**](#counter)\n",
    "- [**ChainMap**](#chainmap)\n",
    "- [**MappingProxy Type**](#mappingproxy_type)"
   ]
  },
  {
   "cell_type": "markdown",
   "id": "bac85b0b",
   "metadata": {},
   "source": [
    "---\n",
    "\n",
    "### DefaultDict <a name='defaultdict'></a>"
   ]
  },
  {
   "cell_type": "markdown",
   "id": "31c4de0d",
   "metadata": {},
   "source": [
    "`defaultdict` is an approach used for handling missing keys that can return a default value, note that it should receive a callable with 0 parameters."
   ]
  },
  {
   "cell_type": "code",
   "execution_count": 1,
   "id": "4d459341",
   "metadata": {},
   "outputs": [],
   "source": [
    "from collections import defaultdict"
   ]
  },
  {
   "cell_type": "code",
   "execution_count": 2,
   "id": "6d3510ae",
   "metadata": {},
   "outputs": [],
   "source": [
    "sentence = 'Nice to meet you, taylor!'\n",
    "counter = defaultdict(lambda: 0)"
   ]
  },
  {
   "cell_type": "code",
   "execution_count": 3,
   "id": "8d8ba052",
   "metadata": {},
   "outputs": [
    {
     "data": {
      "text/plain": [
       "defaultdict(<function __main__.<lambda>()>,\n",
       "            {'N': 1,\n",
       "             'i': 1,\n",
       "             'c': 1,\n",
       "             'e': 3,\n",
       "             ' ': 4,\n",
       "             't': 3,\n",
       "             'o': 3,\n",
       "             'm': 1,\n",
       "             'y': 2,\n",
       "             'u': 1,\n",
       "             ',': 1,\n",
       "             'a': 1,\n",
       "             'l': 1,\n",
       "             'r': 1,\n",
       "             '!': 1})"
      ]
     },
     "execution_count": 3,
     "metadata": {},
     "output_type": "execute_result"
    }
   ],
   "source": [
    "for char in sentence:\n",
    "    counter[char] += 1\n",
    "counter"
   ]
  },
  {
   "cell_type": "markdown",
   "id": "eb9a46ed",
   "metadata": {},
   "source": [
    "---\n",
    "\n",
    "### OrderedDict <a name='ordereddict'></a>"
   ]
  },
  {
   "cell_type": "markdown",
   "id": "5ff2848a",
   "metadata": {},
   "source": [
    "`OrderedDict` is the dictionary that can maintain key insertion order, which is backward compatible."
   ]
  },
  {
   "cell_type": "code",
   "execution_count": 4,
   "id": "509bdc25",
   "metadata": {},
   "outputs": [],
   "source": [
    "from collections import OrderedDict"
   ]
  },
  {
   "cell_type": "code",
   "execution_count": 5,
   "id": "076850ef",
   "metadata": {},
   "outputs": [],
   "source": [
    "od = OrderedDict(a=10, b=20, c=30)"
   ]
  },
  {
   "cell_type": "markdown",
   "id": "d482da26",
   "metadata": {},
   "source": [
    "* Reverse OrderDict:"
   ]
  },
  {
   "cell_type": "code",
   "execution_count": 6,
   "id": "a5162b83",
   "metadata": {},
   "outputs": [
    {
     "name": "stdout",
     "output_type": "stream",
     "text": [
      "c\n",
      "b\n",
      "a\n"
     ]
    }
   ],
   "source": [
    "for key in reversed(od):\n",
    "    print(key)"
   ]
  },
  {
   "cell_type": "markdown",
   "id": "7c83aaed",
   "metadata": {},
   "source": [
    "* Pop items: remove last item from dict by default (can be changed to remove the first item)"
   ]
  },
  {
   "cell_type": "code",
   "execution_count": 7,
   "id": "c38b7bab",
   "metadata": {},
   "outputs": [
    {
     "name": "stdout",
     "output_type": "stream",
     "text": [
      "OrderedDict([('a', 10), ('b', 20)])\n"
     ]
    }
   ],
   "source": [
    "od.popitem()\n",
    "print(od)"
   ]
  },
  {
   "cell_type": "markdown",
   "id": "016e488d",
   "metadata": {},
   "source": [
    "* Move a certain item to the end by referencing its key:"
   ]
  },
  {
   "cell_type": "code",
   "execution_count": 8,
   "id": "a7d2537e",
   "metadata": {},
   "outputs": [
    {
     "name": "stdout",
     "output_type": "stream",
     "text": [
      "OrderedDict([('b', 20), ('a', 10)])\n"
     ]
    }
   ],
   "source": [
    "od.move_to_end('a')\n",
    "print(od)"
   ]
  },
  {
   "cell_type": "markdown",
   "id": "e648f90c",
   "metadata": {},
   "source": [
    "---\n",
    "\n",
    "### Counter <a name='counter'></a>"
   ]
  },
  {
   "cell_type": "markdown",
   "id": "c8ed0f25",
   "metadata": {},
   "source": [
    "`Counter` can be used for counting items more easily, it is the Pythonic implementation of multiset."
   ]
  },
  {
   "cell_type": "code",
   "execution_count": 9,
   "id": "6760c1e9",
   "metadata": {},
   "outputs": [],
   "source": [
    "from collections import Counter"
   ]
  },
  {
   "cell_type": "code",
   "execution_count": 10,
   "id": "47255646",
   "metadata": {},
   "outputs": [],
   "source": [
    "sentence = \"After all this time? Always.\"\n",
    "counter = Counter()"
   ]
  },
  {
   "cell_type": "markdown",
   "id": "ecabf699",
   "metadata": {},
   "source": [
    "* Count elements:"
   ]
  },
  {
   "cell_type": "code",
   "execution_count": 11,
   "id": "02b89682",
   "metadata": {},
   "outputs": [
    {
     "data": {
      "text/plain": [
       "Counter({'A': 2,\n",
       "         'f': 1,\n",
       "         't': 3,\n",
       "         'e': 2,\n",
       "         'r': 1,\n",
       "         ' ': 4,\n",
       "         'a': 2,\n",
       "         'l': 3,\n",
       "         'h': 1,\n",
       "         'i': 2,\n",
       "         's': 2,\n",
       "         'm': 1,\n",
       "         '?': 1,\n",
       "         'w': 1,\n",
       "         'y': 1,\n",
       "         '.': 1})"
      ]
     },
     "execution_count": 11,
     "metadata": {},
     "output_type": "execute_result"
    }
   ],
   "source": [
    "for l in sentence:\n",
    "    counter[l] += 1\n",
    "counter"
   ]
  },
  {
   "cell_type": "code",
   "execution_count": 12,
   "id": "378ce26f",
   "metadata": {},
   "outputs": [
    {
     "data": {
      "text/plain": [
       "Counter({1: 1, 2: 2, 3: 3, 4: 4})"
      ]
     },
     "execution_count": 12,
     "metadata": {},
     "output_type": "execute_result"
    }
   ],
   "source": [
    "# Pass iterable directly to Counter()\n",
    "Counter([1, 2, 2, 3, 3, 3, 4, 4, 4, 4])"
   ]
  },
  {
   "cell_type": "markdown",
   "id": "d4ea0414",
   "metadata": {},
   "source": [
    "* Return repetitive elements:"
   ]
  },
  {
   "cell_type": "code",
   "execution_count": 13,
   "id": "58212f9e",
   "metadata": {},
   "outputs": [
    {
     "name": "stdout",
     "output_type": "stream",
     "text": [
      "['A', 'A', 'f', 't', 't', 't', 'e', 'e', 'r', ' ', ' ', ' ', ' ', 'a', 'a', 'l', 'l', 'l', 'h', 'i', 'i', 's', 's', 'm', '?', 'w', 'y', '.']\n"
     ]
    }
   ],
   "source": [
    "elements = Counter([1, 2, 2, 3, 3, 3, 4, 4, 4, 4]).elements()\n",
    "elements = counter.elements()\n",
    "print(list(elements))"
   ]
  },
  {
   "cell_type": "markdown",
   "id": "a47c42b7",
   "metadata": {},
   "source": [
    "* Update counts:"
   ]
  },
  {
   "cell_type": "code",
   "execution_count": 14,
   "id": "796960a2",
   "metadata": {},
   "outputs": [
    {
     "data": {
      "text/plain": [
       "Counter({1: 2, 2: 4, 3: 6, 4: 8})"
      ]
     },
     "execution_count": 14,
     "metadata": {},
     "output_type": "execute_result"
    }
   ],
   "source": [
    "counter1 = Counter([1, 2, 2, 3, 3, 3, 4, 4, 4, 4])\n",
    "counter2 = Counter([1, 2, 2, 3, 3, 3, 4, 4, 4, 4])\n",
    "counter1.update(counter2)\n",
    "counter1"
   ]
  },
  {
   "cell_type": "markdown",
   "id": "9b15286c",
   "metadata": {},
   "source": [
    "* Subtract counts:"
   ]
  },
  {
   "cell_type": "code",
   "execution_count": 15,
   "id": "0bfd09b2",
   "metadata": {},
   "outputs": [
    {
     "data": {
      "text/plain": [
       "Counter({1: 0, 2: 0, 3: 0, 4: 0})"
      ]
     },
     "execution_count": 15,
     "metadata": {},
     "output_type": "execute_result"
    }
   ],
   "source": [
    "counter1 = Counter([1, 2, 2, 3, 3, 3, 4, 4, 4, 4])\n",
    "counter2 = Counter([1, 2, 2, 3, 3, 3, 4, 4, 4, 4])\n",
    "counter1.subtract(counter2)\n",
    "counter1"
   ]
  },
  {
   "cell_type": "markdown",
   "id": "58bf8024",
   "metadata": {},
   "source": [
    "---\n",
    "\n",
    "### ChainMap <a name='chainmap'></a>"
   ]
  },
  {
   "cell_type": "markdown",
   "id": "e1872f78",
   "metadata": {},
   "source": [
    "`ChainMap` chains dictionaries (similar to `chain` from `itertools`) so that nothing will be copied, and in consequence mutating elements in chain may affect underlying dicts."
   ]
  },
  {
   "cell_type": "code",
   "execution_count": 16,
   "id": "81f636b1",
   "metadata": {},
   "outputs": [],
   "source": [
    "from collections import ChainMap"
   ]
  },
  {
   "cell_type": "markdown",
   "id": "4e844ba5",
   "metadata": {},
   "source": [
    "* Chain dicts: `ChainMap` behaves like a view of dictionary, it is not of `dict` type, but it functions like a dictionary"
   ]
  },
  {
   "cell_type": "code",
   "execution_count": 17,
   "id": "3360ce8f",
   "metadata": {},
   "outputs": [
    {
     "name": "stdout",
     "output_type": "stream",
     "text": [
      "ChainMap({'a': 1, 'b': 2}, {'c': 3, 'd': 4}, {'e': 5})\n",
      "False\n"
     ]
    }
   ],
   "source": [
    "d1 = {'a': 1, 'b': 2}\n",
    "d2 = {'c': 3, 'd': 4}\n",
    "d3 = {'e': 5}\n",
    "\n",
    "d = ChainMap(d1, d2, d3)\n",
    "print(d)\n",
    "print(isinstance(d, dict))"
   ]
  },
  {
   "cell_type": "code",
   "execution_count": 18,
   "id": "9b017b9d",
   "metadata": {},
   "outputs": [
    {
     "data": {
      "text/plain": [
       "2"
      ]
     },
     "execution_count": 18,
     "metadata": {},
     "output_type": "execute_result"
    }
   ],
   "source": [
    "d['b']"
   ]
  },
  {
   "cell_type": "markdown",
   "id": "e9ceb52d",
   "metadata": {},
   "source": [
    "* Handle key collision: to the opposite of how it behaves for dictionary unpacking, when there is a key collision in ChainMap, it will use the **first** instance of the key it encounters"
   ]
  },
  {
   "cell_type": "code",
   "execution_count": 19,
   "id": "0f038635",
   "metadata": {},
   "outputs": [
    {
     "name": "stdout",
     "output_type": "stream",
     "text": [
      "ChainMap({'a': 1, 'b': 2}, {'a': 3, 'd': 4})\n"
     ]
    },
    {
     "data": {
      "text/plain": [
       "1"
      ]
     },
     "execution_count": 19,
     "metadata": {},
     "output_type": "execute_result"
    }
   ],
   "source": [
    "d1 = {'a': 1, 'b': 2}\n",
    "d2 = {'a': 3, 'd': 4}\n",
    "\n",
    "d = ChainMap(d1, d2)\n",
    "print(d)\n",
    "d['a']"
   ]
  },
  {
   "cell_type": "markdown",
   "id": "e899d8e5",
   "metadata": {},
   "source": [
    "* Update `ChainMap`:"
   ]
  },
  {
   "cell_type": "code",
   "execution_count": 20,
   "id": "d87c13a7",
   "metadata": {},
   "outputs": [
    {
     "name": "stdout",
     "output_type": "stream",
     "text": [
      "1374090666576\n",
      "ChainMap({'a': 1, 'b': 2}, {'c': 3, 'd': 4})\n",
      "1374090667008\n",
      "ChainMap({'e': 5}, ChainMap({'a': 1, 'b': 2}, {'c': 3, 'd': 4}))\n"
     ]
    }
   ],
   "source": [
    "d1 = {'a': 1, 'b': 2}\n",
    "d2 = {'c': 3, 'd': 4}\n",
    "d = ChainMap(d1, d2)\n",
    "print(id(d))\n",
    "print(d)\n",
    "\n",
    "d3 = {'e': 5}\n",
    "d = ChainMap(d3, d)\n",
    "print(id(d))\n",
    "print(d)"
   ]
  },
  {
   "cell_type": "code",
   "execution_count": 21,
   "id": "14da7989",
   "metadata": {},
   "outputs": [
    {
     "name": "stdout",
     "output_type": "stream",
     "text": [
      "1374090668112\n",
      "ChainMap({'a': 1, 'b': 2}, {'c': 3, 'd': 4})\n",
      "1374090668352\n",
      "ChainMap({'e': 5}, {'a': 1, 'b': 2}, {'c': 3, 'd': 4})\n",
      "ChainMap({'a': 1, 'b': 2}, {'c': 3, 'd': 4})\n"
     ]
    }
   ],
   "source": [
    "d1 = {'a': 1, 'b': 2}\n",
    "d2 = {'c': 3, 'd': 4}\n",
    "d = ChainMap(d1, d2)\n",
    "print(id(d))\n",
    "print(d)\n",
    "\n",
    "d3 = {'e': 5}\n",
    "d = d.new_child(d3)\n",
    "print(id(d))\n",
    "print(d)\n",
    "print(d.parents)"
   ]
  },
  {
   "cell_type": "markdown",
   "id": "3c06fbf1",
   "metadata": {},
   "source": [
    "* Mutate `ChainMap`:"
   ]
  },
  {
   "cell_type": "code",
   "execution_count": 22,
   "id": "ee5937ae",
   "metadata": {},
   "outputs": [
    {
     "name": "stdout",
     "output_type": "stream",
     "text": [
      "1374090638144\n",
      "ChainMap({'a': 1, 'b': 2}, {'c': 3, 'd': 4})\n",
      "1374090638144\n",
      "ChainMap({'a': 1, 'b': 2}, {'c': 3, 'd': 4}, {'e': 5})\n"
     ]
    }
   ],
   "source": [
    "d1 = {'a': 1, 'b': 2}\n",
    "d2 = {'c': 3, 'd': 4}\n",
    "d3 = {'e': 5}\n",
    "d = ChainMap(d1, d2)\n",
    "print(id(d))\n",
    "print(d)\n",
    "\n",
    "d.maps.append(d3)\n",
    "print(id(d))\n",
    "print(d)"
   ]
  },
  {
   "cell_type": "markdown",
   "id": "b48c6344",
   "metadata": {},
   "source": [
    "---\n",
    "\n",
    "### MappingProxy Type <a name='mappingproxy_type'></a>"
   ]
  },
  {
   "cell_type": "markdown",
   "id": "e7cddd22",
   "metadata": {},
   "source": [
    "`MappingProxy` type is a read-only view of a dictionary, therefore mutation will not be allowed for code security."
   ]
  },
  {
   "cell_type": "code",
   "execution_count": 23,
   "id": "bd21eb4a",
   "metadata": {},
   "outputs": [],
   "source": [
    "from types import MappingProxyType"
   ]
  },
  {
   "cell_type": "code",
   "execution_count": 24,
   "id": "8c3c9b5c",
   "metadata": {},
   "outputs": [
    {
     "name": "stdout",
     "output_type": "stream",
     "text": [
      "1\n"
     ]
    },
    {
     "ename": "TypeError",
     "evalue": "'mappingproxy' object does not support item assignment",
     "output_type": "error",
     "traceback": [
      "\u001b[1;31m---------------------------------------------------------------------------\u001b[0m",
      "\u001b[1;31mTypeError\u001b[0m                                 Traceback (most recent call last)",
      "\u001b[1;32m<ipython-input-24-efdaafbeb0ae>\u001b[0m in \u001b[0;36m<module>\u001b[1;34m\u001b[0m\n\u001b[0;32m      2\u001b[0m \u001b[0mmp\u001b[0m \u001b[1;33m=\u001b[0m \u001b[0mMappingProxyType\u001b[0m\u001b[1;33m(\u001b[0m\u001b[0md\u001b[0m\u001b[1;33m)\u001b[0m\u001b[1;33m\u001b[0m\u001b[1;33m\u001b[0m\u001b[0m\n\u001b[0;32m      3\u001b[0m \u001b[0mprint\u001b[0m\u001b[1;33m(\u001b[0m\u001b[0mmp\u001b[0m\u001b[1;33m[\u001b[0m\u001b[1;34m'a'\u001b[0m\u001b[1;33m]\u001b[0m\u001b[1;33m)\u001b[0m\u001b[1;33m\u001b[0m\u001b[1;33m\u001b[0m\u001b[0m\n\u001b[1;32m----> 4\u001b[1;33m \u001b[0mmp\u001b[0m\u001b[1;33m[\u001b[0m\u001b[1;34m'a'\u001b[0m\u001b[1;33m]\u001b[0m \u001b[1;33m=\u001b[0m \u001b[1;36m100\u001b[0m\u001b[1;33m\u001b[0m\u001b[1;33m\u001b[0m\u001b[0m\n\u001b[0m",
      "\u001b[1;31mTypeError\u001b[0m: 'mappingproxy' object does not support item assignment"
     ]
    }
   ],
   "source": [
    "d = {'a': 1, 'b': 2}\n",
    "mp = MappingProxyType(d)\n",
    "print(mp['a'])\n",
    "mp['a'] = 100"
   ]
  }
 ],
 "metadata": {
  "kernelspec": {
   "display_name": "Python 3",
   "language": "python",
   "name": "python3"
  },
  "language_info": {
   "codemirror_mode": {
    "name": "ipython",
    "version": 3
   },
   "file_extension": ".py",
   "mimetype": "text/x-python",
   "name": "python",
   "nbconvert_exporter": "python",
   "pygments_lexer": "ipython3",
   "version": "3.8.8"
  }
 },
 "nbformat": 4,
 "nbformat_minor": 5
}
