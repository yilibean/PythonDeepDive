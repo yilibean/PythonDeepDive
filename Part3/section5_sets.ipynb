{
 "cells": [
  {
   "cell_type": "markdown",
   "id": "65ec1a8c",
   "metadata": {},
   "source": [
    "## Sets\n",
    "\n",
    "- [**Creating Sets**](#creating_sets)\n",
    "- [**Common Operations**](#common_operations)\n",
    "- [**Set Operations**](#set_operations)\n",
    "- [**Update Operations**](#update_operations)\n",
    "- [**Copying Sets**](#copying_sets)\n",
    "- [**Frozen Sets**](#frozen_sets)"
   ]
  },
  {
   "cell_type": "markdown",
   "id": "bac85b0b",
   "metadata": {},
   "source": [
    "---\n",
    "\n",
    "### Creating Sets <a name='creating_sets'></a>"
   ]
  },
  {
   "cell_type": "markdown",
   "id": "021f6810",
   "metadata": {},
   "source": [
    "> Use literals"
   ]
  },
  {
   "cell_type": "code",
   "execution_count": 1,
   "id": "bc56a0b2",
   "metadata": {},
   "outputs": [
    {
     "name": "stdout",
     "output_type": "stream",
     "text": [
      "{3.14, 'a', 12}\n"
     ]
    }
   ],
   "source": [
    "my_set = {'a', 12, 3.14}\n",
    "print(my_set)"
   ]
  },
  {
   "cell_type": "markdown",
   "id": "babf507e",
   "metadata": {},
   "source": [
    "> Use `set()`"
   ]
  },
  {
   "cell_type": "code",
   "execution_count": 2,
   "id": "f8e72790",
   "metadata": {},
   "outputs": [
    {
     "name": "stdout",
     "output_type": "stream",
     "text": [
      "{1, 2, 9, 7}\n"
     ]
    }
   ],
   "source": [
    "print(set([1, 7, 9, 9, 2]))"
   ]
  },
  {
   "cell_type": "markdown",
   "id": "ec641035",
   "metadata": {},
   "source": [
    "> Use comprehension"
   ]
  },
  {
   "cell_type": "code",
   "execution_count": 3,
   "id": "c0bf3ecb",
   "metadata": {},
   "outputs": [
    {
     "name": "stdout",
     "output_type": "stream",
     "text": [
      "{'T', 'r', 'o', 'y', 'l', 'a'}\n"
     ]
    }
   ],
   "source": [
    "print({c for c in 'Taylor'})"
   ]
  },
  {
   "cell_type": "markdown",
   "id": "eb9a46ed",
   "metadata": {},
   "source": [
    "---\n",
    "\n",
    "### Common Operations <a name='common_operations'></a>"
   ]
  },
  {
   "cell_type": "markdown",
   "id": "85896702",
   "metadata": {},
   "source": [
    "> Get length"
   ]
  },
  {
   "cell_type": "code",
   "execution_count": 4,
   "id": "672e02d5",
   "metadata": {},
   "outputs": [
    {
     "data": {
      "text/plain": [
       "3"
      ]
     },
     "execution_count": 4,
     "metadata": {},
     "output_type": "execute_result"
    }
   ],
   "source": [
    "len({1, 2, 3, 3})"
   ]
  },
  {
   "cell_type": "markdown",
   "id": "05fb92cb",
   "metadata": {},
   "source": [
    "> Test existence of an element"
   ]
  },
  {
   "cell_type": "code",
   "execution_count": 5,
   "id": "3f274b67",
   "metadata": {},
   "outputs": [
    {
     "name": "stdout",
     "output_type": "stream",
     "text": [
      "False\n"
     ]
    }
   ],
   "source": [
    "my_set = {1, 2, 3, 3}\n",
    "print('a' in my_set)"
   ]
  },
  {
   "cell_type": "markdown",
   "id": "061d19ce",
   "metadata": {},
   "source": [
    "> Add elements"
   ]
  },
  {
   "cell_type": "code",
   "execution_count": 6,
   "id": "f378e282",
   "metadata": {},
   "outputs": [
    {
     "name": "stdout",
     "output_type": "stream",
     "text": [
      "{1, 2, 3}\n"
     ]
    }
   ],
   "source": [
    "my_set = {1, 2}\n",
    "my_set.add(3)\n",
    "print(my_set)"
   ]
  },
  {
   "cell_type": "markdown",
   "id": "bea08a4c",
   "metadata": {},
   "source": [
    "> Remove elements"
   ]
  },
  {
   "cell_type": "code",
   "execution_count": 7,
   "id": "50dbc8f5",
   "metadata": {},
   "outputs": [
    {
     "name": "stdout",
     "output_type": "stream",
     "text": [
      "Element is not found\n"
     ]
    }
   ],
   "source": [
    "# Remove an element with potential exception \n",
    "my_set = {1, 2}\n",
    "try:\n",
    "    my_set.remove(3)\n",
    "except KeyError as ex:\n",
    "    print('Element is not found')"
   ]
  },
  {
   "cell_type": "code",
   "execution_count": 8,
   "id": "4c1f8bec",
   "metadata": {},
   "outputs": [
    {
     "name": "stdout",
     "output_type": "stream",
     "text": [
      "{1, 2}\n"
     ]
    }
   ],
   "source": [
    "# Discard an element\n",
    "my_set = {1, 2}\n",
    "my_set.discard(3)\n",
    "print(my_set)"
   ]
  },
  {
   "cell_type": "code",
   "execution_count": 9,
   "id": "208d7ed6",
   "metadata": {},
   "outputs": [
    {
     "name": "stdout",
     "output_type": "stream",
     "text": [
      "{2, 3}\n"
     ]
    }
   ],
   "source": [
    "# Pop a random element (if empty an exception will be thrown)\n",
    "my_set = {1, 2, 3}\n",
    "my_set.pop()\n",
    "print(my_set)"
   ]
  },
  {
   "cell_type": "markdown",
   "id": "e648f90c",
   "metadata": {},
   "source": [
    "---\n",
    "\n",
    "### Set Operations <a name='set_operations'></a>"
   ]
  },
  {
   "cell_type": "markdown",
   "id": "34214079",
   "metadata": {},
   "source": [
    "Set operations can be done either using built-in methods or operands, where operands can only be executed on `sets`, wheras methods can also take in `iterables`. However, the `iterables` can only include hashable (immutable) elements because set operation methods are basically converting the given `iterable` into a `set` first and then execute."
   ]
  },
  {
   "cell_type": "code",
   "execution_count": 10,
   "id": "6b9e8ed1",
   "metadata": {},
   "outputs": [],
   "source": [
    "s1 = {1, 2, 3}\n",
    "s2 = {2, 3, 4}\n",
    "s3 = {5, 6}"
   ]
  },
  {
   "cell_type": "markdown",
   "id": "53d5332d",
   "metadata": {},
   "source": [
    "> Intersection"
   ]
  },
  {
   "cell_type": "code",
   "execution_count": 11,
   "id": "7d3bfbb5",
   "metadata": {},
   "outputs": [
    {
     "data": {
      "text/plain": [
       "{2, 3}"
      ]
     },
     "execution_count": 11,
     "metadata": {},
     "output_type": "execute_result"
    }
   ],
   "source": [
    "# Use method\n",
    "s1.intersection(s2)"
   ]
  },
  {
   "cell_type": "code",
   "execution_count": 12,
   "id": "a4a3652c",
   "metadata": {},
   "outputs": [
    {
     "data": {
      "text/plain": [
       "{2, 3}"
      ]
     },
     "execution_count": 12,
     "metadata": {},
     "output_type": "execute_result"
    }
   ],
   "source": [
    "# Use operand\n",
    "s1 & s2"
   ]
  },
  {
   "cell_type": "markdown",
   "id": "174922b1",
   "metadata": {},
   "source": [
    "> Union"
   ]
  },
  {
   "cell_type": "code",
   "execution_count": 13,
   "id": "cdf6e508",
   "metadata": {},
   "outputs": [
    {
     "data": {
      "text/plain": [
       "{1, 2, 3, 4}"
      ]
     },
     "execution_count": 13,
     "metadata": {},
     "output_type": "execute_result"
    }
   ],
   "source": [
    "# Use method\n",
    "s1.union(s2)"
   ]
  },
  {
   "cell_type": "code",
   "execution_count": 14,
   "id": "0aa14465",
   "metadata": {},
   "outputs": [
    {
     "data": {
      "text/plain": [
       "{1, 2, 3, 4}"
      ]
     },
     "execution_count": 14,
     "metadata": {},
     "output_type": "execute_result"
    }
   ],
   "source": [
    "# Use operand\n",
    "s1 | s2"
   ]
  },
  {
   "cell_type": "markdown",
   "id": "3b3a5eb8",
   "metadata": {},
   "source": [
    "> Disjoint"
   ]
  },
  {
   "cell_type": "code",
   "execution_count": 15,
   "id": "a0d694ca",
   "metadata": {},
   "outputs": [
    {
     "data": {
      "text/plain": [
       "False"
      ]
     },
     "execution_count": 15,
     "metadata": {},
     "output_type": "execute_result"
    }
   ],
   "source": [
    "s1.isdisjoint(s2)"
   ]
  },
  {
   "cell_type": "code",
   "execution_count": 16,
   "id": "347568f5",
   "metadata": {},
   "outputs": [
    {
     "data": {
      "text/plain": [
       "True"
      ]
     },
     "execution_count": 16,
     "metadata": {},
     "output_type": "execute_result"
    }
   ],
   "source": [
    "s1.isdisjoint(s3)"
   ]
  },
  {
   "cell_type": "markdown",
   "id": "284811ae",
   "metadata": {},
   "source": [
    "> Difference"
   ]
  },
  {
   "cell_type": "code",
   "execution_count": 17,
   "id": "374a47eb",
   "metadata": {},
   "outputs": [
    {
     "data": {
      "text/plain": [
       "{1}"
      ]
     },
     "execution_count": 17,
     "metadata": {},
     "output_type": "execute_result"
    }
   ],
   "source": [
    "# Use method\n",
    "s1.difference(s2)"
   ]
  },
  {
   "cell_type": "code",
   "execution_count": 18,
   "id": "cfd7b444",
   "metadata": {},
   "outputs": [
    {
     "data": {
      "text/plain": [
       "{4}"
      ]
     },
     "execution_count": 18,
     "metadata": {},
     "output_type": "execute_result"
    }
   ],
   "source": [
    "# Use operand\n",
    "s2-s1"
   ]
  },
  {
   "cell_type": "markdown",
   "id": "acad06b4",
   "metadata": {},
   "source": [
    "> Symmetric difference (xor)"
   ]
  },
  {
   "cell_type": "code",
   "execution_count": 19,
   "id": "f0853509",
   "metadata": {},
   "outputs": [
    {
     "data": {
      "text/plain": [
       "{1, 4}"
      ]
     },
     "execution_count": 19,
     "metadata": {},
     "output_type": "execute_result"
    }
   ],
   "source": [
    "# Use method\n",
    "s1.symmetric_difference(s2)"
   ]
  },
  {
   "cell_type": "code",
   "execution_count": 20,
   "id": "4b58677b",
   "metadata": {},
   "outputs": [
    {
     "data": {
      "text/plain": [
       "{1, 4}"
      ]
     },
     "execution_count": 20,
     "metadata": {},
     "output_type": "execute_result"
    }
   ],
   "source": [
    "# Use operand\n",
    "s1 ^ s2"
   ]
  },
  {
   "cell_type": "markdown",
   "id": "2b25bfdd",
   "metadata": {},
   "source": [
    "> Super/sub set"
   ]
  },
  {
   "cell_type": "code",
   "execution_count": 21,
   "id": "69d6c826",
   "metadata": {},
   "outputs": [],
   "source": [
    "s1_super = {1, 2, 3, 4}\n",
    "s1_sub = {2}"
   ]
  },
  {
   "cell_type": "code",
   "execution_count": 22,
   "id": "4053adf0",
   "metadata": {},
   "outputs": [
    {
     "data": {
      "text/plain": [
       "True"
      ]
     },
     "execution_count": 22,
     "metadata": {},
     "output_type": "execute_result"
    }
   ],
   "source": [
    "# Use method\n",
    "s1.issubset(s1_super)"
   ]
  },
  {
   "cell_type": "code",
   "execution_count": 23,
   "id": "1a915b2d",
   "metadata": {},
   "outputs": [
    {
     "data": {
      "text/plain": [
       "True"
      ]
     },
     "execution_count": 23,
     "metadata": {},
     "output_type": "execute_result"
    }
   ],
   "source": [
    "# Use method\n",
    "s1.issuperset(s1_sub)"
   ]
  },
  {
   "cell_type": "code",
   "execution_count": 24,
   "id": "c0be38f1",
   "metadata": {},
   "outputs": [
    {
     "data": {
      "text/plain": [
       "True"
      ]
     },
     "execution_count": 24,
     "metadata": {},
     "output_type": "execute_result"
    }
   ],
   "source": [
    "# Use operand\n",
    "s1 < s1_super"
   ]
  },
  {
   "cell_type": "code",
   "execution_count": 25,
   "id": "831b3b08",
   "metadata": {},
   "outputs": [
    {
     "data": {
      "text/plain": [
       "True"
      ]
     },
     "execution_count": 25,
     "metadata": {},
     "output_type": "execute_result"
    }
   ],
   "source": [
    "# Use operand\n",
    "s1 > s1_sub"
   ]
  },
  {
   "cell_type": "markdown",
   "id": "58bf8024",
   "metadata": {},
   "source": [
    "---\n",
    "\n",
    "### Update Operations <a name='update_operations'></a>"
   ]
  },
  {
   "cell_type": "markdown",
   "id": "a9a79fd1",
   "metadata": {},
   "source": [
    "Instead of creating new sets, one can use specific mutable operands to modify the existing sets."
   ]
  },
  {
   "cell_type": "markdown",
   "id": "143ab25c",
   "metadata": {},
   "source": [
    "> Intersaction update"
   ]
  },
  {
   "cell_type": "code",
   "execution_count": 26,
   "id": "1b9dc020",
   "metadata": {},
   "outputs": [],
   "source": [
    "s1 = {1, 2, 3}\n",
    "s2 = {2, 3, 4}"
   ]
  },
  {
   "cell_type": "code",
   "execution_count": 27,
   "id": "6dda4c83",
   "metadata": {},
   "outputs": [
    {
     "name": "stdout",
     "output_type": "stream",
     "text": [
      "Id before:  1938807739552\n",
      "{2, 3}\n",
      "Id after:  1938807739552\n"
     ]
    }
   ],
   "source": [
    "# Use method\n",
    "print('Id before: ', id(s1))\n",
    "s1.intersection_update(s2)\n",
    "print(s1)\n",
    "print('Id after: ', id(s1))"
   ]
  },
  {
   "cell_type": "code",
   "execution_count": 28,
   "id": "908f1ca0",
   "metadata": {},
   "outputs": [],
   "source": [
    "s1 = {1, 2, 3}\n",
    "s2 = {2, 3, 4}"
   ]
  },
  {
   "cell_type": "code",
   "execution_count": 29,
   "id": "1fc8f2da",
   "metadata": {},
   "outputs": [
    {
     "name": "stdout",
     "output_type": "stream",
     "text": [
      "Id before:  1938807739104\n",
      "{2, 3}\n",
      "Id after:  1938807739104\n"
     ]
    }
   ],
   "source": [
    "# Use operand\n",
    "print('Id before: ', id(s1))\n",
    "s1 &= s2\n",
    "print(s1)\n",
    "print('Id after: ', id(s1))"
   ]
  },
  {
   "cell_type": "markdown",
   "id": "ab196de0",
   "metadata": {},
   "source": [
    "> Union update"
   ]
  },
  {
   "cell_type": "code",
   "execution_count": 30,
   "id": "1fee7c46",
   "metadata": {},
   "outputs": [],
   "source": [
    "s1 = {1, 2, 3}\n",
    "s2 = {2, 3, 4}"
   ]
  },
  {
   "cell_type": "code",
   "execution_count": 31,
   "id": "311011e3",
   "metadata": {},
   "outputs": [
    {
     "name": "stdout",
     "output_type": "stream",
     "text": [
      "Id before:  1938807739328\n",
      "{1, 2, 3, 4}\n",
      "Id after:  1938807739328\n"
     ]
    }
   ],
   "source": [
    "# Use method\n",
    "print('Id before: ', id(s1))\n",
    "s1.update(s2)\n",
    "print(s1)\n",
    "print('Id after: ', id(s1))"
   ]
  },
  {
   "cell_type": "code",
   "execution_count": 32,
   "id": "79df2159",
   "metadata": {},
   "outputs": [],
   "source": [
    "s1 = {1, 2, 3}\n",
    "s2 = {2, 3, 4}"
   ]
  },
  {
   "cell_type": "code",
   "execution_count": 33,
   "id": "24d07a3f",
   "metadata": {},
   "outputs": [
    {
     "name": "stdout",
     "output_type": "stream",
     "text": [
      "Id before:  1938807739104\n",
      "{1, 2, 3, 4}\n",
      "Id after:  1938807739104\n"
     ]
    }
   ],
   "source": [
    "# Use operand\n",
    "print('Id before: ', id(s1))\n",
    "s1 |= s2\n",
    "print(s1)\n",
    "print('Id after: ', id(s1))"
   ]
  },
  {
   "cell_type": "markdown",
   "id": "f24a3010",
   "metadata": {},
   "source": [
    "> Difference update"
   ]
  },
  {
   "cell_type": "code",
   "execution_count": 34,
   "id": "38f4a297",
   "metadata": {},
   "outputs": [],
   "source": [
    "s1 = {1, 2, 3}\n",
    "s2 = {2, 3, 4}"
   ]
  },
  {
   "cell_type": "code",
   "execution_count": 35,
   "id": "afcab7b5",
   "metadata": {},
   "outputs": [
    {
     "name": "stdout",
     "output_type": "stream",
     "text": [
      "Id before:  1938807741792\n",
      "{1}\n",
      "Id after:  1938807741792\n"
     ]
    }
   ],
   "source": [
    "# Use method\n",
    "print('Id before: ', id(s1))\n",
    "s1.difference_update(s2)\n",
    "print(s1)\n",
    "print('Id after: ', id(s1))"
   ]
  },
  {
   "cell_type": "code",
   "execution_count": 36,
   "id": "8b8d7ecc",
   "metadata": {},
   "outputs": [],
   "source": [
    "s1 = {1, 2, 3}\n",
    "s2 = {2, 3, 4}"
   ]
  },
  {
   "cell_type": "code",
   "execution_count": 37,
   "id": "9d94f12f",
   "metadata": {},
   "outputs": [
    {
     "name": "stdout",
     "output_type": "stream",
     "text": [
      "Id before:  1938807739552\n",
      "{1}\n",
      "Id after:  1938807739552\n"
     ]
    }
   ],
   "source": [
    "# Use operand\n",
    "print('Id before: ', id(s1))\n",
    "s1 -= s2\n",
    "print(s1)\n",
    "print('Id after: ', id(s1))"
   ]
  },
  {
   "cell_type": "markdown",
   "id": "838398b3",
   "metadata": {},
   "source": [
    "> Symmetric difference update"
   ]
  },
  {
   "cell_type": "code",
   "execution_count": 38,
   "id": "644b742b",
   "metadata": {},
   "outputs": [],
   "source": [
    "s1 = {1, 2, 3}\n",
    "s2 = {2, 3, 4}"
   ]
  },
  {
   "cell_type": "code",
   "execution_count": 39,
   "id": "2424893b",
   "metadata": {},
   "outputs": [
    {
     "name": "stdout",
     "output_type": "stream",
     "text": [
      "Id before:  1938807739104\n",
      "{1, 4}\n",
      "Id after:  1938807739104\n"
     ]
    }
   ],
   "source": [
    "# Use method\n",
    "print('Id before: ', id(s1))\n",
    "s1.symmetric_difference_update(s2)\n",
    "print(s1)\n",
    "print('Id after: ', id(s1))"
   ]
  },
  {
   "cell_type": "code",
   "execution_count": 40,
   "id": "1cbd0689",
   "metadata": {},
   "outputs": [],
   "source": [
    "s1 = {1, 2, 3}\n",
    "s2 = {2, 3, 4}"
   ]
  },
  {
   "cell_type": "code",
   "execution_count": 41,
   "id": "e464dbaa",
   "metadata": {},
   "outputs": [
    {
     "name": "stdout",
     "output_type": "stream",
     "text": [
      "Id before:  1938807741792\n",
      "{1, 4}\n",
      "Id after:  1938807741792\n"
     ]
    }
   ],
   "source": [
    "# Use operand\n",
    "print('Id before: ', id(s1))\n",
    "s1 ^= s2\n",
    "print(s1)\n",
    "print('Id after: ', id(s1))"
   ]
  },
  {
   "cell_type": "markdown",
   "id": "b48c6344",
   "metadata": {},
   "source": [
    "---\n",
    "\n",
    "### Copying Sets <a name='copying_sets'></a>"
   ]
  },
  {
   "cell_type": "markdown",
   "id": "3a87b7a6",
   "metadata": {},
   "source": [
    "Copying sets is very similar to copying dictionaries and can be categorized into `shallow` and `deep` copying."
   ]
  },
  {
   "cell_type": "code",
   "execution_count": 42,
   "id": "3d55d08d",
   "metadata": {},
   "outputs": [],
   "source": [
    "class Person:\n",
    "    pass"
   ]
  },
  {
   "cell_type": "code",
   "execution_count": 43,
   "id": "9df33637",
   "metadata": {},
   "outputs": [],
   "source": [
    "p1 = Person()\n",
    "p2 = Person()"
   ]
  },
  {
   "cell_type": "code",
   "execution_count": 44,
   "id": "52e8b564",
   "metadata": {},
   "outputs": [],
   "source": [
    "s = {p1, p2}"
   ]
  },
  {
   "cell_type": "markdown",
   "id": "419ffffd",
   "metadata": {},
   "source": [
    "* Shallow copy:"
   ]
  },
  {
   "cell_type": "code",
   "execution_count": 45,
   "id": "6c39befc",
   "metadata": {},
   "outputs": [],
   "source": [
    "s_copy = s.copy()"
   ]
  },
  {
   "cell_type": "code",
   "execution_count": 46,
   "id": "e3475e89",
   "metadata": {},
   "outputs": [
    {
     "name": "stdout",
     "output_type": "stream",
     "text": [
      "Copy and original are the same object:  False\n"
     ]
    }
   ],
   "source": [
    "print('Copy and original are the same object: ', s_copy is s)"
   ]
  },
  {
   "cell_type": "code",
   "execution_count": 47,
   "id": "5b9094fb",
   "metadata": {},
   "outputs": [
    {
     "name": "stdout",
     "output_type": "stream",
     "text": [
      "Copied and original inner objects are the same:  True\n"
     ]
    }
   ],
   "source": [
    "print('Copied and original inner objects are the same: ', (p1 in s_copy) & (p2 in s_copy))"
   ]
  },
  {
   "cell_type": "markdown",
   "id": "59ff4f9f",
   "metadata": {},
   "source": [
    "* Deep copy:"
   ]
  },
  {
   "cell_type": "code",
   "execution_count": 48,
   "id": "d39580ae",
   "metadata": {},
   "outputs": [],
   "source": [
    "from copy import deepcopy"
   ]
  },
  {
   "cell_type": "code",
   "execution_count": 49,
   "id": "833db9ee",
   "metadata": {},
   "outputs": [],
   "source": [
    "s_deep_copy = deepcopy(s)"
   ]
  },
  {
   "cell_type": "code",
   "execution_count": 50,
   "id": "72031365",
   "metadata": {},
   "outputs": [
    {
     "name": "stdout",
     "output_type": "stream",
     "text": [
      "Copy and original are the same object:  False\n"
     ]
    }
   ],
   "source": [
    "print('Copy and original are the same object: ', s_deep_copy is s)"
   ]
  },
  {
   "cell_type": "code",
   "execution_count": 51,
   "id": "4a5c9855",
   "metadata": {},
   "outputs": [
    {
     "name": "stdout",
     "output_type": "stream",
     "text": [
      "Copied and original inner objects are the same:  False\n"
     ]
    }
   ],
   "source": [
    "print('Copied and original inner objects are the same: ', (p1 in s_deep_copy) & (p2 in s_deep_copy))"
   ]
  },
  {
   "cell_type": "markdown",
   "id": "46697f30",
   "metadata": {},
   "source": [
    "---\n",
    "\n",
    "### Frozen Sets <a name='frozen_sets'></a>"
   ]
  },
  {
   "cell_type": "markdown",
   "id": "ccd685f0",
   "metadata": {},
   "source": [
    "Frozen set is the immutable version of set and thus hashable."
   ]
  },
  {
   "cell_type": "markdown",
   "id": "ac465f8b",
   "metadata": {},
   "source": [
    "* Definition:"
   ]
  },
  {
   "cell_type": "code",
   "execution_count": 52,
   "id": "a4da3e0a",
   "metadata": {},
   "outputs": [
    {
     "data": {
      "text/plain": [
       "-272375401224217160"
      ]
     },
     "execution_count": 52,
     "metadata": {},
     "output_type": "execute_result"
    }
   ],
   "source": [
    "s_frozen = frozenset([1, 2, 3])\n",
    "hash(s_frozen)"
   ]
  },
  {
   "cell_type": "markdown",
   "id": "bbbd086b",
   "metadata": {},
   "source": [
    "* Operation:  \n",
    "If apply operations on `set` and `frozenset` at the same time, the order will determine the type of final output."
   ]
  },
  {
   "cell_type": "code",
   "execution_count": 53,
   "id": "d9257deb",
   "metadata": {},
   "outputs": [
    {
     "name": "stdout",
     "output_type": "stream",
     "text": [
      "<class 'set'>\n"
     ]
    }
   ],
   "source": [
    "s = {1, 2, 'a'}\n",
    "s_frozen = frozenset('abc')\n",
    "print(type(s | s_frozen))"
   ]
  },
  {
   "cell_type": "code",
   "execution_count": 54,
   "id": "81764ffb",
   "metadata": {},
   "outputs": [
    {
     "name": "stdout",
     "output_type": "stream",
     "text": [
      "<class 'frozenset'>\n"
     ]
    }
   ],
   "source": [
    "print(type(s_frozen & s))"
   ]
  }
 ],
 "metadata": {
  "kernelspec": {
   "display_name": "Python 3",
   "language": "python",
   "name": "python3"
  },
  "language_info": {
   "codemirror_mode": {
    "name": "ipython",
    "version": 3
   },
   "file_extension": ".py",
   "mimetype": "text/x-python",
   "name": "python",
   "nbconvert_exporter": "python",
   "pygments_lexer": "ipython3",
   "version": "3.8.8"
  }
 },
 "nbformat": 4,
 "nbformat_minor": 5
}
