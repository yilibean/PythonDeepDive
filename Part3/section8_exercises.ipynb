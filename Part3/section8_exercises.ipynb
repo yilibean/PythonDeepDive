{
 "cells": [
  {
   "cell_type": "markdown",
   "id": "b525de93",
   "metadata": {},
   "source": [
    "Consider the following classes:"
   ]
  },
  {
   "cell_type": "code",
   "execution_count": 1,
   "id": "296819df",
   "metadata": {},
   "outputs": [],
   "source": [
    "class Stock:\n",
    "    def __init__(self, symbol, date, open_, high, low, close, vol):\n",
    "        self.symbol = symbol\n",
    "        self.date = date\n",
    "        self.open_ = open_\n",
    "        self.high = high\n",
    "        self.low = low\n",
    "        self.close = close\n",
    "        self.vol = vol\n",
    "        \n",
    "    def as_dict(self):\n",
    "        return dict(symbol = self.symbol,\n",
    "                    date = self.date,\n",
    "                    open = self.open_,\n",
    "                    high = self.high,\n",
    "                    low = self.low,\n",
    "                    close = self.close,\n",
    "                    vol = self.vol)"
   ]
  },
  {
   "cell_type": "code",
   "execution_count": 2,
   "id": "66f3abb1",
   "metadata": {},
   "outputs": [],
   "source": [
    "class Trade:\n",
    "    def __init__(self, symbol, timestamp, order, price, vol, commission):\n",
    "        self.symbol = symbol\n",
    "        self.timestamp = timestamp\n",
    "        self.order = order\n",
    "        self.price = price\n",
    "        self.vol = vol\n",
    "        self.commission = commission\n",
    "        \n",
    "    def as_dict(self):\n",
    "        return dict(symbol = self.symbol,\n",
    "                    timestamp = self.timestamp,\n",
    "                    order = self.order,\n",
    "                    price = self.price,\n",
    "                    vol = self.vol,\n",
    "                    commission = self.commission)"
   ]
  },
  {
   "cell_type": "markdown",
   "id": "eaf91006",
   "metadata": {},
   "source": [
    "### Exercise 1:\n",
    "\n",
    "Write a custom `JsonEncoder` class to serialize dictionaries that contain instances of the above classes."
   ]
  },
  {
   "cell_type": "code",
   "execution_count": 3,
   "id": "7bb8b7f4",
   "metadata": {},
   "outputs": [],
   "source": [
    "import json\n",
    "from pprint import pprint\n",
    "from datetime import date, datetime\n",
    "from decimal import Decimal"
   ]
  },
  {
   "cell_type": "code",
   "execution_count": 4,
   "id": "0ef44aec",
   "metadata": {},
   "outputs": [],
   "source": [
    "class CustomJsonEncoder(json.JSONEncoder):\n",
    "    def default(self, obj):\n",
    "        if isinstance(obj, Stock) or isinstance(obj, Trade):\n",
    "            result = obj.as_dict()\n",
    "            result['object'] = obj.__class__.__name__\n",
    "            return result\n",
    "        if isinstance(obj, Trade):\n",
    "            return obj.as_dict()\n",
    "        if isinstance(obj, date):\n",
    "            return obj.strftime('%Y-%m-%d')\n",
    "        if isinstance(obj, datetime):\n",
    "            return obj.strftime('%Y-%m-%dT%H:%M:%S')\n",
    "        if isinstance(obj, Decimal):\n",
    "            return str(obj)\n",
    "        return super().default(obj)"
   ]
  },
  {
   "cell_type": "code",
   "execution_count": 5,
   "id": "b10fea09",
   "metadata": {},
   "outputs": [],
   "source": [
    "activity = {\n",
    "    \"quotes\": [\n",
    "        Stock('TSLA', date(2018, 11, 22), Decimal('338.19'), Decimal('338.64'), Decimal('337.60'), Decimal('338.25'), 365_607),\n",
    "        Stock('AAPL', date(2018, 11, 22), Decimal('176.66'), Decimal('177.25'), Decimal('176.64'), Decimal('176.78'), 3_669_184),\n",
    "        Stock('MSFT', date(2018, 11, 22), Decimal('103.25'), Decimal('103.48'), Decimal('103.07'), Decimal('103.11'), 4_493_689)\n",
    "    ],\n",
    "    \"trades\": [\n",
    "        Trade('TSLA', datetime(2018, 11, 22, 10, 5, 12), 'buy', Decimal('338.23'), 100, Decimal('9.99')),\n",
    "        Trade('AAPL', datetime(2018, 11, 22, 10, 30, 5), 'sell', Decimal('177.01'), 20, Decimal('9.99'))\n",
    "    ]\n",
    "}"
   ]
  },
  {
   "cell_type": "code",
   "execution_count": 6,
   "id": "858aca2f",
   "metadata": {},
   "outputs": [
    {
     "name": "stdout",
     "output_type": "stream",
     "text": [
      "('{\"quotes\": [{\"symbol\": \"TSLA\", \"date\": \"2018-11-22\", \"open\": \"338.19\", '\n",
      " '\"high\": \"338.64\", \"low\": \"337.60\", \"close\": \"338.25\", \"vol\": 365607, '\n",
      " '\"object\": \"Stock\"}, {\"symbol\": \"AAPL\", \"date\": \"2018-11-22\", \"open\": '\n",
      " '\"176.66\", \"high\": \"177.25\", \"low\": \"176.64\", \"close\": \"176.78\", \"vol\": '\n",
      " '3669184, \"object\": \"Stock\"}, {\"symbol\": \"MSFT\", \"date\": \"2018-11-22\", '\n",
      " '\"open\": \"103.25\", \"high\": \"103.48\", \"low\": \"103.07\", \"close\": \"103.11\", '\n",
      " '\"vol\": 4493689, \"object\": \"Stock\"}], \"trades\": [{\"symbol\": \"TSLA\", '\n",
      " '\"timestamp\": \"2018-11-22\", \"order\": \"buy\", \"price\": \"338.23\", \"vol\": 100, '\n",
      " '\"commission\": \"9.99\", \"object\": \"Trade\"}, {\"symbol\": \"AAPL\", \"timestamp\": '\n",
      " '\"2018-11-22\", \"order\": \"sell\", \"price\": \"177.01\", \"vol\": 20, \"commission\": '\n",
      " '\"9.99\", \"object\": \"Trade\"}]}')\n"
     ]
    }
   ],
   "source": [
    "encoded = json.dumps(activity, cls=CustomJsonEncoder)\n",
    "pprint(encoded)"
   ]
  },
  {
   "cell_type": "markdown",
   "id": "1b178fc8",
   "metadata": {},
   "source": [
    "---\n",
    "\n",
    "### Exercise 2:\n",
    "\n",
    "Write a custom decoder that can deserialize a JSON structure containing `Stock` and `Trade` objects."
   ]
  },
  {
   "cell_type": "code",
   "execution_count": 7,
   "id": "a919e6a2",
   "metadata": {},
   "outputs": [],
   "source": [
    "class CustomDecoder(json.JSONDecoder):\n",
    "    def decode(self, encoded):\n",
    "        data = json.loads(encoded)\n",
    "        return self.parse(data)\n",
    "    \n",
    "    def parse(self, obj):\n",
    "        # Loaded object can be either list or dictionary\n",
    "        if isinstance(obj, dict):\n",
    "            obj = self.decode_financials(obj)\n",
    "            if isinstance(obj, dict):\n",
    "                for key, value in obj.items():\n",
    "                    obj[key] = self.parse(value)\n",
    "        elif isinstance(obj, list):\n",
    "            for index, item in enumerate(obj):\n",
    "                obj[index] = self.parse(item)\n",
    "        return obj\n",
    "                \n",
    "    def decode_financials(self, obj):\n",
    "        obj_type = obj.get('object', None)\n",
    "        if obj_type == 'Stock':\n",
    "            return self.decode_stock(obj)\n",
    "        elif obj_type == 'Trade':\n",
    "            return self.decode_trade(obj)\n",
    "        return obj\n",
    "    \n",
    "    def decode_stock(self, obj):\n",
    "        s = Stock(obj['symbol'],\n",
    "                  datetime.strptime(obj['date'], '%Y-%m-%d').date(),\n",
    "                  Decimal(obj['open']),\n",
    "                  Decimal(obj['high']),\n",
    "                  Decimal(obj['low']),\n",
    "                  Decimal(obj['close']),\n",
    "                  int(obj['vol']))\n",
    "        return s\n",
    "        \n",
    "    def decode_trade(self, obj):\n",
    "        t = Trade(obj['symbol'],\n",
    "                  datetime.strptime(obj['timestamp'], '%Y-%m-%d'),\n",
    "                  obj['order'],\n",
    "                  Decimal(obj['price']),\n",
    "                  int(obj['vol']),\n",
    "                  Decimal(obj['commission']))\n",
    "        return t"
   ]
  },
  {
   "cell_type": "code",
   "execution_count": 8,
   "id": "914d18da",
   "metadata": {},
   "outputs": [
    {
     "name": "stdout",
     "output_type": "stream",
     "text": [
      "{'quotes': [<__main__.Stock object at 0x000001F32CB868E0>, <__main__.Stock object at 0x000001F32CB86880>, <__main__.Stock object at 0x000001F32CB86070>], 'trades': [<__main__.Trade object at 0x000001F32CB869A0>, <__main__.Trade object at 0x000001F32CB86910>]}\n"
     ]
    }
   ],
   "source": [
    "decoded = json.loads(encoded, cls=CustomDecoder)\n",
    "print(decoded)"
   ]
  }
 ],
 "metadata": {
  "kernelspec": {
   "display_name": "Python 3",
   "language": "python",
   "name": "python3"
  },
  "language_info": {
   "codemirror_mode": {
    "name": "ipython",
    "version": 3
   },
   "file_extension": ".py",
   "mimetype": "text/x-python",
   "name": "python",
   "nbconvert_exporter": "python",
   "pygments_lexer": "ipython3",
   "version": "3.8.8"
  }
 },
 "nbformat": 4,
 "nbformat_minor": 5
}
