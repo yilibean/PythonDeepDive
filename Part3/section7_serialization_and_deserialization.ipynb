{
 "cells": [
  {
   "cell_type": "markdown",
   "id": "65ec1a8c",
   "metadata": {},
   "source": [
    "## Serialization and Deserialization\n",
    "\n",
    "- [**Pickling**](#pickling)\n",
    "- [**JSON Serialization**](#json_serialization)\n",
    "- [**Custom JSON Encoding**](#custom_json_encoding)\n",
    "- [**Using JSONEncoder**](#using_jsonencoder)\n",
    "- [**Custom JSON Decoding**](#custom_json_decoding)\n",
    "- [**Using JSONDecoder**](#using_jsondecoder)"
   ]
  },
  {
   "cell_type": "markdown",
   "id": "bac85b0b",
   "metadata": {},
   "source": [
    "---\n",
    "\n",
    "### Pickling <a name='pickling'></a>"
   ]
  },
  {
   "cell_type": "markdown",
   "id": "31c4de0d",
   "metadata": {},
   "source": [
    "`pickle` module is a Python specific way of serializing and deserializing objects, it can write objects into **binary-format** files for data persistence and reload them as needed."
   ]
  },
  {
   "cell_type": "markdown",
   "id": "aa4c01b2",
   "metadata": {},
   "source": [
    "* Pickle string:"
   ]
  },
  {
   "cell_type": "code",
   "execution_count": 1,
   "id": "c674b5f5",
   "metadata": {},
   "outputs": [],
   "source": [
    "import pickle"
   ]
  },
  {
   "cell_type": "code",
   "execution_count": 2,
   "id": "cb6643bf",
   "metadata": {},
   "outputs": [
    {
     "name": "stdout",
     "output_type": "stream",
     "text": [
      "b'\\x80\\x04\\x95\\x10\\x00\\x00\\x00\\x00\\x00\\x00\\x00\\x8c\\x0cTaylor Swift\\x94.'\n"
     ]
    }
   ],
   "source": [
    "ser = pickle.dumps('Taylor Swift')\n",
    "print(ser)"
   ]
  },
  {
   "cell_type": "code",
   "execution_count": 3,
   "id": "1ef2070e",
   "metadata": {},
   "outputs": [
    {
     "name": "stdout",
     "output_type": "stream",
     "text": [
      "Taylor Swift\n"
     ]
    }
   ],
   "source": [
    "deser = pickle.loads(ser)\n",
    "print(deser)"
   ]
  },
  {
   "cell_type": "markdown",
   "id": "5b0b602b",
   "metadata": {},
   "source": [
    "* Pickle number:"
   ]
  },
  {
   "cell_type": "code",
   "execution_count": 4,
   "id": "b484653c",
   "metadata": {},
   "outputs": [
    {
     "name": "stdout",
     "output_type": "stream",
     "text": [
      "b'\\x80\\x04\\x95\\x04\\x00\\x00\\x00\\x00\\x00\\x00\\x00MZ\\x04.'\n"
     ]
    }
   ],
   "source": [
    "ser = pickle.dumps(1114)\n",
    "print(ser)"
   ]
  },
  {
   "cell_type": "code",
   "execution_count": 5,
   "id": "92a61ded",
   "metadata": {},
   "outputs": [
    {
     "name": "stdout",
     "output_type": "stream",
     "text": [
      "1114\n"
     ]
    }
   ],
   "source": [
    "deser = pickle.loads(ser)\n",
    "print(deser)"
   ]
  },
  {
   "cell_type": "markdown",
   "id": "364cfd47",
   "metadata": {},
   "source": [
    "* Pickle list:"
   ]
  },
  {
   "cell_type": "code",
   "execution_count": 6,
   "id": "364b317f",
   "metadata": {},
   "outputs": [
    {
     "name": "stdout",
     "output_type": "stream",
     "text": [
      "b'\\x80\\x04\\x95\\x1c\\x00\\x00\\x00\\x00\\x00\\x00\\x00]\\x94(K\\x01K\\x02\\x8c\\x06Taylor\\x94\\x8c\\x05Swift\\x94\\x86\\x94e.'\n"
     ]
    }
   ],
   "source": [
    "ser = pickle.dumps([1, 2, ('Taylor', 'Swift')])\n",
    "print(ser)"
   ]
  },
  {
   "cell_type": "code",
   "execution_count": 7,
   "id": "61370439",
   "metadata": {},
   "outputs": [
    {
     "name": "stdout",
     "output_type": "stream",
     "text": [
      "[1, 2, ('Taylor', 'Swift')]\n"
     ]
    }
   ],
   "source": [
    "# Note that the deserialized object equals to the original one, but is not the same object as the original\n",
    "deser = pickle.loads(ser)\n",
    "print(deser)"
   ]
  },
  {
   "cell_type": "markdown",
   "id": "eb9a46ed",
   "metadata": {},
   "source": [
    "---\n",
    "\n",
    "### JSON Serialization <a name='json_serialization'></a>"
   ]
  },
  {
   "cell_type": "markdown",
   "id": "bb394ed3",
   "metadata": {},
   "source": [
    "`JSON` is considered as a safe approach regarding serialization/deserialization comparing to `pickle`, but it on the other hand only support limited data types including:\n",
    "\n",
    "* string\n",
    "* int\n",
    "* float\n",
    "* boolean\n",
    "* array (list)\n",
    "* dictionary\n",
    "* empty value\n",
    "\n",
    "And it will not be able to handle for instance:\n",
    "\n",
    "* complex number\n",
    "* decimal\n",
    "* tuple\n",
    "* set\n",
    "* datetime"
   ]
  },
  {
   "cell_type": "code",
   "execution_count": 8,
   "id": "1e72b801",
   "metadata": {},
   "outputs": [],
   "source": [
    "import json"
   ]
  },
  {
   "cell_type": "code",
   "execution_count": 9,
   "id": "35671503",
   "metadata": {},
   "outputs": [
    {
     "name": "stdout",
     "output_type": "stream",
     "text": [
      "<class 'str'>\n",
      "{\"a\": 100, \"b\": 200}\n"
     ]
    }
   ],
   "source": [
    "d1 = {'a': 100, 'b': 200}\n",
    "# If using json.dump() will directly write the output into a file\n",
    "d1_json = json.dumps(d1)\n",
    "print(f'{type(d1_json)}\\n{d1_json}')"
   ]
  },
  {
   "cell_type": "code",
   "execution_count": 10,
   "id": "b5eb4cbd",
   "metadata": {},
   "outputs": [
    {
     "name": "stdout",
     "output_type": "stream",
     "text": [
      "<class 'dict'>\n",
      "{'a': 100, 'b': 200}\n"
     ]
    }
   ],
   "source": [
    "d2 = json.loads(d1_json)\n",
    "print(f'{type(d2)}\\n{d2}')"
   ]
  },
  {
   "cell_type": "markdown",
   "id": "28a12597",
   "metadata": {},
   "source": [
    "Note that `JSON` will always return dictionaries where the keys are in `str` type, which can be different from the original type. "
   ]
  },
  {
   "cell_type": "code",
   "execution_count": 11,
   "id": "ab6cb730",
   "metadata": {},
   "outputs": [
    {
     "name": "stdout",
     "output_type": "stream",
     "text": [
      "<class 'str'>\n",
      "{\"1\": 100, \"2\": 200}\n"
     ]
    }
   ],
   "source": [
    "d1 = {1: 100, 2: 200}\n",
    "d1_json = json.dumps(d1)\n",
    "print(f'{type(d1_json)}\\n{d1_json}')"
   ]
  },
  {
   "cell_type": "code",
   "execution_count": 12,
   "id": "5949fb16",
   "metadata": {},
   "outputs": [
    {
     "name": "stdout",
     "output_type": "stream",
     "text": [
      "<class 'dict'>\n",
      "{'1': 100, '2': 200}\n"
     ]
    }
   ],
   "source": [
    "d2 = json.loads(d1_json)\n",
    "print(f'{type(d2)}\\n{d2}')"
   ]
  },
  {
   "cell_type": "markdown",
   "id": "e648f90c",
   "metadata": {},
   "source": [
    "---\n",
    "\n",
    "### Custom JSON Encoding <a name='custom_json_encoding'></a>"
   ]
  },
  {
   "cell_type": "markdown",
   "id": "7edd9648",
   "metadata": {},
   "source": [
    "When encountering types that `JSON` is not able to handle, one can provide the customized approach (i.e. callable) for it to manipulate."
   ]
  },
  {
   "cell_type": "code",
   "execution_count": 13,
   "id": "f25e2e61",
   "metadata": {},
   "outputs": [],
   "source": [
    "from datetime import datetime"
   ]
  },
  {
   "cell_type": "code",
   "execution_count": 14,
   "id": "e7dec8d8",
   "metadata": {},
   "outputs": [],
   "source": [
    "log_record = {\n",
    "    'time': datetime.utcnow(),\n",
    "    'message': 'testing',\n",
    "    'args': (10, 'test')\n",
    "}"
   ]
  },
  {
   "cell_type": "code",
   "execution_count": 15,
   "id": "35f5deda",
   "metadata": {},
   "outputs": [
    {
     "data": {
      "text/plain": [
       "'{\"time\": \"Unknown serialization\", \"message\": \"testing\", \"args\": [10, \"test\"]}'"
      ]
     },
     "execution_count": 15,
     "metadata": {},
     "output_type": "execute_result"
    }
   ],
   "source": [
    "json.dumps(log_record, default=lambda x: 'Unknown serialization')"
   ]
  },
  {
   "cell_type": "markdown",
   "id": "58bf8024",
   "metadata": {},
   "source": [
    "---\n",
    "\n",
    "### Using JSONEncoder <a name='using_jsonencoder'></a>"
   ]
  },
  {
   "cell_type": "markdown",
   "id": "c95a029e",
   "metadata": {},
   "source": [
    "`JSONEncoder` is the class in `json` module for data serialization, and it can be overloaded using custom set-up to control how the serialization should be done."
   ]
  },
  {
   "cell_type": "code",
   "execution_count": 16,
   "id": "0a220304",
   "metadata": {},
   "outputs": [],
   "source": [
    "class CustomJSONEncoder(json.JSONEncoder):\n",
    "    def __init__(self, *args, **kwargs):\n",
    "        # Specify extra arguments\n",
    "        super().__init__(skipkeys=True,\n",
    "                        allow_nan=False,\n",
    "                        indent='---',\n",
    "                        separators=(':', ' = '))\n",
    "    \n",
    "    # Override default() method\n",
    "    def default(self, arg):\n",
    "        if isinstance(arg, datetime):\n",
    "            return arg.isoformat()\n",
    "        # Delegate back to the parent class\n",
    "        return super().default(arg)"
   ]
  },
  {
   "cell_type": "code",
   "execution_count": 17,
   "id": "50e79b5d",
   "metadata": {},
   "outputs": [],
   "source": [
    "log_record = {\n",
    "    'time': datetime.utcnow(),\n",
    "    'message': 'testing',\n",
    "    'args': (10, 'test')\n",
    "}"
   ]
  },
  {
   "cell_type": "code",
   "execution_count": 18,
   "id": "ac4f29cf",
   "metadata": {},
   "outputs": [
    {
     "data": {
      "text/plain": [
       "'{\\n---\"time\" = \"2023-09-27T11:13:01.984383\":\\n---\"message\" = \"testing\":\\n---\"args\" = [\\n------10:\\n------\"test\"\\n---]\\n}'"
      ]
     },
     "execution_count": 18,
     "metadata": {},
     "output_type": "execute_result"
    }
   ],
   "source": [
    "# Use customized JSONEncoder class\n",
    "json.dumps(log_record, cls=CustomJSONEncoder)"
   ]
  },
  {
   "cell_type": "markdown",
   "id": "b48c6344",
   "metadata": {},
   "source": [
    "---\n",
    "\n",
    "### Custom JSON Decoding <a name='custom_json_decoding'></a>"
   ]
  },
  {
   "cell_type": "markdown",
   "id": "fbdad431",
   "metadata": {},
   "source": [
    "JSON decoding is normally much more complex than encoding process, and we can exploit following steps to make sure it can be transformed into correct type."
   ]
  },
  {
   "cell_type": "markdown",
   "id": "41a4c72d",
   "metadata": {},
   "source": [
    "> Schema: Provide information of object type in the string to control parsing format."
   ]
  },
  {
   "cell_type": "code",
   "execution_count": 19,
   "id": "2deb167a",
   "metadata": {},
   "outputs": [],
   "source": [
    "string = \"\"\"\n",
    "{\n",
    "    \"time\": \n",
    "    {\n",
    "        \"objecttype\": \"datetime\",\n",
    "        \"value\": \"1996-11-14T02:30:00\"\n",
    "    },\n",
    "    \"message\": \"blessing moment\"\n",
    "}\n",
    "\"\"\""
   ]
  },
  {
   "cell_type": "markdown",
   "id": "ecb8f994",
   "metadata": {},
   "source": [
    "> Extra argument: Add specific arguments for meeting different needs of parsing."
   ]
  },
  {
   "cell_type": "markdown",
   "id": "6ca54a9b",
   "metadata": {},
   "source": [
    "* object_hook: Apply the callable that is used to manipulate data types all the way through each layer."
   ]
  },
  {
   "cell_type": "code",
   "execution_count": 20,
   "id": "b68fcf33",
   "metadata": {},
   "outputs": [],
   "source": [
    "def custom_decoder(arg):\n",
    "    if 'objecttype' in arg and arg['objecttype'] == 'datetime':\n",
    "        datetime.strptime(arg['value'], '%Y-%m-%dT%H:%M:%S')\n",
    "    return arg"
   ]
  },
  {
   "cell_type": "code",
   "execution_count": 21,
   "id": "a79ccbf3",
   "metadata": {
    "scrolled": true
   },
   "outputs": [
    {
     "data": {
      "text/plain": [
       "{'time': {'objecttype': 'datetime', 'value': '1996-11-14T02:30:00'},\n",
       " 'message': 'blessing moment'}"
      ]
     },
     "execution_count": 21,
     "metadata": {},
     "output_type": "execute_result"
    }
   ],
   "source": [
    "json.loads(string, object_hook=custom_decoder)"
   ]
  },
  {
   "cell_type": "markdown",
   "id": "cd5cc538",
   "metadata": {},
   "source": [
    "* parse_float: Apply customized way to handle floats."
   ]
  },
  {
   "cell_type": "code",
   "execution_count": 22,
   "id": "32cbc4fe",
   "metadata": {},
   "outputs": [],
   "source": [
    "from decimal import Decimal\n",
    "\n",
    "def make_decimal(arg):\n",
    "    print('Float received: ', type(arg), arg)\n",
    "    return Decimal(arg)"
   ]
  },
  {
   "cell_type": "code",
   "execution_count": 23,
   "id": "c294cd91",
   "metadata": {},
   "outputs": [],
   "source": [
    "string = \"\"\"\n",
    "{\n",
    "    \"a\": 10,\n",
    "    \"b\": 0.7,\n",
    "    \"c\": 0.99\n",
    "}\n",
    "\"\"\""
   ]
  },
  {
   "cell_type": "code",
   "execution_count": 24,
   "id": "ef482ddd",
   "metadata": {},
   "outputs": [
    {
     "name": "stdout",
     "output_type": "stream",
     "text": [
      "Float received:  <class 'str'> 0.7\n",
      "Float received:  <class 'str'> 0.99\n"
     ]
    },
    {
     "data": {
      "text/plain": [
       "{'a': 10, 'b': Decimal('0.7'), 'c': Decimal('0.99')}"
      ]
     },
     "execution_count": 24,
     "metadata": {},
     "output_type": "execute_result"
    }
   ],
   "source": [
    "json.loads(string, parse_float=make_decimal)"
   ]
  },
  {
   "cell_type": "markdown",
   "id": "e18c426d",
   "metadata": {},
   "source": [
    "* parse_int: Apply customized way to handle integers."
   ]
  },
  {
   "cell_type": "code",
   "execution_count": 25,
   "id": "32877f97",
   "metadata": {},
   "outputs": [],
   "source": [
    "def make_binary(arg):\n",
    "    print('Int received: ', type(arg), arg)\n",
    "    return bin(int(arg))"
   ]
  },
  {
   "cell_type": "code",
   "execution_count": 26,
   "id": "1ecd74a4",
   "metadata": {},
   "outputs": [],
   "source": [
    "string = \"\"\"\n",
    "{\n",
    "    \"a\": 10,\n",
    "    \"b\": 0.7,\n",
    "    \"c\": 0.99\n",
    "}\n",
    "\"\"\""
   ]
  },
  {
   "cell_type": "code",
   "execution_count": 27,
   "id": "80e4f8fd",
   "metadata": {},
   "outputs": [
    {
     "name": "stdout",
     "output_type": "stream",
     "text": [
      "Int received:  <class 'str'> 10\n"
     ]
    },
    {
     "data": {
      "text/plain": [
       "{'a': '0b1010', 'b': 0.7, 'c': 0.99}"
      ]
     },
     "execution_count": 27,
     "metadata": {},
     "output_type": "execute_result"
    }
   ],
   "source": [
    "json.loads(string, parse_int=make_binary)"
   ]
  },
  {
   "cell_type": "markdown",
   "id": "46697f30",
   "metadata": {},
   "source": [
    "---\n",
    "\n",
    "### Using JSONDecoder <a name='using_jsondecoder'></a>"
   ]
  },
  {
   "cell_type": "markdown",
   "id": "d362ee9c",
   "metadata": {},
   "source": [
    "`JSONDecoder` is the class in `json` module for data deserialization, and it can be overloaded using custom set-up to control how the deserialization should be done."
   ]
  },
  {
   "cell_type": "code",
   "execution_count": 28,
   "id": "e3c84734",
   "metadata": {},
   "outputs": [],
   "source": [
    "class CustomDecoder(json.JSONDecoder):\n",
    "    \n",
    "    # Override decode() method\n",
    "    def decode(self, arg):\n",
    "        obj = json.loads(arg)\n",
    "        if 'points' in arg:\n",
    "            obj['points'] = [Point(x, y) for x, y in obj['points']]\n",
    "        return obj"
   ]
  },
  {
   "cell_type": "code",
   "execution_count": 29,
   "id": "37cb29a0",
   "metadata": {},
   "outputs": [],
   "source": [
    "class Point:\n",
    "    def __init__(self, x, y):\n",
    "        self.x = x\n",
    "        self.y = y\n",
    "    \n",
    "    def __repr__(self):\n",
    "        return f'Point(x = {self.x}, y = {self.y})'"
   ]
  },
  {
   "cell_type": "code",
   "execution_count": 30,
   "id": "6a33d290",
   "metadata": {},
   "outputs": [],
   "source": [
    "s1 = '''\n",
    "{\n",
    "    \"points\": [\n",
    "        [1, 2],\n",
    "        [-1, -2]\n",
    "    ]\n",
    "}\n",
    "'''"
   ]
  },
  {
   "cell_type": "code",
   "execution_count": 31,
   "id": "624258e4",
   "metadata": {},
   "outputs": [],
   "source": [
    "s2 = '''\n",
    "{\n",
    "    \"a\": 100,\n",
    "    \"b\": [1, 2, 3],\n",
    "    \"c\": \"python\",\n",
    "    \"d\": {\n",
    "        \"e\": 4,\n",
    "        \"f\": 5.5\n",
    "    }\n",
    "}\n",
    "'''"
   ]
  },
  {
   "cell_type": "code",
   "execution_count": 32,
   "id": "f6a670d0",
   "metadata": {},
   "outputs": [
    {
     "data": {
      "text/plain": [
       "{'points': [Point(x = 1, y = 2), Point(x = -1, y = -2)]}"
      ]
     },
     "execution_count": 32,
     "metadata": {},
     "output_type": "execute_result"
    }
   ],
   "source": [
    "json.loads(s1, cls=CustomDecoder)"
   ]
  },
  {
   "cell_type": "code",
   "execution_count": 33,
   "id": "a8ffb050",
   "metadata": {},
   "outputs": [
    {
     "data": {
      "text/plain": [
       "{'a': 100, 'b': [1, 2, 3], 'c': 'python', 'd': {'e': 4, 'f': 5.5}}"
      ]
     },
     "execution_count": 33,
     "metadata": {},
     "output_type": "execute_result"
    }
   ],
   "source": [
    "json.loads(s2, cls=CustomDecoder)"
   ]
  }
 ],
 "metadata": {
  "kernelspec": {
   "display_name": "Python 3",
   "language": "python",
   "name": "python3"
  },
  "language_info": {
   "codemirror_mode": {
    "name": "ipython",
    "version": 3
   },
   "file_extension": ".py",
   "mimetype": "text/x-python",
   "name": "python",
   "nbconvert_exporter": "python",
   "pygments_lexer": "ipython3",
   "version": "3.8.8"
  }
 },
 "nbformat": 4,
 "nbformat_minor": 5
}
