{
 "cells": [
  {
   "cell_type": "markdown",
   "id": "eaf91006",
   "metadata": {},
   "source": [
    "### Exercise 1:\n",
    "\n",
    "Write a function that will create and return a dictionary from another dictionary, but sorted by value."
   ]
  },
  {
   "cell_type": "code",
   "execution_count": 1,
   "id": "cffe8a3f",
   "metadata": {},
   "outputs": [],
   "source": [
    "def sort_dict(unsorted_dict):\n",
    "    sorted_dict = dict(sorted(unsorted_dict.items(), key=lambda x: x[1]))\n",
    "    return sorted_dict"
   ]
  },
  {
   "cell_type": "code",
   "execution_count": 2,
   "id": "627e0a4c",
   "metadata": {},
   "outputs": [],
   "source": [
    "d1 = {'Hans': 72, 'Taylor': 13, 'Ray': 19, 'Ming': 29}"
   ]
  },
  {
   "cell_type": "code",
   "execution_count": 3,
   "id": "a6313d41",
   "metadata": {},
   "outputs": [
    {
     "name": "stdout",
     "output_type": "stream",
     "text": [
      "{'Taylor': 13, 'Ray': 19, 'Ming': 29, 'Hans': 72}\n"
     ]
    }
   ],
   "source": [
    "print(sort_dict(d1))"
   ]
  },
  {
   "cell_type": "markdown",
   "id": "1b178fc8",
   "metadata": {},
   "source": [
    "---\n",
    "\n",
    "### Exercise 2:\n",
    "\n",
    "Given two dictionaries `d1` and `d2`, write a function that create a dictionary that contains only the keys common to both dictionaries, with values being a tuple containing the values from `d1` and `d2`."
   ]
  },
  {
   "cell_type": "code",
   "execution_count": 4,
   "id": "8079ddcf",
   "metadata": {},
   "outputs": [],
   "source": [
    "def intersect(dict1, dict2):\n",
    "    intersect_dict = {k: (dict1[k], dict2[k]) for k in dict1.keys() & dict2.keys()}\n",
    "    return intersect_dict"
   ]
  },
  {
   "cell_type": "code",
   "execution_count": 5,
   "id": "687cb9db",
   "metadata": {},
   "outputs": [],
   "source": [
    "d1 = {'a': 1, 'b': 2, 'c': 3, 'd': 4}\n",
    "d2 = {'b': 20, 'c': 30, 'y': 40, 'z': 50}"
   ]
  },
  {
   "cell_type": "code",
   "execution_count": 6,
   "id": "6bcaec7d",
   "metadata": {},
   "outputs": [
    {
     "data": {
      "text/plain": [
       "{'c': (3, 30), 'b': (2, 20)}"
      ]
     },
     "execution_count": 6,
     "metadata": {},
     "output_type": "execute_result"
    }
   ],
   "source": [
    "intersect(dict1=d1, dict2=d2)"
   ]
  },
  {
   "cell_type": "markdown",
   "id": "91e67a6c",
   "metadata": {},
   "source": [
    "---\n",
    "\n",
    "### Exercise 3:\n",
    "\n",
    "There are text data across multiple servers where each server is able to analyze this data and return a dictionary that contains words and frequency. Write a function to combine all the data from different servers into a single dictionary and sort it by frequency ascendingly."
   ]
  },
  {
   "cell_type": "code",
   "execution_count": 7,
   "id": "1afa62f5",
   "metadata": {},
   "outputs": [],
   "source": [
    "def merge_and_sort(*dicts):\n",
    "    merged_dict = {}\n",
    "    for d in dicts:\n",
    "        for k, v in d.items():\n",
    "            merged_dict[k] = merged_dict.get(k, 0) + v\n",
    "    \n",
    "    return dict(sorted(merged_dict.items(), key=lambda x:x[1]))"
   ]
  },
  {
   "cell_type": "code",
   "execution_count": 8,
   "id": "677a0a1e",
   "metadata": {},
   "outputs": [],
   "source": [
    "d1 = {'python': 10, 'java': 3, 'c#': 8, 'js': 15}\n",
    "d2 = {'java': 10, 'c++': 10, 'c#': 4, 'go': 9, 'python': 6}\n",
    "d3 = {'erlang': 5, 'haskell': 2, 'python': 1, 'pascal': 1}"
   ]
  },
  {
   "cell_type": "code",
   "execution_count": 9,
   "id": "966582f7",
   "metadata": {},
   "outputs": [
    {
     "data": {
      "text/plain": [
       "{'pascal': 1,\n",
       " 'haskell': 2,\n",
       " 'erlang': 5,\n",
       " 'go': 9,\n",
       " 'c++': 10,\n",
       " 'c#': 12,\n",
       " 'java': 13,\n",
       " 'js': 15,\n",
       " 'python': 17}"
      ]
     },
     "execution_count": 9,
     "metadata": {},
     "output_type": "execute_result"
    }
   ],
   "source": [
    "merge_and_sort(d1, d2, d3)"
   ]
  },
  {
   "cell_type": "markdown",
   "id": "6ea5f57d",
   "metadata": {},
   "source": [
    "---\n",
    "\n",
    "### Exercise 4:\n",
    "\n",
    "Write a function that takes multiple dictionaries and returns a dictionary that contains only keys that are not found in all of the dictionaries, and the values should be a list containing the number of times it was requested in each node (or 0 if the node is not requested)."
   ]
  },
  {
   "cell_type": "code",
   "execution_count": 10,
   "id": "218f4b0a",
   "metadata": {},
   "outputs": [],
   "source": [
    "def identify(d1, d2, d3):\n",
    "    keys = (d1.keys() | d2.keys() | d3.keys()) - (d1.keys() & d2.keys() & d3.keys())\n",
    "    merged_dict = {k: (d1.get(k, 0), d2.get(k, 0), d3.get(k, 0)) for k in keys}\n",
    "    return merged_dict"
   ]
  },
  {
   "cell_type": "code",
   "execution_count": 11,
   "id": "c059b7a4",
   "metadata": {},
   "outputs": [],
   "source": [
    "n1 = {'user1': 100, 'user2': 5000, 'user3': 10, 'user4': 100}\n",
    "n2 = {'user1': 250, 'user3': 23, 'user4': 230}\n",
    "n3 = {'user1': 150, 'user3': 4, 'user5': 1000}"
   ]
  },
  {
   "cell_type": "code",
   "execution_count": 12,
   "id": "f96818ca",
   "metadata": {},
   "outputs": [
    {
     "data": {
      "text/plain": [
       "{'user4': (100, 230, 0), 'user5': (0, 0, 1000), 'user2': (5000, 0, 0)}"
      ]
     },
     "execution_count": 12,
     "metadata": {},
     "output_type": "execute_result"
    }
   ],
   "source": [
    "identify(n1, n2, n3)"
   ]
  }
 ],
 "metadata": {
  "kernelspec": {
   "display_name": "Python 3",
   "language": "python",
   "name": "python3"
  },
  "language_info": {
   "codemirror_mode": {
    "name": "ipython",
    "version": 3
   },
   "file_extension": ".py",
   "mimetype": "text/x-python",
   "name": "python",
   "nbconvert_exporter": "python",
   "pygments_lexer": "ipython3",
   "version": "3.8.8"
  }
 },
 "nbformat": 4,
 "nbformat_minor": 5
}
