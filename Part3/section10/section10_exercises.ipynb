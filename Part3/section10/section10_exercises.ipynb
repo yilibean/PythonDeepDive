{
 "cells": [
  {
   "cell_type": "markdown",
   "id": "348bd297",
   "metadata": {},
   "source": [
    "### Exercise 1:\n",
    "\n",
    "Given multiple dictionaries, create a single dictionary to combine these dictionaries and sort it by value, implementing `defaultdict` and `Counter` respectively. "
   ]
  },
  {
   "cell_type": "code",
   "execution_count": 1,
   "id": "1f49e0e2",
   "metadata": {},
   "outputs": [],
   "source": [
    "d1 = {'python': 10, 'java': 3, 'c#': 8, 'js': 15}\n",
    "d2 = {'java': 10, 'c++': 10, 'c#': 4, 'go': 9, 'python': 6}\n",
    "d3 = {'erlang': 5, 'haskell': 2, 'python': 1, 'pascal': 1}"
   ]
  },
  {
   "cell_type": "code",
   "execution_count": 2,
   "id": "4b83293a",
   "metadata": {},
   "outputs": [],
   "source": [
    "from collections import defaultdict, Counter"
   ]
  },
  {
   "cell_type": "markdown",
   "id": "599fec66",
   "metadata": {},
   "source": [
    "> Using `defaultdict`"
   ]
  },
  {
   "cell_type": "code",
   "execution_count": 3,
   "id": "5f5064d5",
   "metadata": {},
   "outputs": [],
   "source": [
    "def merge_and_sort(*dicts):\n",
    "    merged_dict = defaultdict(lambda: 0)\n",
    "    for d in dicts:\n",
    "        for k, v in d.items():\n",
    "            merged_dict[k] += v  \n",
    "            \n",
    "    return dict(sorted(merged_dict.items(), key=lambda x:x[1], reverse=True))"
   ]
  },
  {
   "cell_type": "code",
   "execution_count": 4,
   "id": "7f9fc4d4",
   "metadata": {},
   "outputs": [
    {
     "data": {
      "text/plain": [
       "{'python': 17,\n",
       " 'js': 15,\n",
       " 'java': 13,\n",
       " 'c#': 12,\n",
       " 'c++': 10,\n",
       " 'go': 9,\n",
       " 'erlang': 5,\n",
       " 'haskell': 2,\n",
       " 'pascal': 1}"
      ]
     },
     "execution_count": 4,
     "metadata": {},
     "output_type": "execute_result"
    }
   ],
   "source": [
    "merge_and_sort(d1, d2, d3)"
   ]
  },
  {
   "cell_type": "markdown",
   "id": "5571dc34",
   "metadata": {},
   "source": [
    "> Using `Counter`"
   ]
  },
  {
   "cell_type": "code",
   "execution_count": 5,
   "id": "d3e3d86d",
   "metadata": {},
   "outputs": [],
   "source": [
    "def merge_and_sort(*dicts):\n",
    "    merged_dict = Counter()\n",
    "    for d in dicts:\n",
    "        merged_dict.update(d)\n",
    "    \n",
    "    return dict(merged_dict.most_common())"
   ]
  },
  {
   "cell_type": "code",
   "execution_count": 6,
   "id": "678c1d79",
   "metadata": {},
   "outputs": [
    {
     "data": {
      "text/plain": [
       "{'python': 17,\n",
       " 'js': 15,\n",
       " 'java': 13,\n",
       " 'c#': 12,\n",
       " 'c++': 10,\n",
       " 'go': 9,\n",
       " 'erlang': 5,\n",
       " 'haskell': 2,\n",
       " 'pascal': 1}"
      ]
     },
     "execution_count": 6,
     "metadata": {},
     "output_type": "execute_result"
    }
   ],
   "source": [
    "merge_and_sort(d1, d2, d3)"
   ]
  },
  {
   "cell_type": "markdown",
   "id": "7c472404",
   "metadata": {},
   "source": [
    "---\n",
    "\n",
    "### Exercise 2:\n",
    "\n",
    "Write a function that returns a dictionary with the correct counts for each eye color in the given list."
   ]
  },
  {
   "cell_type": "code",
   "execution_count": 7,
   "id": "8192301a",
   "metadata": {},
   "outputs": [],
   "source": [
    "eye_colors = (\n",
    "    'amber', \n",
    "    'blue',\n",
    "    'brown',\n",
    "    'gray',\n",
    "    'green',\n",
    "    'hazel',\n",
    "    'red',\n",
    "    'violet')"
   ]
  },
  {
   "cell_type": "code",
   "execution_count": 8,
   "id": "f6da9533",
   "metadata": {},
   "outputs": [],
   "source": [
    "class Person:\n",
    "    def __init__(self, eye_color):\n",
    "        self.eye_color = eye_color"
   ]
  },
  {
   "cell_type": "code",
   "execution_count": 9,
   "id": "e305a225",
   "metadata": {},
   "outputs": [],
   "source": [
    "from random import seed, choices\n",
    "seed(56)\n",
    "\n",
    "persons = [Person(color) for color in choices(eye_colors, k=9)]"
   ]
  },
  {
   "cell_type": "code",
   "execution_count": 10,
   "id": "aba47fcd",
   "metadata": {},
   "outputs": [],
   "source": [
    "def eye_color_counter(persons, eye_colors):\n",
    "    counter = Counter(p.eye_color for p in persons)\n",
    "    for c in eye_colors:\n",
    "        counter.setdefault(c, 0)\n",
    "    return dict(sorted(counter.items(), key=lambda x:x[0]))"
   ]
  },
  {
   "cell_type": "code",
   "execution_count": 11,
   "id": "b65292ff",
   "metadata": {},
   "outputs": [
    {
     "data": {
      "text/plain": [
       "{'amber': 0,\n",
       " 'blue': 1,\n",
       " 'brown': 1,\n",
       " 'gray': 2,\n",
       " 'green': 2,\n",
       " 'hazel': 0,\n",
       " 'red': 1,\n",
       " 'violet': 2}"
      ]
     },
     "execution_count": 11,
     "metadata": {},
     "output_type": "execute_result"
    }
   ],
   "source": [
    "eye_color_counter(persons=persons, eye_colors=eye_colors)"
   ]
  },
  {
   "cell_type": "markdown",
   "id": "5991a3df",
   "metadata": {},
   "source": [
    "---\n",
    "\n",
    "### Exercise 3:\n",
    "\n",
    "Given 3 JSON files, representing a default set of settings, and environment specific settings.\n",
    "* `common.json`\n",
    "* `dev.json`\n",
    "* `prod.json`\n",
    "\n",
    "Write a function that has a single argument (the environment name) and returns the `combined` dictionary that merges the two dictionaries together, with the environment specific settings overriding any common settings already defined.\n",
    "\n",
    "For simplicity, assume that the argument values are going to be the same as the file names, without the `.json` extension. So for example, `dev` or `prod`."
   ]
  },
  {
   "cell_type": "code",
   "execution_count": 12,
   "id": "3db3bde0",
   "metadata": {},
   "outputs": [],
   "source": [
    "import json\n",
    "from pprint import pprint\n",
    "from collections import ChainMap"
   ]
  },
  {
   "cell_type": "code",
   "execution_count": 13,
   "id": "3cc5baca",
   "metadata": {},
   "outputs": [],
   "source": [
    "def load(env) -> dict:\n",
    "    with open(f'{env}.json') as f:\n",
    "        settings = json.load(f)\n",
    "        return settings"
   ]
  },
  {
   "cell_type": "code",
   "execution_count": 14,
   "id": "9a50085d",
   "metadata": {},
   "outputs": [],
   "source": [
    "common_settings = load('common')\n",
    "dev_settings = load('dev')\n",
    "prod_settings = load('prod')"
   ]
  },
  {
   "cell_type": "code",
   "execution_count": 15,
   "id": "da14a292",
   "metadata": {},
   "outputs": [],
   "source": [
    "def chain_recursive(d1, d2):\n",
    "    chain = ChainMap(d1, d2)\n",
    "    for k,v in d1.items():\n",
    "        if isinstance(v, dict) and k in d2:\n",
    "            chain[k] = chain_recursive(d1[k], d2[k])\n",
    "    return chain"
   ]
  },
  {
   "cell_type": "code",
   "execution_count": 16,
   "id": "70d0705a",
   "metadata": {},
   "outputs": [
    {
     "name": "stdout",
     "output_type": "stream",
     "text": [
      "ChainMap({'data': ChainMap({'input_root': '/dev/path/inputs',\n",
      "                            'numerics': ChainMap({'type': 'float'},\n",
      "                                                 {'precision': 6,\n",
      "                                                  'type': 'Decimal'}),\n",
      "                            'operators': {'add': '__add__'},\n",
      "                            'output_root': '/dev/path/outputs'},\n",
      "                           {'input_root': '/default/path/inputs',\n",
      "                            'numerics': {'precision': 6, 'type': 'Decimal'},\n",
      "                            'output_root': '/default/path/outputs'}),\n",
      "          'database': ChainMap({'pwd': 'test', 'user': 'test'},\n",
      "                               {'db_name': 'deepdive',\n",
      "                                'port': 5432,\n",
      "                                'schema': 'public'}),\n",
      "          'logs': ChainMap({'format': '%(asctime)s: %(levelname)s: '\n",
      "                                      '%(clientip)s %(user)s %(filename)s '\n",
      "                                      '%(funcName)s %(message)s',\n",
      "                            'level': 'trace'},\n",
      "                           {'format': '%(asctime)s: %(levelname)s: '\n",
      "                                      '%(clientip)s %(user)s %(message)s',\n",
      "                            'level': 'info'})},\n",
      "         {'data': {'input_root': '/default/path/inputs',\n",
      "                   'numerics': {'precision': 6, 'type': 'Decimal'},\n",
      "                   'output_root': '/default/path/outputs'},\n",
      "          'database': {'db_name': 'deepdive', 'port': 5432, 'schema': 'public'},\n",
      "          'logs': {'format': '%(asctime)s: %(levelname)s: %(clientip)s '\n",
      "                             '%(user)s %(message)s',\n",
      "                   'level': 'info'}})\n"
     ]
    }
   ],
   "source": [
    "pprint(chain_recursive(dev_settings, common_settings))"
   ]
  }
 ],
 "metadata": {
  "kernelspec": {
   "display_name": "Python 3",
   "language": "python",
   "name": "python3"
  },
  "language_info": {
   "codemirror_mode": {
    "name": "ipython",
    "version": 3
   },
   "file_extension": ".py",
   "mimetype": "text/x-python",
   "name": "python",
   "nbconvert_exporter": "python",
   "pygments_lexer": "ipython3",
   "version": "3.8.8"
  }
 },
 "nbformat": 4,
 "nbformat_minor": 5
}
