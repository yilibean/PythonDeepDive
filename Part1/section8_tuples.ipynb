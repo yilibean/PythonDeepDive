{
 "cells": [
  {
   "cell_type": "markdown",
   "id": "a48c4896",
   "metadata": {},
   "source": [
    "## Namedtuples\n",
    "\n",
    "- [**Named tuples**](#named_tuples)"
   ]
  },
  {
   "cell_type": "markdown",
   "id": "effd77fc",
   "metadata": {},
   "source": [
    "---\n",
    "\n",
    "### Named tuples <a name='named_tuples'></a>\n",
    "\n",
    "Usually when using tuples, the position of the items inside a tuple has a meaning, where **namedtuple** comes in handy to provide this information."
   ]
  },
  {
   "cell_type": "code",
   "execution_count": 1,
   "id": "9228469e",
   "metadata": {
    "scrolled": true
   },
   "outputs": [
    {
     "name": "stdout",
     "output_type": "stream",
     "text": [
      "Namedtuple object is a tuple: True\n"
     ]
    }
   ],
   "source": [
    "from collections import namedtuple\n",
    "\n",
    "Point2D = namedtuple(typename='Point2D', field_names=['x_coordinate', 'y_coordinate'])\n",
    "# Create a namedtuple object\n",
    "pt = Point2D(x_coordinate=11, y_coordinate=8)\n",
    "print('Namedtuple object is a tuple:', isinstance(pt, tuple))\n",
    "\n",
    "# Modify a namedtuple object\n",
    "pt = pt._replace(y_coordinate=14)\n",
    "\n",
    "# Extend a namedtuple object\n",
    "new_fields = pt._fields  + ('z_coordinate', )\n",
    "Point3D = namedtuple(typename='Point3D', field_names=new_fields)"
   ]
  }
 ],
 "metadata": {
  "kernelspec": {
   "display_name": "Python 3",
   "language": "python",
   "name": "python3"
  },
  "language_info": {
   "codemirror_mode": {
    "name": "ipython",
    "version": 3
   },
   "file_extension": ".py",
   "mimetype": "text/x-python",
   "name": "python",
   "nbconvert_exporter": "python",
   "pygments_lexer": "ipython3",
   "version": "3.8.8"
  }
 },
 "nbformat": 4,
 "nbformat_minor": 5
}
