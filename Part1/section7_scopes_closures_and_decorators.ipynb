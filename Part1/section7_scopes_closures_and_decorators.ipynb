{
 "cells": [
  {
   "cell_type": "markdown",
   "id": "f878d7d5",
   "metadata": {},
   "source": [
    "## Scopes, Closures and Decorators\n",
    "\n",
    "- [**Scopes**](#scopes)\n",
    "- [**Closures**](#closures)\n",
    "- [**Decorators**](#decorators)"
   ]
  },
  {
   "cell_type": "markdown",
   "id": "c5830269",
   "metadata": {},
   "source": [
    "---\n",
    "\n",
    "### Scopes <a name='scopes'></a>\n",
    "\n",
    "Python has 4 major types of variable scopes:\n",
    "\n",
    "- `Local`: The scope inside functions, variables defined inside the function are assigned to that scope. It has access to both global and built-in scopes.\n",
    "- `*Enclosing`: For nested functions, inner functions have access to the enclosing scope (i.e. the scope of their outer functions).\n",
    "- `Global`: The scope inside a module, it has access to built-in scope.\n",
    "- `Built-in`: Widest scope where all special reserved keywords fall under it.\n",
    "\n",
    "If a variable has not been found under the current scope, Python will search one layer above each time until it finds it, otherwise it will throw an exception.\n",
    "\n",
    "<font color='orange'> Caveat: Since Python searches variables follow L $\\rightarrow$ E $\\rightarrow$ G $\\rightarrow$ B rule, if there is any function written in global scope sharing the same name of reserved one in built-in scope, only the self-written one will be used throught the program. </font>"
   ]
  },
  {
   "cell_type": "markdown",
   "id": "bca2ee2e",
   "metadata": {},
   "source": [
    "> `Global variable` & `local variable`:"
   ]
  },
  {
   "cell_type": "code",
   "execution_count": 1,
   "id": "d363d207",
   "metadata": {},
   "outputs": [
    {
     "name": "stdout",
     "output_type": "stream",
     "text": [
      "0\n"
     ]
    }
   ],
   "source": [
    "# Case 1: count -> nonlocal at compile time\n",
    "# Call the global variable inside a function without declaring or modifying, so it is just referencing the global variable\n",
    "count = 0\n",
    "\n",
    "def test():\n",
    "    print(count)\n",
    "\n",
    "test()"
   ]
  },
  {
   "cell_type": "code",
   "execution_count": 2,
   "id": "f12addd6",
   "metadata": {},
   "outputs": [
    {
     "name": "stdout",
     "output_type": "stream",
     "text": [
      "1\n",
      "0\n"
     ]
    }
   ],
   "source": [
    "# Case 2: count -> local at compile time (inside function), count -> global at compile time (outside function)\n",
    "# When there is an assignment or modification inside function, the variable will be considered as local\n",
    "count = 0\n",
    "\n",
    "def test():\n",
    "    count = 1\n",
    "    print(count)\n",
    "    \n",
    "test()\n",
    "print(count)"
   ]
  },
  {
   "cell_type": "code",
   "execution_count": 3,
   "id": "a3df2b7d",
   "metadata": {},
   "outputs": [
    {
     "ename": "UnboundLocalError",
     "evalue": "local variable 'count' referenced before assignment",
     "output_type": "error",
     "traceback": [
      "\u001b[1;31m---------------------------------------------------------------------------\u001b[0m",
      "\u001b[1;31mUnboundLocalError\u001b[0m                         Traceback (most recent call last)",
      "\u001b[1;32m<ipython-input-3-e3ade756199e>\u001b[0m in \u001b[0;36m<module>\u001b[1;34m\u001b[0m\n\u001b[0;32m      8\u001b[0m     \u001b[0mcount\u001b[0m \u001b[1;33m=\u001b[0m \u001b[1;36m1\u001b[0m\u001b[1;33m\u001b[0m\u001b[1;33m\u001b[0m\u001b[0m\n\u001b[0;32m      9\u001b[0m \u001b[1;33m\u001b[0m\u001b[0m\n\u001b[1;32m---> 10\u001b[1;33m \u001b[0mtest\u001b[0m\u001b[1;33m(\u001b[0m\u001b[1;33m)\u001b[0m\u001b[1;33m\u001b[0m\u001b[1;33m\u001b[0m\u001b[0m\n\u001b[0m",
      "\u001b[1;32m<ipython-input-3-e3ade756199e>\u001b[0m in \u001b[0;36mtest\u001b[1;34m()\u001b[0m\n\u001b[0;32m      5\u001b[0m \u001b[1;33m\u001b[0m\u001b[0m\n\u001b[0;32m      6\u001b[0m \u001b[1;32mdef\u001b[0m \u001b[0mtest\u001b[0m\u001b[1;33m(\u001b[0m\u001b[1;33m)\u001b[0m\u001b[1;33m:\u001b[0m\u001b[1;33m\u001b[0m\u001b[1;33m\u001b[0m\u001b[0m\n\u001b[1;32m----> 7\u001b[1;33m     \u001b[0mprint\u001b[0m\u001b[1;33m(\u001b[0m\u001b[0mcount\u001b[0m\u001b[1;33m)\u001b[0m\u001b[1;33m\u001b[0m\u001b[1;33m\u001b[0m\u001b[0m\n\u001b[0m\u001b[0;32m      8\u001b[0m     \u001b[0mcount\u001b[0m \u001b[1;33m=\u001b[0m \u001b[1;36m1\u001b[0m\u001b[1;33m\u001b[0m\u001b[1;33m\u001b[0m\u001b[0m\n\u001b[0;32m      9\u001b[0m \u001b[1;33m\u001b[0m\u001b[0m\n",
      "\u001b[1;31mUnboundLocalError\u001b[0m: local variable 'count' referenced before assignment"
     ]
    }
   ],
   "source": [
    "# Case 3: count -> local at compile time (inside function), count -> global at compile time (outside function)\n",
    "# When there is an assignment or modification inside function, the variable will be considered as local, therefore if \n",
    "# calling is prior to declaration, an exception will be thrown\n",
    "count = 0\n",
    "\n",
    "def test():\n",
    "    print(count)\n",
    "    count = 1\n",
    "    \n",
    "test()"
   ]
  },
  {
   "cell_type": "code",
   "execution_count": 4,
   "id": "ba0a714d",
   "metadata": {},
   "outputs": [
    {
     "name": "stdout",
     "output_type": "stream",
     "text": [
      "1\n",
      "1\n"
     ]
    }
   ],
   "source": [
    "# Case 4: count -> global at compile time\n",
    "# Declare explicitly that the variable inside function is global, then modify the variable globally\n",
    "count = 0\n",
    "\n",
    "def test():\n",
    "    global count\n",
    "    count += 1\n",
    "    print(count)\n",
    "    \n",
    "test()\n",
    "print(count)"
   ]
  },
  {
   "cell_type": "markdown",
   "id": "c7b37bb6",
   "metadata": {},
   "source": [
    "> `Non-local variable`: Similarly as global cases, but non-local is used for inner functions to modify the variables declared in outer function scope."
   ]
  },
  {
   "cell_type": "code",
   "execution_count": 5,
   "id": "fb9d83ec",
   "metadata": {},
   "outputs": [
    {
     "name": "stdout",
     "output_type": "stream",
     "text": [
      "hello\n"
     ]
    }
   ],
   "source": [
    "# Without nonlocal keyword\n",
    "def outer():\n",
    "    x = 'hello'\n",
    "    def inner():\n",
    "        x = 'world'\n",
    "    inner()\n",
    "    print(x)\n",
    "outer()"
   ]
  },
  {
   "cell_type": "code",
   "execution_count": 6,
   "id": "5a2e4c73",
   "metadata": {},
   "outputs": [
    {
     "name": "stdout",
     "output_type": "stream",
     "text": [
      "world\n"
     ]
    }
   ],
   "source": [
    "# With nonlocal keyword, the outer variable can be modified in inner scope\n",
    "def outer():\n",
    "    x = 'hello'\n",
    "    def inner():\n",
    "        nonlocal x\n",
    "        x = 'world'\n",
    "    inner()\n",
    "    print(x)\n",
    "outer()"
   ]
  },
  {
   "cell_type": "markdown",
   "id": "094cc117",
   "metadata": {},
   "source": [
    "---\n",
    "\n",
    "### [Closures](https://www.pythontutorial.net/advanced-python/python-closures/) <a name=closures></a>\n",
    "\n",
    "In nested functions, when a variable is called or referenced in inner function while it is only declared in the outer function (i.e. the variable is accessed from its nonlocal scope), it is called **free variable**, which is `x` in the example below:"
   ]
  },
  {
   "cell_type": "code",
   "execution_count": 7,
   "id": "99c824b2",
   "metadata": {},
   "outputs": [
    {
     "name": "stdout",
     "output_type": "stream",
     "text": [
      "hello\n"
     ]
    }
   ],
   "source": [
    "def outer():\n",
    "    x = 'hello'\n",
    "    def inner():\n",
    "        print(x)\n",
    "    return inner  # Note the function is returned without parenthesis, which is necessary for closure to work\n",
    "\n",
    "fn = outer()\n",
    "fn()"
   ]
  },
  {
   "cell_type": "code",
   "execution_count": 8,
   "id": "7809abc8",
   "metadata": {},
   "outputs": [
    {
     "data": {
      "text/plain": [
       "(<cell at 0x000001A385A39B50: str object at 0x000001A385A34A70>,)"
      ]
     },
     "execution_count": 8,
     "metadata": {},
     "output_type": "execute_result"
    }
   ],
   "source": [
    "fn.__closure__"
   ]
  },
  {
   "cell_type": "markdown",
   "id": "61cd6ac0",
   "metadata": {},
   "source": [
    "In the example, when looking at the `inner` function, we are actually looking at:\n",
    "- The `inner` function itself.\n",
    "- The free variable `x` with the value 'hello'.\n",
    "\n",
    "The combination of this two is called a **closure**. Through the use of closure, even when the free variable is destroyed after the execution of `outer` function, it is still accessible in returned function."
   ]
  },
  {
   "cell_type": "markdown",
   "id": "659a7886",
   "metadata": {},
   "source": [
    "---\n",
    "\n",
    "### Decorators <a name='decorators'></a>\n",
    "\n",
    "> `Definition`: Decorators are used to modify the behaviour of function or class, it:\n",
    "> - takes a function as an argument\n",
    "> - returns a closure which usually accepts any combination of parameters"
   ]
  },
  {
   "cell_type": "code",
   "execution_count": 9,
   "id": "303fd7c3",
   "metadata": {},
   "outputs": [],
   "source": [
    "def counter(fn):\n",
    "    count = 0\n",
    "    def inner(*args, **kwargs):\n",
    "        nonlocal count\n",
    "        count += 1\n",
    "        print('Function {} was called {} times'.format(fn.__name__, count))\n",
    "        return fn(*args, **kwargs)\n",
    "    return inner"
   ]
  },
  {
   "cell_type": "code",
   "execution_count": 10,
   "id": "1816514a",
   "metadata": {},
   "outputs": [],
   "source": [
    "def add(a, b):\n",
    "    return a+b"
   ]
  },
  {
   "cell_type": "code",
   "execution_count": 11,
   "id": "73a78abf",
   "metadata": {},
   "outputs": [
    {
     "name": "stdout",
     "output_type": "stream",
     "text": [
      "Function add was called 1 times\n"
     ]
    },
    {
     "data": {
      "text/plain": [
       "3"
      ]
     },
     "execution_count": 11,
     "metadata": {},
     "output_type": "execute_result"
    }
   ],
   "source": [
    "# Way 1: decoration\n",
    "add = counter(add)\n",
    "add(1, 2)"
   ]
  },
  {
   "cell_type": "code",
   "execution_count": 12,
   "id": "c2b0c26b",
   "metadata": {},
   "outputs": [
    {
     "name": "stdout",
     "output_type": "stream",
     "text": [
      "Function subtract was called 1 times\n"
     ]
    },
    {
     "data": {
      "text/plain": [
       "1"
      ]
     },
     "execution_count": 12,
     "metadata": {},
     "output_type": "execute_result"
    }
   ],
   "source": [
    "# Way 2: decoration\n",
    "@counter\n",
    "def subtract(a, b):\n",
    "    return a-b\n",
    "\n",
    "subtract(2, 1)"
   ]
  },
  {
   "cell_type": "markdown",
   "id": "28580375",
   "metadata": {},
   "source": [
    "> `Decorator introspection`:\n",
    "> After decoration, the returned function is not the same function as before after all, therefore the docstring and name of initial function are lost."
   ]
  },
  {
   "cell_type": "code",
   "execution_count": 13,
   "id": "53a16bf9",
   "metadata": {},
   "outputs": [
    {
     "name": "stdout",
     "output_type": "stream",
     "text": [
      "inner\n"
     ]
    }
   ],
   "source": [
    "print(subtract.__name__)"
   ]
  },
  {
   "cell_type": "code",
   "execution_count": 14,
   "id": "0dbabd12",
   "metadata": {},
   "outputs": [],
   "source": [
    "# Use wraps to keep information of the original function\n",
    "from functools import wraps"
   ]
  },
  {
   "cell_type": "code",
   "execution_count": 15,
   "id": "611c4317",
   "metadata": {},
   "outputs": [],
   "source": [
    "def counter(fn):\n",
    "    count = 0\n",
    "    \n",
    "    # Decorate closure function with wrap\n",
    "    @wraps(fn)\n",
    "    def inner(*args, **kwargs):\n",
    "        nonlocal count\n",
    "        count += 1\n",
    "        print('Function {} was called {} times'.format(fn.__name__, count))\n",
    "        return fn(*args, **kwargs)\n",
    "    return inner"
   ]
  },
  {
   "cell_type": "code",
   "execution_count": 16,
   "id": "48efc6cd",
   "metadata": {},
   "outputs": [
    {
     "name": "stdout",
     "output_type": "stream",
     "text": [
      "mul\n"
     ]
    }
   ],
   "source": [
    "@counter\n",
    "def mul(a, b):\n",
    "    return a*b\n",
    "\n",
    "print(mul.__name__)"
   ]
  },
  {
   "cell_type": "markdown",
   "id": "f234a867",
   "metadata": {},
   "source": [
    "> `Decorator stacking`: Simply add multiple @decorator on top of the function, but notice the order of decorators matters.\n",
    "```python\n",
    "    @dec1\n",
    "    @dec2\n",
    "    @dec3\n",
    "    def func():\n",
    "        pass\n",
    "```"
   ]
  },
  {
   "cell_type": "markdown",
   "id": "2a4be5a0",
   "metadata": {},
   "source": [
    "> `Parameterized decorator`: Use nested closure, i.e. a decorator factory outside the original decorator to pass in arguments into the decorator."
   ]
  },
  {
   "cell_type": "markdown",
   "id": "0778ac53",
   "metadata": {},
   "source": [
    "> `Decorator application examples`:"
   ]
  },
  {
   "cell_type": "markdown",
   "id": "3776a84c",
   "metadata": {},
   "source": [
    "* logger"
   ]
  },
  {
   "cell_type": "code",
   "execution_count": 17,
   "id": "2fb52c4b",
   "metadata": {},
   "outputs": [],
   "source": [
    "def logger(fn):\n",
    "    from functools import wraps\n",
    "    from datetime import datetime, timezone\n",
    "    \n",
    "    @wraps(fn)\n",
    "    def inner(*args, **kwargs):\n",
    "        run_dt = datetime.now(timezone.utc)\n",
    "        result = fn(*args, **kwargs)\n",
    "        print('{}: called {}'.format(run_dt, fn.__name__))\n",
    "        \n",
    "        return result\n",
    "    return inner"
   ]
  },
  {
   "cell_type": "markdown",
   "id": "9bc98d4a",
   "metadata": {},
   "source": [
    "- cache"
   ]
  },
  {
   "cell_type": "code",
   "execution_count": 18,
   "id": "78634a90",
   "metadata": {},
   "outputs": [],
   "source": [
    "# Use lru_cache to store cache of computed information\n",
    "from functools import lru_cache"
   ]
  },
  {
   "cell_type": "code",
   "execution_count": 19,
   "id": "b683956e",
   "metadata": {},
   "outputs": [],
   "source": [
    "# Fibonacci example\n",
    "@lru_cache(maxsize=8)\n",
    "def fib(n):\n",
    "    print('Calculating fib({})'.format(n))\n",
    "    return 1 if n<3 else fib(n-1) + fib(n-2)"
   ]
  },
  {
   "cell_type": "code",
   "execution_count": 20,
   "id": "5aa09d68",
   "metadata": {},
   "outputs": [
    {
     "name": "stdout",
     "output_type": "stream",
     "text": [
      "Calculating fib(10)\n",
      "Calculating fib(9)\n",
      "Calculating fib(8)\n",
      "Calculating fib(7)\n",
      "Calculating fib(6)\n",
      "Calculating fib(5)\n",
      "Calculating fib(4)\n",
      "Calculating fib(3)\n",
      "Calculating fib(2)\n",
      "Calculating fib(1)\n"
     ]
    },
    {
     "data": {
      "text/plain": [
       "55"
      ]
     },
     "execution_count": 20,
     "metadata": {},
     "output_type": "execute_result"
    }
   ],
   "source": [
    "fib(10)"
   ]
  },
  {
   "cell_type": "code",
   "execution_count": 21,
   "id": "8c3185ae",
   "metadata": {},
   "outputs": [
    {
     "name": "stdout",
     "output_type": "stream",
     "text": [
      "Calculating fib(2)\n"
     ]
    },
    {
     "data": {
      "text/plain": [
       "1"
      ]
     },
     "execution_count": 21,
     "metadata": {},
     "output_type": "execute_result"
    }
   ],
   "source": [
    "# Use cached memory\n",
    "fib(2)"
   ]
  }
 ],
 "metadata": {
  "kernelspec": {
   "display_name": "Python 3",
   "language": "python",
   "name": "python3"
  },
  "language_info": {
   "codemirror_mode": {
    "name": "ipython",
    "version": 3
   },
   "file_extension": ".py",
   "mimetype": "text/x-python",
   "name": "python",
   "nbconvert_exporter": "python",
   "pygments_lexer": "ipython3",
   "version": "3.8.8"
  }
 },
 "nbformat": 4,
 "nbformat_minor": 5
}
