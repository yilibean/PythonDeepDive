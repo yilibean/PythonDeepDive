{
 "cells": [
  {
   "cell_type": "markdown",
   "id": "1966986a",
   "metadata": {},
   "source": [
    "## Function Parameters\n",
    "\n",
    "- [**Unpacking iterables**](#unpacking_iterables)\n",
    "- [**\\*args**](#args)\n",
    "- [**Keyword arguments**](#keyword_arguments)\n",
    "- [**\\*\\*kargs**](#kargs)\n",
    "- [**Parameter defaults**](#parameter_defaults)"
   ]
  },
  {
   "cell_type": "markdown",
   "id": "d0a0c502",
   "metadata": {},
   "source": [
    "---\n",
    "\n",
    "### Unpacking iterables <a name='unpacking_iterables'></a>\n",
    "\n",
    "Different types of iterables can be unpacked:\n",
    "\n",
    "- Ordered:\n",
    "    - String\n",
    "    - List\n",
    "    - Tuple\n",
    "- Unordered:\n",
    "    - Dictionary\n",
    "    - Set"
   ]
  },
  {
   "cell_type": "code",
   "execution_count": 1,
   "id": "ad385736",
   "metadata": {},
   "outputs": [
    {
     "name": "stdout",
     "output_type": "stream",
     "text": [
      "Hello\n",
      "1 boring\n",
      "3 2 1\n"
     ]
    }
   ],
   "source": [
    "# String\n",
    "a, b, c, d, e = 'Hello'\n",
    "print(a+b+c+d+e)\n",
    "\n",
    "# List\n",
    "a, b = [1, 'boring']\n",
    "print(a, b)\n",
    "\n",
    "# Tuple\n",
    "a, b, c = (3, 2, 1)\n",
    "print(a, b, c)"
   ]
  },
  {
   "cell_type": "code",
   "execution_count": 2,
   "id": "c9e0d8ab",
   "metadata": {},
   "outputs": [
    {
     "name": "stdout",
     "output_type": "stream",
     "text": [
      "1 [2, 3, 4]\n",
      "1 [2, 3]\n",
      "1 [2, 3, 4] 5\n"
     ]
    }
   ],
   "source": [
    "# Partial unpacking\n",
    "a, *b = [1, 2, 3, 4]\n",
    "print(a, b)\n",
    "\n",
    "a, *b = (1, 2, 3)\n",
    "print(a, b)  # Rest of the iterable will always be a list \n",
    "\n",
    "a, *b, c = [1, 2, 3, 4, 5]\n",
    "print(a, b, c)"
   ]
  },
  {
   "cell_type": "markdown",
   "id": "a68d0900",
   "metadata": {},
   "source": [
    "---\n",
    "\n",
    "### \\*args <a name='args'></a>\n",
    "\n",
    "When passing arguments into a function, using **\\*args** can allow passing in any number of arguments. However, no more positional arguments can be added after **\\*args** (i.e. **\\*args** exhausts positional arguments)."
   ]
  },
  {
   "cell_type": "code",
   "execution_count": 3,
   "id": "fbce1b28",
   "metadata": {},
   "outputs": [
    {
     "name": "stdout",
     "output_type": "stream",
     "text": [
      "3.0\n",
      "2.0\n"
     ]
    }
   ],
   "source": [
    "def avg(*args):\n",
    "    # *args packs input arguments into a tuple\n",
    "    count = len(args)\n",
    "    total = sum(args)\n",
    "    print(total/count)\n",
    "\n",
    "avg(3, 3, 3)\n",
    "# Unpack list before passing in\n",
    "avg(*[1, 2, 3])"
   ]
  },
  {
   "cell_type": "markdown",
   "id": "a9f739fb",
   "metadata": {},
   "source": [
    "---\n",
    "\n",
    "### Keyword arguments <a name='keyword_arguments'></a>\n",
    "\n",
    "If one wants to force passing in keyword arguments, **\\*** or **\\*args** can be used."
   ]
  },
  {
   "cell_type": "code",
   "execution_count": 4,
   "id": "05c749de",
   "metadata": {},
   "outputs": [
    {
     "name": "stdout",
     "output_type": "stream",
     "text": [
      "1.5\n"
     ]
    },
    {
     "ename": "TypeError",
     "evalue": "avg() missing 2 required keyword-only arguments: 'num1' and 'num2'",
     "output_type": "error",
     "traceback": [
      "\u001b[1;31m---------------------------------------------------------------------------\u001b[0m",
      "\u001b[1;31mTypeError\u001b[0m                                 Traceback (most recent call last)",
      "\u001b[1;32m<ipython-input-4-47fe35c1f9d1>\u001b[0m in \u001b[0;36m<module>\u001b[1;34m\u001b[0m\n\u001b[0;32m      7\u001b[0m \u001b[0mavg\u001b[0m\u001b[1;33m(\u001b[0m\u001b[1;36m1\u001b[0m\u001b[1;33m,\u001b[0m \u001b[1;36m1\u001b[0m\u001b[1;33m,\u001b[0m \u001b[0mnum1\u001b[0m\u001b[1;33m=\u001b[0m\u001b[1;36m2\u001b[0m\u001b[1;33m,\u001b[0m \u001b[0mnum2\u001b[0m\u001b[1;33m=\u001b[0m\u001b[1;36m2\u001b[0m\u001b[1;33m)\u001b[0m\u001b[1;33m\u001b[0m\u001b[1;33m\u001b[0m\u001b[0m\n\u001b[0;32m      8\u001b[0m \u001b[1;31m# An exception will be thrown because keyword arguments are not specified\u001b[0m\u001b[1;33m\u001b[0m\u001b[1;33m\u001b[0m\u001b[1;33m\u001b[0m\u001b[0m\n\u001b[1;32m----> 9\u001b[1;33m \u001b[0mavg\u001b[0m\u001b[1;33m(\u001b[0m\u001b[1;36m1\u001b[0m\u001b[1;33m,\u001b[0m \u001b[1;36m1\u001b[0m\u001b[1;33m)\u001b[0m\u001b[1;33m\u001b[0m\u001b[1;33m\u001b[0m\u001b[0m\n\u001b[0m",
      "\u001b[1;31mTypeError\u001b[0m: avg() missing 2 required keyword-only arguments: 'num1' and 'num2'"
     ]
    }
   ],
   "source": [
    "# Any number of positional arguments before keyword arguments\n",
    "def avg(*args, num1, num2):\n",
    "    count = len(args)+2\n",
    "    total = sum(args)+num1+num2\n",
    "    print(total/count)\n",
    "  \n",
    "avg(1, 1, num1=2, num2=2)\n",
    "# An exception will be thrown because keyword arguments are not specified    \n",
    "avg(1, 1)"
   ]
  },
  {
   "cell_type": "code",
   "execution_count": 5,
   "id": "4c818fd9",
   "metadata": {},
   "outputs": [
    {
     "name": "stdout",
     "output_type": "stream",
     "text": [
      "1.0\n"
     ]
    },
    {
     "ename": "TypeError",
     "evalue": "avg() takes 0 positional arguments but 2 positional arguments (and 2 keyword-only arguments) were given",
     "output_type": "error",
     "traceback": [
      "\u001b[1;31m---------------------------------------------------------------------------\u001b[0m",
      "\u001b[1;31mTypeError\u001b[0m                                 Traceback (most recent call last)",
      "\u001b[1;32m<ipython-input-5-a4849a2735a7>\u001b[0m in \u001b[0;36m<module>\u001b[1;34m\u001b[0m\n\u001b[0;32m      7\u001b[0m \u001b[0mavg\u001b[0m\u001b[1;33m(\u001b[0m\u001b[0mnum1\u001b[0m\u001b[1;33m=\u001b[0m\u001b[1;36m1\u001b[0m\u001b[1;33m,\u001b[0m \u001b[0mnum2\u001b[0m\u001b[1;33m=\u001b[0m\u001b[1;36m1\u001b[0m\u001b[1;33m)\u001b[0m\u001b[1;33m\u001b[0m\u001b[1;33m\u001b[0m\u001b[0m\n\u001b[0;32m      8\u001b[0m \u001b[1;31m# An exception will be thrown because no positional arguments can be specified after *\u001b[0m\u001b[1;33m\u001b[0m\u001b[1;33m\u001b[0m\u001b[1;33m\u001b[0m\u001b[0m\n\u001b[1;32m----> 9\u001b[1;33m \u001b[0mavg\u001b[0m\u001b[1;33m(\u001b[0m\u001b[1;36m1\u001b[0m\u001b[1;33m,\u001b[0m \u001b[1;36m1\u001b[0m\u001b[1;33m,\u001b[0m \u001b[0mnum1\u001b[0m\u001b[1;33m=\u001b[0m\u001b[1;36m1\u001b[0m\u001b[1;33m,\u001b[0m \u001b[0mnum2\u001b[0m\u001b[1;33m=\u001b[0m\u001b[1;36m1\u001b[0m\u001b[1;33m)\u001b[0m\u001b[1;33m\u001b[0m\u001b[1;33m\u001b[0m\u001b[0m\n\u001b[0m",
      "\u001b[1;31mTypeError\u001b[0m: avg() takes 0 positional arguments but 2 positional arguments (and 2 keyword-only arguments) were given"
     ]
    }
   ],
   "source": [
    "# No positional arguments before keyword arguments\n",
    "def avg(*, num1, num2):\n",
    "    count = 2\n",
    "    total = num1+num2\n",
    "    print(total/count)\n",
    "\n",
    "avg(num1=1, num2=1)\n",
    "# An exception will be thrown because no positional arguments can be specified after *\n",
    "avg(1, 1, num1=1, num2=1)"
   ]
  },
  {
   "cell_type": "markdown",
   "id": "6a0e486a",
   "metadata": {},
   "source": [
    "---\n",
    "\n",
    "### **\\*\\*kargs** <a name='kargs'></a>\n",
    "\n",
    "No arguments can come after **\\*\\*kargs**, only keyword arguments are allowed."
   ]
  },
  {
   "cell_type": "code",
   "execution_count": 6,
   "id": "0abc0fe3",
   "metadata": {},
   "outputs": [
    {
     "name": "stdout",
     "output_type": "stream",
     "text": [
      "2.0\n"
     ]
    }
   ],
   "source": [
    "def avg(**kargs):\n",
    "    # **kargs packs input arguments into a dict\n",
    "    count = len(kargs.keys())\n",
    "    total = sum(kargs.values())\n",
    "    print(total/count)\n",
    "\n",
    "avg(num1=1, num2=2, num3=3)"
   ]
  },
  {
   "cell_type": "markdown",
   "id": "6b73f2a7",
   "metadata": {},
   "source": [
    "---\n",
    "\n",
    "### Parameter defaults <a name='parameter_defaults'></a>\n",
    "\n",
    "When providing default values in function arguments, pay attention to these caveats:\n",
    "\n",
    "- <font color = 'orange'> Default arguments are evaluated only once when a function is defined (not when it is called), then an object of the default will be created at that point of time. </font>\n",
    "- <font color = 'orange'> For mutable default objects, its memory address will not change during later calls of the function, hence the content of this default value will be able to change. </font>"
   ]
  }
 ],
 "metadata": {
  "kernelspec": {
   "display_name": "Python 3",
   "language": "python",
   "name": "python3"
  },
  "language_info": {
   "codemirror_mode": {
    "name": "ipython",
    "version": 3
   },
   "file_extension": ".py",
   "mimetype": "text/x-python",
   "name": "python",
   "nbconvert_exporter": "python",
   "pygments_lexer": "ipython3",
   "version": "3.8.8"
  }
 },
 "nbformat": 4,
 "nbformat_minor": 5
}
