{
 "cells": [
  {
   "cell_type": "markdown",
   "id": "ab8fd288",
   "metadata": {},
   "source": [
    "## Classes\n",
    "\n",
    "- [**Objects and Classes**](#objects_and_classes)\n",
    "- [**Class Attributes**](#class_attributes)\n",
    "- [**Callable Class Attributes**](#callable_class_attributes)\n",
    "- [**Classes are Callables (Instantiation)**](#classes_are_callables)\n",
    "- [**Data Attributes**](#data_attributes)\n",
    "- [**Function Attributes**](#function_attributes)\n",
    "- [**Initializing Class Instances**](#initializing_class_instances)\n",
    "- [**Creating/Adding Attributes at Run-Time**](#creating_attributes_at_runtime)\n",
    "- [**Properties**](#properties)\n",
    "- [**Property Decorators**](#property_decorators)\n",
    "- [**Deleting Properties**](#deleting_properties)\n",
    "- [**Class and Static Methods**](#class_and_static_methods)"
   ]
  },
  {
   "cell_type": "markdown",
   "id": "268aa43a",
   "metadata": {},
   "source": [
    "---\n",
    "\n",
    "### Objects and Classes <a name='objects_and_classes'></a>"
   ]
  },
  {
   "cell_type": "markdown",
   "id": "6b316d9a",
   "metadata": {},
   "source": [
    "* Objects: Objects can be considered as containers which has: \n",
    "    * `data` (or state/attribute)\n",
    "    * `functionality` (or behavior/method)"
   ]
  },
  {
   "cell_type": "markdown",
   "id": "609c7298",
   "metadata": {},
   "source": [
    "* Classes: Classes are themselves objects and when calling a class, an instance of the class will be returned."
   ]
  },
  {
   "cell_type": "code",
   "execution_count": 1,
   "id": "24476bfa",
   "metadata": {},
   "outputs": [],
   "source": [
    "class Person:\n",
    "    pass"
   ]
  },
  {
   "cell_type": "code",
   "execution_count": 4,
   "id": "0fcaa7f5",
   "metadata": {},
   "outputs": [
    {
     "name": "stdout",
     "output_type": "stream",
     "text": [
      "<class 'type'>\n",
      "True\n"
     ]
    }
   ],
   "source": [
    "p = Person()\n",
    "print(type(Person))\n",
    "print(isinstance(p, Person))"
   ]
  },
  {
   "cell_type": "markdown",
   "id": "cea22c2c",
   "metadata": {},
   "source": [
    "---\n",
    "\n",
    "### Class Attributes <a name='class_attributes'></a>"
   ]
  },
  {
   "cell_type": "code",
   "execution_count": 6,
   "id": "20b63d7a",
   "metadata": {},
   "outputs": [],
   "source": [
    "class Language:\n",
    "    # Attributes\n",
    "    language = 'Python'\n",
    "    version = '3.7'"
   ]
  },
  {
   "cell_type": "markdown",
   "id": "77d88d06",
   "metadata": {},
   "source": [
    "> Get attributes:"
   ]
  },
  {
   "cell_type": "code",
   "execution_count": 10,
   "id": "0becea41",
   "metadata": {},
   "outputs": [
    {
     "name": "stdout",
     "output_type": "stream",
     "text": [
      "Python\n",
      "3.7\n"
     ]
    }
   ],
   "source": [
    "# Approach 1\n",
    "print(Language.language)\n",
    "\n",
    "# Approach 2\n",
    "print(getattr(Language, 'version'))"
   ]
  },
  {
   "cell_type": "markdown",
   "id": "241f10a1",
   "metadata": {},
   "source": [
    "> Set attributes:"
   ]
  },
  {
   "cell_type": "code",
   "execution_count": 13,
   "id": "85a36bc0",
   "metadata": {},
   "outputs": [
    {
     "name": "stdout",
     "output_type": "stream",
     "text": [
      "3.8\n",
      "3.7\n"
     ]
    }
   ],
   "source": [
    "# Approach 1\n",
    "Language.version = '3.8'\n",
    "print(Language.version)\n",
    "\n",
    "# Approach 2\n",
    "setattr(Language, 'version', '3.7')\n",
    "print(Language.version)"
   ]
  },
  {
   "cell_type": "code",
   "execution_count": 14,
   "id": "f8e8b43b",
   "metadata": {},
   "outputs": [
    {
     "name": "stdout",
     "output_type": "stream",
     "text": [
      "Guido van Rossum\n"
     ]
    }
   ],
   "source": [
    "# Set non-existed attributes\n",
    "Language.author = 'Guido van Rossum'\n",
    "print(Language.author)"
   ]
  },
  {
   "cell_type": "markdown",
   "id": "de619dce",
   "metadata": {},
   "source": [
    "> Delete attributes:"
   ]
  },
  {
   "cell_type": "code",
   "execution_count": 15,
   "id": "ddc002fc",
   "metadata": {},
   "outputs": [
    {
     "name": "stdout",
     "output_type": "stream",
     "text": [
      "{'__module__': '__main__', 'language': 'Python', 'version': '3.7', '__dict__': <attribute '__dict__' of 'Language' objects>, '__weakref__': <attribute '__weakref__' of 'Language' objects>, '__doc__': None}\n"
     ]
    }
   ],
   "source": [
    "# Approach 1\n",
    "delattr(Language, 'author')\n",
    "print(Language.__dict__)"
   ]
  },
  {
   "cell_type": "code",
   "execution_count": 16,
   "id": "52f9f0f1",
   "metadata": {},
   "outputs": [
    {
     "name": "stdout",
     "output_type": "stream",
     "text": [
      "{'__module__': '__main__', 'language': 'Python', '__dict__': <attribute '__dict__' of 'Language' objects>, '__weakref__': <attribute '__weakref__' of 'Language' objects>, '__doc__': None}\n"
     ]
    }
   ],
   "source": [
    "# Approach 2\n",
    "del Language.version\n",
    "print(Language.__dict__)"
   ]
  },
  {
   "cell_type": "markdown",
   "id": "d0db2cad",
   "metadata": {},
   "source": [
    "---\n",
    "\n",
    "### Callable Class Attributes <a name='callable_class_attributes'></a>"
   ]
  },
  {
   "cell_type": "code",
   "execution_count": 24,
   "id": "c7c1c7ab",
   "metadata": {},
   "outputs": [],
   "source": [
    "class Language:\n",
    "    language = 'Python'\n",
    "    \n",
    "    def say_hello():\n",
    "        print('Hello from {}'.format(Language.language))"
   ]
  },
  {
   "cell_type": "code",
   "execution_count": 28,
   "id": "09072a4f",
   "metadata": {},
   "outputs": [
    {
     "name": "stdout",
     "output_type": "stream",
     "text": [
      "Hello from Python\n",
      "Hello from Python\n"
     ]
    }
   ],
   "source": [
    "# Approach 1\n",
    "Language.say_hello()\n",
    "\n",
    "# Approach 2\n",
    "getattr(Language, 'say_hello')()"
   ]
  },
  {
   "cell_type": "markdown",
   "id": "c3c959d5",
   "metadata": {},
   "source": [
    "---\n",
    "\n",
    "### Classes are Callables (Instantiation) <a name='classes_are_callables'></a>\n",
    "\n",
    "When calling a class, a new instance is created of the type of that class."
   ]
  },
  {
   "cell_type": "code",
   "execution_count": 41,
   "id": "3a2214d8",
   "metadata": {},
   "outputs": [],
   "source": [
    "l = Language()"
   ]
  },
  {
   "cell_type": "code",
   "execution_count": 42,
   "id": "d73e141b",
   "metadata": {},
   "outputs": [
    {
     "name": "stdout",
     "output_type": "stream",
     "text": [
      "<class '__main__.Language'>\n",
      "<class 'type'>\n"
     ]
    }
   ],
   "source": [
    "print(type(l))\n",
    "print(type(Language))"
   ]
  },
  {
   "cell_type": "markdown",
   "id": "4e27cbc3",
   "metadata": {},
   "source": [
    "---\n",
    "\n",
    "### Data Attributes <a name='data_attributes'></a>\n",
    "\n",
    "For data attributes in the `instance` object, when calling `__dict__` method, it will:\n",
    "\n",
    "    1. Start looking in the `instance` namespace and see if it can find the given attribute;\n",
    "    2. If not, it will go to the type(class) of the `instance` and find the attribute.\n",
    "    \n",
    "<font color='red'>The data attributes of `instance` and `class` are different, where all the instances can share the attributes defined in its class type when it does not has its own attributes defined, otherwise it will use its own dictionary of attributes overwritten the `class` attributes. </font>"
   ]
  },
  {
   "cell_type": "code",
   "execution_count": 44,
   "id": "faca1d9b",
   "metadata": {},
   "outputs": [
    {
     "name": "stdout",
     "output_type": "stream",
     "text": [
      "{}\n",
      "Python\n"
     ]
    }
   ],
   "source": [
    "# Before assigning attribute to the instance\n",
    "print(l.__dict__)\n",
    "print(l.language)"
   ]
  },
  {
   "cell_type": "code",
   "execution_count": 46,
   "id": "3399e064",
   "metadata": {},
   "outputs": [
    {
     "name": "stdout",
     "output_type": "stream",
     "text": [
      "{'language': 'Haskell'}\n"
     ]
    }
   ],
   "source": [
    "# After assigning attribute to the instance\n",
    "l.language = 'Haskell'\n",
    "print(l.__dict__)"
   ]
  },
  {
   "cell_type": "markdown",
   "id": "af7dd022",
   "metadata": {},
   "source": [
    "---\n",
    "\n",
    "### Function Attributes <a name='function_attributes'></a>\n"
   ]
  },
  {
   "cell_type": "markdown",
   "id": "9bdb29f5",
   "metadata": {},
   "source": [
    "* `Bound method`: When calling the function defined in a class from an instance, the function is no longer the same as in the `class` object, but it becomes a `bound method` with the `instance` object who is calling it being injected as an argument."
   ]
  },
  {
   "cell_type": "code",
   "execution_count": 57,
   "id": "07ca5a5b",
   "metadata": {},
   "outputs": [],
   "source": [
    "class Person:\n",
    "    \n",
    "    def say_hello():\n",
    "        print('Hello!')"
   ]
  },
  {
   "cell_type": "code",
   "execution_count": 58,
   "id": "d8299d0f",
   "metadata": {},
   "outputs": [
    {
     "name": "stdout",
     "output_type": "stream",
     "text": [
      "<bound method Person.say_hello of <__main__.Person object at 0x0000020CEA0FF5B0>>\n"
     ]
    }
   ],
   "source": [
    "p = Person()\n",
    "print(p.say_hello)"
   ]
  },
  {
   "cell_type": "markdown",
   "id": "5f446024",
   "metadata": {},
   "source": [
    "Therefore, in order to call the function defined in the `class` in the `instance`, we pass the `instance` object into the function, which is normally named as `self`:"
   ]
  },
  {
   "cell_type": "code",
   "execution_count": 59,
   "id": "270305ed",
   "metadata": {},
   "outputs": [],
   "source": [
    "class Person:\n",
    "    \n",
    "    def say_hello(self):\n",
    "        print('Hello!')"
   ]
  },
  {
   "cell_type": "code",
   "execution_count": 60,
   "id": "ab8f6155",
   "metadata": {},
   "outputs": [
    {
     "name": "stdout",
     "output_type": "stream",
     "text": [
      "Hello!\n"
     ]
    }
   ],
   "source": [
    "p = Person()\n",
    "p.say_hello()"
   ]
  },
  {
   "cell_type": "markdown",
   "id": "57bc576b",
   "metadata": {},
   "source": [
    "---\n",
    "\n",
    "### Initializing Class Instances <a name='initializing_class_instances'></a>"
   ]
  },
  {
   "cell_type": "markdown",
   "id": "ff2a3666",
   "metadata": {},
   "source": [
    "When instantiating a class, Python by default will do 2 separate things:  \n",
    "* Create a new instance of the class\n",
    "* Initialize the namespace of the class (which can be modified through `__init__` method)"
   ]
  },
  {
   "cell_type": "markdown",
   "id": "cf4802d7",
   "metadata": {},
   "source": [
    "---\n",
    "\n",
    "### Creating/Adding Attributes at Run-Time <a name='creating_attributes_at_runtime'></a>"
   ]
  },
  {
   "cell_type": "markdown",
   "id": "765ca16a",
   "metadata": {},
   "source": [
    "In some cases, when we do not want to define some attributes for the `class`, it is possible to bind them to the `instances` instead at run-time. "
   ]
  },
  {
   "cell_type": "code",
   "execution_count": 31,
   "id": "376fd9b5",
   "metadata": {},
   "outputs": [],
   "source": [
    "from types import MethodType"
   ]
  },
  {
   "cell_type": "code",
   "execution_count": 32,
   "id": "7bfd9a19",
   "metadata": {},
   "outputs": [],
   "source": [
    "class Person:\n",
    "    \n",
    "    def __init__(self, name):\n",
    "        self.name = name"
   ]
  },
  {
   "cell_type": "code",
   "execution_count": 33,
   "id": "6ac3d84e",
   "metadata": {},
   "outputs": [
    {
     "name": "stdout",
     "output_type": "stream",
     "text": [
      "{'name': 'Lili'}\n"
     ]
    }
   ],
   "source": [
    "p = Person('Lili')\n",
    "print(p.__dict__)"
   ]
  },
  {
   "cell_type": "code",
   "execution_count": 35,
   "id": "dc09708b",
   "metadata": {},
   "outputs": [
    {
     "name": "stdout",
     "output_type": "stream",
     "text": [
      "{'name': 'Lili', 'say_hello': <bound method <lambda> of <__main__.Person object at 0x000001E314B853D0>>}\n",
      "Hello, Lili!\n"
     ]
    }
   ],
   "source": [
    "p.say_hello = MethodType(lambda self: f'Hello, {self.name}!', p)\n",
    "print(p.__dict__)\n",
    "print(p.say_hello())"
   ]
  },
  {
   "cell_type": "markdown",
   "id": "4d70a039",
   "metadata": {},
   "source": [
    "---\n",
    "\n",
    "### Properties <a name='properties'></a>"
   ]
  },
  {
   "cell_type": "markdown",
   "id": "a4ac85c4",
   "metadata": {},
   "source": [
    "In order to mimic the concept of `private property` that exists pervasively in OOP, in `__init__` method we could use `_` before the attribute name to pretend that it is **private**. Further, we can use `property` method to add `getter` and `setter` methods to the property that we want to generate, and access it directly later on."
   ]
  },
  {
   "cell_type": "code",
   "execution_count": 36,
   "id": "7818cef5",
   "metadata": {},
   "outputs": [],
   "source": [
    "class Language:\n",
    "    \n",
    "    def __init__(self, language):\n",
    "        self._language = language\n",
    "        \n",
    "    def get_language(self):\n",
    "        return self._language\n",
    "    \n",
    "    def set_language(self, value):\n",
    "        self._language = value\n",
    "        \n",
    "    language = property(fget=get_language, fset=set_language)"
   ]
  },
  {
   "cell_type": "code",
   "execution_count": 44,
   "id": "26084b85",
   "metadata": {},
   "outputs": [
    {
     "name": "stdout",
     "output_type": "stream",
     "text": [
      "{'_language': 'Haskell'}\n"
     ]
    }
   ],
   "source": [
    "l = Language('Haskell')\n",
    "print(l.__dict__)"
   ]
  },
  {
   "cell_type": "code",
   "execution_count": 45,
   "id": "4c4ff7e5",
   "metadata": {
    "scrolled": true
   },
   "outputs": [
    {
     "name": "stdout",
     "output_type": "stream",
     "text": [
      "{'_language': 'Java'}\n"
     ]
    }
   ],
   "source": [
    "l.language = 'Java'\n",
    "print(l.__dict__)"
   ]
  },
  {
   "cell_type": "markdown",
   "id": "ef7d87c9",
   "metadata": {},
   "source": [
    "---\n",
    "\n",
    "### Property Decorators <a name='property_decorators'></a>"
   ]
  },
  {
   "cell_type": "markdown",
   "id": "0f9b8d0a",
   "metadata": {},
   "source": [
    "`@property` decorator is another way of using properties."
   ]
  },
  {
   "cell_type": "code",
   "execution_count": 60,
   "id": "2aa7fb26",
   "metadata": {},
   "outputs": [],
   "source": [
    "class Language:\n",
    "    \n",
    "    def __init__(self, language):\n",
    "        self._language = language\n",
    "        \n",
    "    @property\n",
    "    def language(self):\n",
    "        return self._language\n",
    "    \n",
    "    @language.setter\n",
    "    def language(self, value):\n",
    "        self._language = value"
   ]
  },
  {
   "cell_type": "code",
   "execution_count": 61,
   "id": "71856e01",
   "metadata": {},
   "outputs": [
    {
     "name": "stdout",
     "output_type": "stream",
     "text": [
      "{'_language': 'Haskell'}\n"
     ]
    }
   ],
   "source": [
    "l = Language('Haskell')\n",
    "print(l.__dict__)"
   ]
  },
  {
   "cell_type": "code",
   "execution_count": 62,
   "id": "8dbdcf6d",
   "metadata": {
    "scrolled": true
   },
   "outputs": [
    {
     "name": "stdout",
     "output_type": "stream",
     "text": [
      "{'_language': 'Java'}\n"
     ]
    }
   ],
   "source": [
    "l.language = 'Java'\n",
    "print(l.__dict__)"
   ]
  },
  {
   "cell_type": "markdown",
   "id": "da410ac6",
   "metadata": {},
   "source": [
    "---\n",
    "\n",
    "### Deleting Properties <a name='deleting_properties'></a>"
   ]
  },
  {
   "cell_type": "markdown",
   "id": "f1b0953b",
   "metadata": {},
   "source": [
    "When deleting properties from the `instances`, note that the `class` objects still have the properties."
   ]
  },
  {
   "cell_type": "code",
   "execution_count": 65,
   "id": "ee288575",
   "metadata": {},
   "outputs": [],
   "source": [
    "class Language:\n",
    "    \n",
    "    def __init__(self, language):\n",
    "        self._language = language\n",
    "        \n",
    "    @property\n",
    "    def language(self):\n",
    "        return self._language\n",
    "    \n",
    "    @language.setter\n",
    "    def language(self, value):\n",
    "        self._language = value\n",
    "        \n",
    "    @language.deleter\n",
    "    def language(self):\n",
    "        print('deleting...')\n",
    "        del self._language"
   ]
  },
  {
   "cell_type": "code",
   "execution_count": 71,
   "id": "281e5642",
   "metadata": {},
   "outputs": [
    {
     "name": "stdout",
     "output_type": "stream",
     "text": [
      "{'_language': 'Haskell'}\n",
      "deleting...\n"
     ]
    }
   ],
   "source": [
    "l = Language('Haskell')\n",
    "print(l.__dict__)\n",
    "del l.language"
   ]
  },
  {
   "cell_type": "code",
   "execution_count": 72,
   "id": "7bdb1855",
   "metadata": {},
   "outputs": [
    {
     "name": "stdout",
     "output_type": "stream",
     "text": [
      "{'__module__': '__main__', '__init__': <function Language.__init__ at 0x000001E314BB9AF0>, 'language': <property object at 0x000001E314BC91D0>, '__dict__': <attribute '__dict__' of 'Language' objects>, '__weakref__': <attribute '__weakref__' of 'Language' objects>, '__doc__': None}\n"
     ]
    }
   ],
   "source": [
    "Language.__dict__"
   ]
  },
  {
   "cell_type": "markdown",
   "id": "5a9213e5",
   "metadata": {},
   "source": [
    "---\n",
    "\n",
    "### Class and Static Methods <a name='class_and_static_methods'></a>"
   ]
  },
  {
   "cell_type": "markdown",
   "id": "e0cac294",
   "metadata": {},
   "source": [
    "By default, the functions defined in a `class` are bounded with `instance`, but it can also be changed to be bounded with `class` or nothing."
   ]
  },
  {
   "cell_type": "markdown",
   "id": "8e910132",
   "metadata": {},
   "source": [
    "> Class method:\n",
    "> Class method can be used to set general value throughout the class instead of assigning the same value for all the instances."
   ]
  },
  {
   "cell_type": "code",
   "execution_count": 73,
   "id": "225da848",
   "metadata": {},
   "outputs": [],
   "source": [
    "class Person:\n",
    "    \n",
    "    def instance_hello(self):\n",
    "        print(f'Hello from {self}')\n",
    "    \n",
    "    @classmethod\n",
    "    def class_hello(cls):\n",
    "        print(f'Hello from {cls}')"
   ]
  },
  {
   "cell_type": "code",
   "execution_count": 74,
   "id": "c857e31f",
   "metadata": {},
   "outputs": [],
   "source": [
    "p = Person()"
   ]
  },
  {
   "cell_type": "code",
   "execution_count": 78,
   "id": "5adb5867",
   "metadata": {},
   "outputs": [
    {
     "name": "stdout",
     "output_type": "stream",
     "text": [
      "Hello from <__main__.Person object at 0x000001E3151E8B50>\n"
     ]
    }
   ],
   "source": [
    "# Instance-bounded function\n",
    "p.instance_hello()"
   ]
  },
  {
   "cell_type": "code",
   "execution_count": 79,
   "id": "0fffe2b2",
   "metadata": {},
   "outputs": [
    {
     "name": "stdout",
     "output_type": "stream",
     "text": [
      "Hello from <class '__main__.Person'>\n"
     ]
    }
   ],
   "source": [
    "# Class-bounded function\n",
    "p.class_hello()"
   ]
  },
  {
   "cell_type": "markdown",
   "id": "34d8c525",
   "metadata": {},
   "source": [
    "> Static method (discouraged to be used):"
   ]
  },
  {
   "cell_type": "code",
   "execution_count": 80,
   "id": "b48438fc",
   "metadata": {},
   "outputs": [],
   "source": [
    "class Person:\n",
    "    \n",
    "    @staticmethod\n",
    "    def static_hello():\n",
    "        print(f'Hello from static method')"
   ]
  },
  {
   "cell_type": "code",
   "execution_count": 81,
   "id": "0d29e4f4",
   "metadata": {},
   "outputs": [],
   "source": [
    "p = Person()"
   ]
  },
  {
   "cell_type": "code",
   "execution_count": 83,
   "id": "f441af22",
   "metadata": {},
   "outputs": [
    {
     "name": "stdout",
     "output_type": "stream",
     "text": [
      "Hello from static method\n"
     ]
    }
   ],
   "source": [
    "p.static_hello()"
   ]
  }
 ],
 "metadata": {
  "kernelspec": {
   "display_name": "Python 3",
   "language": "python",
   "name": "python3"
  },
  "language_info": {
   "codemirror_mode": {
    "name": "ipython",
    "version": 3
   },
   "file_extension": ".py",
   "mimetype": "text/x-python",
   "name": "python",
   "nbconvert_exporter": "python",
   "pygments_lexer": "ipython3",
   "version": "3.8.8"
  }
 },
 "nbformat": 4,
 "nbformat_minor": 5
}
