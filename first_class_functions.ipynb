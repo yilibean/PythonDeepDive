{
 "cells": [
  {
   "cell_type": "markdown",
   "id": "4395f2a7",
   "metadata": {},
   "source": [
    "## First Class Functions\n",
    "\n",
    "- [**Docstrings and annotations**](#docstring_and_annotations)\n",
    "- [**Lambda expressions**](#lambda_expressions)\n",
    "- [**Function introspection**](#function_introspection)\n",
    "- [**Callables**](#callables)\n",
    "- [**Higher order functions**](#higher_order_functions)\n",
    "- [**Reducing functions**](#reducing_functions)"
   ]
  },
  {
   "cell_type": "markdown",
   "id": "0e60cb90",
   "metadata": {},
   "source": [
    "---\n",
    "\n",
    "### Docstrings and annotations <a name='docstring_and_annotations'></a>"
   ]
  },
  {
   "cell_type": "markdown",
   "id": "9df62055",
   "metadata": {},
   "source": [
    "> `Docstrings`: Docstrings creates documents of functions, which is stored in **\\_\\_doc\\_\\_** property.\n",
    "```python\n",
    "    def func(x)\n",
    "        \"\"\"\n",
    "        Documentation\n",
    "        \"\"\"\n",
    "```\n",
    "\n",
    "> `Annotations`: Annotation provides additional way to document functions, which is stored in **\\_\\_annotations\\_\\_** property.\n",
    "```python\n",
    "    def func(x: annotation1, y: annotation2) -> annotation of the function:\n",
    "```"
   ]
  },
  {
   "cell_type": "markdown",
   "id": "59d5fbb5",
   "metadata": {},
   "source": [
    "---\n",
    "\n",
    "### Lambda expressions <a name='lambda_expressions'></a>\n",
    "\n",
    "Lambda expression is simply another way to create functions (anonymous functions), where the expression will return a function object.\n",
    "```python\n",
    "    lambda [parameter list]: expression\n",
    "```"
   ]
  },
  {
   "cell_type": "markdown",
   "id": "5c1d3f78",
   "metadata": {},
   "source": [
    "---\n",
    "\n",
    "### Function introspection <a name='function_introspection'></a>\n",
    "\n",
    "Introspection is the ability to determine the type of an object at runtime."
   ]
  },
  {
   "cell_type": "markdown",
   "id": "5646744b",
   "metadata": {},
   "source": [
    "> **`dir()`**: It returns a list of attributes and methods belonging to an obejct."
   ]
  },
  {
   "cell_type": "code",
   "execution_count": 14,
   "id": "84562487",
   "metadata": {},
   "outputs": [
    {
     "name": "stdout",
     "output_type": "stream",
     "text": [
      "['__annotations__', '__call__', '__class__', '__closure__', '__code__', '__defaults__', '__delattr__', '__dict__', '__dir__', '__doc__', '__eq__', '__format__', '__ge__', '__get__', '__getattribute__', '__globals__', '__gt__', '__hash__', '__init__', '__init_subclass__', '__kwdefaults__', '__le__', '__lt__', '__module__', '__name__', '__ne__', '__new__', '__qualname__', '__reduce__', '__reduce_ex__', '__repr__', '__setattr__', '__sizeof__', '__str__', '__subclasshook__']\n"
     ]
    }
   ],
   "source": [
    "def func():\n",
    "    print('Do nothing!')\n",
    "\n",
    "print(dir(func))"
   ]
  },
  {
   "cell_type": "markdown",
   "id": "9455788d",
   "metadata": {},
   "source": [
    "> **`inspect module`**: It provides several useful functions to get information about live objects."
   ]
  },
  {
   "cell_type": "code",
   "execution_count": 22,
   "id": "ef2adcc2",
   "metadata": {},
   "outputs": [
    {
     "name": "stdout",
     "output_type": "stream",
     "text": [
      "True\n",
      "def func():\n",
      "    print('Do nothing!')\n",
      "\n",
      "<module '__main__'>\n"
     ]
    }
   ],
   "source": [
    "import inspect\n",
    "\n",
    "# A few examples of functions provided by inspect module\n",
    "print(inspect.isfunction(func))\n",
    "print(inspect.getsource(func))\n",
    "print(inspect.getmodule(func))"
   ]
  },
  {
   "cell_type": "markdown",
   "id": "5ab85c26",
   "metadata": {},
   "source": [
    "---\n",
    "\n",
    "### Callables <a name='callables'></a>\n",
    "\n",
    "Callable is any object that can be called using the **()** operator, which always return a value (can be none)."
   ]
  },
  {
   "cell_type": "code",
   "execution_count": 27,
   "id": "b4c0ad65",
   "metadata": {},
   "outputs": [
    {
     "name": "stdout",
     "output_type": "stream",
     "text": [
      "False\n",
      "True\n"
     ]
    }
   ],
   "source": [
    "# Check if an obejct i callable\n",
    "l = [1, 2, 3]\n",
    "print(callable(l))\n",
    "print(callable(l.append))"
   ]
  },
  {
   "cell_type": "markdown",
   "id": "736f0043",
   "metadata": {},
   "source": [
    "---\n",
    "\n",
    "### Higher order functions <a name='higher_order_functions'></a>\n",
    "\n",
    "An higher order function simply takes a function as a parameter and/or returns a function as its return value."
   ]
  },
  {
   "cell_type": "markdown",
   "id": "03f004e8",
   "metadata": {},
   "source": [
    "> **`map()`**: It returns a map object (i.e. an iterator) of the results after applying the given function to each item of a given iterable (list, tuple, etc.)\n",
    "```python\n",
    "    map(func, *iterable)\n",
    "```"
   ]
  },
  {
   "cell_type": "code",
   "execution_count": 29,
   "id": "07be3c05",
   "metadata": {},
   "outputs": [
    {
     "data": {
      "text/plain": [
       "[2, 4, 6]"
      ]
     },
     "execution_count": 29,
     "metadata": {},
     "output_type": "execute_result"
    }
   ],
   "source": [
    "def add(x, y):\n",
    "    return x+y\n",
    "\n",
    "l1 = [1, 2, 3]\n",
    "l2 = [1, 2, 3]\n",
    "\n",
    "list(map(add, l1, l2))"
   ]
  },
  {
   "cell_type": "markdown",
   "id": "f17966ed",
   "metadata": {},
   "source": [
    "> **`filter()`**: It retains or throws out the elements of the given iterable.\n",
    "```python\n",
    "    filter(func, iterable)\n",
    "```"
   ]
  },
  {
   "cell_type": "code",
   "execution_count": 31,
   "id": "317ce8f4",
   "metadata": {},
   "outputs": [
    {
     "data": {
      "text/plain": [
       "[2, 4]"
      ]
     },
     "execution_count": 31,
     "metadata": {},
     "output_type": "execute_result"
    }
   ],
   "source": [
    "l = [1, 2, 3, 4]\n",
    "\n",
    "list(filter(lambda x: x%2==0, l))"
   ]
  },
  {
   "cell_type": "markdown",
   "id": "216de088",
   "metadata": {},
   "source": [
    "---\n",
    "\n",
    "### Reducing functions <a name='reducing_functions'></a>\n",
    "\n",
    "A reducing function recombines an iterable recursively, ending up with a single return value. For instance, the built-in functions such as **min()**, **sum()**, etc."
   ]
  },
  {
   "cell_type": "markdown",
   "id": "05cb99f8",
   "metadata": {},
   "source": [
    "> **`reduce()`**: It applies a function to all the elements cumulatively in the given iterable."
   ]
  },
  {
   "cell_type": "code",
   "execution_count": 40,
   "id": "43d97d83",
   "metadata": {},
   "outputs": [],
   "source": [
    "from functools import reduce"
   ]
  },
  {
   "cell_type": "code",
   "execution_count": 41,
   "id": "786d6315",
   "metadata": {},
   "outputs": [
    {
     "name": "stdout",
     "output_type": "stream",
     "text": [
      "8\n"
     ]
    }
   ],
   "source": [
    "l = [1, 1, 8, 2]\n",
    "print(reduce(lambda x, y: x if x > y else y, l))"
   ]
  },
  {
   "cell_type": "code",
   "execution_count": 42,
   "id": "1602b429",
   "metadata": {},
   "outputs": [
    {
     "name": "stdout",
     "output_type": "stream",
     "text": [
      "24\n"
     ]
    }
   ],
   "source": [
    "print(reduce(lambda x, y: x*y, range(1, 5)))"
   ]
  }
 ],
 "metadata": {
  "kernelspec": {
   "display_name": "Python 3",
   "language": "python",
   "name": "python3"
  },
  "language_info": {
   "codemirror_mode": {
    "name": "ipython",
    "version": 3
   },
   "file_extension": ".py",
   "mimetype": "text/x-python",
   "name": "python",
   "nbconvert_exporter": "python",
   "pygments_lexer": "ipython3",
   "version": "3.8.8"
  }
 },
 "nbformat": 4,
 "nbformat_minor": 5
}
