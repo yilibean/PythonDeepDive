{
 "cells": [
  {
   "cell_type": "markdown",
   "id": "c919365e",
   "metadata": {},
   "source": [
    "## Variable and Memory\n",
    "\n",
    "1. [Memory references](#memory_references)\n",
    "2. [Reference counting](#reference_counting)\n",
    "3. [Garbage collection](#garbage_collection)\n",
    "4. [Dynamic v.s. static typing](#dynamic_static_typing)\n",
    "5. [Variable re-assignment](#variable_reassignment)\n",
    "6. [Object mutability & immutability](#object_mutability_immutability)\n",
    "7. [Shared reference](#shared_reference)\n",
    "8. [Variable equality](#variable_equality)\n",
    "9. [Python optimization](#python_optimization)"
   ]
  },
  {
   "cell_type": "markdown",
   "id": "38002ec3",
   "metadata": {},
   "source": [
    "### Memory references <div id='memory_references'/>\n",
    "\n",
    "- All variables are objects in Python (both primitive and non-primitive types).\n",
    "- Variables are _**references**_ or _**alias**_ of memory address."
   ]
  },
  {
   "cell_type": "code",
   "execution_count": 1,
   "id": "d090c509",
   "metadata": {},
   "outputs": [
    {
     "name": "stdout",
     "output_type": "stream",
     "text": [
      "Memory address of a: 140715366623024\n",
      "Hexical memory address of a: 0x7ffad9712730\n"
     ]
    }
   ],
   "source": [
    "# Get the memory address\n",
    "a = 1\n",
    "print(\"Memory address of a: {}\".format(id(a)))\n",
    "\n",
    "# Get the hexical memory address\n",
    "print(\"Hexical memory address of a: {}\".format(hex(id(a))))"
   ]
  },
  {
   "cell_type": "markdown",
   "id": "0b40a629",
   "metadata": {},
   "source": [
    "---\n",
    "\n",
    "### Reference counting <a name='reference_counting'></a>\n",
    "\n",
    "Reference count will increase under these cases:\n",
    "- Assignment operator\n",
    "- Argument passing\n",
    "- Appending an object to a list (object's reference count will be increased)."
   ]
  },
  {
   "cell_type": "code",
   "execution_count": 2,
   "id": "baad93b8",
   "metadata": {},
   "outputs": [],
   "source": [
    "import sys"
   ]
  },
  {
   "cell_type": "markdown",
   "id": "ea16c77b",
   "metadata": {},
   "source": [
    "> Immutable types: Strings, numbers and other immutable types point to the same object in memory. (not necessarily)"
   ]
  },
  {
   "cell_type": "code",
   "execution_count": 3,
   "id": "1f854718",
   "metadata": {},
   "outputs": [
    {
     "name": "stdout",
     "output_type": "stream",
     "text": [
      "2359\n",
      "11\n"
     ]
    }
   ],
   "source": [
    "a = 1\n",
    "print(sys.getrefcount(a)-1)\n",
    "\n",
    "b = 'hi'\n",
    "print(sys.getrefcount(b)-1)"
   ]
  },
  {
   "cell_type": "markdown",
   "id": "b8f9bc09",
   "metadata": {},
   "source": [
    "> Mutable types: Lists, dictionaries and other mutable types point to different objects in memory."
   ]
  },
  {
   "cell_type": "code",
   "execution_count": 4,
   "id": "f4d41be5",
   "metadata": {},
   "outputs": [
    {
     "name": "stdout",
     "output_type": "stream",
     "text": [
      "1\n",
      "1\n"
     ]
    }
   ],
   "source": [
    "c = []\n",
    "print(sys.getrefcount(c)-1)\n",
    "\n",
    "d = {\"key\": 7}\n",
    "print(sys.getrefcount(d)-1)"
   ]
  },
  {
   "cell_type": "markdown",
   "id": "3c6a623e",
   "metadata": {},
   "source": [
    "---\n",
    "\n",
    "### Garbage collection <a name='garbage_collection'></a>\n",
    "\n",
    "Garbage collection is handles by PMM (Python Memory Management) in two approaches:\n",
    "\n",
    "- Reference counting: Destroy the object and reclaim memory once the ref_count hits 0.\n",
    "- Garbage collector: Aims to handle the circular reference that reference counting does not manage to cope with."
   ]
  },
  {
   "cell_type": "code",
   "execution_count": 5,
   "id": "1a59e3df",
   "metadata": {},
   "outputs": [],
   "source": [
    "import gc\n",
    "import sys\n",
    "import ctypes"
   ]
  },
  {
   "cell_type": "code",
   "execution_count": 6,
   "id": "5d765a7c",
   "metadata": {},
   "outputs": [],
   "source": [
    "# Return if an object is in garbage collector or not\n",
    "def object_by_id(object_id):\n",
    "    for obj in gc.get_objects():\n",
    "        if id(obj) == object_id:\n",
    "            return 'Object exists'\n",
    "    return 'Not found'"
   ]
  },
  {
   "cell_type": "code",
   "execution_count": 7,
   "id": "37f5d5d4",
   "metadata": {},
   "outputs": [],
   "source": [
    "class A:\n",
    "    def __init__(self):\n",
    "        # Pass A's instances to B\n",
    "        self.b = B(self)\n",
    "        print('A: self: {}, b: {}'.format(hex(id(self)), hex(id(self.b))))\n",
    "\n",
    "class B:\n",
    "    def __init__(self, a):\n",
    "        self.a = a\n",
    "        print('B: self: {}, a: {}'.format(hex(id(self)), hex(id(self.a))))"
   ]
  },
  {
   "cell_type": "code",
   "execution_count": 8,
   "id": "d66d4f59",
   "metadata": {},
   "outputs": [
    {
     "name": "stdout",
     "output_type": "stream",
     "text": [
      "B: self: 0x1fe799a3550, a: 0x1fe799a32e0\n",
      "A: self: 0x1fe799a32e0, b: 0x1fe799a3550\n"
     ]
    }
   ],
   "source": [
    "# Disable garbage collector\n",
    "gc.disable()\n",
    "\n",
    "obj_a = A()"
   ]
  },
  {
   "cell_type": "code",
   "execution_count": 9,
   "id": "ec9be96a",
   "metadata": {},
   "outputs": [
    {
     "name": "stdout",
     "output_type": "stream",
     "text": [
      "Memory address of obj a: 2192473469664\n",
      "Memory address of obj b: 2192473470288\n"
     ]
    }
   ],
   "source": [
    "a_id = id(obj_a)\n",
    "print('Memory address of obj a: {}'.format(a_id))\n",
    "\n",
    "b_id = id(obj_a.b)\n",
    "print('Memory address of obj b: {}'.format(b_id))"
   ]
  },
  {
   "cell_type": "code",
   "execution_count": 10,
   "id": "c1c46bd8",
   "metadata": {},
   "outputs": [
    {
     "name": "stdout",
     "output_type": "stream",
     "text": [
      "Ref count of a: 2\n",
      "Ref count of b: 1\n"
     ]
    }
   ],
   "source": [
    "print('Ref count of a:', ctypes.c_long.from_address(a_id).value)\n",
    "print('Ref count of b:', ctypes.c_long.from_address(b_id).value)"
   ]
  },
  {
   "cell_type": "code",
   "execution_count": 11,
   "id": "ed62ec42",
   "metadata": {},
   "outputs": [
    {
     "name": "stdout",
     "output_type": "stream",
     "text": [
      "Object exists\n",
      "Object exists\n"
     ]
    }
   ],
   "source": [
    "# Trash obj_a\n",
    "obj_a = None\n",
    "\n",
    "# Circular reference\n",
    "print(object_by_id(a_id))\n",
    "print(object_by_id(b_id))"
   ]
  },
  {
   "cell_type": "code",
   "execution_count": 12,
   "id": "6b935986",
   "metadata": {},
   "outputs": [
    {
     "name": "stdout",
     "output_type": "stream",
     "text": [
      "Not found\n",
      "Not found\n"
     ]
    }
   ],
   "source": [
    "# Enable garbage collector\n",
    "gc.collect()\n",
    "\n",
    "# Circular reference is removed\n",
    "print(object_by_id(a_id))\n",
    "print(object_by_id(b_id))"
   ]
  },
  {
   "cell_type": "markdown",
   "id": "a3aa85d1",
   "metadata": {},
   "source": [
    "---\n",
    "### Dynamic v.s. static typing <a name='dynamic_static_typing'></a>\n",
    "\n",
    "- Static typing: When declaring, a data type is associated with the variable name.\n",
    "- Dynamic typing: When declaring, a variable is purely a reference to an object, no matter what type of object it is pointing to."
   ]
  },
  {
   "cell_type": "markdown",
   "id": "362d7082",
   "metadata": {},
   "source": [
    "---\n",
    "### Variable re-assignment <a name='variable_reassignment'></a>\n",
    "\n",
    "When re-assigning a variable, it is actually just creating a new object in memory (or for some object types, find if the object is already there) and let the variable point to the new address."
   ]
  },
  {
   "cell_type": "code",
   "execution_count": 13,
   "id": "099417cf",
   "metadata": {},
   "outputs": [
    {
     "name": "stdout",
     "output_type": "stream",
     "text": [
      "0x7ffad9712850\n",
      "0x7ffad97128f0\n"
     ]
    }
   ],
   "source": [
    "a = 10\n",
    "print(hex(id(a)))\n",
    "\n",
    "a = 15\n",
    "print(hex(id(a)))"
   ]
  },
  {
   "cell_type": "code",
   "execution_count": 14,
   "id": "57b1ecba",
   "metadata": {},
   "outputs": [
    {
     "name": "stdout",
     "output_type": "stream",
     "text": [
      "0x7ffad9712850\n"
     ]
    }
   ],
   "source": [
    "b = 10\n",
    "print(hex(id(b)))  # Pointing to the same adress of which a was pointing to when a was assigned to 10"
   ]
  },
  {
   "cell_type": "markdown",
   "id": "3c98b08d",
   "metadata": {},
   "source": [
    "---\n",
    "\n",
    "### Object mutability & immutability <a name='object_mutability_immutability'></a>\n",
    "\n",
    "- Mutable: An object whose internal state can be changed, e.g. _**list**_, _**dict**_, _**set**_.\n",
    "- Immutable: An object whose internal state cannot be changed, e.g. _**number**_, _**string**_, _**tuple**_, _**frozen set**_."
   ]
  },
  {
   "cell_type": "markdown",
   "id": "2afd4da2",
   "metadata": {},
   "source": [
    "---\n",
    "\n",
    "### Shared reference <a name='shared_reference'></a>\n",
    "\n",
    "Two or more variables referencing/pointing to the same object in memory (i.e. haveing the same memory address). Note that for mutable objects, PMM will never create shared references since modifying one object will also modify the other one who is pointing to the shared address."
   ]
  },
  {
   "cell_type": "markdown",
   "id": "aada8d82",
   "metadata": {},
   "source": [
    "---\n",
    "### Variable equality <a name='variable_equality'></a>\n",
    "\n",
    "- Compare memory address: **is**, **not is**.\n",
    "- Compare object internal data: **==**, **!=**.\n"
   ]
  },
  {
   "cell_type": "markdown",
   "id": "8a3e419a",
   "metadata": {},
   "source": [
    "---\n",
    "\n",
    "### Python optimization <a name='python_optimization'></a>"
   ]
  },
  {
   "cell_type": "markdown",
   "id": "69d31115",
   "metadata": {},
   "source": [
    "> Number interning: CPython preloads/caches a global list of integers in the range [-5, 256] for optimization, so everytime a new variable is assigned to these numbers, it will point to a same address."
   ]
  },
  {
   "cell_type": "code",
   "execution_count": 15,
   "id": "26c2b6a8",
   "metadata": {},
   "outputs": [
    {
     "name": "stdout",
     "output_type": "stream",
     "text": [
      "Are two numbers pointing to the same address?: True\n"
     ]
    }
   ],
   "source": [
    "a = 256\n",
    "b = 256\n",
    "print('Are two numbers pointing to the same address?:', (a is b))"
   ]
  },
  {
   "cell_type": "code",
   "execution_count": 16,
   "id": "4e1e1e44",
   "metadata": {},
   "outputs": [
    {
     "name": "stdout",
     "output_type": "stream",
     "text": [
      "Are two numbers pointing to the same address?: False\n"
     ]
    }
   ],
   "source": [
    "a = -6\n",
    "b = -6\n",
    "print('Are two numbers pointing to the same address?:', (a is b))"
   ]
  },
  {
   "cell_type": "markdown",
   "id": "91389fe2",
   "metadata": {},
   "source": [
    "> String interning: Some strings will be automatically interned, mainly **identifiers** and **string literals that look like identifiers (start with \\_  or a letter and only contain \\_, letters and numbers)**.<br>\n",
    "    This way, the memory address will be compared instead of the internal data (i.e. string itself in this case), which will improve performance dramatically."
   ]
  },
  {
   "cell_type": "code",
   "execution_count": 17,
   "id": "108da3a5",
   "metadata": {},
   "outputs": [
    {
     "name": "stdout",
     "output_type": "stream",
     "text": [
      "Are two strings pointing to the same address?: True\n",
      "Are two strings pointing to the same address?: True\n"
     ]
    }
   ],
   "source": [
    "# Strings look like identifiers\n",
    "a = 'hello'\n",
    "b = 'hello'\n",
    "print('Are two strings pointing to the same address?:', (a is b))\n",
    "\n",
    "a = 'this_is_something_trying_to_look_like_an_identifier'\n",
    "b = 'this_is_something_trying_to_look_like_an_identifier'\n",
    "print('Are two strings pointing to the same address?:', (a is b))"
   ]
  },
  {
   "cell_type": "code",
   "execution_count": 18,
   "id": "89caf775",
   "metadata": {},
   "outputs": [
    {
     "name": "stdout",
     "output_type": "stream",
     "text": [
      "Are two strings pointing to the same address?: False\n"
     ]
    }
   ],
   "source": [
    "# Strings not like identifiers\n",
    "a = 'hello world'\n",
    "b = 'hello world'\n",
    "print('Are two strings pointing to the same address?:', (a is b))"
   ]
  },
  {
   "cell_type": "markdown",
   "id": "0d11d7f8",
   "metadata": {},
   "source": [
    "It is also possible to force a string to be interned using **sys.intern()**."
   ]
  },
  {
   "cell_type": "code",
   "execution_count": 19,
   "id": "bbf308e3",
   "metadata": {},
   "outputs": [
    {
     "name": "stdout",
     "output_type": "stream",
     "text": [
      "Are two strings pointing to the same address?: True\n"
     ]
    }
   ],
   "source": [
    "a = sys.intern('hello world')\n",
    "b = sys.intern('hello world')\n",
    "print('Are two strings pointing to the same address?:', (a is b))"
   ]
  }
 ],
 "metadata": {
  "kernelspec": {
   "display_name": "Python 3",
   "language": "python",
   "name": "python3"
  },
  "language_info": {
   "codemirror_mode": {
    "name": "ipython",
    "version": 3
   },
   "file_extension": ".py",
   "mimetype": "text/x-python",
   "name": "python",
   "nbconvert_exporter": "python",
   "pygments_lexer": "ipython3",
   "version": "3.8.8"
  }
 },
 "nbformat": 4,
 "nbformat_minor": 5
}
