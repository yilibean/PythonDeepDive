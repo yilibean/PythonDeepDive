{
 "cells": [
  {
   "cell_type": "markdown",
   "id": "cf94880d",
   "metadata": {},
   "source": [
    "## Sequence Types\n",
    "\n",
    "- [**Sequence types**](#sequence_types)\n",
    "- [**Mutable sequence types**](#mutable_sequence_types)\n",
    "- [**Copying sequences**](#copying_sequences)\n",
    "- [**Slicing**](#slicing)\n",
    "- [**In-place concatenation and repetition**](#inplace_concatenation_and_repetition)\n",
    "- [**In-place assignment**](#inplace_assignment)"
   ]
  },
  {
   "cell_type": "markdown",
   "id": "aae13548",
   "metadata": {},
   "source": [
    "---\n",
    "\n",
    "### Sequence types <a name='sequence_types'></a>\n",
    "\n",
    "Sequence has a concept of **positional order** that can be referred using index, built-in sequence types are:\n",
    "\n",
    "* `Mutable`: list, bytearray\n",
    "* `Immutable`: string, tuple, range, byte"
   ]
  },
  {
   "cell_type": "markdown",
   "id": "0a492620",
   "metadata": {},
   "source": [
    "---\n",
    "\n",
    "### Mutable sequence types <a name='mutable_sequence_types'></a>"
   ]
  },
  {
   "cell_type": "markdown",
   "id": "fd55142d",
   "metadata": {},
   "source": [
    "> `Not mutating`: Concatenation using `+` will create a new object and reassign the new address, therefore it will not mutate the original object."
   ]
  },
  {
   "cell_type": "code",
   "execution_count": 1,
   "id": "f1817c4b",
   "metadata": {},
   "outputs": [
    {
     "name": "stdout",
     "output_type": "stream",
     "text": [
      "2567606401536\n",
      "2567606387008\n"
     ]
    }
   ],
   "source": [
    "names = ['python', 'c++']\n",
    "print(id(names))\n",
    "\n",
    "names = names + ['haskell']\n",
    "print(id(names))"
   ]
  },
  {
   "cell_type": "markdown",
   "id": "9dc44e19",
   "metadata": {},
   "source": [
    "> `Mutating`: Change the original object's state without creating a new object.\n",
    "> * s.append()\n",
    "> * s.clear()\n",
    "> * s.insert()\n",
    "> * s.extend()\n",
    "> * s.pop()\n",
    "> * s.remove()\n",
    "> * s.reverse()\n",
    "> * s.copy()"
   ]
  },
  {
   "cell_type": "markdown",
   "id": "af553c43",
   "metadata": {},
   "source": [
    "---\n",
    "### Copying sequences <a name='copying_sequences'></a>"
   ]
  },
  {
   "cell_type": "markdown",
   "id": "a9317af8",
   "metadata": {},
   "source": [
    "> `Copying method`:"
   ]
  },
  {
   "cell_type": "code",
   "execution_count": 2,
   "id": "a9bc8c98",
   "metadata": {},
   "outputs": [],
   "source": [
    "seq = [1, 2, 3]"
   ]
  },
  {
   "cell_type": "markdown",
   "id": "90e6cbf0",
   "metadata": {},
   "source": [
    ">> * Simple loop"
   ]
  },
  {
   "cell_type": "code",
   "execution_count": 3,
   "id": "0fa40c06",
   "metadata": {},
   "outputs": [
    {
     "name": "stdout",
     "output_type": "stream",
     "text": [
      "False\n"
     ]
    }
   ],
   "source": [
    "cp = []\n",
    "\n",
    "for elem in seq:\n",
    "    cp.append(elem)\n",
    "    \n",
    "print(seq is cp)"
   ]
  },
  {
   "cell_type": "markdown",
   "id": "e66bb4ac",
   "metadata": {},
   "source": [
    ">> * List comprehension"
   ]
  },
  {
   "cell_type": "code",
   "execution_count": 4,
   "id": "063443d1",
   "metadata": {},
   "outputs": [
    {
     "name": "stdout",
     "output_type": "stream",
     "text": [
      "False\n"
     ]
    }
   ],
   "source": [
    "cp = [elem for elem in seq]\n",
    "\n",
    "print(seq is cp)"
   ]
  },
  {
   "cell_type": "markdown",
   "id": "b5987dd7",
   "metadata": {},
   "source": [
    ">> * copy() method"
   ]
  },
  {
   "cell_type": "code",
   "execution_count": 5,
   "id": "2993af6c",
   "metadata": {},
   "outputs": [
    {
     "name": "stdout",
     "output_type": "stream",
     "text": [
      "False\n"
     ]
    }
   ],
   "source": [
    "cp = seq.copy()\n",
    "\n",
    "print(seq is cp)"
   ]
  },
  {
   "cell_type": "markdown",
   "id": "3b26f226",
   "metadata": {},
   "source": [
    ">> * Slicing"
   ]
  },
  {
   "cell_type": "code",
   "execution_count": 6,
   "id": "c1db54a7",
   "metadata": {},
   "outputs": [
    {
     "name": "stdout",
     "output_type": "stream",
     "text": [
      "False\n"
     ]
    }
   ],
   "source": [
    "cp = seq[:]\n",
    "\n",
    "print(seq is cp)"
   ]
  },
  {
   "cell_type": "markdown",
   "id": "a65fca58",
   "metadata": {},
   "source": [
    ">> * list()"
   ]
  },
  {
   "cell_type": "code",
   "execution_count": 7,
   "id": "636f4192",
   "metadata": {},
   "outputs": [
    {
     "name": "stdout",
     "output_type": "stream",
     "text": [
      "False\n"
     ]
    }
   ],
   "source": [
    "cp = list(seq)\n",
    "\n",
    "print(seq is cp)"
   ]
  },
  {
   "cell_type": "markdown",
   "id": "d9b77763",
   "metadata": {},
   "source": [
    "> `Copying types`:"
   ]
  },
  {
   "cell_type": "markdown",
   "id": "38bd2796",
   "metadata": {},
   "source": [
    ">> * Shallow copy: Using above method will return a shallow copy, which creates a new object (or container) that stores the reference of the original elements. So a shallow copy does not create a copy of nested objects."
   ]
  },
  {
   "cell_type": "markdown",
   "id": "51cfb13b",
   "metadata": {},
   "source": [
    ">> * Deep copy: A deep copy creates a new object and recursively adds the copies of nested objects present in the original elements."
   ]
  },
  {
   "cell_type": "code",
   "execution_count": 8,
   "id": "e5d8736b",
   "metadata": {},
   "outputs": [],
   "source": [
    "import copy"
   ]
  },
  {
   "cell_type": "code",
   "execution_count": 9,
   "id": "94d77cec",
   "metadata": {},
   "outputs": [
    {
     "name": "stdout",
     "output_type": "stream",
     "text": [
      "Shallow copy does not change memory address of nested mutable objects: True\n",
      "Deep copy does not change memory address of nested mutable objects: False\n"
     ]
    }
   ],
   "source": [
    "v1 = [0, 0]\n",
    "v2 = [0, 0]\n",
    "\n",
    "v = [v1, v2]\n",
    "v_shallow_cp = copy.copy(v)\n",
    "v_deep_cp = copy.deepcopy(v)\n",
    "\n",
    "print('Shallow copy does not change memory address of nested mutable objects: {}'.\n",
    "      format(id(v_shallow_cp[0])==id(v[0]) and id(v_shallow_cp[1])==id(v[1])))\n",
    "print('Deep copy does not change memory address of nested mutable objects: {}'.\n",
    "      format(id(v_deep_cp[0])==id(v[0]) or id(v_deep_cp[1])==id(v[1])))"
   ]
  },
  {
   "cell_type": "markdown",
   "id": "556f308c",
   "metadata": {},
   "source": [
    "---\n",
    "\n",
    "### [Slicing](https://zhuanlan.zhihu.com/p/79541418) <a name='slicing'></a>"
   ]
  },
  {
   "cell_type": "markdown",
   "id": "2eaa78ea",
   "metadata": {},
   "source": [
    "> `Indexing`: Both non-negative and negative indexing are included, they together make up the `effective range`."
   ]
  },
  {
   "cell_type": "code",
   "execution_count": 10,
   "id": "552c1bfb",
   "metadata": {},
   "outputs": [
    {
     "name": "stdout",
     "output_type": "stream",
     "text": [
      "Non-negative indices: [0, 1, 2, 3, 4]\n",
      "Negative indices: [-5, -4, -3, -2, -1]\n"
     ]
    }
   ],
   "source": [
    "seq = list(range(0, 5))\n",
    "print('Non-negative indices: {}'.format(seq))\n",
    "print('Negative indices: {}'.format([-len(seq)+s for s in seq]))"
   ]
  },
  {
   "cell_type": "markdown",
   "id": "c8872ef7",
   "metadata": {},
   "source": [
    "> `Simple slicing`: It is simple when `start` and `stop` bound are both specified."
   ]
  },
  {
   "cell_type": "code",
   "execution_count": 11,
   "id": "42fdbd62",
   "metadata": {},
   "outputs": [
    {
     "data": {
      "text/plain": [
       "[1, 2]"
      ]
     },
     "execution_count": 11,
     "metadata": {},
     "output_type": "execute_result"
    }
   ],
   "source": [
    "seq[1:3]"
   ]
  },
  {
   "cell_type": "code",
   "execution_count": 12,
   "id": "39a865a1",
   "metadata": {},
   "outputs": [
    {
     "data": {
      "text/plain": [
       "[0, 1, 2]"
      ]
     },
     "execution_count": 12,
     "metadata": {},
     "output_type": "execute_result"
    }
   ],
   "source": [
    "seq[-5:-2]"
   ]
  },
  {
   "cell_type": "markdown",
   "id": "772aedca",
   "metadata": {},
   "source": [
    "> `Truncation when slicing`: When `start` or `stop` is beyond the `effective range`, it will not throw an exception, instead it will just truncate."
   ]
  },
  {
   "cell_type": "code",
   "execution_count": 13,
   "id": "e410b76b",
   "metadata": {},
   "outputs": [
    {
     "data": {
      "text/plain": [
       "[0, 1, 2, 3, 4]"
      ]
     },
     "execution_count": 13,
     "metadata": {},
     "output_type": "execute_result"
    }
   ],
   "source": [
    "seq[0:100]"
   ]
  },
  {
   "cell_type": "code",
   "execution_count": 14,
   "id": "ba15ca56",
   "metadata": {},
   "outputs": [
    {
     "data": {
      "text/plain": [
       "[0, 1, 2]"
      ]
     },
     "execution_count": 14,
     "metadata": {},
     "output_type": "execute_result"
    }
   ],
   "source": [
    "seq[-100:3]"
   ]
  },
  {
   "cell_type": "markdown",
   "id": "0aa7d5d1",
   "metadata": {},
   "source": [
    "> `Default indexing`:\\\n",
    "When either `start` or `stop` is unspecified:\n",
    "> - Non-negative indexing: [`start`, `stop`] will be assumed as [-$\\infty$, $\\infty$].\n",
    "> - Negative indexing: Reversed comparing to non-negative case, that is, [`start`, `stop`] will be assumed as [$\\infty$, -$\\infty$]."
   ]
  },
  {
   "cell_type": "markdown",
   "id": "bc08c867",
   "metadata": {},
   "source": [
    "> `Extended slicing`: The sign of the `step` (`stride`) will determine whether negative or non-negative indexing is used."
   ]
  },
  {
   "cell_type": "code",
   "execution_count": 15,
   "id": "4da9c64e",
   "metadata": {},
   "outputs": [
    {
     "data": {
      "text/plain": [
       "[0, 2, 4]"
      ]
     },
     "execution_count": 15,
     "metadata": {},
     "output_type": "execute_result"
    }
   ],
   "source": [
    "seq[::2]"
   ]
  },
  {
   "cell_type": "code",
   "execution_count": 16,
   "id": "dac35000",
   "metadata": {},
   "outputs": [
    {
     "data": {
      "text/plain": [
       "[4, 3, 2, 1, 0]"
      ]
     },
     "execution_count": 16,
     "metadata": {},
     "output_type": "execute_result"
    }
   ],
   "source": [
    "seq[::-1]"
   ]
  },
  {
   "cell_type": "code",
   "execution_count": 17,
   "id": "96db64d1",
   "metadata": {},
   "outputs": [
    {
     "data": {
      "text/plain": [
       "[]"
      ]
     },
     "execution_count": 17,
     "metadata": {},
     "output_type": "execute_result"
    }
   ],
   "source": [
    "seq[1:5:-2]"
   ]
  },
  {
   "cell_type": "code",
   "execution_count": 18,
   "id": "3929d14d",
   "metadata": {},
   "outputs": [
    {
     "data": {
      "text/plain": [
       "[4, 2]"
      ]
     },
     "execution_count": 18,
     "metadata": {},
     "output_type": "execute_result"
    }
   ],
   "source": [
    "seq[5:1:-2]"
   ]
  },
  {
   "cell_type": "markdown",
   "id": "b93b3b3b",
   "metadata": {},
   "source": [
    "---\n",
    "\n",
    "### In-place concatenation and repetition (for mutable objects) <a name='inplace_concatenation_and_repetition'></a> "
   ]
  },
  {
   "cell_type": "markdown",
   "id": "5accc026",
   "metadata": {},
   "source": [
    "For mutable objects, `+=` and `*=` operator could perform in-place concatenation and repetition respectively. But for immutable objects, they are no different from `a = a + b`."
   ]
  },
  {
   "cell_type": "code",
   "execution_count": 19,
   "id": "fb361d62",
   "metadata": {},
   "outputs": [
    {
     "name": "stdout",
     "output_type": "stream",
     "text": [
      "['python', 'c++']\n",
      "2567606469952\n",
      "['python', 'c++', 'haskell']\n",
      "2567606469952\n"
     ]
    }
   ],
   "source": [
    "names = ['python', 'c++']\n",
    "print(names)\n",
    "print(id(names))\n",
    "\n",
    "names += ['haskell']\n",
    "print(names)\n",
    "print(id(names))"
   ]
  },
  {
   "cell_type": "code",
   "execution_count": 20,
   "id": "f6f90b6b",
   "metadata": {},
   "outputs": [
    {
     "name": "stdout",
     "output_type": "stream",
     "text": [
      "['python', 'c++']\n",
      "2567606399232\n",
      "['python', 'c++', 'python', 'c++']\n",
      "2567606399232\n"
     ]
    }
   ],
   "source": [
    "names = ['python', 'c++']\n",
    "print(names)\n",
    "print(id(names))\n",
    "\n",
    "names *= 2\n",
    "print(names)\n",
    "print(id(names))"
   ]
  },
  {
   "cell_type": "code",
   "execution_count": 21,
   "id": "ba929e73",
   "metadata": {},
   "outputs": [
    {
     "name": "stdout",
     "output_type": "stream",
     "text": [
      "2567606470720\n",
      "2567606470720\n"
     ]
    }
   ],
   "source": [
    "l = [1, 2, 3, 4]\n",
    "print(id(l))\n",
    "l[0:2] = [1]\n",
    "print(id(l))"
   ]
  },
  {
   "cell_type": "markdown",
   "id": "f4c5fd89",
   "metadata": {},
   "source": [
    "---\n",
    "\n",
    "### In-place assignment (for mutable objects) <a name='inplace_assignment'> </a>"
   ]
  },
  {
   "cell_type": "markdown",
   "id": "530e15b8",
   "metadata": {},
   "source": [
    "> `Simple slicing`: A slice can be replaced with another **iterable**, where the slice and iterable do not need to be of the same length."
   ]
  },
  {
   "cell_type": "code",
   "execution_count": 22,
   "id": "e37a086c",
   "metadata": {},
   "outputs": [
    {
     "name": "stdout",
     "output_type": "stream",
     "text": [
      "[1, 'h', 5]\n"
     ]
    }
   ],
   "source": [
    "seq = [1, 2, 3, 4, 5]\n",
    "seq[1:4] = ['h']\n",
    "print(seq)"
   ]
  },
  {
   "cell_type": "code",
   "execution_count": 23,
   "id": "71d4446e",
   "metadata": {},
   "outputs": [
    {
     "name": "stdout",
     "output_type": "stream",
     "text": [
      "[9, 8, 7, 3, 4, 5]\n"
     ]
    }
   ],
   "source": [
    "seq = [1, 2, 3, 4, 5]\n",
    "seq[0:2] = (9, 8, 7)\n",
    "print(seq)"
   ]
  },
  {
   "cell_type": "markdown",
   "id": "cf1f0c13",
   "metadata": {},
   "source": [
    "> `Extended slicing`: The extended slice and the **iterable** must have the same length."
   ]
  },
  {
   "cell_type": "code",
   "execution_count": 24,
   "id": "42bc1b2d",
   "metadata": {},
   "outputs": [
    {
     "name": "stdout",
     "output_type": "stream",
     "text": [
      "['h', 2, 'i', 4, 5]\n"
     ]
    }
   ],
   "source": [
    "seq = [1, 2, 3, 4, 5]\n",
    "seq[0:4:2] = 'hi'\n",
    "print(seq)"
   ]
  }
 ],
 "metadata": {
  "kernelspec": {
   "display_name": "Python 3",
   "language": "python",
   "name": "python3"
  },
  "language_info": {
   "codemirror_mode": {
    "name": "ipython",
    "version": 3
   },
   "file_extension": ".py",
   "mimetype": "text/x-python",
   "name": "python",
   "nbconvert_exporter": "python",
   "pygments_lexer": "ipython3",
   "version": "3.8.8"
  }
 },
 "nbformat": 4,
 "nbformat_minor": 5
}
