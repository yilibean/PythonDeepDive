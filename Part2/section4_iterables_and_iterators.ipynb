{
 "cells": [
  {
   "cell_type": "markdown",
   "id": "f5ee4a83",
   "metadata": {},
   "source": [
    "## Iterables and Iterators\n",
    "\n",
    "- [**Iterators**](#iterators)\n",
    "- [**Iterables**](#iterables)\n",
    "* [**Built-in Iterables and Iterators**](#built_in_iterables_and_iterators)"
   ]
  },
  {
   "cell_type": "markdown",
   "id": "e053e663",
   "metadata": {},
   "source": [
    "---\n",
    "\n",
    "### [Iterators](https://zhuanlan.zhihu.com/p/76662108) <a name='iterators'></a>\n",
    "\n",
    "Iterator implements:\n",
    "* \\_\\_next\\_\\_():  \n",
    "    a. The next value of an iterable object is being returned and the state of the iterator gets updated so that it points to the next value.  \n",
    "    b. Raises a **StopIteration** when the elements of the iterable object are exhausted.\n",
    "* \\_\\_iter\\_\\_():  \n",
    "    Simply returns `self`.\n",
    "    \n",
    "Therefore iterator could be exhausted by calling the \\_\\_next\\_\\_ method."
   ]
  },
  {
   "cell_type": "code",
   "execution_count": 1,
   "id": "2ba0c141",
   "metadata": {},
   "outputs": [],
   "source": [
    "class Squares:\n",
    "    \n",
    "    def __init__(self, length):\n",
    "        self.idx = 0\n",
    "        self.length = length\n",
    "        \n",
    "    def __next__(self):\n",
    "        if self.idx >= self.length:\n",
    "            raise StopIteration\n",
    "        else:\n",
    "            result = self.idx ** 2\n",
    "            self.idx += 1\n",
    "            return result\n",
    "    \n",
    "    def __iter__(self):\n",
    "        return self"
   ]
  },
  {
   "cell_type": "code",
   "execution_count": 2,
   "id": "5df076d8",
   "metadata": {},
   "outputs": [
    {
     "name": "stdout",
     "output_type": "stream",
     "text": [
      "0\n",
      "1\n",
      "4\n",
      "9\n",
      "16\n"
     ]
    }
   ],
   "source": [
    "square = Squares(5)\n",
    "for i in range(5):\n",
    "    print(next(square))"
   ]
  },
  {
   "cell_type": "markdown",
   "id": "1d7fc7ff",
   "metadata": {},
   "source": [
    "---\n",
    "\n",
    "### Iterables <a name='iterables'></a>\n",
    "\n",
    "Iterable only implements:\n",
    "* \\_\\_iter\\_\\_():  \n",
    "    Returns a new instance of the iterator object used to iterate over the iterable (unlike the \\_\\_iter\\_\\_() method in iterator object)."
   ]
  },
  {
   "cell_type": "markdown",
   "id": "3e23a788",
   "metadata": {},
   "source": [
    "<font color='red'> Note </font>:\\\n",
    "The **iterable** is created once, and the size of it is determined beforehand (such as list, string, etc.). However, the **iterator** is created every time we need to start a fresh iteration, and it does not know how many times it will be executed initially (lazy execution)."
   ]
  },
  {
   "cell_type": "markdown",
   "id": "9633ab65",
   "metadata": {},
   "source": [
    "---\n",
    "\n",
    "### Built-in Iterables and Iterators <a name='built_in_iterables_and_iterators'></a>\n",
    "\n",
    "\n",
    "* `iterable`: range(), dict.keys(), dict.values(), dict.items()\n",
    "* `iterator`: zip(), enumerate()"
   ]
  },
  {
   "cell_type": "markdown",
   "id": "2065211b",
   "metadata": {},
   "source": [
    "---\n",
    "\n",
    "### iter() function <a name='iter_function'></a>\n",
    "\n",
    "`iter()` works in the following way:\n",
    "1. It first looks for an \\_\\_iter\\_\\_ method and uses it if it's there;\n",
    "2. Otherwise, it looks for a \\_\\_getitem\\_\\_ method (the ) and creates an **iterator** object and then returns that if the method is existed;\n",
    "3. Otherwise it will raise a **TypeError** exception."
   ]
  }
 ],
 "metadata": {
  "kernelspec": {
   "display_name": "Python 3",
   "language": "python",
   "name": "python3"
  },
  "language_info": {
   "codemirror_mode": {
    "name": "ipython",
    "version": 3
   },
   "file_extension": ".py",
   "mimetype": "text/x-python",
   "name": "python",
   "nbconvert_exporter": "python",
   "pygments_lexer": "ipython3",
   "version": "3.8.8"
  }
 },
 "nbformat": 4,
 "nbformat_minor": 5
}
