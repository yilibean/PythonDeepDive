{
 "cells": [
  {
   "cell_type": "markdown",
   "id": "207cf982",
   "metadata": {},
   "source": [
    "### Goal 1:\n",
    "\n",
    "Create a context manager that you can use to produce the data from each file in a named tuple with field names corresponding to the header row field names (use the `csv` module's `reader` function to help with parsing the data).\n",
    "\n",
    "Besides, the context manager should be generic in the sense that it should just need the file name, no other configuration or hardcoded functionality is required.\n",
    "\n",
    "In addition, the context manager should produce lazy iterators."
   ]
  },
  {
   "cell_type": "code",
   "execution_count": 1,
   "id": "a12abea2",
   "metadata": {},
   "outputs": [],
   "source": [
    "import csv\n",
    "from itertools import islice\n",
    "from collections import namedtuple"
   ]
  },
  {
   "cell_type": "code",
   "execution_count": 2,
   "id": "fd4b90d5",
   "metadata": {},
   "outputs": [],
   "source": [
    "class ContextManager:\n",
    "    \n",
    "    def __init__(self, file_path):\n",
    "        self.file_path = file_path\n",
    "        \n",
    "    def __enter__(self):\n",
    "        self.obj = open(self.file_path)\n",
    "        \n",
    "        header = self.obj.readline()\n",
    "        self.delimiter = csv.Sniffer().sniff(header).delimiter\n",
    "        self.header = header.strip('\\n').split(self.delimiter)\n",
    "        self.nt = namedtuple('Data', self.header)\n",
    "        return self\n",
    "\n",
    "    def __exit__(self, exc_type, exc_val, exc_tb):\n",
    "        self.obj.close()\n",
    "        if exc_type:\n",
    "            print('Exception: {0}, {1}'.format(exc_type, exc_val, exc_tb))\n",
    "        return False\n",
    "    \n",
    "    def __iter__(self):\n",
    "        return self\n",
    "    \n",
    "    def __next__(self):\n",
    "        return self.nt(*self.obj.readline().strip('\\n').split(self.delimiter))\n",
    "        "
   ]
  },
  {
   "cell_type": "code",
   "execution_count": 3,
   "id": "599024bb",
   "metadata": {},
   "outputs": [
    {
     "name": "stdout",
     "output_type": "stream",
     "text": [
      "Data(Car='Chevrolet Chevelle Malibu', MPG='18.0', Cylinders='8', Displacement='307.0', Horsepower='130.0', Weight='3504.', Acceleration='12.0', Model='70', Origin='US')\n",
      "-------------------------------------------------------------------------------------------------------------------------------\n",
      "Data(Car='Buick Skylark 320', MPG='15.0', Cylinders='8', Displacement='350.0', Horsepower='165.0', Weight='3693.', Acceleration='11.5', Model='70', Origin='US')\n",
      "-------------------------------------------------------------------------------------------------------------------------------\n",
      "Data(Car='Plymouth Satellite', MPG='18.0', Cylinders='8', Displacement='318.0', Horsepower='150.0', Weight='3436.', Acceleration='11.0', Model='70', Origin='US')\n",
      "-------------------------------------------------------------------------------------------------------------------------------\n",
      "Data(Car='AMC Rebel SST', MPG='16.0', Cylinders='8', Displacement='304.0', Horsepower='150.0', Weight='3433.', Acceleration='12.0', Model='70', Origin='US')\n",
      "-------------------------------------------------------------------------------------------------------------------------------\n",
      "Data(Car='Ford Torino', MPG='17.0', Cylinders='8', Displacement='302.0', Horsepower='140.0', Weight='3449.', Acceleration='10.5', Model='70', Origin='US')\n",
      "-------------------------------------------------------------------------------------------------------------------------------\n"
     ]
    }
   ],
   "source": [
    "with ContextManager('./cars.csv') as f:\n",
    "    for row in islice(f, 5):\n",
    "        print(row)\n",
    "        print('-'*127)"
   ]
  },
  {
   "cell_type": "code",
   "execution_count": 4,
   "id": "d674102a",
   "metadata": {},
   "outputs": [
    {
     "name": "stdout",
     "output_type": "stream",
     "text": [
      "Data(ssn='100-53-9824', first_name='Sebastiano', last_name='Tester', gender='Male', language='Icelandic')\n",
      "-------------------------------------------------------------------------------------------------------------------------------\n",
      "Data(ssn='101-71-4702', first_name='Cayla', last_name='MacDonagh', gender='Female', language='Lao')\n",
      "-------------------------------------------------------------------------------------------------------------------------------\n",
      "Data(ssn='101-84-0356', first_name='Nomi', last_name='Lipprose', gender='Female', language='Yiddish')\n",
      "-------------------------------------------------------------------------------------------------------------------------------\n",
      "Data(ssn='104-22-0928', first_name='Justinian', last_name='Kunzelmann', gender='Male', language='Dhivehi')\n",
      "-------------------------------------------------------------------------------------------------------------------------------\n",
      "Data(ssn='104-84-7144', first_name='Claudianus', last_name='Brixey', gender='Male', language='Afrikaans')\n",
      "-------------------------------------------------------------------------------------------------------------------------------\n"
     ]
    }
   ],
   "source": [
    "with ContextManager('./personal_info.csv') as f:\n",
    "    for row in islice(f, 5):\n",
    "        print(row)\n",
    "        print('-'*127)"
   ]
  },
  {
   "cell_type": "markdown",
   "id": "666a8e97",
   "metadata": {},
   "source": [
    "---\n",
    "\n",
    "### Goal 2:\n",
    "\n",
    "Use a generator function and the `contextlib` `contextmanager` decorator to achieve the same function in goal 1."
   ]
  },
  {
   "cell_type": "code",
   "execution_count": 5,
   "id": "30733e71",
   "metadata": {},
   "outputs": [],
   "source": [
    "from contextlib import contextmanager"
   ]
  },
  {
   "cell_type": "code",
   "execution_count": 6,
   "id": "84677822",
   "metadata": {},
   "outputs": [],
   "source": [
    "@contextmanager\n",
    "def parsed_data(file_path):\n",
    "    \n",
    "    def parsed_data_iter(data_iter, nt):\n",
    "        for row in data_iter:\n",
    "            yield nt(*row)\n",
    "            \n",
    "    f = open(file_path)\n",
    "    try:\n",
    "        header = f.readline()\n",
    "        dialect = csv.Sniffer().sniff(header)\n",
    "        reader = csv.reader(f, dialect)\n",
    "        header = header.strip('\\n').split(dialect.delimiter)\n",
    "        nt = namedtuple('Data', header)\n",
    "        \n",
    "        yield parsed_data_iter(reader, nt)\n",
    "        \n",
    "    finally:\n",
    "        f.close()"
   ]
  },
  {
   "cell_type": "code",
   "execution_count": 7,
   "id": "99d1c4a8",
   "metadata": {},
   "outputs": [
    {
     "name": "stdout",
     "output_type": "stream",
     "text": [
      "Data(Car='Chevrolet Chevelle Malibu', MPG='18.0', Cylinders='8', Displacement='307.0', Horsepower='130.0', Weight='3504.', Acceleration='12.0', Model='70', Origin='US')\n",
      "-------------------------------------------------------------------------------------------------------------------------------\n",
      "Data(Car='Buick Skylark 320', MPG='15.0', Cylinders='8', Displacement='350.0', Horsepower='165.0', Weight='3693.', Acceleration='11.5', Model='70', Origin='US')\n",
      "-------------------------------------------------------------------------------------------------------------------------------\n",
      "Data(Car='Plymouth Satellite', MPG='18.0', Cylinders='8', Displacement='318.0', Horsepower='150.0', Weight='3436.', Acceleration='11.0', Model='70', Origin='US')\n",
      "-------------------------------------------------------------------------------------------------------------------------------\n",
      "Data(Car='AMC Rebel SST', MPG='16.0', Cylinders='8', Displacement='304.0', Horsepower='150.0', Weight='3433.', Acceleration='12.0', Model='70', Origin='US')\n",
      "-------------------------------------------------------------------------------------------------------------------------------\n",
      "Data(Car='Ford Torino', MPG='17.0', Cylinders='8', Displacement='302.0', Horsepower='140.0', Weight='3449.', Acceleration='10.5', Model='70', Origin='US')\n",
      "-------------------------------------------------------------------------------------------------------------------------------\n"
     ]
    }
   ],
   "source": [
    "with parsed_data('./cars.csv') as f:\n",
    "    for row in islice(f, 5):\n",
    "        print(row)\n",
    "        print('-'*127)"
   ]
  }
 ],
 "metadata": {
  "kernelspec": {
   "display_name": "Python 3",
   "language": "python",
   "name": "python3"
  },
  "language_info": {
   "codemirror_mode": {
    "name": "ipython",
    "version": 3
   },
   "file_extension": ".py",
   "mimetype": "text/x-python",
   "name": "python",
   "nbconvert_exporter": "python",
   "pygments_lexer": "ipython3",
   "version": "3.8.8"
  }
 },
 "nbformat": 4,
 "nbformat_minor": 5
}
