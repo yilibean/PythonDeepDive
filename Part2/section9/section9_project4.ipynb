{
 "cells": [
  {
   "cell_type": "markdown",
   "id": "207cf982",
   "metadata": {},
   "source": [
    "### Goal 1:\n",
    "\n",
    "Create independent iterators for each of the four files that contained cleaned up data, of the correct type (e.g. string, int, date, etc), and represented by a named tuple."
   ]
  },
  {
   "cell_type": "code",
   "execution_count": 1,
   "id": "060189cc",
   "metadata": {},
   "outputs": [],
   "source": [
    "import csv\n",
    "from datetime import datetime\n",
    "from collections import namedtuple\n",
    "from itertools import islice, chain, compress, groupby"
   ]
  },
  {
   "cell_type": "markdown",
   "id": "b8ad3987",
   "metadata": {},
   "source": [
    "> Read the files"
   ]
  },
  {
   "cell_type": "code",
   "execution_count": 2,
   "id": "cbe0cfc3",
   "metadata": {},
   "outputs": [],
   "source": [
    "def csv_reader(file_path, include_header=False):\n",
    "    with open(file_path) as f: \n",
    "        rows = csv.reader(f)\n",
    "        if include_header==False:\n",
    "            next(f)     \n",
    "        yield from rows"
   ]
  },
  {
   "cell_type": "code",
   "execution_count": 3,
   "id": "d652fcb6",
   "metadata": {},
   "outputs": [],
   "source": [
    "file_paths = ('./employment.csv', './personal_info.csv', './update_status.csv', './vehicles.csv')"
   ]
  },
  {
   "cell_type": "markdown",
   "id": "c28a24b1",
   "metadata": {},
   "source": [
    "> Parser"
   ]
  },
  {
   "cell_type": "code",
   "execution_count": 4,
   "id": "8b76e254",
   "metadata": {},
   "outputs": [],
   "source": [
    "def parse_date(data, fmt='%Y-%m-%dT%H:%M:%SZ'):\n",
    "    return datetime.strptime(data, fmt)"
   ]
  },
  {
   "cell_type": "code",
   "execution_count": 5,
   "id": "62d9bae9",
   "metadata": {},
   "outputs": [],
   "source": [
    "employment_parser = (str, str, str, str)\n",
    "personal_info_parser = (str, str, str, str, str)\n",
    "update_status_parser = (str, parse_date, parse_date)\n",
    "vehicles_parser = (str, str, str, int)\n",
    "\n",
    "parsers = (employment_parser, personal_info_parser, update_status_parser, vehicles_parser)"
   ]
  },
  {
   "cell_type": "markdown",
   "id": "d56c27b7",
   "metadata": {},
   "source": [
    "> Header"
   ]
  },
  {
   "cell_type": "code",
   "execution_count": 6,
   "id": "08be6ac1",
   "metadata": {},
   "outputs": [],
   "source": [
    "def extract_header(file_path):\n",
    "    reader = csv_reader(file_path=file_path, include_header=True)\n",
    "    return next(reader)"
   ]
  },
  {
   "cell_type": "markdown",
   "id": "906c8cb0",
   "metadata": {},
   "source": [
    "> Namedtuple"
   ]
  },
  {
   "cell_type": "code",
   "execution_count": 7,
   "id": "49f25ba5",
   "metadata": {},
   "outputs": [],
   "source": [
    "def create_namedtuple(file_path, typename):\n",
    "    fields = extract_header(file_path=file_path)\n",
    "    return namedtuple(typename=typename, field_names=fields)"
   ]
  },
  {
   "cell_type": "code",
   "execution_count": 8,
   "id": "cd1a57e1",
   "metadata": {},
   "outputs": [],
   "source": [
    "employment_name = 'Employment'\n",
    "personal_info_name = 'Personal'\n",
    "update_status_name = 'UpdateStatus'\n",
    "vehicle_name = 'Vehicle'\n",
    "\n",
    "typenames = (employment_name, personal_info_name, update_status_name, vehicle_name)"
   ]
  },
  {
   "cell_type": "markdown",
   "id": "4bdd7f3d",
   "metadata": {},
   "source": [
    "> Iterator"
   ]
  },
  {
   "cell_type": "code",
   "execution_count": 9,
   "id": "42e0d115",
   "metadata": {},
   "outputs": [],
   "source": [
    "def iter_file(file_path, typename, parser):\n",
    "    nt = create_namedtuple(file_path, typename)\n",
    "    reader = csv_reader(file_path)\n",
    "\n",
    "    for row in reader:\n",
    "        parsed_row = (parser_func(element) for parser_func, element in zip(parser, row))\n",
    "\n",
    "        yield nt(*parsed_row)"
   ]
  },
  {
   "cell_type": "code",
   "execution_count": 10,
   "id": "543e0701",
   "metadata": {},
   "outputs": [],
   "source": [
    "# Independent iterator\n",
    "employment_iter = iter_file(file_path='./employment.csv', typename=employment_name, parser=employment_parser)\n",
    "personal_info_iter = iter_file(file_path='./personal_info.csv', typename=personal_info_name, parser=personal_info_parser)\n",
    "update_status_iter = iter_file(file_path='./update_status.csv', typename=update_status_name, parser=update_status_parser)\n",
    "vehicle_iter = iter_file(file_path='./vehicles.csv', typename=vehicle_name, parser=vehicles_parser)"
   ]
  },
  {
   "cell_type": "markdown",
   "id": "666a8e97",
   "metadata": {},
   "source": [
    "---\n",
    "\n",
    "### Goal 2:\n",
    "\n",
    "Create a single iterable that combines all the columns from all four iterators."
   ]
  },
  {
   "cell_type": "code",
   "execution_count": 11,
   "id": "8cfbb5a5",
   "metadata": {},
   "outputs": [],
   "source": [
    "employment_field = [True, True, True, True]\n",
    "personal_info_field = [False, True, True, True, True]\n",
    "update_status_field = [False, True, True]\n",
    "vehicle_field = [False, True, True, True]\n",
    "\n",
    "compressed_fields = tuple(chain(employment_field, personal_info_field, update_status_field, vehicle_field))"
   ]
  },
  {
   "cell_type": "code",
   "execution_count": 12,
   "id": "ecb90b13",
   "metadata": {},
   "outputs": [],
   "source": [
    "def extract_compressed_header(file_paths=file_paths):\n",
    "    name = []\n",
    "    for file_path in file_paths:\n",
    "        reader = csv_reader(file_path=file_path, include_header=True)\n",
    "        name += next(reader)\n",
    "    return tuple(compress(name, compressed_fields))"
   ]
  },
  {
   "cell_type": "code",
   "execution_count": 13,
   "id": "271c5048",
   "metadata": {},
   "outputs": [],
   "source": [
    "def iter_compressed_file(file_paths, typenames, parsers, compressed_fields):\n",
    "    # Get compressed header\n",
    "    compressed_header = extract_compressed_header()\n",
    "    compressed_nt = namedtuple('Compressed', compressed_header)\n",
    "\n",
    "    # Zip tuples from each file iterator\n",
    "    zipped_tuples = zip(*(iter_file(file_path, typename, parser) \n",
    "                          for file_path, typename, parser in zip(file_paths, typenames, parsers)))\n",
    "    # Chain tuples\n",
    "    merged_iter = (chain.from_iterable(zipped_tuple) for zipped_tuple in zipped_tuples)\n",
    "    \n",
    "    for row in merged_iter:\n",
    "        yield compressed_nt(*tuple(compress(row, compressed_fields)))"
   ]
  },
  {
   "cell_type": "code",
   "execution_count": 14,
   "id": "5ae9c404",
   "metadata": {},
   "outputs": [],
   "source": [
    "compressed_iter = iter_compressed_file(file_paths=file_paths, typenames=typenames, parsers=parsers, compressed_fields=compressed_fields)"
   ]
  },
  {
   "cell_type": "code",
   "execution_count": 15,
   "id": "017f7835",
   "metadata": {},
   "outputs": [
    {
     "name": "stdout",
     "output_type": "stream",
     "text": [
      "Compressed(employer='Stiedemann-Bailey', department='Research and Development', employee_id='29-0890771', ssn='100-53-9824', first_name='Sebastiano', last_name='Tester', gender='Male', language='Icelandic', last_updated=datetime.datetime(2017, 10, 7, 0, 14, 42), created=datetime.datetime(2016, 1, 24, 21, 19, 30), vehicle_make='Oldsmobile', vehicle_model='Bravada', model_year=1993) \n",
      "\n",
      "Compressed(employer='Nicolas and Sons', department='Sales', employee_id='41-6841359', ssn='101-71-4702', first_name='Cayla', last_name='MacDonagh', gender='Female', language='Lao', last_updated=datetime.datetime(2017, 1, 23, 11, 23, 17), created=datetime.datetime(2016, 1, 27, 4, 32, 57), vehicle_make='Ford', vehicle_model='Mustang', model_year=1997) \n",
      "\n",
      "Compressed(employer='Connelly Group', department='Research and Development', employee_id='98-7952860', ssn='101-84-0356', first_name='Nomi', last_name='Lipprose', gender='Female', language='Yiddish', last_updated=datetime.datetime(2017, 10, 4, 11, 21, 30), created=datetime.datetime(2016, 9, 21, 23, 4, 7), vehicle_make='GMC', vehicle_model='Yukon', model_year=2005) \n",
      "\n",
      "Compressed(employer='Upton LLC', department='Marketing', employee_id='56-9817552', ssn='104-22-0928', first_name='Justinian', last_name='Kunzelmann', gender='Male', language='Dhivehi', last_updated=datetime.datetime(2017, 3, 28, 12, 38, 29), created=datetime.datetime(2016, 4, 15, 11, 37, 17), vehicle_make='Oldsmobile', vehicle_model='Intrigue', model_year=2000) \n",
      "\n",
      "Compressed(employer='Zemlak-Olson', department='Business Development', employee_id='46-2886707', ssn='104-84-7144', first_name='Claudianus', last_name='Brixey', gender='Male', language='Afrikaans', last_updated=datetime.datetime(2018, 2, 19, 1, 34, 33), created=datetime.datetime(2016, 3, 15, 14, 7, 57), vehicle_make='Ford', vehicle_model='Crown Victoria', model_year=2008) \n",
      "\n"
     ]
    }
   ],
   "source": [
    "for row in islice(compressed_iter, 5):\n",
    "    print(row, '\\n')"
   ]
  },
  {
   "cell_type": "markdown",
   "id": "0fc5bbc2",
   "metadata": {},
   "source": [
    "---\n",
    "### Goal 3:\n",
    "\n",
    "Identify any stale records, where stale simply means the record has not been updated since 3/1/2017 (e.g. last update date < 3/1/2017). Create an iterator that only contains current records (i.e. not stale) based on the `last_updated` field from the `status_update` file."
   ]
  },
  {
   "cell_type": "code",
   "execution_count": 16,
   "id": "90310427",
   "metadata": {},
   "outputs": [],
   "source": [
    "compressed_iter = iter_compressed_file(file_paths=file_paths, typenames=typenames, parsers=parsers, compressed_fields=compressed_fields)"
   ]
  },
  {
   "cell_type": "code",
   "execution_count": 17,
   "id": "0d25ddef",
   "metadata": {},
   "outputs": [],
   "source": [
    "non_stale_iter = filter(lambda x: x.last_updated > datetime(2017, 3, 1), compressed_iter)"
   ]
  },
  {
   "cell_type": "code",
   "execution_count": 18,
   "id": "c798771c",
   "metadata": {},
   "outputs": [
    {
     "name": "stdout",
     "output_type": "stream",
     "text": [
      "2017-10-07 00:14:42 \n",
      "\n",
      "2017-10-04 11:21:30 \n",
      "\n",
      "2017-03-28 12:38:29 \n",
      "\n",
      "2018-02-19 01:34:33 \n",
      "\n",
      "2017-07-24 08:58:52 \n",
      "\n"
     ]
    }
   ],
   "source": [
    "for row in islice(non_stale_iter, 5):\n",
    "    print(row.last_updated, '\\n')"
   ]
  },
  {
   "cell_type": "markdown",
   "id": "eca5b3df",
   "metadata": {},
   "source": [
    "---\n",
    "### Goal 4:\n",
    "\n",
    "For non-stale records, generate lists of number of car makes by gender."
   ]
  },
  {
   "cell_type": "markdown",
   "id": "e43a46c9",
   "metadata": {},
   "source": [
    "> Male iterator"
   ]
  },
  {
   "cell_type": "code",
   "execution_count": 19,
   "id": "b33879ab",
   "metadata": {},
   "outputs": [],
   "source": [
    "compressed_iter = iter_compressed_file(file_paths=file_paths, typenames=typenames, parsers=parsers, compressed_fields=compressed_fields)\n",
    "non_stale_iter = filter(lambda x: x.last_updated > datetime(2017, 3, 1), compressed_iter)\n",
    "male = filter(lambda x: x.gender=='Male', non_stale_iter)"
   ]
  },
  {
   "cell_type": "code",
   "execution_count": 20,
   "id": "4f59ec92",
   "metadata": {},
   "outputs": [],
   "source": [
    "group_m = groupby(sorted(male, key=lambda x: x.vehicle_make), key=lambda x: x.vehicle_make)\n",
    "group_m_car_make = {}"
   ]
  },
  {
   "cell_type": "code",
   "execution_count": 21,
   "id": "f044d945",
   "metadata": {},
   "outputs": [],
   "source": [
    "for key, group in group_m:\n",
    "    group_m_car_make[key] = len(list(group))"
   ]
  },
  {
   "cell_type": "code",
   "execution_count": 22,
   "id": "f284bf8e",
   "metadata": {},
   "outputs": [
    {
     "data": {
      "text/plain": [
       "{'Acura': 7,\n",
       " 'Aptera': 1,\n",
       " 'Aston Martin': 3,\n",
       " 'Audi': 14,\n",
       " 'Austin': 1,\n",
       " 'BMW': 12,\n",
       " 'Bentley': 3,\n",
       " 'Buick': 13,\n",
       " 'Cadillac': 9,\n",
       " 'Chevrolet': 30,\n",
       " 'Chrysler': 3,\n",
       " 'Corbin': 1,\n",
       " 'Daewoo': 1,\n",
       " 'Dodge': 22,\n",
       " 'Eagle': 1,\n",
       " 'Ford': 40,\n",
       " 'GMC': 28,\n",
       " 'Geo': 2,\n",
       " 'Honda': 9,\n",
       " 'Hyundai': 8,\n",
       " 'Infiniti': 7,\n",
       " 'Isuzu': 3,\n",
       " 'Jaguar': 4,\n",
       " 'Jeep': 7,\n",
       " 'Jensen': 1,\n",
       " 'Kia': 5,\n",
       " 'Lamborghini': 4,\n",
       " 'Land Rover': 3,\n",
       " 'Lexus': 6,\n",
       " 'Lincoln': 5,\n",
       " 'Lotus': 5,\n",
       " 'Maserati': 3,\n",
       " 'Maybach': 2,\n",
       " 'Mazda': 13,\n",
       " 'Mercedes-Benz': 19,\n",
       " 'Mercury': 11,\n",
       " 'Mitsubishi': 28,\n",
       " 'Nissan': 6,\n",
       " 'Oldsmobile': 5,\n",
       " 'Panoz': 2,\n",
       " 'Plymouth': 4,\n",
       " 'Pontiac': 11,\n",
       " 'Porsche': 4,\n",
       " 'Rolls-Royce': 1,\n",
       " 'Saab': 8,\n",
       " 'Saturn': 3,\n",
       " 'Scion': 1,\n",
       " 'Smart': 1,\n",
       " 'Subaru': 8,\n",
       " 'Suzuki': 2,\n",
       " 'Toyota': 21,\n",
       " 'Volkswagen': 16,\n",
       " 'Volvo': 10}"
      ]
     },
     "execution_count": 22,
     "metadata": {},
     "output_type": "execute_result"
    }
   ],
   "source": [
    "group_m_car_make"
   ]
  },
  {
   "cell_type": "markdown",
   "id": "73fc5072",
   "metadata": {},
   "source": [
    "> Female iterator"
   ]
  },
  {
   "cell_type": "code",
   "execution_count": 23,
   "id": "c15bed3a",
   "metadata": {},
   "outputs": [],
   "source": [
    "compressed_iter = iter_compressed_file(file_paths=file_paths, typenames=typenames, parsers=parsers, compressed_fields=compressed_fields)\n",
    "non_stale_iter = filter(lambda x: x.last_updated > datetime(2017, 3, 1), compressed_iter)\n",
    "female = filter(lambda x: x.gender=='Female', non_stale_iter)"
   ]
  },
  {
   "cell_type": "code",
   "execution_count": 24,
   "id": "10767ec3",
   "metadata": {},
   "outputs": [],
   "source": [
    "group_f = groupby(sorted(female, key=lambda x: x.vehicle_make), key=lambda x: x.vehicle_make)\n",
    "group_f_car_make = {}"
   ]
  },
  {
   "cell_type": "code",
   "execution_count": 25,
   "id": "79dab6d0",
   "metadata": {},
   "outputs": [],
   "source": [
    "for key, group in group_f:\n",
    "    group_f_car_make[key] = len(list(group))"
   ]
  },
  {
   "cell_type": "code",
   "execution_count": 26,
   "id": "583cf934",
   "metadata": {},
   "outputs": [
    {
     "data": {
      "text/plain": [
       "{'Acura': 9,\n",
       " 'Aston Martin': 2,\n",
       " 'Audi': 13,\n",
       " 'Austin': 1,\n",
       " 'BMW': 12,\n",
       " 'Bentley': 4,\n",
       " 'Bugatti': 1,\n",
       " 'Buick': 11,\n",
       " 'Cadillac': 6,\n",
       " 'Chevrolet': 42,\n",
       " 'Chrysler': 6,\n",
       " 'Dodge': 17,\n",
       " 'Eagle': 1,\n",
       " 'Ford': 42,\n",
       " 'GMC': 22,\n",
       " 'Geo': 1,\n",
       " 'Honda': 8,\n",
       " 'Hyundai': 4,\n",
       " 'Infiniti': 9,\n",
       " 'Isuzu': 3,\n",
       " 'Jaguar': 3,\n",
       " 'Jeep': 5,\n",
       " 'Kia': 9,\n",
       " 'Lamborghini': 2,\n",
       " 'Land Rover': 8,\n",
       " 'Lexus': 15,\n",
       " 'Lincoln': 4,\n",
       " 'Lotus': 5,\n",
       " 'Mazda': 13,\n",
       " 'Mercedes-Benz': 17,\n",
       " 'Mercury': 5,\n",
       " 'Mitsubishi': 22,\n",
       " 'Morgan': 1,\n",
       " 'Nissan': 12,\n",
       " 'Oldsmobile': 8,\n",
       " 'Panoz': 1,\n",
       " 'Plymouth': 3,\n",
       " 'Pontiac': 14,\n",
       " 'Porsche': 3,\n",
       " 'Rolls-Royce': 1,\n",
       " 'Saab': 3,\n",
       " 'Saturn': 3,\n",
       " 'Scion': 2,\n",
       " 'Subaru': 6,\n",
       " 'Suzuki': 12,\n",
       " 'Toyota': 20,\n",
       " 'Volkswagen': 10,\n",
       " 'Volvo': 13}"
      ]
     },
     "execution_count": 26,
     "metadata": {},
     "output_type": "execute_result"
    }
   ],
   "source": [
    "group_f_car_make"
   ]
  }
 ],
 "metadata": {
  "kernelspec": {
   "display_name": "Python 3",
   "language": "python",
   "name": "python3"
  },
  "language_info": {
   "codemirror_mode": {
    "name": "ipython",
    "version": 3
   },
   "file_extension": ".py",
   "mimetype": "text/x-python",
   "name": "python",
   "nbconvert_exporter": "python",
   "pygments_lexer": "ipython3",
   "version": "3.8.8"
  }
 },
 "nbformat": 4,
 "nbformat_minor": 5
}
