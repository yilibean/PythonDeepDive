{
 "cells": [
  {
   "cell_type": "markdown",
   "id": "f5ee4a83",
   "metadata": {},
   "source": [
    "## Generators\n",
    "\n",
    "- [**Aggregators**](#aggregators)\n",
    "- [**Slicing (for non-sequence type)**](#slicing)\n",
    "- [**Selecting and Filtering**](#selecting_and_filtering)\n",
    "- [**Infinite Iterator**](#infinite_iterator)\n",
    "- [**Chaining and Teeing**](#chaining_and_teeing)\n",
    "- [**Mapping and Reducing**](#mapping_and_reducing)\n",
    "- [**Zipping**](#zipping)\n",
    "- [**Grouping**](#grouping)"
   ]
  },
  {
   "cell_type": "markdown",
   "id": "e053e663",
   "metadata": {},
   "source": [
    "---\n",
    "\n",
    "### Aggregators <a name='aggregators'></a>\n",
    "\n",
    "Functions that iterate through an iterable and return a single value that takes into account every element of the iterable. For instance, `min()`, `any()`, `all()`."
   ]
  },
  {
   "cell_type": "markdown",
   "id": "1d7fc7ff",
   "metadata": {},
   "source": [
    "---\n",
    "\n",
    "### Slicing (for non-sequence type) <a name='slicing'></a>\n",
    "\n"
   ]
  },
  {
   "cell_type": "markdown",
   "id": "7a13977b",
   "metadata": {},
   "source": [
    "* `itertools.islice`: Mainly used for slicing iterables/iterators."
   ]
  },
  {
   "cell_type": "code",
   "execution_count": 1,
   "id": "8ff12882",
   "metadata": {},
   "outputs": [],
   "source": [
    "from itertools import islice\n",
    "import math"
   ]
  },
  {
   "cell_type": "code",
   "execution_count": 2,
   "id": "f3ecf90e",
   "metadata": {},
   "outputs": [],
   "source": [
    "def factorial(n):\n",
    "    for i in range(n):\n",
    "        yield math.factorial(i)"
   ]
  },
  {
   "cell_type": "code",
   "execution_count": 3,
   "id": "d0f9af9d",
   "metadata": {},
   "outputs": [
    {
     "data": {
      "text/plain": [
       "[6, 24, 120, 720]"
      ]
     },
     "execution_count": 3,
     "metadata": {},
     "output_type": "execute_result"
    }
   ],
   "source": [
    "fact = factorial(10)\n",
    "# Return a lazy iterator\n",
    "list(islice(fact, 3, 7))"
   ]
  },
  {
   "cell_type": "markdown",
   "id": "b7000420",
   "metadata": {},
   "source": [
    "---\n",
    "### Selecting and Filtering <a name='selecting_and_filtering'></a>\n",
    "\n"
   ]
  },
  {
   "cell_type": "markdown",
   "id": "c6fe04c7",
   "metadata": {},
   "source": [
    "* `itertools.filterfalse`: Return those items of iterables/iterators when the predicate is false.\n",
    "* `itertools.takewhile`: Return successive entries from an iterable as long as the predicate is true.\n",
    "* `itertools.dropwhile`: Return successive entries from an iterable as long as the predicate is false.\n",
    "* `itertools.compress`: Return elements corresponding to trusy selector elements."
   ]
  },
  {
   "cell_type": "code",
   "execution_count": 4,
   "id": "6864cde9",
   "metadata": {},
   "outputs": [],
   "source": [
    "from itertools import filterfalse\n",
    "from itertools import takewhile\n",
    "from itertools import dropwhile \n",
    "from itertools import compress"
   ]
  },
  {
   "cell_type": "code",
   "execution_count": 5,
   "id": "46d1611a",
   "metadata": {},
   "outputs": [],
   "source": [
    "l = [1, 10, 2, 3, 9]"
   ]
  },
  {
   "cell_type": "code",
   "execution_count": 6,
   "id": "724550d6",
   "metadata": {},
   "outputs": [
    {
     "name": "stdout",
     "output_type": "stream",
     "text": [
      "[1, 2, 3]\n",
      "[10, 9]\n",
      "[1]\n",
      "[10, 2, 3, 9]\n",
      "[1, 2]\n"
     ]
    }
   ],
   "source": [
    "print(list(filter(lambda x: x<4, l)))\n",
    "print(list(filterfalse(lambda x: x<4, l)))\n",
    "print(list(takewhile(lambda x: x<4, l)))\n",
    "print(list(dropwhile(lambda x: x<4, l)))\n",
    "print(list(compress(l, [True, False, True])))"
   ]
  },
  {
   "cell_type": "markdown",
   "id": "78f9b1e9",
   "metadata": {},
   "source": [
    "---\n",
    "### Infinite Iterator <a name='infinite_iterator'></a>\n"
   ]
  },
  {
   "cell_type": "markdown",
   "id": "5b04ac1e",
   "metadata": {},
   "source": [
    "* `itertools.count`: Return an infinate iterator starts with a certain value given a specific step.\n",
    "* `itertools.cycle`: Return an iterator that repeats the given sequence infinitely.\n",
    "* `itertools.repeat`: Return an iterator that repeats a value for given amount of times."
   ]
  },
  {
   "cell_type": "code",
   "execution_count": 7,
   "id": "d1d0dcf2",
   "metadata": {},
   "outputs": [],
   "source": [
    "from itertools import count\n",
    "from itertools import cycle\n",
    "from itertools import repeat"
   ]
  },
  {
   "cell_type": "code",
   "execution_count": 8,
   "id": "ae708219",
   "metadata": {},
   "outputs": [
    {
     "name": "stdout",
     "output_type": "stream",
     "text": [
      "[10, 15, 20, 25, 30]\n",
      "['a', 'b', 'c', 'a', 'b', 'c', 'a', 'b']\n",
      "['haha', 'haha', 'haha']\n"
     ]
    }
   ],
   "source": [
    "print(list(islice(count(start=10, step=5), 5)))\n",
    "print(list(islice(cycle(['a', 'b', 'c']), 8)))\n",
    "# `Repeat` create the same object\n",
    "print(list(repeat('haha', 3)))"
   ]
  },
  {
   "cell_type": "markdown",
   "id": "b6b36dd7",
   "metadata": {},
   "source": [
    "---\n",
    "### Chaining and Teeing <a name='chaining_and_teeing'></a>\n"
   ]
  },
  {
   "cell_type": "markdown",
   "id": "2d7674d8",
   "metadata": {},
   "source": [
    "* `itertools.chain`: Chain objects into one.\n",
    "* `itertools.tee`: Generate given amount of identical iterators."
   ]
  },
  {
   "cell_type": "code",
   "execution_count": 9,
   "id": "a6d2c0d9",
   "metadata": {},
   "outputs": [],
   "source": [
    "from itertools import chain"
   ]
  },
  {
   "cell_type": "code",
   "execution_count": 10,
   "id": "6b5af72f",
   "metadata": {},
   "outputs": [
    {
     "name": "stdout",
     "output_type": "stream",
     "text": [
      "[0, 1, 4, 9, 16, 25, 36, 49, 64, 81, 100, 121]\n"
     ]
    }
   ],
   "source": [
    "l1 = (i**2 for i in range(4))\n",
    "l2 = (i**2 for i in range(4, 8))\n",
    "l3 = (i**2 for i in range(8, 12))\n",
    "\n",
    "print(list(chain(l1, l2, l3)))"
   ]
  },
  {
   "cell_type": "code",
   "execution_count": 11,
   "id": "13cfe5a5",
   "metadata": {},
   "outputs": [],
   "source": [
    "from itertools import tee"
   ]
  },
  {
   "cell_type": "code",
   "execution_count": 12,
   "id": "12c4e245",
   "metadata": {},
   "outputs": [],
   "source": [
    "def squares(n):\n",
    "    for i in range(n):\n",
    "        yield i**2\n",
    "        \n",
    "gen = squares(5)"
   ]
  },
  {
   "cell_type": "code",
   "execution_count": 13,
   "id": "cbadb8a3",
   "metadata": {},
   "outputs": [
    {
     "data": {
      "text/plain": [
       "(<itertools._tee at 0x27931be6040>,\n",
       " <itertools._tee at 0x27931be60c0>,\n",
       " <itertools._tee at 0x279319cf600>,\n",
       " <itertools._tee at 0x27931bd8680>)"
      ]
     },
     "execution_count": 13,
     "metadata": {},
     "output_type": "execute_result"
    }
   ],
   "source": [
    "tee(gen, 4)"
   ]
  },
  {
   "cell_type": "markdown",
   "id": "831ad719",
   "metadata": {},
   "source": [
    "---\n",
    "### Mapping and Reducing <a name='mapping_and_reducing'></a>\n"
   ]
  },
  {
   "cell_type": "markdown",
   "id": "93109528",
   "metadata": {},
   "source": [
    "* `itertools.starmap`: Return an iterator whose values are returned from the function evaluated with an argument tuple taken from the given sequence."
   ]
  },
  {
   "cell_type": "code",
   "execution_count": 14,
   "id": "6b32f1c2",
   "metadata": {},
   "outputs": [],
   "source": [
    "from itertools import starmap"
   ]
  },
  {
   "cell_type": "code",
   "execution_count": 15,
   "id": "460f6c31",
   "metadata": {},
   "outputs": [
    {
     "data": {
      "text/plain": [
       "[0, 2, 8]"
      ]
     },
     "execution_count": 15,
     "metadata": {},
     "output_type": "execute_result"
    }
   ],
   "source": [
    "list(starmap(lambda x, y: x+y, [(0, 0), [1, 1], [3, 5]]))"
   ]
  },
  {
   "cell_type": "markdown",
   "id": "d2f6c271",
   "metadata": {},
   "source": [
    "* `itertools.reduce`: Apply a function of two arguments cumulatively to the items of a sequence."
   ]
  },
  {
   "cell_type": "code",
   "execution_count": 16,
   "id": "0ec88080",
   "metadata": {},
   "outputs": [],
   "source": [
    "from functools import reduce"
   ]
  },
  {
   "cell_type": "code",
   "execution_count": 17,
   "id": "07f98a56",
   "metadata": {},
   "outputs": [
    {
     "data": {
      "text/plain": [
       "10"
      ]
     },
     "execution_count": 17,
     "metadata": {},
     "output_type": "execute_result"
    }
   ],
   "source": [
    "reduce(lambda x, y: x+y, [1, 2, 3, 4])"
   ]
  },
  {
   "cell_type": "markdown",
   "id": "8cb2ff54",
   "metadata": {},
   "source": [
    "* `itertools.accumulate`: Return series of accumulated sums."
   ]
  },
  {
   "cell_type": "code",
   "execution_count": 18,
   "id": "cbfc5531",
   "metadata": {},
   "outputs": [],
   "source": [
    "from itertools import accumulate"
   ]
  },
  {
   "cell_type": "code",
   "execution_count": 19,
   "id": "340f7305",
   "metadata": {},
   "outputs": [
    {
     "data": {
      "text/plain": [
       "[1, 2, 6, 24]"
      ]
     },
     "execution_count": 19,
     "metadata": {},
     "output_type": "execute_result"
    }
   ],
   "source": [
    "list(accumulate([1, 2, 3, 4], func=lambda x, y: x*y))"
   ]
  },
  {
   "cell_type": "markdown",
   "id": "a67e4470",
   "metadata": {},
   "source": [
    "---\n",
    "### Zipping <a name='zipping'></a>\n"
   ]
  },
  {
   "cell_type": "markdown",
   "id": "88c102f0",
   "metadata": {},
   "source": [
    "* `itertools.zip_longest`: Zip iterables based on the longest one."
   ]
  },
  {
   "cell_type": "code",
   "execution_count": 20,
   "id": "8328edfe",
   "metadata": {},
   "outputs": [],
   "source": [
    "from itertools import zip_longest"
   ]
  },
  {
   "cell_type": "code",
   "execution_count": 21,
   "id": "f8fda805",
   "metadata": {},
   "outputs": [
    {
     "name": "stdout",
     "output_type": "stream",
     "text": [
      "[(1, 1, 1), (2, 2, 2), (3, 3, 3)]\n",
      "[(1, 1, 1), (2, 2, 2), (3, 3, 3), (None, 4, 4), (None, None, 5)]\n"
     ]
    }
   ],
   "source": [
    "l1 = [1, 2, 3]\n",
    "l2 = [1, 2, 3, 4]\n",
    "l3 = [1, 2, 3, 4, 5]\n",
    "\n",
    "# Zip based on shortest iterable\n",
    "print(list(zip(l1, l2, l3)))\n",
    "# Zip base on longest iterable\n",
    "print(list(zip_longest(l1, l2, l3)))"
   ]
  },
  {
   "cell_type": "markdown",
   "id": "88b32636",
   "metadata": {},
   "source": [
    "---\n",
    "### Grouping <a name='grouping'></a>\n"
   ]
  },
  {
   "cell_type": "markdown",
   "id": "57015a73",
   "metadata": {},
   "source": [
    "* `itertools.groupby`: Generate an iterator that returns consecutive keys and groups from the iterable."
   ]
  },
  {
   "cell_type": "code",
   "execution_count": 22,
   "id": "6cc5c3f9",
   "metadata": {},
   "outputs": [],
   "source": [
    "from itertools import groupby"
   ]
  },
  {
   "cell_type": "code",
   "execution_count": 23,
   "id": "f5842359",
   "metadata": {},
   "outputs": [],
   "source": [
    "data = (\n",
    "    (1, 'a'),\n",
    "    (1, 'b'),\n",
    "    (3, 'f'),\n",
    "    (2, 'c'),\n",
    "    (2, 'd'),\n",
    ")"
   ]
  },
  {
   "cell_type": "code",
   "execution_count": 24,
   "id": "15e92ef1",
   "metadata": {},
   "outputs": [
    {
     "data": {
      "text/plain": [
       "[(1, <itertools._grouper at 0x27931bdc4f0>),\n",
       " (3, <itertools._grouper at 0x27931bdc520>),\n",
       " (2, <itertools._grouper at 0x27931bdc6a0>)]"
      ]
     },
     "execution_count": 24,
     "metadata": {},
     "output_type": "execute_result"
    }
   ],
   "source": [
    "list(groupby(data, key=lambda x: x[0]))"
   ]
  }
 ],
 "metadata": {
  "kernelspec": {
   "display_name": "Python 3",
   "language": "python",
   "name": "python3"
  },
  "language_info": {
   "codemirror_mode": {
    "name": "ipython",
    "version": 3
   },
   "file_extension": ".py",
   "mimetype": "text/x-python",
   "name": "python",
   "nbconvert_exporter": "python",
   "pygments_lexer": "ipython3",
   "version": "3.8.8"
  }
 },
 "nbformat": 4,
 "nbformat_minor": 5
}
