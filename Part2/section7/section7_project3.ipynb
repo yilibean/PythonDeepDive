{
 "cells": [
  {
   "cell_type": "markdown",
   "id": "207cf982",
   "metadata": {},
   "source": [
    "### Goal 1:\n",
    "\n",
    "Create a lazy iterator that will return a named tuple of the data in each row. The data types should be appropriate - i.e. if the column is a date, you should be storing dates in the named tuple, if the field is an integer, then it should be stored as an integer, etc."
   ]
  },
  {
   "cell_type": "code",
   "execution_count": 1,
   "id": "ec32d9f8",
   "metadata": {},
   "outputs": [],
   "source": [
    "from collections import namedtuple\n",
    "import datetime"
   ]
  },
  {
   "cell_type": "code",
   "execution_count": 2,
   "id": "faeb357f",
   "metadata": {},
   "outputs": [],
   "source": [
    "def parse_int(data):\n",
    "    try:\n",
    "        return int(data)\n",
    "    except ValueError:\n",
    "        return data\n",
    "    \n",
    "def parse_date(data):\n",
    "    try:\n",
    "        return datetime.datetime.strptime('3/28/2018', '%m/%d/%Y').date()\n",
    "    except ValueError:\n",
    "        return data\n",
    "    \n",
    "def parse_string(data):\n",
    "    data.strip()\n",
    "    if data != '':\n",
    "        return data\n",
    "    else:\n",
    "        pass"
   ]
  },
  {
   "cell_type": "code",
   "execution_count": 3,
   "id": "c2a07690",
   "metadata": {},
   "outputs": [],
   "source": [
    "def read_all_data(file):\n",
    "    with open(file) as f:\n",
    "        header = namedtuple('Ticket', [ele.lower().replace(' ', '_') for ele in f.readline().strip('\\n').split(',')])\n",
    "        parser = (parse_int,\n",
    "                  parse_string,\n",
    "                  parse_string,\n",
    "                  parse_string,\n",
    "                  parse_date,\n",
    "                  parse_int,\n",
    "                  parse_string,\n",
    "                  parse_string,\n",
    "                  parse_string\n",
    "                  )\n",
    "        for line in f:\n",
    "            fields = line.strip('\\n').split(',')            \n",
    "            yield header(*[func(field) for func, field in zip(parser, fields)])"
   ]
  },
  {
   "cell_type": "code",
   "execution_count": 4,
   "id": "6f6b8be3",
   "metadata": {},
   "outputs": [],
   "source": [
    "file = './nyc_parking_tickets_extract.csv'"
   ]
  },
  {
   "cell_type": "code",
   "execution_count": 5,
   "id": "956e0899",
   "metadata": {},
   "outputs": [],
   "source": [
    "read_gen = read_all_data(file)"
   ]
  },
  {
   "cell_type": "code",
   "execution_count": 6,
   "id": "85e9144e",
   "metadata": {
    "scrolled": true
   },
   "outputs": [
    {
     "name": "stdout",
     "output_type": "stream",
     "text": [
      "Ticket(summons_number=4006478550, plate_id='VAD7274', registration_state='VA', plate_type='PAS', issue_date=datetime.date(2018, 3, 28), violation_code=5, vehicle_body_type='4D', vehicle_make='BMW', violation_description='BUS LANE VIOLATION')\n",
      "Ticket(summons_number=4006462396, plate_id='22834JK', registration_state='NY', plate_type='COM', issue_date=datetime.date(2018, 3, 28), violation_code=5, vehicle_body_type='VAN', vehicle_make='CHEVR', violation_description='BUS LANE VIOLATION')\n",
      "Ticket(summons_number=4007117810, plate_id='21791MG', registration_state='NY', plate_type='COM', issue_date=datetime.date(2018, 3, 28), violation_code=5, vehicle_body_type='VAN', vehicle_make='DODGE', violation_description='BUS LANE VIOLATION')\n",
      "Ticket(summons_number=4006265037, plate_id='FZX9232', registration_state='NY', plate_type='PAS', issue_date=datetime.date(2018, 3, 28), violation_code=5, vehicle_body_type='SUBN', vehicle_make='FORD', violation_description='BUS LANE VIOLATION')\n",
      "Ticket(summons_number=4006535600, plate_id='N203399C', registration_state='NY', plate_type='OMT', issue_date=datetime.date(2018, 3, 28), violation_code=5, vehicle_body_type='SUBN', vehicle_make='FORD', violation_description='BUS LANE VIOLATION')\n"
     ]
    }
   ],
   "source": [
    "for i in range(5):\n",
    "    print((next(read_gen)))"
   ]
  },
  {
   "cell_type": "markdown",
   "id": "666a8e97",
   "metadata": {},
   "source": [
    "---\n",
    "\n",
    "### Goal 2:\n",
    "\n",
    "Calculate the number of violations by car make."
   ]
  },
  {
   "cell_type": "code",
   "execution_count": 7,
   "id": "41ee2dd4",
   "metadata": {},
   "outputs": [],
   "source": [
    "car_make_count = {}\n",
    "# while True:\n",
    "for data in read_all_data(file):\n",
    "    if data.vehicle_make in car_make_count:\n",
    "        car_make_count[data.vehicle_make] += 1\n",
    "    else:\n",
    "        car_make_count[data.vehicle_make] = 1"
   ]
  },
  {
   "cell_type": "code",
   "execution_count": 8,
   "id": "96f6ad1b",
   "metadata": {},
   "outputs": [
    {
     "name": "stdout",
     "output_type": "stream",
     "text": [
      "[('TOYOT', 112), ('HONDA', 106), ('FORD', 104), ('CHEVR', 76), ('NISSA', 70), ('DODGE', 45), ('FRUEH', 44), ('ME/BE', 38), ('GMC', 35), ('HYUND', 35), ('BMW', 34), ('LEXUS', 26), ('INTER', 25), ('JEEP', 22), ('NS/OT', 18), ('SUBAR', 18), ('INFIN', 13), ('LINCO', 12), ('CHRYS', 12), ('ACURA', 12), ('AUDI', 12), ('VOLVO', 12), ('MITSU', 11), ('ISUZU', 10), ('CADIL', 9), ('KIA', 8), ('VOLKS', 8), ('HIN', 6), ('KENWO', 5), (None, 5), ('ROVER', 5), ('BUICK', 5), ('MAZDA', 5), ('MERCU', 4), ('JAGUA', 3), ('SMART', 3), ('PORSC', 3), ('WORKH', 2), ('SATUR', 2), ('SCION', 2), ('SAAB', 2), ('HINO', 2), ('FIR', 1), ('OLDSM', 1), ('PETER', 1), ('CITRO', 1), ('GEO', 1), ('YAMAH', 1), ('BSA', 1), ('MINI', 1), ('PONTI', 1), ('SPRI', 1), ('PLYMO', 1), ('UPS', 1), ('FIAT', 1), ('UD', 1), ('UTILI', 1), ('GMCQ', 1), ('STAR', 1), ('AM/T', 1), ('MI/F', 1)]\n"
     ]
    }
   ],
   "source": [
    "print(sorted(car_make_count.items(), key=lambda x:x[1], reverse=True))"
   ]
  }
 ],
 "metadata": {
  "kernelspec": {
   "display_name": "Python 3",
   "language": "python",
   "name": "python3"
  },
  "language_info": {
   "codemirror_mode": {
    "name": "ipython",
    "version": 3
   },
   "file_extension": ".py",
   "mimetype": "text/x-python",
   "name": "python",
   "nbconvert_exporter": "python",
   "pygments_lexer": "ipython3",
   "version": "3.8.8"
  }
 },
 "nbformat": 4,
 "nbformat_minor": 5
}
