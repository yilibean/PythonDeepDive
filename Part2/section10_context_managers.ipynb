{
 "cells": [
  {
   "cell_type": "markdown",
   "id": "f5ee4a83",
   "metadata": {},
   "source": [
    "## Context Managers\n",
    "\n",
    "- [**Context Managers**](#context_managers)\n"
   ]
  },
  {
   "cell_type": "markdown",
   "id": "e053e663",
   "metadata": {},
   "source": [
    "---\n",
    "\n",
    "### Context Managers <a name='context_managers'></a>"
   ]
  },
  {
   "cell_type": "markdown",
   "id": "a2b9a81f",
   "metadata": {},
   "source": [
    "The most widely used example of context managers is `with` statement:"
   ]
  },
  {
   "cell_type": "code",
   "execution_count": 1,
   "id": "b4d2ed2b",
   "metadata": {},
   "outputs": [
    {
     "name": "stdout",
     "output_type": "stream",
     "text": [
      "False\n",
      "True\n"
     ]
    }
   ],
   "source": [
    "with open('./section7/nyc_parking_tickets_extract.csv', 'r') as f:\n",
    "    print(f.closed)\n",
    "print(f.closed)"
   ]
  },
  {
   "cell_type": "markdown",
   "id": "34f6af15",
   "metadata": {},
   "source": [
    "For self-created context managers, we can implement context manager protocal through two methods:\n",
    "\n",
    "* `__enter__`: set up and optionally return some objects.\n",
    "* `__exit__`: clean up."
   ]
  },
  {
   "cell_type": "code",
   "execution_count": 2,
   "id": "978bf006",
   "metadata": {},
   "outputs": [],
   "source": [
    "class MyContext:\n",
    "    def __init__(self):\n",
    "        self.obj = None\n",
    "        \n",
    "    def __enter__(self):\n",
    "        print('Entering context...')\n",
    "        self.obj = 'returned object'\n",
    "        return self.obj\n",
    "    \n",
    "    def __exit__(self, exception_type, exception_val, exception_traceback):\n",
    "        print('Exiting context...')\n",
    "        if exception_type:\n",
    "            print(exception_type, exception_val)\n",
    "        return False"
   ]
  },
  {
   "cell_type": "code",
   "execution_count": 3,
   "id": "7ef900ca",
   "metadata": {},
   "outputs": [
    {
     "name": "stdout",
     "output_type": "stream",
     "text": [
      "Entering context...\n",
      "Exiting context...\n",
      "<class 'ValueError'> Wrong...\n"
     ]
    },
    {
     "ename": "ValueError",
     "evalue": "Wrong...",
     "output_type": "error",
     "traceback": [
      "\u001b[1;31m---------------------------------------------------------------------------\u001b[0m",
      "\u001b[1;31mValueError\u001b[0m                                Traceback (most recent call last)",
      "\u001b[1;32m<ipython-input-3-1ccb8f3070ee>\u001b[0m in \u001b[0;36m<module>\u001b[1;34m\u001b[0m\n\u001b[0;32m      1\u001b[0m \u001b[1;32mwith\u001b[0m \u001b[0mMyContext\u001b[0m\u001b[1;33m(\u001b[0m\u001b[1;33m)\u001b[0m \u001b[1;32mas\u001b[0m \u001b[0mobj\u001b[0m\u001b[1;33m:\u001b[0m\u001b[1;33m\u001b[0m\u001b[1;33m\u001b[0m\u001b[0m\n\u001b[1;32m----> 2\u001b[1;33m     \u001b[1;32mraise\u001b[0m \u001b[0mValueError\u001b[0m\u001b[1;33m(\u001b[0m\u001b[1;34m'Wrong...'\u001b[0m\u001b[1;33m)\u001b[0m\u001b[1;33m\u001b[0m\u001b[1;33m\u001b[0m\u001b[0m\n\u001b[0m",
      "\u001b[1;31mValueError\u001b[0m: Wrong..."
     ]
    }
   ],
   "source": [
    "with MyContext() as obj:\n",
    "    raise ValueError('Wrong...')"
   ]
  }
 ],
 "metadata": {
  "kernelspec": {
   "display_name": "Python 3",
   "language": "python",
   "name": "python3"
  },
  "language_info": {
   "codemirror_mode": {
    "name": "ipython",
    "version": 3
   },
   "file_extension": ".py",
   "mimetype": "text/x-python",
   "name": "python",
   "nbconvert_exporter": "python",
   "pygments_lexer": "ipython3",
   "version": "3.8.8"
  }
 },
 "nbformat": 4,
 "nbformat_minor": 5
}
