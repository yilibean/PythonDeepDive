{
 "cells": [
  {
   "cell_type": "markdown",
   "id": "207cf982",
   "metadata": {},
   "source": [
    "### Goal 1:\n",
    "\n",
    "Refactor the Polygon class from project 1 so that all the calculated properties are lazy, which means they can only be calculated once."
   ]
  },
  {
   "cell_type": "code",
   "execution_count": 1,
   "id": "bd2ccef0",
   "metadata": {},
   "outputs": [],
   "source": [
    "import math"
   ]
  },
  {
   "cell_type": "code",
   "execution_count": 2,
   "id": "6682eb36",
   "metadata": {},
   "outputs": [],
   "source": [
    "class Polygon:\n",
    "    \n",
    "    # Initializer\n",
    "    def __init__(self, edge, circumradius):\n",
    "        if edge < 3:\n",
    "            raise ValueError('Polygon must have at least 3 sides.')\n",
    "        self._edge = edge\n",
    "        self._circumradius = circumradius\n",
    "        self._interior_angle = None\n",
    "        self._edge_length = None\n",
    "        self._apothem = None\n",
    "        self._area = None\n",
    "        self._perimeter = None        \n",
    "        \n",
    "    # Representation\n",
    "    def __repr__(self):\n",
    "        return 'Polygon(edge={}, circumradius={})'.format(self._edge, self._circumradius)\n",
    "    \n",
    "    # Property\n",
    "    @property\n",
    "    def vertice_num(self):\n",
    "        return self._edge\n",
    "    \n",
    "    @property\n",
    "    def edge_num(self):\n",
    "        return self._edge\n",
    "    \n",
    "    @property\n",
    "    def circumradius(self):\n",
    "        return self._circumradius\n",
    "    \n",
    "    @property\n",
    "    def interior_angle(self):\n",
    "        if self._interior_angle is None:\n",
    "            self._interior_angle = (self._edge - 2) * 180 / self._edge\n",
    "        return self._interior_angle\n",
    "        \n",
    "    @property\n",
    "    def edge_length(self):\n",
    "        if self._edge_length is None:\n",
    "            self._edge_length = 2 * self._circumradius * math.sin(math.pi / self._edge)\n",
    "        return self._edge_length\n",
    "        \n",
    "    @property\n",
    "    def apothem(self):\n",
    "        if self._apothem is None:\n",
    "            self._apothem = self._circumradius * math.cos(math.pi / self._edge)\n",
    "        return self._apothem\n",
    "            \n",
    "    @property\n",
    "    def area(self):\n",
    "        if self._area is None:\n",
    "            self._area = self._edge / 2 * self._edge_length * self.apothem\n",
    "        return self._area\n",
    "    \n",
    "    @property\n",
    "    def perimeter(self):\n",
    "        if self._perimeter is None:\n",
    "            self._perimeter = self._edge * self._edge_length \n",
    "        return self._perimeter\n",
    "    \n",
    "    def __eq__(self, other):\n",
    "        if isinstance(other, self.__class__):\n",
    "            return (self.edge_num == other.edge_num \n",
    "                    and self.circumradius == other.circumradius)\n",
    "        else:\n",
    "            return NotImplemented\n",
    "             \n",
    "    def __gt__(self, other):\n",
    "        if isinstance(other, Polygon):\n",
    "            return self.vertice_num > other.vertice_num\n",
    "        else:\n",
    "            return NotImplemented"
   ]
  },
  {
   "cell_type": "code",
   "execution_count": 3,
   "id": "2338020a",
   "metadata": {},
   "outputs": [],
   "source": [
    "def test_polygon():\n",
    "    edge = 3\n",
    "    circumradius = 1\n",
    "    p = Polygon(edge=edge, circumradius=circumradius)\n",
    "    \n",
    "    # Test with assertion\n",
    "    assert str(p) == f'Polygon(edge=3, circumradius=1)', f'Actual: {str(p)}'\n",
    "    assert p.vertice_num == edge, (f'Actual: {p.vertice_num}, Expected: {edge}')\n",
    "    assert p.edge_num == edge\n",
    "    assert p.circumradius == circumradius\n",
    "    assert p.interior_angle == 60\n",
    "    \n",
    "    edge = 4\n",
    "    circumradius = 1\n",
    "    p = Polygon(edge=edge, circumradius=circumradius)\n",
    "    \n",
    "    assert math.isclose(p.interior_angle, 90)\n",
    "    assert math.isclose(p.apothem, \n",
    "                        0.707,\n",
    "                        rel_tol=0.001,\n",
    "                        abs_tol=0.001)\n",
    "    assert math.isclose(p.edge_length,\n",
    "                        math.sqrt(2),\n",
    "                        rel_tol=0.001,\n",
    "                        abs_tol=0.001)\n",
    "    assert math.isclose(p.area, \n",
    "                        2.0,\n",
    "                        rel_tol=0.001,\n",
    "                        abs_tol=0.001)\n",
    "    assert math.isclose(p.perimeter,\n",
    "                        4*math.sqrt(2),\n",
    "                        rel_tol=0.001,\n",
    "                        abs_tol=0.001)"
   ]
  },
  {
   "cell_type": "code",
   "execution_count": 4,
   "id": "5bd751d4",
   "metadata": {},
   "outputs": [],
   "source": [
    "test_polygon()"
   ]
  },
  {
   "cell_type": "markdown",
   "id": "666a8e97",
   "metadata": {},
   "source": [
    "---\n",
    "\n",
    "### Goal 2:\n",
    "\n",
    "Refactor the Polygons type into an iterable, and the elements in the iterator are computed lazily."
   ]
  },
  {
   "cell_type": "code",
   "execution_count": 5,
   "id": "518b4818",
   "metadata": {},
   "outputs": [],
   "source": [
    "class PolygonIterator:\n",
    "    def __init__(self, edge, circumradius):\n",
    "        if edge < 3:\n",
    "            raise ValueError('Polygon must have at least 3 sides.')\n",
    "        self._edge = edge\n",
    "        self._circumradius = circumradius\n",
    "        self._index = 3\n",
    "        \n",
    "    def __iter__(self):\n",
    "        return self\n",
    "    \n",
    "    def __next__(self):\n",
    "        if self._index > self._edge:\n",
    "            raise StopIteration\n",
    "        else:\n",
    "            result = Polygon(self._index, self._circumradius)\n",
    "            self._index += 1\n",
    "            return result"
   ]
  },
  {
   "cell_type": "code",
   "execution_count": 6,
   "id": "3c201d96",
   "metadata": {},
   "outputs": [],
   "source": [
    "class Polygons:\n",
    "    def __init__(self, edge, circumradius):\n",
    "        if edge < 3:\n",
    "            raise ValueError('Polygon must have at least 3 sides.')\n",
    "        self._edge = edge\n",
    "        self._circumradius = circumradius \n",
    "        \n",
    "    def __len__(self):\n",
    "        return self._edge - 2\n",
    "    \n",
    "    def __repr__(self):\n",
    "        return 'Polygon(edge={}, circumradius={})'.format(self._edge, self._circumradius)\n",
    "\n",
    "    def __iter__(self):\n",
    "        return PolygonIterator(self._edge, self._circumradius)\n",
    "        \n",
    "    @property\n",
    "    def max_efficiency_polygon(self):\n",
    "        sorted_polygons = sorted(self._polygons, \n",
    "                                 key=lambda p: p.area/p.perimeter,\n",
    "                                 reverse=True)\n",
    "        \n",
    "        return sorted_polygons[0]"
   ]
  },
  {
   "cell_type": "code",
   "execution_count": 7,
   "id": "9e09fe0c",
   "metadata": {},
   "outputs": [
    {
     "name": "stdout",
     "output_type": "stream",
     "text": [
      "Polygon(edge=3, circumradius=3)\n",
      "Polygon(edge=4, circumradius=3)\n",
      "Polygon(edge=5, circumradius=3)\n"
     ]
    },
    {
     "ename": "StopIteration",
     "evalue": "",
     "output_type": "error",
     "traceback": [
      "\u001b[1;31m---------------------------------------------------------------------------\u001b[0m",
      "\u001b[1;31mStopIteration\u001b[0m                             Traceback (most recent call last)",
      "\u001b[1;32m<ipython-input-7-3e49955ac078>\u001b[0m in \u001b[0;36m<module>\u001b[1;34m\u001b[0m\n\u001b[0;32m      2\u001b[0m \u001b[1;31m# Call iterator (could exhaust it)\u001b[0m\u001b[1;33m\u001b[0m\u001b[1;33m\u001b[0m\u001b[1;33m\u001b[0m\u001b[0m\n\u001b[0;32m      3\u001b[0m \u001b[1;32mfor\u001b[0m \u001b[0mi\u001b[0m \u001b[1;32min\u001b[0m \u001b[0mrange\u001b[0m\u001b[1;33m(\u001b[0m\u001b[1;36m0\u001b[0m\u001b[1;33m,\u001b[0m \u001b[1;36m4\u001b[0m\u001b[1;33m)\u001b[0m\u001b[1;33m:\u001b[0m\u001b[1;33m\u001b[0m\u001b[1;33m\u001b[0m\u001b[0m\n\u001b[1;32m----> 4\u001b[1;33m     \u001b[0mprint\u001b[0m\u001b[1;33m(\u001b[0m\u001b[0mnext\u001b[0m\u001b[1;33m(\u001b[0m\u001b[0mp_iter\u001b[0m\u001b[1;33m)\u001b[0m\u001b[1;33m)\u001b[0m\u001b[1;33m\u001b[0m\u001b[1;33m\u001b[0m\u001b[0m\n\u001b[0m",
      "\u001b[1;32m<ipython-input-5-3f3f2b47f209>\u001b[0m in \u001b[0;36m__next__\u001b[1;34m(self)\u001b[0m\n\u001b[0;32m     12\u001b[0m     \u001b[1;32mdef\u001b[0m \u001b[0m__next__\u001b[0m\u001b[1;33m(\u001b[0m\u001b[0mself\u001b[0m\u001b[1;33m)\u001b[0m\u001b[1;33m:\u001b[0m\u001b[1;33m\u001b[0m\u001b[1;33m\u001b[0m\u001b[0m\n\u001b[0;32m     13\u001b[0m         \u001b[1;32mif\u001b[0m \u001b[0mself\u001b[0m\u001b[1;33m.\u001b[0m\u001b[0m_index\u001b[0m \u001b[1;33m>\u001b[0m \u001b[0mself\u001b[0m\u001b[1;33m.\u001b[0m\u001b[0m_edge\u001b[0m\u001b[1;33m:\u001b[0m\u001b[1;33m\u001b[0m\u001b[1;33m\u001b[0m\u001b[0m\n\u001b[1;32m---> 14\u001b[1;33m             \u001b[1;32mraise\u001b[0m \u001b[0mStopIteration\u001b[0m\u001b[1;33m\u001b[0m\u001b[1;33m\u001b[0m\u001b[0m\n\u001b[0m\u001b[0;32m     15\u001b[0m         \u001b[1;32melse\u001b[0m\u001b[1;33m:\u001b[0m\u001b[1;33m\u001b[0m\u001b[1;33m\u001b[0m\u001b[0m\n\u001b[0;32m     16\u001b[0m             \u001b[0mresult\u001b[0m \u001b[1;33m=\u001b[0m \u001b[0mPolygon\u001b[0m\u001b[1;33m(\u001b[0m\u001b[0mself\u001b[0m\u001b[1;33m.\u001b[0m\u001b[0m_index\u001b[0m\u001b[1;33m,\u001b[0m \u001b[0mself\u001b[0m\u001b[1;33m.\u001b[0m\u001b[0m_circumradius\u001b[0m\u001b[1;33m)\u001b[0m\u001b[1;33m\u001b[0m\u001b[1;33m\u001b[0m\u001b[0m\n",
      "\u001b[1;31mStopIteration\u001b[0m: "
     ]
    }
   ],
   "source": [
    "p_iter = PolygonIterator(5, 3)\n",
    "# Call iterator (could exhaust it)\n",
    "for i in range(0, 4):\n",
    "    print(next(p_iter))"
   ]
  },
  {
   "cell_type": "code",
   "execution_count": 8,
   "id": "d7825255",
   "metadata": {},
   "outputs": [
    {
     "name": "stdout",
     "output_type": "stream",
     "text": [
      "Polygon(edge=3, circumradius=3)\n",
      "Polygon(edge=4, circumradius=3)\n",
      "Polygon(edge=5, circumradius=3)\n",
      "Polygon(edge=3, circumradius=3)\n",
      "Polygon(edge=4, circumradius=3)\n",
      "Polygon(edge=5, circumradius=3)\n"
     ]
    }
   ],
   "source": [
    "polygons = Polygons(5, 3)\n",
    "# Call iterable repeatedly\n",
    "for p in polygons:\n",
    "    print(p)\n",
    "    \n",
    "for p in polygons:\n",
    "    print(p)"
   ]
  }
 ],
 "metadata": {
  "kernelspec": {
   "display_name": "Python 3",
   "language": "python",
   "name": "python3"
  },
  "language_info": {
   "codemirror_mode": {
    "name": "ipython",
    "version": 3
   },
   "file_extension": ".py",
   "mimetype": "text/x-python",
   "name": "python",
   "nbconvert_exporter": "python",
   "pygments_lexer": "ipython3",
   "version": "3.8.8"
  }
 },
 "nbformat": 4,
 "nbformat_minor": 5
}
