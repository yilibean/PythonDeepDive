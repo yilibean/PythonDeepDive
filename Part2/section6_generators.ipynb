{
 "cells": [
  {
   "cell_type": "markdown",
   "id": "f5ee4a83",
   "metadata": {},
   "source": [
    "## Generators\n",
    "\n",
    "- [**Yielding and Generator Functions**](#yielding_and_generator_functions)\n",
    "- [**Making an Iterable from a Generator**](#making_an_iterable_from_a_generator)\n",
    "- [**Generator Expressions and Performance**](#generator_expressions_and_performance)"
   ]
  },
  {
   "cell_type": "markdown",
   "id": "e053e663",
   "metadata": {},
   "source": [
    "---\n",
    "\n",
    "### Yielding and Generator Functions <a name='yielding_and_generator_functions'></a>"
   ]
  },
  {
   "cell_type": "markdown",
   "id": "e3c42d52",
   "metadata": {},
   "source": [
    "1. `yield` statement: `yield` statement returns a generator object to the one who calls the function which contains yield, instead of simply returning a value."
   ]
  },
  {
   "cell_type": "code",
   "execution_count": 1,
   "id": "c4c62857",
   "metadata": {},
   "outputs": [],
   "source": [
    "def my_func():\n",
    "    yield 1\n",
    "    yield 2\n",
    "    yield 3"
   ]
  },
  {
   "cell_type": "code",
   "execution_count": 2,
   "id": "43e99b63",
   "metadata": {},
   "outputs": [
    {
     "data": {
      "text/plain": [
       "generator"
      ]
     },
     "execution_count": 2,
     "metadata": {},
     "output_type": "execute_result"
    }
   ],
   "source": [
    "# Return a generator\n",
    "gen = my_func()\n",
    "type(gen)"
   ]
  },
  {
   "cell_type": "code",
   "execution_count": 3,
   "id": "be006d34",
   "metadata": {},
   "outputs": [
    {
     "name": "stdout",
     "output_type": "stream",
     "text": [
      "1\n",
      "2\n",
      "3\n"
     ]
    }
   ],
   "source": [
    "for i in range(3):\n",
    "    print(next(gen))"
   ]
  },
  {
   "cell_type": "markdown",
   "id": "b1c73d94",
   "metadata": {},
   "source": [
    "2. `Generator`: `Generator` is in fact a iterator who implements the iterator protocal, Python will automatically create it when yield keyword is called."
   ]
  },
  {
   "cell_type": "markdown",
   "id": "1d7fc7ff",
   "metadata": {},
   "source": [
    "---\n",
    "\n",
    "### Making an Iterable from a Generator <a name='making_an_iterable_from_a_generator'></a>\n",
    "\n"
   ]
  },
  {
   "cell_type": "code",
   "execution_count": 4,
   "id": "70c8fd30",
   "metadata": {},
   "outputs": [],
   "source": [
    "def squares_gen(n):\n",
    "    for i in range(n):\n",
    "        yield i**2"
   ]
  },
  {
   "cell_type": "code",
   "execution_count": 5,
   "id": "320f9d2a",
   "metadata": {},
   "outputs": [],
   "source": [
    "sq = squares_gen(5)"
   ]
  },
  {
   "cell_type": "code",
   "execution_count": 6,
   "id": "1e47d9c5",
   "metadata": {},
   "outputs": [
    {
     "name": "stdout",
     "output_type": "stream",
     "text": [
      "[0, 1, 4, 9, 16]\n",
      "[]\n"
     ]
    }
   ],
   "source": [
    "# Before exhausting\n",
    "print([num for num in sq])\n",
    "# After exhausting\n",
    "print([num for num in sq])"
   ]
  },
  {
   "cell_type": "code",
   "execution_count": 7,
   "id": "5e0f813c",
   "metadata": {},
   "outputs": [],
   "source": [
    "class Squares:\n",
    "    def __init__(self, n):\n",
    "        self.n = n\n",
    "    \n",
    "    # Create a new instance of generator\n",
    "    def __iter__(self):\n",
    "        return squares_gen(self.n)"
   ]
  },
  {
   "cell_type": "code",
   "execution_count": 8,
   "id": "d843879a",
   "metadata": {},
   "outputs": [],
   "source": [
    "sq = Squares(5)"
   ]
  },
  {
   "cell_type": "code",
   "execution_count": 9,
   "id": "114e21a5",
   "metadata": {},
   "outputs": [
    {
     "name": "stdout",
     "output_type": "stream",
     "text": [
      "[0, 1, 4, 9, 16]\n",
      "[0, 1, 4, 9, 16]\n"
     ]
    }
   ],
   "source": [
    "# Call the iterable repeatedly\n",
    "print([num for num in sq])\n",
    "print([num for num in sq])"
   ]
  },
  {
   "cell_type": "markdown",
   "id": "b7000420",
   "metadata": {},
   "source": [
    "---\n",
    "### Generator Expressions and Performance <a name='generator_expressions_and_performance'></a>\n",
    "\n",
    "Generator expression is very similar to list comprehension syntax, wheras it returns a generator instead of a list."
   ]
  },
  {
   "cell_type": "code",
   "execution_count": 10,
   "id": "725acd66",
   "metadata": {},
   "outputs": [
    {
     "data": {
      "text/plain": [
       "0"
      ]
     },
     "execution_count": 10,
     "metadata": {},
     "output_type": "execute_result"
    }
   ],
   "source": [
    "next(i for i in range(5))"
   ]
  }
 ],
 "metadata": {
  "kernelspec": {
   "display_name": "Python 3",
   "language": "python",
   "name": "python3"
  },
  "language_info": {
   "codemirror_mode": {
    "name": "ipython",
    "version": 3
   },
   "file_extension": ".py",
   "mimetype": "text/x-python",
   "name": "python",
   "nbconvert_exporter": "python",
   "pygments_lexer": "ipython3",
   "version": "3.8.8"
  }
 },
 "nbformat": 4,
 "nbformat_minor": 5
}
